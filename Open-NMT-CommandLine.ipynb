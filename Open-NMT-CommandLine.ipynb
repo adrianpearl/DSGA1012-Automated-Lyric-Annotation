{
 "cells": [
  {
   "cell_type": "code",
   "execution_count": 2,
   "metadata": {},
   "outputs": [
    {
     "ename": "SyntaxError",
     "evalue": "invalid syntax (<ipython-input-2-b22fff2b0689>, line 1)",
     "output_type": "error",
     "traceback": [
      "\u001b[0;36m  File \u001b[0;32m\"<ipython-input-2-b22fff2b0689>\"\u001b[0;36m, line \u001b[0;32m1\u001b[0m\n\u001b[0;31m    python preprocess.py -train_src data/src-train.txt                      -train_tgt data/tgt-train.txt                      -valid_src data/src-val.txt                      -valid_tgt data/tgt-val.txt                      -save_data data/CNNDM                      -src_seq_length 10000                      -tgt_seq_length 10000                      -src_seq_length_trunc 400                      -tgt_seq_length_trunc 100                      -dynamic_dict                      -share_vocab                      -shard_size 100000\u001b[0m\n\u001b[0m                    ^\u001b[0m\n\u001b[0;31mSyntaxError\u001b[0m\u001b[0;31m:\u001b[0m invalid syntax\n"
     ]
    }
   ],
   "source": [
    "python preprocess.py -train_src data/src-train.txt \\\n",
    "                     -train_tgt data/tgt-train.txt \\\n",
    "                     -valid_src data/src-val.txt \\\n",
    "                     -valid_tgt data/tgt-val.txt \\\n",
    "                     -save_data data/CNNDM \\\n",
    "                     -src_seq_length 10000 \\\n",
    "                     -tgt_seq_length 10000 \\\n",
    "                     -src_seq_length_trunc 400 \\\n",
    "                     -tgt_seq_length_trunc 100 \\\n",
    "                     -dynamic_dict \\\n",
    "                     -share_vocab \\\n",
    "                     -shard_size 100000"
   ]
  },
  {
   "cell_type": "code",
   "execution_count": null,
   "metadata": {},
   "outputs": [],
   "source": [
    "python train.py -save_model models \\\n",
    "                -data data/CNNDM \\\n",
    "                -copy_attn \\\n",
    "                -global_attention mlp \\\n",
    "                -word_vec_size 128 \\\n",
    "                -rnn_size 512 \\\n",
    "                -layers 1 \\\n",
    "                -encoder_type brnn \\\n",
    "                -train_steps 200000 \\\n",
    "                -max_grad_norm 2 \\\n",
    "                -dropout 0. \\\n",
    "                -batch_size 16 \\\n",
    "                -valid_batch_size 16 \\\n",
    "                -optim adagrad \\\n",
    "                -learning_rate 0.15 \\\n",
    "                -adagrad_accumulator_init 0.1 \\\n",
    "                -reuse_copy_attn \\\n",
    "                -copy_loss_by_seqlength \\\n",
    "                -bridge \\\n",
    "                -seed 777 \\\n",
    "                -world_size 2 \\\n",
    "                -gpu_ranks 0 1"
   ]
  }
 ],
 "metadata": {
  "kernelspec": {
   "display_name": "Python 3",
   "language": "python",
   "name": "python3"
  },
  "language_info": {
   "codemirror_mode": {
    "name": "ipython",
    "version": 3
   },
   "file_extension": ".py",
   "mimetype": "text/x-python",
   "name": "python",
   "nbconvert_exporter": "python",
   "pygments_lexer": "ipython3",
   "version": "3.6.5"
  }
 },
 "nbformat": 4,
 "nbformat_minor": 2
}
