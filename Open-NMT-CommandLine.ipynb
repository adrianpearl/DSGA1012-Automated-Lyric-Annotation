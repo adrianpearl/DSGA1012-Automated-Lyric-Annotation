{
 "cells": [
  {
   "cell_type": "raw",
   "metadata": {},
   "source": [
    "python OpenNMT-py/preprocess.py -train_src data/src-train.txt \\\n",
    "                     -train_tgt data/tgt-train.txt \\\n",
    "                     -valid_src data/src-val.txt \\\n",
    "                     -valid_tgt data/tgt-val.txt \\\n",
    "                     -save_data data/CNNDM \\\n",
    "                     -src_seq_length 10000 \\\n",
    "                     -tgt_seq_length 10000 \\\n",
    "                     -src_seq_length_trunc 400 \\\n",
    "                     -tgt_seq_length_trunc 100 \\\n",
    "                     -dynamic_dict \\\n",
    "                     -share_vocab \\\n",
    "                     -shard_size 100000"
   ]
  },
  {
   "cell_type": "raw",
   "metadata": {},
   "source": [
    "python OpenNMT-py/train.py -save_model demo_model \\\n",
    "                -data data/CNNDM \\\n",
    "                -train_steps 200 \\\n",
    "                -copy_attn \\\n",
    "                -global_attention mlp \\\n",
    "                -word_vec_size 128 \\\n",
    "                -rnn_size 512 \\\n",
    "                -layers 1 \\\n",
    "                -batch_size 16 \\\n",
    "                -valid_batch_size 16 \\\n",
    "                -optim adagrad\n",
    "###\n",
    "                -encoder_type brnn \\\n",
    "                -max_grad_norm 2 \\\n",
    "                -dropout 0. \\\n",
    "                -learning_rate 0.15 \\\n",
    "                -adagrad_accumulator_init 0.1 \\\n",
    "                -reuse_copy_attn \\\n",
    "                -copy_loss_by_seqlength \\\n",
    "                -bridge \\\n",
    "                -seed 777 \\\n",
    "                -world_size 2"
   ]
  },
  {
   "cell_type": "raw",
   "metadata": {},
   "source": [
    "python OpenNMT-py/translate.py \\\n",
    "                    -batch_size 20 \\\n",
    "                    -beam_size 10 \\\n",
    "                    -model demo_model_step_2.pt \\\n",
    "                    -src data/src-val.txt \\\n",
    "                    -output cnndm.out \\\n",
    "                    -min_length 35 \\\n",
    "                    -verbose \\\n",
    "                    -stepwise_penalty \\\n",
    "                    -coverage_penalty summary \\\n",
    "                    -beta 5 \\\n",
    "                    -length_penalty wu \\\n",
    "                    -alpha 0.9 \\\n",
    "                    -verbose \\\n",
    "                    -block_ngram_repeat 3 \\\n",
    "                    -ignore_when_blocking \".\" \"</t>\" \"<t>\""
   ]
  },
  {
   "cell_type": "code",
   "execution_count": null,
   "metadata": {},
   "outputs": [],
   "source": []
  }
 ],
 "metadata": {
  "kernelspec": {
   "display_name": "Python 3",
   "language": "python",
   "name": "python3"
  },
  "language_info": {
   "codemirror_mode": {
    "name": "ipython",
    "version": 3
   },
   "file_extension": ".py",
   "mimetype": "text/x-python",
   "name": "python",
   "nbconvert_exporter": "python",
   "pygments_lexer": "ipython3",
   "version": "3.7.1"
  }
 },
 "nbformat": 4,
 "nbformat_minor": 2
}
