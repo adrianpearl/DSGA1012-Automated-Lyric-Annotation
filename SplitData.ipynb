{
 "cells": [
  {
   "cell_type": "markdown",
   "metadata": {},
   "source": [
    "### Language filtering and other cleanup - run cells at the bottom first"
   ]
  },
  {
   "cell_type": "code",
   "execution_count": 6,
   "metadata": {},
   "outputs": [],
   "source": [
    "import pandas as pd\n",
    "import csv\n",
    "from sklearn.model_selection import train_test_split\n",
    "import re\n",
    "pd.set_option('display.max_colwidth', 0)"
   ]
  },
  {
   "cell_type": "code",
   "execution_count": 8,
   "metadata": {},
   "outputs": [],
   "source": [
    "#a1 = pd.read_csv('annotations10k.tsv', sep='\\t', error_bad_lines=False)"
   ]
  },
  {
   "cell_type": "code",
   "execution_count": 11,
   "metadata": {},
   "outputs": [],
   "source": [
    "### CHANGE TO: annotations_1CI.tsv & annotations_2CI.tsv\n",
    "a1 = pd.read_csv('./Data_Collection/annotations_1CI.tsv', sep='\\t', error_bad_lines=False)\n",
    "a2 = pd.read_csv('./Data_Collection/annotations_2CI.tsv', sep='\\t', error_bad_lines=False)\n",
    "annotations = pd.concat([a1, a2])\n",
    "annotations.lyric = annotations.lyric.apply(lambda x: str(x).replace('\\n', ' '))"
   ]
  },
  {
   "cell_type": "code",
   "execution_count": 12,
   "metadata": {},
   "outputs": [
    {
     "data": {
      "text/plain": [
       "(297003, 4)"
      ]
     },
     "execution_count": 12,
     "metadata": {},
     "output_type": "execute_result"
    }
   ],
   "source": [
    "annotations.shape"
   ]
  },
  {
   "cell_type": "markdown",
   "metadata": {},
   "source": [
    "**Japanese**"
   ]
  },
  {
   "cell_type": "code",
   "execution_count": 16,
   "metadata": {},
   "outputs": [
    {
     "data": {
      "text/html": [
       "<div>\n",
       "<style scoped>\n",
       "    .dataframe tbody tr th:only-of-type {\n",
       "        vertical-align: middle;\n",
       "    }\n",
       "\n",
       "    .dataframe tbody tr th {\n",
       "        vertical-align: top;\n",
       "    }\n",
       "\n",
       "    .dataframe thead th {\n",
       "        text-align: right;\n",
       "    }\n",
       "</style>\n",
       "<table border=\"1\" class=\"dataframe\">\n",
       "  <thead>\n",
       "    <tr style=\"text-align: right;\">\n",
       "      <th></th>\n",
       "      <th>Unnamed: 0</th>\n",
       "      <th>song_id</th>\n",
       "      <th>lyric</th>\n",
       "      <th>annotation</th>\n",
       "    </tr>\n",
       "  </thead>\n",
       "  <tbody>\n",
       "    <tr>\n",
       "      <th>126444</th>\n",
       "      <td>144421</td>\n",
       "      <td>3059652</td>\n",
       "      <td>[Intro: Sample]  愛してよ　私を 抱いてよ　ねぇ、側においでよ  \"Aishiteyo, watashi wo daite yo ne, soba ni oideyo\"  私の　最後の　記憶に 君の愛を　残したい…  \"Watashi no saigo no kioku ni kimi no ai wo nokoshitai\"</td>\n",
       "      <td>Rough translation:  [BLOCKQUOTE] This vocal sample of Hatsune Miku’s was taken from  Aura Qualic ’s “ DATA 2.0 .”  Sample origin  Sample usage  This sample, given the meaning, was likely used to go with the song’s themes of returning for the throne—claiming the crown—as stated in the chorus by  Jeezy :  [BLOCKQUOTE]</td>\n",
       "    </tr>\n",
       "    <tr>\n",
       "      <th>134123</th>\n",
       "      <td>153270</td>\n",
       "      <td>3917991</td>\n",
       "      <td>心は沈む夕陽 空にハニー・ムーン  夢は夜降る 天使の髪の毛  ゆれる    絹ずれの背中で 空にハニー・ムーン  胸はふるえる 天馬のたてがみ  ゆれる    あやしい恋唄 唄ってみせようか  抜き足 差し足 近づく十五夜  月に帰るのは まだ早すぎる</td>\n",
       "      <td>Rōmaji:  Kokoro wa shizumu yūhi sora ni hanī mūn Yume wa yoru furu tenshi no kaminoke Yureru  Kinu zure no senaka de sora ni hanī mūn Mune wa furueru tenba no tategami Yureru  Ayashī koi-uta-uta tte miseyou ka? Nukiashi-sashi ashi chikadzuku jūgoya Tsuki ni kaeru no wa mada hayasugiru</td>\n",
       "    </tr>\n",
       "    <tr>\n",
       "      <th>50053</th>\n",
       "      <td>57838</td>\n",
       "      <td>1191101</td>\n",
       "      <td>何を恐がっているの?</td>\n",
       "      <td>Japanese: Nani o kowagatte iru no? English: What are you afraid of?</td>\n",
       "    </tr>\n",
       "    <tr>\n",
       "      <th>116032</th>\n",
       "      <td>133259</td>\n",
       "      <td>1191101</td>\n",
       "      <td>何を恐がっているの?</td>\n",
       "      <td>Japanese: Nani o kowagatte iru no? English: What are you afraid of?</td>\n",
       "    </tr>\n",
       "    <tr>\n",
       "      <th>121282</th>\n",
       "      <td>138809</td>\n",
       "      <td>3997969</td>\n",
       "      <td>ま、今夜は本気でやってもらいますね</td>\n",
       "      <td>Romanização:  [BLOCKQUOTE] Tradução.  [BLOCKQUOTE]</td>\n",
       "    </tr>\n",
       "  </tbody>\n",
       "</table>\n",
       "</div>"
      ],
      "text/plain": [
       "        Unnamed: 0  song_id  \\\n",
       "126444  144421      3059652   \n",
       "134123  153270      3917991   \n",
       "50053   57838       1191101   \n",
       "116032  133259      1191101   \n",
       "121282  138809      3997969   \n",
       "\n",
       "                                                                                                                                                                               lyric  \\\n",
       "126444  [Intro: Sample]  愛してよ　私を 抱いてよ　ねぇ、側においでよ  \"Aishiteyo, watashi wo daite yo ne, soba ni oideyo\"  私の　最後の　記憶に 君の愛を　残したい…  \"Watashi no saigo no kioku ni kimi no ai wo nokoshitai\"   \n",
       "134123  心は沈む夕陽 空にハニー・ムーン  夢は夜降る 天使の髪の毛  ゆれる    絹ずれの背中で 空にハニー・ムーン  胸はふるえる 天馬のたてがみ  ゆれる    あやしい恋唄 唄ってみせようか  抜き足 差し足 近づく十五夜  月に帰るのは まだ早すぎる                                                \n",
       "50053   何を恐がっているの?                                                                                                                                                                     \n",
       "116032  何を恐がっているの?                                                                                                                                                                     \n",
       "121282  ま、今夜は本気でやってもらいますね                                                                                                                                                              \n",
       "\n",
       "                                                                                                                                                                                                                                                                                                                           annotation  \n",
       "126444  Rough translation:  [BLOCKQUOTE] This vocal sample of Hatsune Miku’s was taken from  Aura Qualic ’s “ DATA 2.0 .”  Sample origin  Sample usage  This sample, given the meaning, was likely used to go with the song’s themes of returning for the throne—claiming the crown—as stated in the chorus by  Jeezy :  [BLOCKQUOTE]  \n",
       "134123  Rōmaji:  Kokoro wa shizumu yūhi sora ni hanī mūn Yume wa yoru furu tenshi no kaminoke Yureru  Kinu zure no senaka de sora ni hanī mūn Mune wa furueru tenba no tategami Yureru  Ayashī koi-uta-uta tte miseyou ka? Nukiashi-sashi ashi chikadzuku jūgoya Tsuki ni kaeru no wa mada hayasugiru                                  \n",
       "50053   Japanese: Nani o kowagatte iru no? English: What are you afraid of?                                                                                                                                                                                                                                                            \n",
       "116032  Japanese: Nani o kowagatte iru no? English: What are you afraid of?                                                                                                                                                                                                                                                            \n",
       "121282  Romanização:  [BLOCKQUOTE] Tradução.  [BLOCKQUOTE]                                                                                                                                                                                                                                                                             "
      ]
     },
     "execution_count": 16,
     "metadata": {},
     "output_type": "execute_result"
    }
   ],
   "source": [
    "jap = annotations.lyric.str.contains('/[一-龠]+|[ぁ-ゔ]+|[ァ-ヴー]+|[々〆〤]+/u', regex=True)\n",
    "annotations[jap].sample(5)"
   ]
  },
  {
   "cell_type": "markdown",
   "metadata": {},
   "source": [
    "**Chinese**"
   ]
  },
  {
   "cell_type": "code",
   "execution_count": 17,
   "metadata": {},
   "outputs": [
    {
     "data": {
      "text/html": [
       "<div>\n",
       "<style scoped>\n",
       "    .dataframe tbody tr th:only-of-type {\n",
       "        vertical-align: middle;\n",
       "    }\n",
       "\n",
       "    .dataframe tbody tr th {\n",
       "        vertical-align: top;\n",
       "    }\n",
       "\n",
       "    .dataframe thead th {\n",
       "        text-align: right;\n",
       "    }\n",
       "</style>\n",
       "<table border=\"1\" class=\"dataframe\">\n",
       "  <thead>\n",
       "    <tr style=\"text-align: right;\">\n",
       "      <th></th>\n",
       "      <th>Unnamed: 0</th>\n",
       "      <th>song_id</th>\n",
       "      <th>lyric</th>\n",
       "      <th>annotation</th>\n",
       "    </tr>\n",
       "  </thead>\n",
       "  <tbody>\n",
       "    <tr>\n",
       "      <th>55304</th>\n",
       "      <td>63389</td>\n",
       "      <td>3997969</td>\n",
       "      <td>ま、今夜は本気でやってもらいますね</td>\n",
       "      <td>Romanização:  [BLOCKQUOTE] Tradução.  [BLOCKQUOTE]</td>\n",
       "    </tr>\n",
       "    <tr>\n",
       "      <th>116032</th>\n",
       "      <td>133259</td>\n",
       "      <td>1191101</td>\n",
       "      <td>何を恐がっているの?</td>\n",
       "      <td>Japanese: Nani o kowagatte iru no? English: What are you afraid of?</td>\n",
       "    </tr>\n",
       "    <tr>\n",
       "      <th>19035</th>\n",
       "      <td>21969</td>\n",
       "      <td>2338804</td>\n",
       "      <td>計劃把你高潮的尖叫聲錄起 來  卻發現剛剛按錯了鍵  一去不復返 無能重複那時刻  你躺著  和逐漸冰冷的液體 撕扯著  黏膩 透明 在我的手心開出具有彈性的花  我覺得不夠 想從你身體裡擠出更多  就在這個時候電話響起  窗外的鹿群 飛奔離去 同時  急遽消退 藍色的風 抹去世界邊緣的泡沫  從你半開的雙眼繞過  接起電話 靜默降臨  剛醒來的情慾 在電話裡喘氣 尖叫  我邊聽 邊把你的汗一滴滴舔掉</td>\n",
       "      <td>Plan to record the screams of your orgasm. Only to find that I just pressed the wrong key. Forever, incompetent, repeating that moment. You’re lying down. and a gradually icy liquid tearing. Sticky and transparent, with elastic flowers in my palms. I don’t think it’s enough to squeeze more out of your body. That’s when the phone rang. The herd of deer outside the window darted away at the same time The blue wind subsides the foam of the edge of the world. Get around from your half-open eyes. Pick up the phone and come silent. The newly woken lust gasped and screamed on the phone. I’ll lick your sweat a drop while I listen.</td>\n",
       "    </tr>\n",
       "    <tr>\n",
       "      <th>16412</th>\n",
       "      <td>19033</td>\n",
       "      <td>3272431</td>\n",
       "      <td>政権の腐敗, 政権の腐敗  政権の腐敗, 政権の腐敗  政権の腐敗, 政権の腐敗</td>\n",
       "      <td>Translation:  [BLOCKQUOTE]</td>\n",
       "    </tr>\n",
       "    <tr>\n",
       "      <th>25198</th>\n",
       "      <td>29262</td>\n",
       "      <td>181082</td>\n",
       "      <td>億万長者少年倶楽部</td>\n",
       "      <td>Pronounced   this is Japanese for BBC (Billionaire Boy’s Club)  億万長者 = Okumanchōja = Billionaire 少年倶楽部 = Shōnen Kurabu = Boy’s Club</td>\n",
       "    </tr>\n",
       "  </tbody>\n",
       "</table>\n",
       "</div>"
      ],
      "text/plain": [
       "        Unnamed: 0  song_id  \\\n",
       "55304   63389       3997969   \n",
       "116032  133259      1191101   \n",
       "19035   21969       2338804   \n",
       "16412   19033       3272431   \n",
       "25198   29262       181082    \n",
       "\n",
       "                                                                                                                                                                                                             lyric  \\\n",
       "55304   ま、今夜は本気でやってもらいますね                                                                                                                                                                                            \n",
       "116032  何を恐がっているの?                                                                                                                                                                                                   \n",
       "19035   計劃把你高潮的尖叫聲錄起 來  卻發現剛剛按錯了鍵  一去不復返 無能重複那時刻  你躺著  和逐漸冰冷的液體 撕扯著  黏膩 透明 在我的手心開出具有彈性的花  我覺得不夠 想從你身體裡擠出更多  就在這個時候電話響起  窗外的鹿群 飛奔離去 同時  急遽消退 藍色的風 抹去世界邊緣的泡沫  從你半開的雙眼繞過  接起電話 靜默降臨  剛醒來的情慾 在電話裡喘氣 尖叫  我邊聽 邊把你的汗一滴滴舔掉   \n",
       "16412   政権の腐敗, 政権の腐敗  政権の腐敗, 政権の腐敗  政権の腐敗, 政権の腐敗                                                                                                                                                                     \n",
       "25198   億万長者少年倶楽部                                                                                                                                                                                                    \n",
       "\n",
       "                                                                                                                                                                                                                                                                                                                                                                                                                                                                                                                                                                                                                                                     annotation  \n",
       "55304   Romanização:  [BLOCKQUOTE] Tradução.  [BLOCKQUOTE]                                                                                                                                                                                                                                                                                                                                                                                                                                                                                                                                                                                                       \n",
       "116032  Japanese: Nani o kowagatte iru no? English: What are you afraid of?                                                                                                                                                                                                                                                                                                                                                                                                                                                                                                                                                                                      \n",
       "19035   Plan to record the screams of your orgasm. Only to find that I just pressed the wrong key. Forever, incompetent, repeating that moment. You’re lying down. and a gradually icy liquid tearing. Sticky and transparent, with elastic flowers in my palms. I don’t think it’s enough to squeeze more out of your body. That’s when the phone rang. The herd of deer outside the window darted away at the same time The blue wind subsides the foam of the edge of the world. Get around from your half-open eyes. Pick up the phone and come silent. The newly woken lust gasped and screamed on the phone. I’ll lick your sweat a drop while I listen.   \n",
       "16412   Translation:  [BLOCKQUOTE]                                                                                                                                                                                                                                                                                                                                                                                                                                                                                                                                                                                                                               \n",
       "25198   Pronounced   this is Japanese for BBC (Billionaire Boy’s Club)  億万長者 = Okumanchōja = Billionaire 少年倶楽部 = Shōnen Kurabu = Boy’s Club                                                                                                                                                                                                                                                                                                                                                                                                                                                                                                                      "
      ]
     },
     "execution_count": 17,
     "metadata": {},
     "output_type": "execute_result"
    }
   ],
   "source": [
    "chi = annotations.lyric.str.contains(re.compile(u'[⺀-⺙⺛-⻳⼀-⿕々〇〡-〩〸-〺〻㐀-䶵一-鿃豈-鶴侮-頻並-龎]', re.UNICODE), regex=True)\n",
    "annotations[chi].sample(5)"
   ]
  },
  {
   "cell_type": "markdown",
   "metadata": {},
   "source": [
    "**Portuguese (Spanish too?)**"
   ]
  },
  {
   "cell_type": "code",
   "execution_count": 18,
   "metadata": {},
   "outputs": [],
   "source": [
    "import enchant\n",
    "d = enchant.Dict(\"en_US\")\n",
    "for e in eng:\n",
    "    try:\n",
    "        por.remove(e)\n",
    "    except:\n",
    "        pass\n",
    "\n",
    "for p in por:\n",
    "    if d.check(p):\n",
    "        try:\n",
    "            por.remove(p)\n",
    "        except:\n",
    "            pass\n",
    "        \n",
    "por = [' ' + p + ' ' for p in por]"
   ]
  },
  {
   "cell_type": "code",
   "execution_count": 19,
   "metadata": {},
   "outputs": [
    {
     "data": {
      "text/html": [
       "<div>\n",
       "<style scoped>\n",
       "    .dataframe tbody tr th:only-of-type {\n",
       "        vertical-align: middle;\n",
       "    }\n",
       "\n",
       "    .dataframe tbody tr th {\n",
       "        vertical-align: top;\n",
       "    }\n",
       "\n",
       "    .dataframe thead th {\n",
       "        text-align: right;\n",
       "    }\n",
       "</style>\n",
       "<table border=\"1\" class=\"dataframe\">\n",
       "  <thead>\n",
       "    <tr style=\"text-align: right;\">\n",
       "      <th></th>\n",
       "      <th>Unnamed: 0</th>\n",
       "      <th>song_id</th>\n",
       "      <th>lyric</th>\n",
       "      <th>annotation</th>\n",
       "    </tr>\n",
       "  </thead>\n",
       "  <tbody>\n",
       "    <tr>\n",
       "      <th>22996</th>\n",
       "      <td>25035</td>\n",
       "      <td>49039</td>\n",
       "      <td>Si y'a des bitches partout, c'est que j'suis dans la boîte</td>\n",
       "      <td>Booba  estime que la présence d'une forte clientèle féminine au sein d'une boîte de nuit est le fruit de son charme, autrement dit le Duc séduit bon nombre de femmes.</td>\n",
       "    </tr>\n",
       "    <tr>\n",
       "      <th>121254</th>\n",
       "      <td>138781</td>\n",
       "      <td>4447091</td>\n",
       "      <td>Oh, agora eu vejo claramente  Você é um espelho da minha saúde  Quanto mais eu te perdoo  Mais eu me sinto tão bem</td>\n",
       "      <td>Ás vezes na sua vida as pessoas irão te machucar mas não vai importar depois de algum tempo. A única coisa que importa é como você lida com isso, porque irá refletir na sua personalidade e pode ser algo bom ou ruim dependendo de como você decide seguir em frente. A maturidade te atinge como um trem quando você menos espera e te prepara para a vida, então não desperdice uma oportunidade de crescer e aprender com os seus erros se agarrando ao passado e guardando rancor.</td>\n",
       "    </tr>\n",
       "    <tr>\n",
       "      <th>21796</th>\n",
       "      <td>23835</td>\n",
       "      <td>722476</td>\n",
       "      <td>Si le Ciel ne veut pas que je tombe, qu'il écarte ces chiens de mon chemin</td>\n",
       "      <td>Booba prie le Ciel d'écarter toutes les personnes lui voulant du tort, afin de continuer son chemin vers la réussite.</td>\n",
       "    </tr>\n",
       "    <tr>\n",
       "      <th>121407</th>\n",
       "      <td>138934</td>\n",
       "      <td>3208423</td>\n",
       "      <td>Nós, as Baleias Assassinas  Deitamos nossas nadadeiras e nadamos no dinheiro</td>\n",
       "      <td>Referência a 4ª linha do arco e a 12ª  linha do terceiro verso.</td>\n",
       "    </tr>\n",
       "    <tr>\n",
       "      <th>68477</th>\n",
       "      <td>74148</td>\n",
       "      <td>3169812</td>\n",
       "      <td>Premetto di non odiare gli zingari  È un problema strumentale, capiscimi</td>\n",
       "      <td>Ogni riferimento a cose o persone è puramente casuale!  L'unico problema che possono rappresentare gli zingari è quello “strumentale” … Capitela!</td>\n",
       "    </tr>\n",
       "  </tbody>\n",
       "</table>\n",
       "</div>"
      ],
      "text/plain": [
       "        Unnamed: 0  song_id  \\\n",
       "22996   25035       49039     \n",
       "121254  138781      4447091   \n",
       "21796   23835       722476    \n",
       "121407  138934      3208423   \n",
       "68477   74148       3169812   \n",
       "\n",
       "                                                                                                                     lyric  \\\n",
       "22996   Si y'a des bitches partout, c'est que j'suis dans la boîte                                                           \n",
       "121254  Oh, agora eu vejo claramente  Você é um espelho da minha saúde  Quanto mais eu te perdoo  Mais eu me sinto tão bem   \n",
       "21796   Si le Ciel ne veut pas que je tombe, qu'il écarte ces chiens de mon chemin                                           \n",
       "121407  Nós, as Baleias Assassinas  Deitamos nossas nadadeiras e nadamos no dinheiro                                         \n",
       "68477   Premetto di non odiare gli zingari  È un problema strumentale, capiscimi                                             \n",
       "\n",
       "                                                                                                                                                                                                                                                                                                                                                                                                                                                                                       annotation  \n",
       "22996   Booba  estime que la présence d'une forte clientèle féminine au sein d'une boîte de nuit est le fruit de son charme, autrement dit le Duc séduit bon nombre de femmes.                                                                                                                                                                                                                                                                                                                     \n",
       "121254  Ás vezes na sua vida as pessoas irão te machucar mas não vai importar depois de algum tempo. A única coisa que importa é como você lida com isso, porque irá refletir na sua personalidade e pode ser algo bom ou ruim dependendo de como você decide seguir em frente. A maturidade te atinge como um trem quando você menos espera e te prepara para a vida, então não desperdice uma oportunidade de crescer e aprender com os seus erros se agarrando ao passado e guardando rancor.   \n",
       "21796   Booba prie le Ciel d'écarter toutes les personnes lui voulant du tort, afin de continuer son chemin vers la réussite.                                                                                                                                                                                                                                                                                                                                                                      \n",
       "121407    Referência a 4ª linha do arco e a 12ª  linha do terceiro verso.                                                                                                                                                                                                                                                                                                                                                                                                                          \n",
       "68477    Ogni riferimento a cose o persone è puramente casuale!  L'unico problema che possono rappresentare gli zingari è quello “strumentale” … Capitela!                                                                                                                                                                                                                                                                                                                                         "
      ]
     },
     "execution_count": 19,
     "metadata": {},
     "output_type": "execute_result"
    }
   ],
   "source": [
    "port = annotations.lyric.apply(lambda x: any(p in x for p in por))\n",
    "annotations[port].sample(5)"
   ]
  },
  {
   "cell_type": "code",
   "execution_count": 20,
   "metadata": {},
   "outputs": [],
   "source": [
    "for e in eng:\n",
    "    try:\n",
    "        fre.remove(e)\n",
    "    except:\n",
    "        pass\n",
    "\n",
    "for f in fre:\n",
    "    if d.check(f):\n",
    "        try:\n",
    "            fre.remove(f)\n",
    "        except:\n",
    "            pass\n",
    "        \n",
    "fre = [' ' + f + ' ' for f in fre]"
   ]
  },
  {
   "cell_type": "code",
   "execution_count": 21,
   "metadata": {},
   "outputs": [
    {
     "data": {
      "text/html": [
       "<div>\n",
       "<style scoped>\n",
       "    .dataframe tbody tr th:only-of-type {\n",
       "        vertical-align: middle;\n",
       "    }\n",
       "\n",
       "    .dataframe tbody tr th {\n",
       "        vertical-align: top;\n",
       "    }\n",
       "\n",
       "    .dataframe thead th {\n",
       "        text-align: right;\n",
       "    }\n",
       "</style>\n",
       "<table border=\"1\" class=\"dataframe\">\n",
       "  <thead>\n",
       "    <tr style=\"text-align: right;\">\n",
       "      <th></th>\n",
       "      <th>Unnamed: 0</th>\n",
       "      <th>song_id</th>\n",
       "      <th>lyric</th>\n",
       "      <th>annotation</th>\n",
       "    </tr>\n",
       "  </thead>\n",
       "  <tbody>\n",
       "    <tr>\n",
       "      <th>104677</th>\n",
       "      <td>114042</td>\n",
       "      <td>379305</td>\n",
       "      <td>C’qui est à ma portée, c’est casser des portes  Et apporter de l’aide quand le fardeau est lourd à porter  Le faire sur portée musicale n’est pas assez</td>\n",
       "      <td>Il y a dans ces trois vers  une allitération (répétition des consonnes) en “p” qui souligne la difficulté et la violence de la tâche qui est la sienne, l'allitération étant principalement issue de l'homophonie de   et des mots issus de la même famille ( ).</td>\n",
       "    </tr>\n",
       "    <tr>\n",
       "      <th>22373</th>\n",
       "      <td>24412</td>\n",
       "      <td>722488</td>\n",
       "      <td>Y si quieres nos vamos de vacaciones y viajamos todo el año</td>\n",
       "      <td>[BLOCKQUOTE]</td>\n",
       "    </tr>\n",
       "    <tr>\n",
       "      <th>20940</th>\n",
       "      <td>22979</td>\n",
       "      <td>4795</td>\n",
       "      <td>Faites du bruit pour le rap, sa mise à mort</td>\n",
       "      <td>La thématique de la mort du rap (tué par Booba, bien-sûr) est un classique dans l'oeuvre du rappeur de Boulbi.</td>\n",
       "    </tr>\n",
       "    <tr>\n",
       "      <th>71854</th>\n",
       "      <td>82283</td>\n",
       "      <td>552</td>\n",
       "      <td>The nighttime her face lit up, so astoundin'</td>\n",
       "      <td>Kanye was really good to this woman  Meanwhile, Chicago is beautifully comes alive and shines night!</td>\n",
       "    </tr>\n",
       "    <tr>\n",
       "      <th>63544</th>\n",
       "      <td>68927</td>\n",
       "      <td>3046171</td>\n",
       "      <td>C'est pas de la soupe ni du chewing-gum</td>\n",
       "      <td>King Ju réfère au fait que sa musique ne soit pas molle et faible. Voir ;  The Antidote  “C'est pas d'la soupe”</td>\n",
       "    </tr>\n",
       "  </tbody>\n",
       "</table>\n",
       "</div>"
      ],
      "text/plain": [
       "        Unnamed: 0  song_id  \\\n",
       "104677  114042      379305    \n",
       "22373   24412       722488    \n",
       "20940   22979       4795      \n",
       "71854   82283       552       \n",
       "63544   68927       3046171   \n",
       "\n",
       "                                                                                                                                                          lyric  \\\n",
       "104677  C’qui est à ma portée, c’est casser des portes  Et apporter de l’aide quand le fardeau est lourd à porter  Le faire sur portée musicale n’est pas assez   \n",
       "22373   Y si quieres nos vamos de vacaciones y viajamos todo el año                                                                                               \n",
       "20940   Faites du bruit pour le rap, sa mise à mort                                                                                                               \n",
       "71854   The nighttime her face lit up, so astoundin'                                                                                                              \n",
       "63544   C'est pas de la soupe ni du chewing-gum                                                                                                                   \n",
       "\n",
       "                                                                                                                                                                                                                                                               annotation  \n",
       "104677  Il y a dans ces trois vers  une allitération (répétition des consonnes) en “p” qui souligne la difficulté et la violence de la tâche qui est la sienne, l'allitération étant principalement issue de l'homophonie de   et des mots issus de la même famille ( ).   \n",
       "22373   [BLOCKQUOTE]                                                                                                                                                                                                                                                       \n",
       "20940   La thématique de la mort du rap (tué par Booba, bien-sûr) est un classique dans l'oeuvre du rappeur de Boulbi.                                                                                                                                                     \n",
       "71854   Kanye was really good to this woman  Meanwhile, Chicago is beautifully comes alive and shines night!                                                                                                                                                               \n",
       "63544   King Ju réfère au fait que sa musique ne soit pas molle et faible. Voir ;  The Antidote  “C'est pas d'la soupe”                                                                                                                                                    "
      ]
     },
     "execution_count": 21,
     "metadata": {},
     "output_type": "execute_result"
    }
   ],
   "source": [
    "french = annotations.lyric.apply(lambda x: any(f in x for f in fre))\n",
    "annotations[french].sample(5)"
   ]
  },
  {
   "cell_type": "markdown",
   "metadata": {},
   "source": [
    "**German**"
   ]
  },
  {
   "cell_type": "code",
   "execution_count": 22,
   "metadata": {},
   "outputs": [],
   "source": [
    "for e in eng:\n",
    "    try:\n",
    "        ger.remove(e)\n",
    "    except:\n",
    "        pass\n",
    "\n",
    "for g in ger:\n",
    "    if d.check(g):\n",
    "        try:\n",
    "            ger.remove(g)\n",
    "        except:\n",
    "            pass\n",
    "        \n",
    "ger = [' ' + g + ' ' for g in ger]"
   ]
  },
  {
   "cell_type": "code",
   "execution_count": 23,
   "metadata": {
    "scrolled": true
   },
   "outputs": [
    {
     "data": {
      "text/html": [
       "<div>\n",
       "<style scoped>\n",
       "    .dataframe tbody tr th:only-of-type {\n",
       "        vertical-align: middle;\n",
       "    }\n",
       "\n",
       "    .dataframe tbody tr th {\n",
       "        vertical-align: top;\n",
       "    }\n",
       "\n",
       "    .dataframe thead th {\n",
       "        text-align: right;\n",
       "    }\n",
       "</style>\n",
       "<table border=\"1\" class=\"dataframe\">\n",
       "  <thead>\n",
       "    <tr style=\"text-align: right;\">\n",
       "      <th></th>\n",
       "      <th>Unnamed: 0</th>\n",
       "      <th>song_id</th>\n",
       "      <th>lyric</th>\n",
       "      <th>annotation</th>\n",
       "    </tr>\n",
       "  </thead>\n",
       "  <tbody>\n",
       "    <tr>\n",
       "      <th>50022</th>\n",
       "      <td>54415</td>\n",
       "      <td>2669631</td>\n",
       "      <td>J'éjacule vite, je suis si rapide, pute</td>\n",
       "      <td>Entendu par vos oreilles pour la première fois dans “ Pyramides ”, extrait sorti 13 jours avant l'album.  https://www.youtube.com/watch?v=KMpadTMVbGw  Il explique dans une interview donnée à Genono pour Captchamag que cette phase est une métaphore qui représente sa productivité.</td>\n",
       "    </tr>\n",
       "    <tr>\n",
       "      <th>29892</th>\n",
       "      <td>32195</td>\n",
       "      <td>351030</td>\n",
       "      <td>Schwimm mit Delphinen, tauchen mit Mantas</td>\n",
       "      <td>Das Schwimmen mit den Delfinen ist ein Traum vieler, der vor allem in tropischen Gewässern verwirklicht werden kann, wo  http://de.wikipedia.org/wiki/Delfine  natürlicherweise vorkommen.   Marteria reichen die allseits beliebten Delfine aber nicht, er taucht lieber noch mit  Mantas  , einer Unterart der Rochen, die früher sogar für sehr gefährlich gehalten wurde.</td>\n",
       "    </tr>\n",
       "    <tr>\n",
       "      <th>73249</th>\n",
       "      <td>79383</td>\n",
       "      <td>2453368</td>\n",
       "      <td>Je ne suis plus là pour témoigner  Mais les roses blanches ont poussées  Les idiots ne l'emportent jamais  Et le ciel a tout filmé</td>\n",
       "      <td>Les étudiants arrêtés en février 1943 par la   ont été exécutés  , mais leur souvenir et celui de leur groupe, la   est présent et ne fait que croître  .   rappelle également que le mal motivé par l'idiotie ne triomphe jamais, comme l'Histoire de cette période peut en témoigner. De plus, la   semble avoir  , ce qui signifie que la cruauté sera punie au-delà de la Justice des Hommes.</td>\n",
       "    </tr>\n",
       "    <tr>\n",
       "      <th>115713</th>\n",
       "      <td>125932</td>\n",
       "      <td>506203</td>\n",
       "      <td>Und ich laufe mit erhobenem Haupt Ohne Moral, Drogen und Frau'n</td>\n",
       "      <td>Umschreibung für: “Ich tue, wovon ich denke, dass es richtig ist, ohne mich von anderen Leuten verbiegen, von Drogen zerstören oder von Frauen mein Herz brechen zu lassen”.</td>\n",
       "    </tr>\n",
       "    <tr>\n",
       "      <th>32013</th>\n",
       "      <td>34430</td>\n",
       "      <td>3983925</td>\n",
       "      <td>Jak pchałem rapy w eter - to się śmieli  Jak miałem jeden sweter - to się śmieli  I śmieli nie śmiali, bo śmieli się śmiać</td>\n",
       "      <td>Follow up do kawałka “Król Lew”, gdzie Szpaku rapował  [BLOCKQUOTE] Słuchacze komentowali, że Szpaku niepoprawnie odmienił “śmieli”, zamiast “śmiali”.</td>\n",
       "    </tr>\n",
       "  </tbody>\n",
       "</table>\n",
       "</div>"
      ],
      "text/plain": [
       "        Unnamed: 0  song_id  \\\n",
       "50022   54415       2669631   \n",
       "29892   32195       351030    \n",
       "73249   79383       2453368   \n",
       "115713  125932      506203    \n",
       "32013   34430       3983925   \n",
       "\n",
       "                                                                                                                                     lyric  \\\n",
       "50022   J'éjacule vite, je suis si rapide, pute                                                                                              \n",
       "29892   Schwimm mit Delphinen, tauchen mit Mantas                                                                                            \n",
       "73249   Je ne suis plus là pour témoigner  Mais les roses blanches ont poussées  Les idiots ne l'emportent jamais  Et le ciel a tout filmé   \n",
       "115713  Und ich laufe mit erhobenem Haupt Ohne Moral, Drogen und Frau'n                                                                      \n",
       "32013   Jak pchałem rapy w eter - to się śmieli  Jak miałem jeden sweter - to się śmieli  I śmieli nie śmiali, bo śmieli się śmiać           \n",
       "\n",
       "                                                                                                                                                                                                                                                                                                                                                                                                annotation  \n",
       "50022   Entendu par vos oreilles pour la première fois dans “ Pyramides ”, extrait sorti 13 jours avant l'album.  https://www.youtube.com/watch?v=KMpadTMVbGw  Il explique dans une interview donnée à Genono pour Captchamag que cette phase est une métaphore qui représente sa productivité.                                                                                                             \n",
       "29892   Das Schwimmen mit den Delfinen ist ein Traum vieler, der vor allem in tropischen Gewässern verwirklicht werden kann, wo  http://de.wikipedia.org/wiki/Delfine  natürlicherweise vorkommen.   Marteria reichen die allseits beliebten Delfine aber nicht, er taucht lieber noch mit  Mantas  , einer Unterart der Rochen, die früher sogar für sehr gefährlich gehalten wurde.                       \n",
       "73249   Les étudiants arrêtés en février 1943 par la   ont été exécutés  , mais leur souvenir et celui de leur groupe, la   est présent et ne fait que croître  .   rappelle également que le mal motivé par l'idiotie ne triomphe jamais, comme l'Histoire de cette période peut en témoigner. De plus, la   semble avoir  , ce qui signifie que la cruauté sera punie au-delà de la Justice des Hommes.   \n",
       "115713  Umschreibung für: “Ich tue, wovon ich denke, dass es richtig ist, ohne mich von anderen Leuten verbiegen, von Drogen zerstören oder von Frauen mein Herz brechen zu lassen”.                                                                                                                                                                                                                        \n",
       "32013   Follow up do kawałka “Król Lew”, gdzie Szpaku rapował  [BLOCKQUOTE] Słuchacze komentowali, że Szpaku niepoprawnie odmienił “śmieli”, zamiast “śmiali”.                                                                                                                                                                                                                                              "
      ]
     },
     "execution_count": 23,
     "metadata": {},
     "output_type": "execute_result"
    }
   ],
   "source": [
    "germ = annotations.lyric.apply(lambda x: any(g in x.lower() for g in ger))\n",
    "annotations[germ].sample(5)"
   ]
  },
  {
   "cell_type": "markdown",
   "metadata": {},
   "source": [
    "**Turkish**"
   ]
  },
  {
   "cell_type": "code",
   "execution_count": 24,
   "metadata": {},
   "outputs": [],
   "source": [
    "for e in eng:\n",
    "    try:\n",
    "        tur.remove(e)\n",
    "    except:\n",
    "        pass\n",
    "\n",
    "for t in tur:\n",
    "    if d.check(t):\n",
    "        try:\n",
    "            tur.remove(t)\n",
    "        except:\n",
    "            pass\n",
    "        \n",
    "tur = [' ' + t + ' ' for t in tur]"
   ]
  },
  {
   "cell_type": "code",
   "execution_count": 25,
   "metadata": {},
   "outputs": [
    {
     "data": {
      "text/html": [
       "<div>\n",
       "<style scoped>\n",
       "    .dataframe tbody tr th:only-of-type {\n",
       "        vertical-align: middle;\n",
       "    }\n",
       "\n",
       "    .dataframe tbody tr th {\n",
       "        vertical-align: top;\n",
       "    }\n",
       "\n",
       "    .dataframe thead th {\n",
       "        text-align: right;\n",
       "    }\n",
       "</style>\n",
       "<table border=\"1\" class=\"dataframe\">\n",
       "  <thead>\n",
       "    <tr style=\"text-align: right;\">\n",
       "      <th></th>\n",
       "      <th>Unnamed: 0</th>\n",
       "      <th>song_id</th>\n",
       "      <th>lyric</th>\n",
       "      <th>annotation</th>\n",
       "    </tr>\n",
       "  </thead>\n",
       "  <tbody>\n",
       "    <tr>\n",
       "      <th>132367</th>\n",
       "      <td>144345</td>\n",
       "      <td>314985</td>\n",
       "      <td>J'irai chercher ton coeur si tu l'emportes ailleurs  Meme si dans tes danses d'autres dansent tes heures  J'irai chercher ton ame dans les froids dans les flammes  Je te jetterai des sorts pour que tu m'aimes encore</td>\n",
       "      <td>Céline énumère toutes les choses qu'elle est prête à faire pour que son homme ressente à nouveau de l'amour à son égard et en somme elle est prête à TOUT</td>\n",
       "    </tr>\n",
       "    <tr>\n",
       "      <th>32371</th>\n",
       "      <td>34804</td>\n",
       "      <td>2892822</td>\n",
       "      <td>Avant toi, de ma peau je ne donnais pas cher (Uh-uh)  Pas le choix, on n'est pas fait pour se lâcher (Uh-uh, Uh-uh)</td>\n",
       "      <td>[BLOCKQUOTE]  [BLOCKQUOTE] With the first line Féfé says that life before meeting his significant other didn’t mean much to him.</td>\n",
       "    </tr>\n",
       "    <tr>\n",
       "      <th>24849</th>\n",
       "      <td>26889</td>\n",
       "      <td>94731</td>\n",
       "      <td>Menotté au radiateur, je ne sais que nier</td>\n",
       "      <td>Allusion à la garde à vue et aux petits sévices dont les flics se rendent parfois coupables. En effet, la proximité avec le radiateur rend la situation du gardé à vue   plus pénible et pourrait le conduire à passer aux avoeux plus vite que prévu. Mais… pas  , qui en véritable   ne balance pas.</td>\n",
       "    </tr>\n",
       "    <tr>\n",
       "      <th>11073</th>\n",
       "      <td>11923</td>\n",
       "      <td>125050</td>\n",
       "      <td>Il passe des journées entières à traiter les autres de \"PD\"  Il mène la vie dure aux faibles pour que personne se fasse une idée  De ce qu'il se passe vraiment, dans sa réalité  En vrai, il partage sa vie, ça fait trois ans un peu près  Avec un autre homme, ils vivent leur vie en secret</td>\n",
       "      <td>Cependant la chute est assez frappante.  Tout les entreprises de notre bonhomme ne sont faites que pour camoufler son véritable lui. En effet il joue les grosses brute qui effraie n'importe qui en insultant tout le monde de   à tout bout de champ pour éclipser le fait que lui-même en est un. Il cache donc sa véritable identité par tous les moyens pour qu'on ne doute pas une seule seconde de sa véritable personnalité. On comprend le fait qu'il n'a aucun ami proche, et qu'il terrorise tous les autres, au fond c'est quelqu'un qui est mal dans sa peau.  Il fait sûrement ceci car même encore aujourd'hui, les homosexuels sont encore mal vus de la société et mis à l'écart.</td>\n",
       "    </tr>\n",
       "    <tr>\n",
       "      <th>103747</th>\n",
       "      <td>113109</td>\n",
       "      <td>85954</td>\n",
       "      <td>Il blanchit des jeans, en CDI dans un pressing</td>\n",
       "      <td>Le blanchissage du linge plutôt que le blanchiment d'argent.  Aldo exerce un emploi précaire, légal, encadré, peu enviable et peu rémunéré, en totale opposition avec le prestige et les sommes faramineuses que pourrait lui rapporter le crime.</td>\n",
       "    </tr>\n",
       "  </tbody>\n",
       "</table>\n",
       "</div>"
      ],
      "text/plain": [
       "        Unnamed: 0  song_id  \\\n",
       "132367  144345      314985    \n",
       "32371   34804       2892822   \n",
       "24849   26889       94731     \n",
       "11073   11923       125050    \n",
       "103747  113109      85954     \n",
       "\n",
       "                                                                                                                                                                                                                                                                                                  lyric  \\\n",
       "132367  J'irai chercher ton coeur si tu l'emportes ailleurs  Meme si dans tes danses d'autres dansent tes heures  J'irai chercher ton ame dans les froids dans les flammes  Je te jetterai des sorts pour que tu m'aimes encore                                                                           \n",
       "32371   Avant toi, de ma peau je ne donnais pas cher (Uh-uh)  Pas le choix, on n'est pas fait pour se lâcher (Uh-uh, Uh-uh)                                                                                                                                                                               \n",
       "24849   Menotté au radiateur, je ne sais que nier                                                                                                                                                                                                                                                         \n",
       "11073   Il passe des journées entières à traiter les autres de \"PD\"  Il mène la vie dure aux faibles pour que personne se fasse une idée  De ce qu'il se passe vraiment, dans sa réalité  En vrai, il partage sa vie, ça fait trois ans un peu près  Avec un autre homme, ils vivent leur vie en secret   \n",
       "103747  Il blanchit des jeans, en CDI dans un pressing                                                                                                                                                                                                                                                    \n",
       "\n",
       "                                                                                                                                                                                                                                                                                                                                                                                                                                                                                                                                                                                                                                                                                                 annotation  \n",
       "132367  Céline énumère toutes les choses qu'elle est prête à faire pour que son homme ressente à nouveau de l'amour à son égard et en somme elle est prête à TOUT                                                                                                                                                                                                                                                                                                                                                                                                                                                                                                                                            \n",
       "32371    [BLOCKQUOTE]  [BLOCKQUOTE] With the first line Féfé says that life before meeting his significant other didn’t mean much to him.                                                                                                                                                                                                                                                                                                                                                                                                                                                                                                                                                                    \n",
       "24849   Allusion à la garde à vue et aux petits sévices dont les flics se rendent parfois coupables. En effet, la proximité avec le radiateur rend la situation du gardé à vue   plus pénible et pourrait le conduire à passer aux avoeux plus vite que prévu. Mais… pas  , qui en véritable   ne balance pas.                                                                                                                                                                                                                                                                                                                                                                                               \n",
       "11073   Cependant la chute est assez frappante.  Tout les entreprises de notre bonhomme ne sont faites que pour camoufler son véritable lui. En effet il joue les grosses brute qui effraie n'importe qui en insultant tout le monde de   à tout bout de champ pour éclipser le fait que lui-même en est un. Il cache donc sa véritable identité par tous les moyens pour qu'on ne doute pas une seule seconde de sa véritable personnalité. On comprend le fait qu'il n'a aucun ami proche, et qu'il terrorise tous les autres, au fond c'est quelqu'un qui est mal dans sa peau.  Il fait sûrement ceci car même encore aujourd'hui, les homosexuels sont encore mal vus de la société et mis à l'écart.   \n",
       "103747  Le blanchissage du linge plutôt que le blanchiment d'argent.  Aldo exerce un emploi précaire, légal, encadré, peu enviable et peu rémunéré, en totale opposition avec le prestige et les sommes faramineuses que pourrait lui rapporter le crime.                                                                                                                                                                                                                                                                                                                                                                                                                                                    "
      ]
     },
     "execution_count": 25,
     "metadata": {},
     "output_type": "execute_result"
    }
   ],
   "source": [
    "turk = annotations.lyric.apply(lambda x: any(t in x for t in tur))\n",
    "annotations[turk].sample(5)"
   ]
  },
  {
   "cell_type": "markdown",
   "metadata": {},
   "source": [
    "### Filter by length"
   ]
  },
  {
   "cell_type": "code",
   "execution_count": 26,
   "metadata": {},
   "outputs": [],
   "source": [
    "toolong = annotations.lyric.str.len() > 1000"
   ]
  },
  {
   "cell_type": "markdown",
   "metadata": {},
   "source": [
    "### Get rid of bracketed text"
   ]
  },
  {
   "cell_type": "code",
   "execution_count": 27,
   "metadata": {},
   "outputs": [],
   "source": [
    "pattern = \"\\[.*\\]\"\n",
    "annotations['lyric_edit'] = annotations.lyric.str.replace(pattern, '', regex=True)"
   ]
  },
  {
   "cell_type": "code",
   "execution_count": 28,
   "metadata": {},
   "outputs": [
    {
     "data": {
      "text/html": [
       "<div>\n",
       "<style scoped>\n",
       "    .dataframe tbody tr th:only-of-type {\n",
       "        vertical-align: middle;\n",
       "    }\n",
       "\n",
       "    .dataframe tbody tr th {\n",
       "        vertical-align: top;\n",
       "    }\n",
       "\n",
       "    .dataframe thead th {\n",
       "        text-align: right;\n",
       "    }\n",
       "</style>\n",
       "<table border=\"1\" class=\"dataframe\">\n",
       "  <thead>\n",
       "    <tr style=\"text-align: right;\">\n",
       "      <th></th>\n",
       "      <th>Unnamed: 0</th>\n",
       "      <th>song_id</th>\n",
       "      <th>lyric</th>\n",
       "      <th>annotation</th>\n",
       "      <th>lyric_edit</th>\n",
       "    </tr>\n",
       "  </thead>\n",
       "  <tbody>\n",
       "    <tr>\n",
       "      <th>122410</th>\n",
       "      <td>139937</td>\n",
       "      <td>485438</td>\n",
       "      <td>[Refrão: AZ]</td>\n",
       "      <td>[BLOCKQUOTE]</td>\n",
       "      <td></td>\n",
       "    </tr>\n",
       "    <tr>\n",
       "      <th>26587</th>\n",
       "      <td>28629</td>\n",
       "      <td>2037978</td>\n",
       "      <td>[Couplet 1 : Doums]</td>\n",
       "      <td>Il s'agit du second couplet de son titre  .</td>\n",
       "      <td></td>\n",
       "    </tr>\n",
       "    <tr>\n",
       "      <th>29912</th>\n",
       "      <td>32215</td>\n",
       "      <td>255647</td>\n",
       "      <td>[Hook]</td>\n",
       "      <td>Marteria und Schulkinder zur Hook und zum Namen des Tracks:  [BLOCKQUOTE]</td>\n",
       "      <td></td>\n",
       "    </tr>\n",
       "    <tr>\n",
       "      <th>162436</th>\n",
       "      <td>184981</td>\n",
       "      <td>2322530</td>\n",
       "      <td>[Verse 3: Chris Brown  &amp; Rick Ross]</td>\n",
       "      <td>Chris realizes that one of many reasons of his break up with Karrueche Tran was his lack of compassion. He keeps promising to improve, yet repeatedly makes the same mistakes. In this verse, he expresses regret for that behavior.  Shortly before the release, Chris took to Instagram to announce the single.   He may have addressed that relationship before. There was speculation that his single  , released on September 25, 2015, addressed that breakup—but it expressed a much different sentiment than this song, saying that Brown didn’t care about the woman he was singing to.</td>\n",
       "      <td></td>\n",
       "    </tr>\n",
       "    <tr>\n",
       "      <th>113573</th>\n",
       "      <td>123763</td>\n",
       "      <td>31373</td>\n",
       "      <td>[Produced by MF DOOM]</td>\n",
       "      <td>For this track, DOOM samples “East Market,” by jazz musician  Yusuf Lateef:  https://www.youtube.com/watch?v=_TveobyX-ps  The instrumental was later included in DOOM’s beat compilation   under the name “Nettle Leaves”:  https://www.youtube.com/watch?v=TSWhwjpoTuw</td>\n",
       "      <td></td>\n",
       "    </tr>\n",
       "  </tbody>\n",
       "</table>\n",
       "</div>"
      ],
      "text/plain": [
       "        Unnamed: 0  song_id                                lyric  \\\n",
       "122410  139937      485438   [Refrão: AZ]                          \n",
       "26587   28629       2037978  [Couplet 1 : Doums]                   \n",
       "29912   32215       255647   [Hook]                                \n",
       "162436  184981      2322530  [Verse 3: Chris Brown  & Rick Ross]   \n",
       "113573  123763      31373    [Produced by MF DOOM]                 \n",
       "\n",
       "                                                                                                                                                                                                                                                                                                                                                                                                                                                                                                                                                                                                annotation  \\\n",
       "122410  [BLOCKQUOTE]                                                                                                                                                                                                                                                                                                                                                                                                                                                                                                                                                                                         \n",
       "26587   Il s'agit du second couplet de son titre  .                                                                                                                                                                                                                                                                                                                                                                                                                                                                                                                                                          \n",
       "29912   Marteria und Schulkinder zur Hook und zum Namen des Tracks:  [BLOCKQUOTE]                                                                                                                                                                                                                                                                                                                                                                                                                                                                                                                            \n",
       "162436   Chris realizes that one of many reasons of his break up with Karrueche Tran was his lack of compassion. He keeps promising to improve, yet repeatedly makes the same mistakes. In this verse, he expresses regret for that behavior.  Shortly before the release, Chris took to Instagram to announce the single.   He may have addressed that relationship before. There was speculation that his single  , released on September 25, 2015, addressed that breakup—but it expressed a much different sentiment than this song, saying that Brown didn’t care about the woman he was singing to.    \n",
       "113573  For this track, DOOM samples “East Market,” by jazz musician  Yusuf Lateef:  https://www.youtube.com/watch?v=_TveobyX-ps  The instrumental was later included in DOOM’s beat compilation   under the name “Nettle Leaves”:  https://www.youtube.com/watch?v=TSWhwjpoTuw                                                                                                                                                                                                                                                                                                                              \n",
       "\n",
       "       lyric_edit  \n",
       "122410             \n",
       "26587              \n",
       "29912              \n",
       "162436             \n",
       "113573             "
      ]
     },
     "execution_count": 28,
     "metadata": {},
     "output_type": "execute_result"
    }
   ],
   "source": [
    "annotations[annotations.lyric.str.contains(pattern)].sample(5)"
   ]
  },
  {
   "cell_type": "code",
   "execution_count": 29,
   "metadata": {},
   "outputs": [],
   "source": [
    "empty = annotations.lyric_edit.str.strip().str.len() == 0"
   ]
  },
  {
   "cell_type": "markdown",
   "metadata": {},
   "source": [
    "### Filter them out"
   ]
  },
  {
   "cell_type": "code",
   "execution_count": 30,
   "metadata": {},
   "outputs": [
    {
     "data": {
      "text/plain": [
       "False    273090\n",
       "True     23913 \n",
       "dtype: int64"
      ]
     },
     "execution_count": 30,
     "metadata": {},
     "output_type": "execute_result"
    }
   ],
   "source": [
    "fil = germ | port | chi | jap | turk | toolong | empty\n",
    "fil.value_counts()"
   ]
  },
  {
   "cell_type": "code",
   "execution_count": 31,
   "metadata": {},
   "outputs": [],
   "source": [
    "annotations = annotations[fil == False]"
   ]
  },
  {
   "cell_type": "markdown",
   "metadata": {},
   "source": [
    "### Split and save"
   ]
  },
  {
   "cell_type": "code",
   "execution_count": 32,
   "metadata": {},
   "outputs": [],
   "source": [
    "# Add spaces to separate quotations\n",
    "annotations.lyric_edit = ' ' + annotations.lyric_edit.astype(str) + ' '\n",
    "annotations.annotation = ' ' + annotations.annotation.astype(str) + ' '"
   ]
  },
  {
   "cell_type": "code",
   "execution_count": 33,
   "metadata": {},
   "outputs": [
    {
     "data": {
      "text/html": [
       "<div>\n",
       "<style scoped>\n",
       "    .dataframe tbody tr th:only-of-type {\n",
       "        vertical-align: middle;\n",
       "    }\n",
       "\n",
       "    .dataframe tbody tr th {\n",
       "        vertical-align: top;\n",
       "    }\n",
       "\n",
       "    .dataframe thead th {\n",
       "        text-align: right;\n",
       "    }\n",
       "</style>\n",
       "<table border=\"1\" class=\"dataframe\">\n",
       "  <thead>\n",
       "    <tr style=\"text-align: right;\">\n",
       "      <th></th>\n",
       "      <th>Unnamed: 0</th>\n",
       "      <th>song_id</th>\n",
       "      <th>lyric</th>\n",
       "      <th>annotation</th>\n",
       "      <th>lyric_edit</th>\n",
       "    </tr>\n",
       "  </thead>\n",
       "  <tbody>\n",
       "    <tr>\n",
       "      <th>0</th>\n",
       "      <td>0</td>\n",
       "      <td>3477888</td>\n",
       "      <td>[Verse 3: Kendrick Lamar]  Yeah  Say got work for Kung Fu Kenny  Know you got work, got work for plenty  Him got, her got, more got, Benji  Damn  Top off, getting topped off in the city  Big Top Dawg and I dance on 'em like Diddy  Pop off and I pop back like Fifty  Yeah</td>\n",
       "      <td>This part was in the first place believed to be a verse  tailored for the performance.  12 days after the performance, on February 9th, it turned out that the verse was in fact a sneek peak previewing a song from the  Black Panther album :  “Big Shot”  [BLOCKQUOTE]</td>\n",
       "      <td>Yeah  Say got work for Kung Fu Kenny  Know you got work, got work for plenty  Him got, her got, more got, Benji  Damn  Top off, getting topped off in the city  Big Top Dawg and I dance on 'em like Diddy  Pop off and I pop back like Fifty  Yeah</td>\n",
       "    </tr>\n",
       "    <tr>\n",
       "      <th>1</th>\n",
       "      <td>1</td>\n",
       "      <td>3477888</td>\n",
       "      <td>[Verse 6: Kendrick Lamar]  Never had friends, never had ends  Never had hope, they was like \"nope\"  I was like \"boo yaow\"  (Yeah, God)  Tee off the day  Know we off the, be off the, eat off your plate  Throw me off, I be, \"Off ya head\"  Well ate, on C4, I'm way off the edge  Burn integrity, burn your pedigree, burn your feelings  Burn your culture, burn your moral, burn your family  Burn your job, burn your land, burn your children, burn your wives  Who am I? Not your father, not your brother  Not your reason, not your future  Not your comfort, not your reverence, not your glory  Not your heaven, not your angel, not your spirit  Not your message, not your freedom  Not your people, not your neighbor  Not your baby, not your equal  Not the title y'all want me under  All hail King Killmonger</td>\n",
       "      <td>Kendrick continues his verse from  “King’s Dead”  with his dancers surrounding him in red attire.  With every successive topic, a red spark fires off in the air and an audible gunshot sounds, as one-by-one every dancer in red falls to the ground. This can be seen as symbolizing the death of these abstract titles given by society.</td>\n",
       "      <td>Never had friends, never had ends  Never had hope, they was like \"nope\"  I was like \"boo yaow\"  (Yeah, God)  Tee off the day  Know we off the, be off the, eat off your plate  Throw me off, I be, \"Off ya head\"  Well ate, on C4, I'm way off the edge  Burn integrity, burn your pedigree, burn your feelings  Burn your culture, burn your moral, burn your family  Burn your job, burn your land, burn your children, burn your wives  Who am I? Not your father, not your brother  Not your reason, not your future  Not your comfort, not your reverence, not your glory  Not your heaven, not your angel, not your spirit  Not your message, not your freedom  Not your people, not your neighbor  Not your baby, not your equal  Not the title y'all want me under  All hail King Killmonger</td>\n",
       "    </tr>\n",
       "    <tr>\n",
       "      <th>2</th>\n",
       "      <td>2</td>\n",
       "      <td>3477888</td>\n",
       "      <td>[Verse 5: Kendrick Lamar]  Red light, green light, red light, green light  Red light, green light, they like, we like  Fast cars, fast money, fast life, fast broads  Egotistic, goin' ballistic, why God?  Born warrior, lookin' for euphoria, but I don't see it  I don't feel it, I'm paraplegic, tapped in when I'm maxed in  Comp-Town with the MAC 10s and the pumps in the background  Absent, never OG, standout  Lackin' everything else but doubt  Magnum, holding Magnums with a Magnum  Homie, ad-lib and I sing out loud  Never had friends, never had ends, never had hope  They was like, \"Nope,\" I was like, \"Boo yaow, boo yaow\"</td>\n",
       "      <td>Kendrick switches up the flow once again with red smoke streaming from the top of the stage while dancer/choreographer  Charm La'Donna  accompanies him.  This verse comes from the freshly minted  Jay Rock  track,  “King’s Dead,”  which is featured in the upcoming Marvel soundtrack for  .</td>\n",
       "      <td>Red light, green light, red light, green light  Red light, green light, they like, we like  Fast cars, fast money, fast life, fast broads  Egotistic, goin' ballistic, why God?  Born warrior, lookin' for euphoria, but I don't see it  I don't feel it, I'm paraplegic, tapped in when I'm maxed in  Comp-Town with the MAC 10s and the pumps in the background  Absent, never OG, standout  Lackin' everything else but doubt  Magnum, holding Magnums with a Magnum  Homie, ad-lib and I sing out loud  Never had friends, never had ends, never had hope  They was like, \"Nope,\" I was like, \"Boo yaow, boo yaow\"</td>\n",
       "    </tr>\n",
       "    <tr>\n",
       "      <th>3</th>\n",
       "      <td>3</td>\n",
       "      <td>3477888</td>\n",
       "      <td>[Verse 4: Kendrick Lamar]  I gotta dance  I Milly Rock when I get that advance  How can I shop with like 64 M's?  Talkin' to Top about business again  He want some lot with new Bentleys again  I want some top from like two sets of twins  Twenty twin twins, yeah, yeah</td>\n",
       "      <td>This part of Kendrick’s performance comes from his feature on  Rich The Kid ’s  “New Freezer” .  The full verse is as followed:  [BLOCKQUOTE]</td>\n",
       "      <td>I gotta dance  I Milly Rock when I get that advance  How can I shop with like 64 M's?  Talkin' to Top about business again  He want some lot with new Bentleys again  I want some top from like two sets of twins  Twenty twin twins, yeah, yeah</td>\n",
       "    </tr>\n",
       "    <tr>\n",
       "      <th>4</th>\n",
       "      <td>4</td>\n",
       "      <td>3477888</td>\n",
       "      <td>Part III: Freestyle</td>\n",
       "      <td>During this freestyle segment, Charm La'Donna, a dancer who has been working with Kendrick since 2015, beats on a taiko drum (to a pre-recorded sound clip). After the freestyle, Charm begins to dance while Kendrick spits part of his verse from  “New Freezer” .  The freestyle would later be part of Kendrick’s verse on  “Big Shot” , a track on  the Black Panther soundtrack  that features  Travis Scott .</td>\n",
       "      <td>Part III: Freestyle</td>\n",
       "    </tr>\n",
       "  </tbody>\n",
       "</table>\n",
       "</div>"
      ],
      "text/plain": [
       "   Unnamed: 0  song_id  \\\n",
       "0  0           3477888   \n",
       "1  1           3477888   \n",
       "2  2           3477888   \n",
       "3  3           3477888   \n",
       "4  4           3477888   \n",
       "\n",
       "                                                                                                                                                                                                                                                                                                                                                                                                                                                                                                                                                                                                                                                                                                                                                                                                                             lyric  \\\n",
       "0  [Verse 3: Kendrick Lamar]  Yeah  Say got work for Kung Fu Kenny  Know you got work, got work for plenty  Him got, her got, more got, Benji  Damn  Top off, getting topped off in the city  Big Top Dawg and I dance on 'em like Diddy  Pop off and I pop back like Fifty  Yeah                                                                                                                                                                                                                                                                                                                                                                                                                                                                                                                                                    \n",
       "1  [Verse 6: Kendrick Lamar]  Never had friends, never had ends  Never had hope, they was like \"nope\"  I was like \"boo yaow\"  (Yeah, God)  Tee off the day  Know we off the, be off the, eat off your plate  Throw me off, I be, \"Off ya head\"  Well ate, on C4, I'm way off the edge  Burn integrity, burn your pedigree, burn your feelings  Burn your culture, burn your moral, burn your family  Burn your job, burn your land, burn your children, burn your wives  Who am I? Not your father, not your brother  Not your reason, not your future  Not your comfort, not your reverence, not your glory  Not your heaven, not your angel, not your spirit  Not your message, not your freedom  Not your people, not your neighbor  Not your baby, not your equal  Not the title y'all want me under  All hail King Killmonger   \n",
       "2  [Verse 5: Kendrick Lamar]  Red light, green light, red light, green light  Red light, green light, they like, we like  Fast cars, fast money, fast life, fast broads  Egotistic, goin' ballistic, why God?  Born warrior, lookin' for euphoria, but I don't see it  I don't feel it, I'm paraplegic, tapped in when I'm maxed in  Comp-Town with the MAC 10s and the pumps in the background  Absent, never OG, standout  Lackin' everything else but doubt  Magnum, holding Magnums with a Magnum  Homie, ad-lib and I sing out loud  Never had friends, never had ends, never had hope  They was like, \"Nope,\" I was like, \"Boo yaow, boo yaow\"                                                                                                                                                                                 \n",
       "3  [Verse 4: Kendrick Lamar]  I gotta dance  I Milly Rock when I get that advance  How can I shop with like 64 M's?  Talkin' to Top about business again  He want some lot with new Bentleys again  I want some top from like two sets of twins  Twenty twin twins, yeah, yeah                                                                                                                                                                                                                                                                                                                                                                                                                                                                                                                                                       \n",
       "4  Part III: Freestyle                                                                                                                                                                                                                                                                                                                                                                                                                                                                                                                                                                                                                                                                                                                                                                                                               \n",
       "\n",
       "                                                                                                                                                                                                                                                                                                                                                                                                                annotation  \\\n",
       "0   This part was in the first place believed to be a verse  tailored for the performance.  12 days after the performance, on February 9th, it turned out that the verse was in fact a sneek peak previewing a song from the  Black Panther album :  “Big Shot”  [BLOCKQUOTE]                                                                                                                                                \n",
       "1   Kendrick continues his verse from  “King’s Dead”  with his dancers surrounding him in red attire.  With every successive topic, a red spark fires off in the air and an audible gunshot sounds, as one-by-one every dancer in red falls to the ground. This can be seen as symbolizing the death of these abstract titles given by society.                                                                              \n",
       "2   Kendrick switches up the flow once again with red smoke streaming from the top of the stage while dancer/choreographer  Charm La'Donna  accompanies him.  This verse comes from the freshly minted  Jay Rock  track,  “King’s Dead,”  which is featured in the upcoming Marvel soundtrack for  .                                                                                                                         \n",
       "3   This part of Kendrick’s performance comes from his feature on  Rich The Kid ’s  “New Freezer” .  The full verse is as followed:  [BLOCKQUOTE]                                                                                                                                                                                                                                                                            \n",
       "4   During this freestyle segment, Charm La'Donna, a dancer who has been working with Kendrick since 2015, beats on a taiko drum (to a pre-recorded sound clip). After the freestyle, Charm begins to dance while Kendrick spits part of his verse from  “New Freezer” .  The freestyle would later be part of Kendrick’s verse on  “Big Shot” , a track on  the Black Panther soundtrack  that features  Travis Scott .     \n",
       "\n",
       "                                                                                                                                                                                                                                                                                                                                                                                                                                                                                                                                                                                                                                                                                                                                                                                                 lyric_edit  \n",
       "0     Yeah  Say got work for Kung Fu Kenny  Know you got work, got work for plenty  Him got, her got, more got, Benji  Damn  Top off, getting topped off in the city  Big Top Dawg and I dance on 'em like Diddy  Pop off and I pop back like Fifty  Yeah                                                                                                                                                                                                                                                                                                                                                                                                                                                                                                                                                    \n",
       "1     Never had friends, never had ends  Never had hope, they was like \"nope\"  I was like \"boo yaow\"  (Yeah, God)  Tee off the day  Know we off the, be off the, eat off your plate  Throw me off, I be, \"Off ya head\"  Well ate, on C4, I'm way off the edge  Burn integrity, burn your pedigree, burn your feelings  Burn your culture, burn your moral, burn your family  Burn your job, burn your land, burn your children, burn your wives  Who am I? Not your father, not your brother  Not your reason, not your future  Not your comfort, not your reverence, not your glory  Not your heaven, not your angel, not your spirit  Not your message, not your freedom  Not your people, not your neighbor  Not your baby, not your equal  Not the title y'all want me under  All hail King Killmonger   \n",
       "2     Red light, green light, red light, green light  Red light, green light, they like, we like  Fast cars, fast money, fast life, fast broads  Egotistic, goin' ballistic, why God?  Born warrior, lookin' for euphoria, but I don't see it  I don't feel it, I'm paraplegic, tapped in when I'm maxed in  Comp-Town with the MAC 10s and the pumps in the background  Absent, never OG, standout  Lackin' everything else but doubt  Magnum, holding Magnums with a Magnum  Homie, ad-lib and I sing out loud  Never had friends, never had ends, never had hope  They was like, \"Nope,\" I was like, \"Boo yaow, boo yaow\"                                                                                                                                                                                 \n",
       "3     I gotta dance  I Milly Rock when I get that advance  How can I shop with like 64 M's?  Talkin' to Top about business again  He want some lot with new Bentleys again  I want some top from like two sets of twins  Twenty twin twins, yeah, yeah                                                                                                                                                                                                                                                                                                                                                                                                                                                                                                                                                       \n",
       "4   Part III: Freestyle                                                                                                                                                                                                                                                                                                                                                                                                                                                                                                                                                                                                                                                                                                                                                                                      "
      ]
     },
     "execution_count": 33,
     "metadata": {},
     "output_type": "execute_result"
    }
   ],
   "source": [
    "annotations.head()"
   ]
  },
  {
   "cell_type": "code",
   "execution_count": 34,
   "metadata": {},
   "outputs": [],
   "source": [
    "lyric_train, lyric_val, y_train, y_val = train_test_split(annotations.lyric_edit, annotations.annotation, test_size=0.1)"
   ]
  },
  {
   "cell_type": "code",
   "execution_count": 36,
   "metadata": {},
   "outputs": [],
   "source": [
    "lyric_train.to_csv('./data/src-train.txt', header=None, index=None, sep=' ')\n",
    "lyric_val.to_csv('./data/src-val.txt', header=None, index=None, sep=' ')\n",
    "y_train.to_csv('./data/tgt-train.txt', header=None, index=None, sep=' ')\n",
    "y_val.to_csv('./data/tgt-val.txt', header=None, index=None, sep=' ')"
   ]
  },
  {
   "cell_type": "code",
   "execution_count": 37,
   "metadata": {},
   "outputs": [
    {
     "data": {
      "text/plain": [
       "(245781,)"
      ]
     },
     "execution_count": 37,
     "metadata": {},
     "output_type": "execute_result"
    }
   ],
   "source": [
    "y_train.shape"
   ]
  },
  {
   "cell_type": "markdown",
   "metadata": {},
   "source": [
    "### Run these cells first"
   ]
  },
  {
   "cell_type": "code",
   "execution_count": 1,
   "metadata": {},
   "outputs": [],
   "source": [
    "fre = ['trouver', 'tête', 'supporter', 'propre', 'page', 'devrait', 'pays', 'trouvé', 'réponse', 'école', 'croître', 'étude', 'encore', 'apprendre', 'usine', 'couvercle', 'nourriture', 'soleil', 'quatre', 'entre', 'état', 'garder', 'œil', 'jamais', 'dernier', 'laisser', 'pensée', 'ville', 'arbre', 'traverser', 'ferme', 'dur', 'début', 'puissance', 'histoire', 'scie', 'loin', 'mer', 'tirer', 'gauche', 'tard', 'courir', 'needs a context', 'tandis que', 'presse', 'proche', 'nuit', 'réel', 'vie', 'peu', 'nord', 'livre', 'porter', 'a pris', 'science', 'manger', 'chambre', 'ami', 'a commencé', 'idée', 'poisson', 'montagne', 'Arrêtez', 'une fois', 'base', 'entendre', 'cheval', 'coupe', 'sûr', 'regarder', 'couleur', 'face', 'bois', 'principal', 'ouvert', 'paraître', 'ensemble', 'suivant', 'blanc', 'enfants', 'commencer', 'eu', 'marcher', 'exemple', 'facilité', 'papier', 'groupe', 'toujours', 'musique', 'ceux', 'tous les deux', 'marque', 'souvent', 'lettre', 'jusqu&#8217;à ce que', 'mile', 'rivière', 'voiture', 'pieds', 'soins', 'deuxième', 'assez', 'plaine', 'fille', 'habituel', 'jeune', 'prêt', 'au-dessus', 'jamais', 'rouge', 'liste', 'bien que', 'sentir', 'parler', 'oiseau', 'bientôt', 'corps', 'chien', 'famille', 'direct', 'pose', 'laisser', 'chanson', 'mesurer', 'porte', 'produit', 'noir', 'court', 'chiffre', 'classe', 'vent', 'question', 'arriver', 'complète', 'navire', 'zone', 'moitié', 'rock', 'ordre', 'feu', 'sud', 'problème', 'pièce', 'dit', 'savait', 'passer', 'depuis', 'haut', 'ensemble', 'roi', 'rue', 'pouce', 'multiplier', 'rien', 'cours', 'rester', 'roue', 'plein', 'force', 'bleu', 'objet', 'décider', 'surface', 'profond', 'lune', 'île', 'pied', 'système', 'occupé', 'test', 'record', 'bateau', 'commun', 'or', 'possible', 'plan', 'place', 'sec', 'se demander', 'rire', 'mille', 'il ya', 'ran', 'vérifier', 'jeu', 'forme', 'assimiler', 'chaud', 'manquer', 'apporté', 'chaleur', 'neige', 'pneu', 'apporter', 'oui', 'lointain', 'remplir', 'est', 'peindre', 'langue', 'entre', 'unité', 'puissance', 'ville', 'fin', 'certain', 'voler', 'tomber', 'conduire', 'cri', 'sombre', 'machine', 'Note', 'patienter', 'plan', 'figure', 'étoile', 'boîte', 'nom', 'domaine', 'reste', 'correct', 'capable', 'livre', 'Terminé', 'beauté', 'entraînement', 'résisté', 'contenir', 'avant', 'enseigner', 'semaine', 'finale', 'donné', 'vert', 'oh', 'rapide', 'développer', 'océan', 'chaud', 'gratuit', 'minute', 'fort', 'spécial', 'esprit', 'derrière', 'clair', 'queue', 'produire', 'fait', 'espace', 'entendu', 'meilleur', 'heure', 'mieux', 'vrai', 'pendant', 'cent', 'cinq', 'rappeler', 'étape', 'tôt', 'tenir', 'ouest', 'sol', 'intérêt', 'atteindre', 'rapide', 'verbe', 'chanter', 'écouter', 'six', 'table', 'Voyage', 'moins', 'matin', 'dix', 'simple', 'plusieurs', 'voyelle', 'vers', 'guerre', 'poser', 'contre', 'modèle', 'lent', 'centre', 'amour', 'personne', 'argent', 'servir', 'apparaître', 'route', 'carte', 'pluie', 'règle', 'gouverner', 'tirer', 'froid', 'avis', 'voix', 'énergie', 'chasse', 'probable', 'lit', 'frère', 'œuf', 'tour', 'cellule', 'croire', 'peut-être', 'choisir', 'soudain', 'compter', 'carré', 'raison', 'longueur', 'représenter', 'art', 'sujet', 'région', 'taille', 'varier', 'régler', 'parler', 'poids', 'général', 'glace', 'question', 'cercle', 'paire', 'inclure', 'fracture', 'syllabe', 'feutre', 'grandiose', 'balle', 'encore', 'vague', 'tomber', 'cœur', 'h', 'présent', 'lourd', 'danse', 'moteur', 'position', 'bras', 'large', 'voile', 'matériel', 'fraction', 'forêt', 's&#8217;asseoir', 'course', 'fenêtre', 'magasin', 'été', 'train', 'sommeil', 'prouver', 'seul', 'jambe', 'exercice', 'mur', 'capture', 'monture', 'souhaiter', 'ciel', 'conseil', 'joie', 'hiver', 'sat', 'écrit', 'sauvage', 'instrument', 'conservé', 'verre', 'herbe', 'vache', 'emploi', 'bord', 'signe', 'visite', 'passé', 'doux', 'amusement', 'clair', 'gaz', 'temps', 'mois', 'million', 'porter', 'finition', 'heureux', 'espoir', 'fleur', 'vêtir', 'étrange', 'disparu', 'commerce', 'mélodie', 'voyage', 'bureau', 'recevoir', 'rangée', 'bouche', 'exact', 'symbole', 'mourir', 'moins', 'difficulté', 'cri', 'sauf', 'écrit', 'semence', 'ton', 'joindre', 'suggérer', 'propre', 'pause', 'dame', 'cour', 'augmenter', 'mauvais', 'coup', 'huile', 'sang', 'toucher', 'a augmenté', 'cent', 'mélanger', 'équipe', 'fil', 'coût', 'perdu', 'brun', 'porter', 'jardin', 'égal', 'expédié', 'choisir', 'est tombé', 's&#8217;adapter', 'débit', 'juste', 'banque', 'recueillir', 'sauver', 'contrôle', 'décimal', 'oreille', 'autre', 'tout à fait', 'cassé', 'cas', 'milieu', 'tuer', 'fils', 'lac', 'moment', 'échelle', 'fort', 'printemps', 'observer', 'enfant', 'droit', 'consonne', 'nation', 'dictionnaire', 'lait', 'vitesse', 'méthode', 'organe', 'payer', 'âge', 'section', 'robe', 'nuage', 'surprise', 'calme', 'pierre', 'minuscule', 'montée', 'frais', 'conception', 'pauvres', 'lot', 'expérience', 'bas', 'clé', 'fer', 'unique', 'bâton', 'plat', 'vingt', 'peau', 'sourire', 'pli', 'trou', 'sauter', 'bébé', 'huit', 'village', 'se rencontrent', 'racine', 'acheter', 'augmenter', 'résoudre', 'métal', 'si', 'pousser', 'sept', 'paragraphe', 'troisième', 'doit', 'en attente', 'cheveux', 'décrire', 'cuisinier', 'étage', 'chaque', 'résultat', 'brûler', 'colline', 'coffre-fort', 'chat', 'siècle', 'envisager', 'type', 'droit', 'peu', 'côte', 'copie', 'phrase', 'silencieux', 'haut', 'sable', 'sol', 'rouleau', 'température', 'doigt', 'industrie', 'valeur', 'lutte', 'mensonge', 'battre', 'exciter', 'naturel', 'vue', 'sens', 'capital', 'ne sera pas', 'chaise', 'danger', 'fruit', 'riche', 'épais', 'soldat', 'processus', 'fonctionner', 'pratique', 'séparé', 'difficile', 'médecin', 's&#8217;il vous plaît', 'protéger', 'midi', 'récolte', 'moderne', 'élément', 'frapper', 'étudiant', 'coin', 'partie', 'alimentation', 'dont', 'localiser', 'anneau', 'caractère', 'insecte', 'pris', 'période', 'indiquer', 'radio', 'rayon', 'atome', 'humain', 'histoire', 'effet', 'électrique', 'attendre', 'os', 'rail', 'imaginer', 'fournir', 'se mettre d&#8217;accord', 'ainsi', 'doux', 'femme', 'capitaine', 'deviner', 'nécessaire', 'net', 'aile', 'créer', 'voisin', 'lavage', 'chauve-souris', 'plutôt', 'foule', 'blé', 'comparer', 'poème', 'chaîne', 'cloche', 'dépendre', 'viande', 'rub', 'tube', 'célèbre', 'dollar', 'courant', 'peur', 'vue', 'mince', 'triangle', 'planète', 'se dépêcher', 'chef', 'colonie', 'horloge', 'mine', 'lien', 'entrer', 'majeur', 'frais', 'recherche', 'envoyer', 'jaune', 'pistolet', 'permettre', 'impression', 'mort', 'place', 'désert', 'costume', 'courant', 'ascenseur', 'rose', 'arriver', 'maître', 'piste', 'mère', 'rivage', 'division', 'feuille', 'substance', 'favoriser', 'relier', 'poste', 'passer', 'corde', 'graisse', 'heureux', 'original', 'part', 'station', 'papa', 'pain', 'charger', 'propre', 'bar', 'proposition', 'segment', 'esclave', 'canard', 'instant', 'marché', 'degré', 'peupler', 'poussin', 'cher', 'ennemi', 'répondre', 'boisson', 'se produire', 'support', 'discours', 'nature', 'gamme', 'vapeur', 'mouvement', 'chemin', 'liquide', 'enregistrer', 'signifiait', 'quotient', 'dents', 'coquille', 'cou', 'oxygène', 'sucre', 'décès', 'assez', 'compétence', 'femmes', 'saison', 'solution', 'aimant', 'argent', 'merci', 'branche', 'rencontre', 'suffixe', 'particulièrement', 'figue', 'peur', 'énorme', 'sœur', 'acier', 'discuter', 'avant', 'similaire', 'guider', 'expérience', 'score', 'pomme', 'acheté', 'LED', 'pas', 'manteau', 'masse', 'carte', 'bande', 'corde', 'glissement', 'gagner', 'rêver', 'soirée', 'condition', 'alimentation', 'outil', 'total', 'de base', 'odeur', 'vallée', 'ni', 'double', 'siège', 'continuer', 'bloc', 'graphique', 'chapeau', 'vendre', 'succès', 'entreprise', 'soustraire', 'événement', 'particulier', 'accord', 'baignade', 'terme', 'opposé', 'femme', 'chaussure', 'épaule', 'propagation', 'organiser', 'camp', 'inventer', 'coton', 'né', 'déterminer', 'litre', 'neuf', 'camion', 'bruit', 'niveau', 'chance', 'recueillir', 'boutique', 'tronçon', 'jeter', 'éclat', 'propriété', 'colonne', 'molécule', 'sélectionner', 'mal', 'gris', 'répétition', 'exiger', 'large', 'préparer', 'sel', 'nez', 'pluriel', 'colère', 'revendication']"
   ]
  },
  {
   "cell_type": "code",
   "execution_count": 2,
   "metadata": {},
   "outputs": [],
   "source": [
    "por = ['como', 'I', 'seu', 'que', 'ele', 'foi', 'para', 'em', 'são', 'com', 'eles', 'ser', 'em', 'uma', 'tem', 'este', 'a partir de', 'por', 'quente', 'palavra', 'mas', 'o que', 'alguns', 'é', 'ele', 'você', 'ou', 'teve', 'o', 'de', 'a', 'e', 'uma', 'em', 'nós', 'lata', 'fora', 'outro', 'foram', 'que', 'fazer', 'seu', 'tempo', 'se', 'vontade', 'como', 'disse', 'uma', 'cada', 'dizer', 'faz', 'conjunto', 'três', 'quer', 'ar', 'bem', 'também', 'jogar', 'pequeno', 'fim', 'colocar', 'casa', 'ler', 'mão', 'port', 'grande', 'soletrar', 'adicionar', 'mesmo', 'terra', 'aqui', 'necessário', 'grande', 'alto', 'tais', 'siga', 'ato', 'por que', 'perguntar', 'homens', 'mudança', 'fui', 'luz', 'tipo', 'off', 'precisa', 'casa', 'imagem', 'tentar', 'nós', 'novamente', 'animais', 'ponto', 'mãe', 'mundo', 'perto', 'construir', 'auto', 'terra', 'pai', 'qualquer', 'novo', 'trabalho', 'parte', 'tomar', 'obter', 'lugar', 'feito', 'viver', 'onde', 'depois', 'de volta', 'pouco', 'apenas', 'rodada', 'homem', 'ano', 'veio', 'exposição', 'cada', 'bom', 'me', 'dar', 'nossa', 'sob', 'nome', 'muito', 'através', 'justo', 'forma', 'sentença', 'grande', 'acho que', 'dizer', 'ajudar', 'baixo', 'linha', 'diferir', 'vez', 'causa', 'muito', 'significar', 'antes', 'mudança', 'direito', 'menino', 'velho', 'também', 'mesmo', 'ela', 'tudo', 'lá', 'quando', 'up', 'usar', 'seu', 'maneira', 'sobre', 'muitos', 'depois', 'eles', 'escrever', 'faria', 'como', 'assim', 'estes', 'seu', 'longo', 'fazer', 'coisa', 'veja', 'ele', 'dois', 'tem', 'olhar', 'mais', 'dia', 'poderia', 'ir', 'vir', 'fez', 'número', 'som', 'não', 'mais', 'pessoas', 'meu', 'sobre', 'sei', 'água', 'que', 'chamada', 'primeiro', 'que', 'pode', 'para baixo', 'lado', 'sido', 'agora', 'encontrar', 'cabeça', 'ficar', 'próprio', 'página', 'deveria', 'país', 'encontrado', 'resposta', 'escola', 'crescer', 'estudo', 'ainda', 'aprender', 'planta', 'cobertura', 'alimentos', 'sol', 'quatro', 'entre', 'estado', 'manter', 'olho', 'nunca', 'último', 'deixar', 'pensava', 'cidade', 'árvore', 'atravessar', 'fazenda', 'difícil', 'começo', 'poder', 'história', 'serra', 'longe', 'mar', 'desenhar', 'esquerda', 'tarde', 'run', 'não', 'enquanto', 'imprensa', 'perto', 'noite', 'reais', 'vida', 'poucos', 'norte', 'livro', 'carregam', 'tomou', 'ciência', 'comer', 'quarto', 'amigo', 'começou', 'idéia', 'peixe', 'montanha', 'Pare', 'uma vez', 'base', 'ouvir', 'cavalo', 'corte', 'certo', 'assista', 'cor', 'rosto', 'madeira', 'principal', 'aberto', 'parecem', 'juntos', 'próximo', 'branco', 'crianças', 'início', 'tem', 'andar', 'exemplo', 'facilidade', 'papel', 'grupo', 'sempre', 'música', 'aqueles', 'tanto', 'marca', 'muitas vezes', 'carta', 'até', 'milha', 'rio', 'carro', 'pés', 'cuidados', 'segunda', 'suficiente', 'plain', 'menina', 'habitual', 'jovem', 'pronto', 'acima', 'sempre', 'vermelho', 'lista', 'embora', 'sentir', 'Discussão', 'pássaro', 'em breve', 'corpo', 'cão', 'família', 'direto', 'representar', 'deixar', 'canção', 'medir', 'porta', 'produto', 'preto', 'curta', 'numeral', 'classe', 'vento', 'pergunta', 'acontecer', 'completo', 'navio', 'área', 'metade', 'rocha', 'ordem', 'fogo', 'sul', 'problema', 'peça', 'disse', 'sabia', 'passar', 'desde', 'topo', 'inteiro', 'rei', 'rua', 'polegada', 'multiplicar', 'nada', 'curso', 'ficar', 'roda', 'completo', 'força', 'azul', 'objeto', 'decidir', 'superfície', 'profunda', 'lua', 'ilha', 'pé', 'sistema', 'ocupado', 'teste', 'registro', 'barco', 'comum', 'ouro', 'possível', 'avião', 'lugar', 'seca', 'pergunto', 'risada', 'mil', 'atrás', 'ran', 'verifique', 'jogo', 'forma', 'equiparar', 'quente', 'senhorita', 'trouxe', 'calor', 'neve', 'pneu', 'trazer', 'sim', 'distante', 'preencher', 'leste', 'pintar', 'linguagem', 'entre', 'unidade', 'poder', 'cidade', 'multa', 'certo', 'voar', 'cair', 'conduzir', 'grito', 'escuro', 'máquina', 'nota', 'esperar', 'plano', 'figura', 'estrela', 'caixa', 'substantivo', 'campo', 'resto', 'correto', 'capaz', 'libra', 'done', 'beleza', 'unidade', 'se', 'contêm', 'frente', 'ensinar', 'semana', 'finais', 'deu', 'verde', 'ó', 'rápida', 'desenvolver', 'oceano', 'quente', 'livre', 'minuto', 'forte', 'especial', 'mente', 'atrás', 'claro', 'cauda', 'produzir', 'fato', 'espaço', 'ouvido', 'melhor', 'horas', 'melhor', 'verdade', 'durante', 'cem', 'cinco', 'lembre-se', 'passo', 'cedo', 'segurar', 'oeste', 'solo', 'juros', 'alcançar', 'rápido', 'verbo', 'cantar', 'ouça', 'seis', 'mesa', 'viagens', 'menos', 'manhã', 'dez', 'simples', 'vários', 'vogal', 'direção', 'guerra', 'lay', 'contra', 'padrão', 'lento', 'centro', 'amo', 'pessoa', 'dinheiro', 'servir', 'aparecer', 'estrada', 'mapa', 'chuva', 'regra', 'governar', 'puxe', 'frio', 'aviso', 'voz', 'energia', 'caça', 'provável', 'cama', 'irmão', 'ovo', 'passeio', 'celular', 'acreditar', 'talvez', 'escolher', 'súbita', 'contar', 'quadrado', 'razão', 'comprimento', 'representar', 'arte', 'assunto', 'região', 'tamanho', 'variar', 'resolver', 'falar', 'peso', 'geral', 'gelo', 'assunto', 'círculo', 'par', 'incluir', 'dividir', 'sílaba', 'sentido', 'grande', 'bola', 'ainda', 'onda', 'cair', 'coração', 'am', 'presente', 'pesado', 'dança', 'motor', 'posição', 'braço', 'ampla', 'vela', 'material de', 'fração', 'floresta', 'sentar-se', 'corrida', 'janela', 'loja', 'verão', 'trem', 'sono', 'provar', 'solitário', 'perna', 'exercício', 'parede', 'captura', 'mount', 'desejo', 'céu', 'conselho', 'alegria', 'inverno', 'sat', 'escrito', 'selvagem', 'instrumento', 'guardado', 'vidro', 'grama', 'vaca', 'trabalho', 'borda', 'sinal', 'visita', 'passado', 'suave', 'diversão', 'brilhante', 'gás', 'tempo', 'mês', 'milhão', 'suportar', 'acabamento', 'feliz', 'Esperamos', 'flor', 'vestir', 'estranho', 'gone', 'comércio', 'melodia', 'viagem', 'escritório', 'receber', 'linha', 'boca', 'exata', 'símbolo', 'morrer', 'menos', 'dificuldade', 'grito', 'exceto', 'escreveu', 'semente', 'tom', 'juntar-se', 'sugerir', 'limpo', 'pausa', 'senhora', 'quintal', 'subir', 'ruim', 'golpe', 'óleo', 'sangue', 'tocar', 'cresceu', 'cento', 'misturar', 'equipe', 'fio', 'custo', 'perdido', 'marrom', 'desgaste', 'jardim', 'igual', 'enviado', 'escolher', 'caiu', 'caber', 'fluir', 'feira', 'banco', 'recolher', 'salvar', 'controle', 'decimal', 'ouvido', 'mais', 'bastante', 'quebrado', 'caso', 'meio', 'matar', 'filho', 'lago', 'momento', 'escala', 'alto', 'primavera', 'observar', 'criança', 'reta', 'consoante', 'nação', 'dicionário', 'leite', 'velocidade', 'método', 'órgão', 'pagar', 'idade', 'seção', 'vestido', 'nuvem', 'surpresa', 'calma', 'pedra', 'minúsculo', 'subida', 'legal', 'projeto', 'pobre', 'muito', 'experiência', 'inferior', 'chave', 'ferro', 'único', 'vara', 'plana', 'vinte', 'pele', 'sorriso', 'vinco', 'buraco', 'saltar', 'bebê', 'oito', 'aldeia', 'meet', 'raiz', 'comprar', 'levantar', 'resolver', 'de metal', 'se', 'empurre', 'sete', 'parágrafo', 'terceiro', 'deve', 'held', 'cabelo', 'descrever', 'cozinheiro', 'piso', 'ou', 'resultado', 'queimar', 'hill', 'seguro', 'cat', 'século', 'considerar', 'tipo', 'direito', 'bit', 'costa', 'cópia', 'frase', 'silenciosa', 'alto', 'areia', 'solo', 'rolo', 'temperatura', 'dedo', 'indústria', 'valor', 'luta', 'mentira', 'bater', 'excitar', 'naturais', 'vista', 'sentido', 'Capital', 'não vai', 'cadeira', 'perigo', 'frutas', 'rico', 'grossa', 'soldado', 'processo', 'operar', 'prática', 'separado', 'difícil', 'médico', 'por favor', 'proteger', 'meio-dia', 'colheita', 'moderno', 'elemento', 'acertar', 'estudante', 'canto', 'festa', 'fornecimento', 'cuja', 'localizar', 'anel', 'caráter', 'inseto', 'capturados', 'período', 'indicam', 'rádio', 'falou', 'átomo', 'humano', 'história', 'efeito', 'elétrica', 'esperar', 'osso', 'trilho', 'imaginar', 'fornecer', 'concordar', 'assim', 'suave', 'mulher', 'capitão', 'acho que', 'necessário', 'sharp', 'asa', 'criar', 'vizinho', 'lavagem', 'bat', 'vez', 'multidão', 'milho', 'comparar', 'poema', 'corda', 'sino', 'dependem', 'carne', 'esfregar', 'tubo', 'famoso', 'dólar', 'córrego', 'medo', 'vista', 'fina', 'triângulo', 'planeta', 'apressar', 'chefe', 'colônia', 'relógio', 'mina', 'amarrar', 'introduzir', 'maior', 'fresco', 'pesquisa', 'enviar', 'amarelo', 'pistola', 'permitir', 'impressão', 'morto', 'local', 'deserto', 'terno', 'atual', 'elevador', 'aumentou', 'chegar', 'mestre', 'trilha', 'pai', 'costa', 'divisão', 'folha', 'substância', 'favorecer', 'conectar', 'pós', 'passar', 'acorde', 'gordura', 'feliz', 'original', 'share', 'estação', 'pai', 'pão', 'cobrar', 'adequada', 'bar', 'oferta', 'segmento', 'escravo', 'pato', 'instant', 'mercado', 'grau', 'preencher', 'pinto', 'caro', 'inimigo', 'responder', 'bebida', 'ocorrer', 'apoio', 'discurso', 'natureza', 'gama', 'vapor', 'movimento', 'caminho', 'líquido', 'log', 'significava', 'quociente', 'dentes', 'casca', 'pescoço', 'oxigênio', 'açúcar', 'morte', 'bastante', 'habilidade', 'mulheres', 'temporada', 'solução', 'ímã', 'prata', 'obrigado', 'ramo', 'jogo', 'sufixo', 'especialmente', 'figo', 'medo', 'enorme', 'irmã', 'aço', 'discutir', 'para a frente', 'similar', 'orientar', 'experiência', 'contagem', 'maçã', 'comprou', 'conduziu', 'campo', 'casaco', 'massa', 'cartão', 'banda', 'corda', 'deslizamento', 'vitória', 'sonhar', 'noite', 'condição', 'alimentação', 'ferramenta', 'total de', 'básico', 'cheiro', 'vale', 'nem', 'duplo', 'assento', 'continuar', 'bloco', 'gráfico', 'chapéu', 'vender', 'sucesso', 'companhia', 'subtrair', 'evento', 'especial', 'negócio', 'mergulho', 'prazo', 'oposto', 'esposa', 'sapato', 'ombro', 'propagação', 'organizar', 'acampamento', 'inventar', 'algodão', 'Nascido', 'determinar', 'quarto', 'nove', 'caminhão', 'ruído', 'nível', 'oportunidade', 'recolher', 'loja', 'trecho', 'jogar', 'brilho', 'propriedade', 'coluna', 'molécula', 'selecione', 'errado', 'cinza', 'repetição', 'exigir', 'amplo', 'preparar', 'sal', 'nariz', 'plural', 'raiva', 'reivindicação', 'continente']"
   ]
  },
  {
   "cell_type": "code",
   "execution_count": 3,
   "metadata": {},
   "outputs": [],
   "source": [
    "tur = ['olarak', 'ben', 'onun', 'diye', 'oldu', 'için', 'üzerinde', 'vardır', 'ile', 'onlar', 'olmak', 'bir', 'Bu', 'dan', 'tarafından', 'sıcak', 'kelime', 'ancak', 'ne', 'bazı', 'olduğunu', 'sen', 'veya', 'vardı', 'arasında', 'karşı', 've', 'bir', 'içinde', 'biz', 'üzerinden', 'diğer', 'vardı', 'hangi', 'onların', 'zaman', 'eğer', 'olacak', 'nasıl', 'dedi', 'bir', 'söyle', 'yok', 'üç', 'istiyorum', 'hava', 'iyi', 'ayrıca', 'oynamak', 'küçük', 'koymak', 'ev', 'okumak', 'el', 'liman', 'büyük', 'büyü', 'ekleyin', 'hatta', 'arazi', 'burada', 'gerekir', 'büyük', 'yüksek', 'böyle', 'izleyin', 'hareket', 'neden', 'sormak', 'erkekler', 'değişim', 'gitti', 'ışık', 'tür', 'kapalı', 'gerek', 'ev', 'resim', 'denemek', 'bizi', 'tekrar', 'hayvan', 'nokta', 'anne', 'dünya', 'yakın', 'inşa etmek', 'öz', 'toprak', 'baba', 'herhangi bir', 'yeni', 'iş', 'bölüm', 'almak', 'olsun', 'yer', 'yapılan', 'canlı', 'nerede', 'sonra', 'geri', 'küçük', 'sadece', 'yuvarlak', 'adam', 'yıl', 'geldi', 'gösterisi', 'her', 'iyi', 'bana', 'vermek', 'bizim', 'altında', 'adı', 'çok', 'ile', 'sadece', 'formu', 'cümle', 'büyük', 'düşünmek', 'demek', 'yardım', 'düşük', 'farklı', 'dönüş', 'neden', 'çok', 'Yani', 'önce', 'hareket', 'sağ', 'çocuk', 'eski', 'çok', 'aynı', 'diye', 'tüm', 'orada', 'zaman', 'yukarı', 'Kullanım', 'senin', 'yol', 'hakkında', 'birçok', 'o zaman', 'onları', 'yazmak', 'gibi', 'bu yüzden', 'bu', 'onu', 'uzun', 'yapmak', 'şey', 'görmek', 'onu', 'iki', 'var', 'bak', 'daha fazla', 'gün', 'olabilir', 'gitmek', 'gel', 'yaptım', 'numarası', 'ses', 'hayır', 'en', 'insanlar', 'benim', 'üzerinde', 'bilmek', 'su', 'daha', 'çağrı', 'ilk', 'kim', 'aşağı', 'yan', 'oldu', 'Şimdi', 'bulmak', 'kafa', 'standı', 'kendi', 'sayfa', 'gerekir', 'ülke', 'bulundu', 'cevap', 'okul', 'büyümek', 'çalışma', 'hala', 'öğrenmek', 'bitki', 'kapak', 'gıda', 'güneş', 'dört', 'arasında', 'devlet', 'tutmak', 'göz', 'asla', 'son', 'düşünce', 'Şehir', 'ağaç', 'çapraz', 'çiftlik', 'sert', 'başlangıç', 'olabilir', 'hikaye', 'testere', 'kadar', 'deniz', 'çizmek', 'sol', 'geç', 'yapamaz', 'süre', 'basın', 'yakın', 'gece', 'gerçek', 'hayat', 'az', 'kuzey', 'kitap', 'taşımak', 'aldı', 'bilim', 'yemek', 'oda', 'arkadaşı', 'başladı', 'fikir', 'balık', 'dağ', 'dur', 'bir kez', 'baz', 'duymak', 'at', 'kesim', 'emin', 'izle', 'renk', 'yüz', 'ahşap', 'ana', 'açık', 'görünmek', 'birlikte', 'sonraki', 'beyaz', 'çocuk', 'başla', 'var', 'yürümek', 'örnek', 'kolaylığı', 'kâğıt', 'grup', 'her zaman', 'müzik', 'bu', 'her ikisi de', 'işareti', 'sık sık', 'mektup', 'kadar', 'kilometre', 'nehir', 'araba', 'ayaklar', 'bakım', 'ikinci', 'yeterli', 'düz', 'kız', 'olağan', 'genç', 'hazır', 'yukarıdaki', 'hiç', 'kırmızı', 'listesi', 'olsa', 'hissetmek', 'tartışma', 'kuş', 'yakında', 'vücut', 'köpek', 'aile', 'doğrudan', 'poz', 'bırakın', 'şarkı', 'ölçmek', 'kapı', 'ürün', 'siyah', 'kısa', 'rakam', 'sınıf', 'rüzgar', 'soru', 'olur', 'komple', 'gemi', 'alan', 'yarım', 'kaya', 'sipariş', 'yangın', 'güney', 'sorun', 'parça', 'söyledi', 'biliyordu', 'geçmek', 'beri', 'üst', 'bütün', 'kral', 'sokak', 'inch', 'çarpmak', 'hiçbir şey', 'ders', 'kalmak', 'tekerlek', 'tam', 'kuvvet', 'mavi', 'nesne', 'karar vermek', 'yüzey', 'derin', 'ada', 'ayak', 'sistem', 'meşgul', 'Test', 'kayıt', 'tekne', 'ortak', 'altın', 'mümkün', 'düzlem', 'başkasının yeri', 'kuru', 'acaba', 'gülmek', 'bin', 'önce', 'koştu', 'kontrol', 'oyunu', 'şekil', 'eşit', 'sıcak', 'özledim', 'getirdi', 'ısı', 'kar', 'lastik', 'getirmek', 'evet', 'uzak', 'doldurun', 'doğu', 'boya', 'dil', 'arasında', 'ünitesi', 'güç', 'kasaba', 'ince', 'belirli', 'uçmak', 'düşmek', 'kurşun', 'ağlamak', 'karanlık', 'makine', 'notu', 'bekleyin', 'planı', 'rakam', 'yıldız', 'kutu', 'i', 'alan', 'gerisi', 'doğru', 'yetenekli', 'kiloluk', 'bitti', 'güzellik', 'sürücü', 'durdu', 'içeren', 'ön', 'öğretmek', 'hafta', 'nihai', 'verdi', 'yeşil', 'hızlı', 'geliştirmek', 'okyanus', 'sıcak', 'ücretsiz', 'dakika', 'güçlü', 'özel', 'zihin', 'arkasında', 'açık', 'kuyruk', 'üretmek', 'gerçek', 'uzay', 'duydum', 'en iyi', 'saat', 'daha iyi', 'gerçek', 'sırasında', 'yüz', 'beş', 'hatırlıyorum', 'adım', 'erken', 'tutun', 'batı', 'zemin', 'faiz', 'ulaşmak', 'hızlı', 'fiil', 'şarkı söylemek', 'dinle', 'altı', 'tablo', 'seyahat', 'daha az', 'sabah', 'basit', 'birkaç', 'ünlü', 'doğru', 'savaş', 'koymak', 'karşı', 'desen', 'yavaş', 'merkezi', 'aşk', 'kişi', 'para', 'hizmet', 'görünür', 'yol', 'harita', 'yağmur', 'kural', 'idare', 'Çek', 'soğuk', 'haber', 'ses', 'enerji', 'avı', 'muhtemel', 'yatak', 'kardeş', 'yumurta', 'binmek', 'hücre', 'inanıyorum', 'belki', 'seçmek', 'ani', 'saymak', 'kare', 'neden', 'uzunluk', 'temsil', 'sanat', 'konu', 'bölge', 'boyut', 'değiştirmek', 'yerleşmek', 'konuşmak', 'ağırlık', 'genel', 'buz', 'madde', 'daire', 'çifti', 'dahil', 'bölmek', 'hece', 'keçe', 'büyük', 'henüz', 'dalga', 'bırakın', 'kalp', 'duyuyorum', 'mevcut', 'ağır', 'dans', 'pozisyon', 'kol', 'geniş', 'yelken', 'materyal', 'kesir', 'orman', 'oturmak', 'yarış', 'penceresi', 'mağaza', 'yaz', 'tren', 'uyku', 'kanıtlamak', 'yalnız', 'bacak', 'egzersiz', 'duvar', 'dağ', 'dilek', 'gökyüzü', 'kurulu', 'sevinç', 'kış', 'Cts', 'yazılı', 'vahşi', 'enstrüman', 'tuttu', 'cam', 'çim', 'inek', 'iş', 'kenar', 'işareti', 'ziyareti', 'geçmiş', 'yumuşak', 'eğlenceli', 'parlak', 'gaz', 'hava', 'ay', 'milyon', 'ayı', 'bitirmek', 'mutlu', 'umut', 'çiçek', 'giydirmek', 'garip', 'gitti', 'ticaret', 'melodi', 'gezi', 'ofis', 'almak', 'satır', 'ağız', 'tam', 'sembol', 'ölmek', 'en az', 'sorun', 'bağırmak', 'hariç', 'yazdı', 'tohum', 'sesi', 'katılmak', 'önermek', 'temiz', 'molası', 'bayan', 'yarda', 'yükselecek', 'kötü', 'darbe', 'yağ', 'kan', 'dokunma', 'büyüdü', 'yüzde', 'karıştırmak', 'takım', 'tel', 'maliyet', 'kaybetti', 'kahverengi', 'giymek', 'bahçe', 'eşit', 'gönderildi', 'seçim', 'düştü', 'uygun', 'akış', 'adil', 'banka', 'toplamak', 'kaydetmek', 'kontrolü', 'ondalık', 'kulak', 'başka', 'oldukça', 'kırdı', 'dava', 'orta', 'öldürmek', 'oğlu', 'göl', 'an', 'ölçek', 'yüksek sesle', 'bahar', 'gözlemlemek', 'çocuk', 'düz', 'ünsüz', 'ulus', 'Sözlük', 'süt', 'hız', 'yöntem', 'Organ', 'ödeme', 'yaş', 'bölüm', 'elbise', 'bulut', 'sürpriz', 'sessiz', 'taş', 'küçücük', 'tırmanış', 'serin', 'dizayn', 'kötü', 'çok', 'deneme', 'alt', 'anahtar', 'demir', 'tek', 'sopa', 'düz', 'yirmi', 'cilt', 'gülümseme', 'kırışık', 'delik', 'atlama', 'bebek', 'sekiz', 'köy', 'karşılamak', 'kök', 'satın', 'yükseltmek', 'çözmek', 'olsun', 'yedi', 'paragraf', 'üçüncü', 'Shall', 'tutulan', 'saç', 'tanımlamak', 'aşçı', 'zemin', 'ya da', 'sonuç', 'yanmak', 'tepe', 'güvenli', 'kedi', 'yüzyıl', 'düşünmek', 'tipi', 'hukuk', 'sahil', 'kopya', 'ifade', 'sessiz', 'uzun boylu', 'kum', 'toprak', 'rulo', 'sıcaklık', 'parmak', 'sanayi', 'değeri', 'kavga', 'yalan', 'yendi', 'heyecanlandırmak', 'doğal', 'görünüm', 'sermaye', 'olmaz', 'sandalye', 'tehlike', 'meyve', 'zengin', 'kalın', 'asker', 'süreç', 'işletmek', 'uygulama', 'ayrı', 'zor', 'doktor', 'lütfen', 'korumak', 'öğlen', 'kırpma', 'çağdaş', 'eleman', 'vurmak', 'öğrenci', 'köşe', 'parti', 'besleme', 'kimin', 'yerleştirmek', 'halka', 'karakter', 'böcek', 'yakalandı', 'dönemi', 'göstermektedir', 'radyo', 'konuştu', 'atomudur', 'insan', 'geçmişi', 'etkisi', 'elektrik', 'bekliyoruz', 'kemik', 'demiryolu', 'hayal', 'sağlamak', 'katılıyorum', 'böylece', 'nazik', 'kadın', 'kaptan', 'sanırım', 'gerekli', 'keskin', 'kanat', 'oluşturmak', 'komşu', 'yıkama', 'yarasa', 'yerine', 'kalabalık', 'mısır', 'karşılaştırma', 'şiir', 'dize', 'çan', 'bağlı', 'et', 'ovmak', 'tüp', 'ünlü', 'dolar', 'akışı', 'korku', 'görüş', 'ince', 'üçgen', 'gezegen', 'acele', 'baş', 'koloni', 'saat', 'mayın', 'kravat', 'girin', 'büyük', 'taze', 'arama', 'göndermek', 'sarı', 'izin', 'baskı', 'ölü', 'nokta', 'çöl', 'takım elbise', 'akım', 'asansör', 'gül', 'varmak', 'usta', 'iz', 'ebeveyn', 'kıyı', 'bölünme', 'levha', 'madde', 'iyilik', 'bağlamak', 'sonrası', 'harcamak', 'akor', 'şişman', 'memnun', 'orijinal', 'payı', 'istasyon', 'baba', 'ekmek', 'şarj', 'uygun', 'teklif', 'segmenti', 'köle', 'ördek', 'anlık', 'pazar', 'derecesi', 'doldurmak', 'civciv', 'sevgili', 'düşman', 'cevap', 'içki', 'meydana', 'destek', 'konuşma', 'doğa', 'aralığı', 'buhar', 'hareket', 'yol', 'sıvı', 'log', 'demek', 'bölüm', 'dişler', 'kabuk', 'boyun', 'oksijen', 'şeker', 'ölüm', 'güzel', 'beceri', 'kadın', 'sezon', 'çözüm', 'mıknatıs', 'gümüş', 'teşekkür ederim', 'şube', 'maç', 'sonek', 'özellikle', 'incir', 'korkuyor', 'büyük', 'kardeş', 'çelik', 'tartışmak', 'ileri', 'benzer', 'kılavuz', 'deneyim', 'puan', 'elma', 'satın aldı', 'açtı', 'zift', 'ceket', 'kitle', 'kart', 'bant', 'halat', 'kayma', 'rüya', 'akşam', 'durumu', 'beslemek', 'aracı', 'toplam', 'temel', 'koku', 'vadi', 'ne', 'çift', 'koltuk', 'devam etmek', 'bloğu', 'grafiği', 'şapka', 'satmak', 'başarı', 'şirket', 'çıkarmak', 'olay', 'özellikle', 'anlaşma', 'yüzmek', 'vadeli', 'karşısında', 'karısı', 'ayakkabı', 'omuz', 'yaymak', 'düzenlemek', 'kamp', 'icat', 'pamuk', 'doğmuş', 'belirlemek', 'kuart', 'dokuz', 'kamyon', 'gürültü', 'seviyesi', 'şans', 'toplamak', 'dükkan', 'streç', 'atmak', 'parlaklık', 'mülkiyet', 'sütun', 'molekülü', 'seçin', 'yanlış', 'gri', 'tekrar', 'gerektirir', 'geniş', 'hazırlamak', 'tuz', 'burun', 'çoğul', 'öfke', 'iddia', 'kıta']"
   ]
  },
  {
   "cell_type": "code",
   "execution_count": 4,
   "metadata": {},
   "outputs": [],
   "source": [
    "ger = ['wie', 'ich', 'seine', 'dass', 'er', 'war', 'für', 'auf', 'sind', 'mit', 'sie', 'sein', 'bei', 'ein', 'haben', 'dies', 'aus', 'durch', 'heiß', 'Wort', 'aber', 'was', 'einige', 'ist', 'es', 'Sie', 'oder', 'hatte', 'die', 'von', 'zu', 'und', 'ein', 'bei', 'wir', 'können', 'aus', 'andere', 'waren', 'die', 'tun', 'ihre', 'Zeit', 'wenn', 'werden', 'wie', 'sagte', 'ein', 'jeder', 'sagen', 'tut', 'Satz', 'drei', 'wollen', 'Luft', 'gut', 'auch', 'spielen', 'klein', 'Ende', 'setzen', 'Zuhause', 'lesen', 'seits', 'Hafen', 'groß', 'buchstabieren', 'hinzufügen', 'auch', 'Lande', 'hier', 'muss', 'groß', 'hoch', 'so', 'folgen', 'Akt', 'warum', 'fragen', 'Männer', 'Veränderung', 'ging', 'Licht', 'Art', 'aus', 'müssen', 'Haus', 'Bild', 'versuchen', 'uns', 'wieder', 'Tier', 'Punkt', 'Mutter', 'Welt', 'in der Nähe von', 'bauen', 'selbst', 'Erde', 'Vater', 'jeder', 'neu', 'Arbeit', 'Teil', 'nehmen', 'erhalten', 'Ort', 'gemacht', 'leben', 'wo', 'nach', 'zurück', 'wenig', 'nur', 'Runde', 'Mann', 'Jahr', 'kam', 'zeigen', 'jeder', 'gut', 'mir', 'geben', 'unsere', 'unter', 'Name', 'sehr', 'durch', 'nur', 'Formular', 'Satz', 'groß', 'denken', 'sagen', 'Hilfe', 'niedrig', 'Linie', 'abweichen', 'wiederum', 'Ursache', 'viel', 'bedeuten', 'vor', 'Umzug', 'Recht', 'Junge', 'alt', 'zu', 'gleich', 'sie', 'alle', 'da', 'wenn', 'nach oben', 'Verwendung', 'Ihre', 'Weg', 'über', 'viele', 'dann', 'sie', 'schreiben', 'würde', 'wie', 'so', 'diese', 'sie', 'lange', 'machen', 'Sache', 'sehen', 'ihm', 'zwei', 'hat', 'suchen', 'mehr', 'Tag', 'könnte', 'gehen', 'kommen', 'tat', 'Anzahl', 'klingen', 'nicht', 'am meisten', 'Menschen', 'meine', 'über', 'wissen', 'Wasser', 'als', 'Anruf', 'erste', 'die', 'können', 'nach unten', 'Seite', 'gewesen', 'jetzt', 'finden', 'Kopf', 'stehen', 'besitzen', 'Seite', 'sollte', 'Land', 'gefunden', 'Antwort', 'Schule', 'wachsen', 'Studie', 'noch', 'lernen', 'Anlage', 'Abdeckung', 'Lebensmittel', 'Sonne', 'vier', 'zwischen', 'Zustand', 'halten', 'Auge', 'nie', 'letzte', 'lassen', 'Gedanken', 'Stadt', 'Baum', 'überqueren', 'Bauernhof', 'schwer', 'Beginn', 'Macht', 'Geschichte', 'Säge', 'weit', 'Meer', 'ziehen', 'links', 'spät', 'laufen', 'unterlassen Sie', 'während', 'Presse', 'Schließen', 'Nacht', 'realen', 'Leben', 'wenige', 'Norden', 'Buch', 'tragen', 'nahm', 'Wissenschaft', 'essen', 'Zimmer', 'Freund', 'begann', 'Idee', 'Fisch', 'berg', 'Stopp', 'einmal', 'Basis', 'hören', 'Pferd', 'Schnitt', 'sicher', 'beobachten', 'Farbe', 'Gesicht', 'Holz', 'Haupt-', 'geöffnet', 'scheinen', 'zusammen', 'nächste', 'weiß', 'Kinder', 'Start', 'bekam', 'gehen', 'Beispiel', 'erleichtern', 'Papier', 'Gruppe', 'immer', 'Musik', 'diejenigen', 'beide', 'Marke', 'oft', 'Schreiben', 'bis', 'Meile', 'Fluss', 'Auto', 'Füße', 'Pflege', 'zweite', 'genug', 'Ebene', 'Mädchen', 'üblich', 'jung', 'bereit', 'oben', 'je', 'rot', 'Liste', 'obwohl', 'fühlen', 'Vortrag', 'Vogel', 'bald', 'Körper', 'Hund', 'Familie', 'direkt', 'Pose', 'verlassen', 'Lied', 'messen', 'Tür', 'Produkt', 'schwarz', 'kurz', 'Zahl', 'Klasse', 'Wind', 'Frage', 'passieren', 'vollständig', 'Schiff', 'Bereich', 'Hälfte', 'Stein', 'bestellen', 'Feuer', 'Süden', 'Problem', 'Stück', 'sagte', 'wusste', 'passieren', 'seit', 'obere', 'ganze', 'König', 'Straße', 'Zoll', 'multiplizieren', 'nichts', 'Kurs', 'bleiben', 'Rad', 'voll', 'Kraft', 'blau', 'Objekt', 'entscheiden', 'Oberfläche', 'tief', 'Mond', 'Insel', 'Fuß', 'System', 'beschäftigt', 'Prüfung', 'Rekord', 'Boot', 'gemeinsam', 'goldenen', 'möglich', 'Flugzeug', 'statt', 'trocken', 'Wunder', 'Lachen', 'tausend', 'vor', 'lief', 'überprüfen', 'Spiel', 'Form', 'gleichsetzen', 'heiß', 'Fehl', 'gebracht', 'Wärme', 'Schnee', 'Reifen', 'bringen', 'ja', 'entfernt', 'füllen', 'Osten', 'malen', 'Sprache', 'unter', 'Einheit', 'Macht', 'Stadt', 'fein', 'sicher', 'fliegen', 'fallen', 'führen', 'Schrei', 'dunkel', 'Maschine', 'note', 'warten', 'Plan', 'Abbildung', 'Stern', 'Kasten', 'Nomen', 'Feld', 'Rest', 'richtig', 'fähig', 'Pfund', 'getan', 'Schönheit', 'Antriebs', 'stand', 'enthalten', 'Front', 'lehren', 'Woche', 'Finale', 'gab', 'grün', 'oh', 'schnell', 'entwickeln', 'Ozean', 'warme', 'kostenlos', 'Minute', 'stark', 'besondere', 'Geist', 'hinter', 'klar', 'Schwanz', 'produzieren', 'Tatsache', 'Raum', 'gehört', 'beste', 'Stunde', 'besser', 'wahr', 'während', 'hundert', 'fünf', 'merken', 'Schritt', 'früh', 'halten', 'Westen', 'Boden', 'Interesse', 'erreichen', 'schnell', 'Verbum', 'singen', 'hören', 'sechs', 'Tabelle', 'Reise', 'weniger', 'Morgen', 'zehn', 'einfach', 'mehrere', 'Vokal', 'auf', 'Krieg', 'legen', 'gegen', 'Muster', 'schleppend', 'Zentrum', 'Liebe', 'Person', 'Geld', 'dienen', 'erscheinen', 'Straße', 'Karte', 'regen', 'Regel', 'regieren', 'ziehen', 'Kälte', 'Hinweis', 'Stimme', 'Energie', 'Jagd', 'wahrscheinlich', 'Bett', 'Bruder', 'Ei', 'Fahrt', 'Zelle', 'glauben', 'vielleicht', 'pflücken', 'plötzlich', 'zählen', 'Platz', 'Grund', 'Dauer', 'vertreten', 'Kunst', 'Thema', 'Region', 'Größe', 'variieren', 'regeln', 'sprechen', 'Gewicht', 'allgemein', 'Eis', 'Materie', 'Kreis', 'Paar', 'umfassen', 'Kluft', 'Silbe', 'Filz', 'groß', 'Kugel', 'noch', 'Welle', 'fallen', 'Herz', 'Uhr', 'vorhanden', 'schwer', 'Tanz', 'Motor', 'Position', 'Arm', 'breit', 'Segel', 'Material', 'Fraktion', 'Wald', 'sitzen', 'Rennen', 'Fenster', 'Speicher', 'Sommer', 'Zug', 'Schlaf', 'beweisen', 'einsam', 'Bein', 'Übung', 'Wand', 'Fang', 'Berg', 'wünschen', 'Himmel', 'Board', 'Freude', 'Winter', 'sa', 'geschrieben', 'wilden', 'Instrument', 'gehalten', 'Glas', 'Gras', 'Kuh', 'Arbeit', 'Rand', 'Zeichen', 'Besuch', 'Vergangenheit', 'weich', 'Spaß', 'hell', 'Gases', 'Wetter', 'Monat', 'Million', 'tragen', 'Finish', 'glücklich', 'hoffen', 'blume', 'kleiden', 'seltsam', 'Vorbei', 'Handel', 'Melodie', 'Reise', 'Büro', 'empfangen', 'Reihe', 'Mund', 'genau', 'Zeichen', 'sterben', 'am wenigsten', 'Ärger', 'Schrei', 'außer', 'schrieb', 'Samen', 'Ton', 'beitreten', 'vorschlagen', 'sauber', 'Pause', 'Dame', 'Hof', 'steigen', 'schlecht', 'Schlag', 'Öl', 'Blut', 'berühren', 'wuchs', 'Cent', 'mischen', 'Mannschaft', 'Draht', 'Kosten', 'verloren', 'braun', 'tragen', 'Garten', 'gleich', 'gesendet', 'wählen', 'fiel', 'passen', 'fließen', 'Messe', 'Bank', 'sammeln', 'sparen', 'Kontrolle', 'dezimal', 'Ohr', 'sonst', 'ganz', 'pleite', 'Fall', 'Mitte', 'töten', 'Sohn', 'See', 'Moment', 'Maßstab', 'laut', 'Frühling', 'beobachten', 'Kind', 'gerade', 'Konsonant', 'Nation', 'Wörterbuch', 'milch', 'Geschwindigkeit', 'Verfahren', 'Orgel', 'zahlen', 'Alter', 'Abschnitt', 'Kleid', 'Wolke', 'Überraschung', 'ruhig', 'Stein', 'winzig', 'Aufstieg', 'kühlen', 'Entwurf', 'arm', 'Menge', 'Versuch', 'Boden', 'Schlüssel', 'Eisen', 'Einzel', 'Stick', 'Wohnung', 'zwanzig', 'Haut', 'Lächeln', 'Falte', 'Loch', 'springen', 'Kind', 'acht', 'Dorf', 'treffen', 'Wurzel', 'kaufen', 'erhöhen', 'lösen', 'Metall', 'ob', 'drücken', 'sieben', 'Absatz', 'dritte', 'wird', 'Hand', 'Haar', 'beschreiben', 'Koch', 'Boden', 'entweder', 'Ergebnis', 'brennen', 'Hügel', 'sicher', 'Katze', 'Jahrhundert', 'betrachten', 'Typ', 'Gesetz', 'Bit', 'Küste', 'Kopie', 'Ausdruck', 'still', 'hoch', 'Sand', 'Boden', 'Rolle', 'Temperatur', 'Finger', 'Industrie', 'Wert', 'Kampf', 'Lüge', 'schlagen', 'begeistern', 'natürlich', 'Blick', 'Sinn', 'Hauptstadt', 'wird nicht', 'Stuhl', 'Achtung', 'Obst', 'reich', 'dick', 'Soldat', 'Prozess', 'betreiben', 'Praxis', 'trennen', 'schwierig', 'Arzt', 'Bitte', 'schützen', 'Mittag', 'Ernte', 'modernen', 'Elementes', 'treffen', 'Schüler', 'Ecke', 'Partei', 'Versorgung', 'deren', 'lokalisieren', 'Rings', 'Charakter', 'insekt', 'gefangen', 'Zeit', 'zeigen', 'Funk', 'Speiche', 'Atom', 'Mensch', 'Geschichte', 'Wirkung', 'elektrisch', 'erwarten', 'Knochen', 'Schiene', 'vorstellen', 'bieten', 'zustimmen', 'so', 'sanft', 'Frau', 'Kapitän', 'erraten', 'erforderlich', 'scharf', 'Flügel', 'schaffen', 'Nachbar', 'Wasch', 'Fledermaus', 'eher', 'Menge', 'mais', 'vergleichen', 'Gedicht', 'Schnur', 'Glocke', 'abhängen', 'Fleisch', 'einreiben', 'Rohr', 'berühmt', 'Dollar', 'Strom', 'Angst', 'Blick', 'dünn', 'Dreieck', 'Erde', 'Eile', 'Chef', 'Kolonie', 'Uhr', 'Mine', 'Krawatte', 'eingeben', 'Dur', 'frisch', 'Suche', 'senden', 'gelb', 'Pistole', 'erlauben', 'Druck', 'tot', 'Stelle', 'Wüste', 'Anzug', 'Strom', 'Aufzug', 'stiegen', 'ankommen', 'Stamm', 'Spur', 'Elternteil', 'Ufer', 'Teilung', 'Blatt', 'Substanz', 'begünstigen', 'verbinden', 'nach', 'verbringen', 'Akkord', 'Fett', 'froh', 'Original', 'Aktie', 'Station', 'Papa', 'Brot', 'aufladen', 'richtig', 'Leiste', 'Angebot', 'Segment', 'Sklave', 'ente', 'Augenblick', 'Markt', 'Grad', 'besiedeln', 'küken', 'liebe', 'Feind', 'antworten', 'Getränk', 'auftreten', 'Unterstützung', 'Rede', 'Natur', 'Angebot', 'Dampf', 'Bewegung', 'Weg', 'Flüssigkeit', 'protokollieren', 'gemeint', 'Quotient', 'Gebiss', 'Schale', 'Hals', 'Sauerstoff', 'Zucker', 'Tod', 'ziemlich', 'Geschicklichkeit', 'Frauen', 'Saison', 'Lösung', 'Magnet', 'Silber', 'danken', 'Zweig', 'Spiel', 'Suffix', 'insbesondere', 'Feige', 'ängstlich', 'riesig', 'Schwester', 'Stahl', 'diskutieren', 'vorwärts', 'ähnlich', 'führen', 'Erfahrung', 'Partitur', 'apfel', 'gekauft', 'geführt', 'Tonhöhe', 'Mantel', 'Masse', 'Karte', 'Band', 'Seil', 'Rutsch', 'gewinnen', 'träumen', 'Abend', 'Zustand', 'Futtermittel', 'Werkzeug', 'gesamt', 'Basis', 'Geruch', 'Tal', 'noch', 'doppelt', 'Sitz', 'fortsetzen', 'Block', 'Tabelle', 'Hut', 'verkaufen', 'Erfolg', 'Firma', 'subtrahieren', 'Veranstaltung', 'besondere', 'viel', 'schwimmen', 'Begriff', 'Gegenteil', 'Frau', 'Schuh', 'Schulter', 'Verbreitung', 'arrangieren', 'Lager', 'erfinden', 'Baumwolle', 'geboren', 'bestimmen', 'Quart', 'neun', 'Lastwagen', 'Lärm', 'Ebene', 'Chance', 'sammeln', 'Geschäft', 'Stretch', 'werfen', 'Glanz', 'Immobilien', 'Spalte', 'Molekül', 'wählen', 'falsch', 'grau', 'Wiederholung', 'erfordern', 'breit', 'vorbereiten', 'Salz', 'Nase', 'mehreren', 'Zorn', 'Anspruch', 'Kontinent']"
   ]
  },
  {
   "cell_type": "code",
   "execution_count": 5,
   "metadata": {},
   "outputs": [],
   "source": [
    "eng = ['a', 'abandon', 'ability', 'able', 'abortion', 'about', 'above', 'abroad', 'absence', 'absolute', 'absolutely', 'absorb', 'abuse', 'academic', 'accept', 'access', 'accident', 'accompany', 'accomplish', 'according', 'account', 'accurate', 'accuse', 'achieve', 'achievement', 'acid', 'acknowledge', 'acquire', 'across', 'act', 'action', 'active', 'activist', 'activity', 'actor', 'actress', 'actual', 'actually', 'ad', 'adapt', 'add', 'addition', 'additional', 'address', 'adequate', 'adjust', 'adjustment', 'administration', 'administrator', 'admire', 'admission', 'admit', 'adolescent', 'adopt', 'adult', 'advance', 'advanced', 'advantage', 'adventure', 'advertising', 'advice', 'advise', 'adviser', 'advocate', 'affair', 'affect', 'afford', 'afraid', 'African', 'African-American', 'after', 'afternoon', 'again', 'against', 'age', 'agency', 'agenda', 'agent', 'aggressive', 'ago', 'agree', 'agreement', 'agricultural', 'ah', 'ahead', 'aid', 'aide', 'AIDS', 'aim', 'air', 'aircraft', 'airline', 'airport', 'album', 'alcohol', 'alive', 'all', 'alliance', 'allow', 'ally', 'almost', 'alone', 'along', 'already', 'also', 'alter', 'alternative', 'although', 'always', 'AM', 'amazing', 'American', 'among', 'amount', 'analysis', 'analyst', 'analyze', 'ancient', 'and', 'anger', 'angle', 'angry', 'animal', 'anniversary', 'announce', 'annual', 'another', 'answer', 'anticipate', 'anxiety', 'any', 'anybody', 'anymore', 'anyone', 'anything', 'anyway', 'anywhere', 'apart', 'apartment', 'apparent', 'apparently', 'appeal', 'appear', 'appearance', 'apple', 'application', 'apply', 'appoint', 'appointment', 'appreciate', 'approach', 'appropriate', 'approval', 'approve', 'approximately', 'Arab', 'architect', 'area', 'argue', 'argument', 'arise', 'arm', 'armed', 'army', 'around', 'arrange', 'arrangement', 'arrest', 'arrival', 'arrive', 'art', 'article', 'artist', 'artistic', 'as', 'Asian', 'aside', 'ask', 'asleep', 'aspect', 'assault', 'assert', 'assess', 'assessment', 'asset', 'assign', 'assignment', 'assist', 'assistance', 'assistant', 'associate', 'association', 'assume', 'assumption', 'assure', 'at', 'athlete', 'athletic', 'atmosphere', 'attach', 'attack', 'attempt', 'attend', 'attention', 'attitude', 'attorney', 'attract', 'attractive', 'attribute', 'audience', 'author', 'authority', 'auto', 'available', 'average', 'avoid', 'award', 'aware', 'awareness', 'away', 'awful', 'baby', 'back', 'background', 'bad', 'badly', 'bag', 'bake', 'balance', 'ball', 'ban', 'band', 'bank', 'bar', 'barely', 'barrel', 'barrier', 'base', 'baseball', 'basic', 'basically', 'basis', 'basket', 'basketball', 'bathroom', 'battery', 'battle', 'be', 'beach', 'bean', 'bear', 'beat', 'beautiful', 'beauty', 'because', 'become', 'bed', 'bedroom', 'beer', 'before', 'begin', 'beginning', 'behavior', 'behind', 'being', 'belief', 'believe', 'bell', 'belong', 'below', 'belt', 'bench', 'bend', 'beneath', 'benefit', 'beside', 'besides', 'best', 'bet', 'better', 'between', 'beyond', 'Bible', 'big', 'bike', 'bill', 'billion', 'bind', 'biological', 'bird', 'birth', 'birthday', 'bit', 'bite', 'black', 'blade', 'blame', 'blanket', 'blind', 'block', 'blood', 'blow', 'blue', 'board', 'boat', 'body', 'bomb', 'bombing', 'bond', 'bone', 'book', 'boom', 'boot', 'border', 'born', 'borrow', 'boss', 'both', 'bother', 'bottle', 'bottom', 'boundary', 'bowl', 'box', 'boy', 'boyfriend', 'brain', 'branch', 'brand', 'bread', 'break', 'breakfast', 'breast', 'breath', 'breathe', 'brick', 'bridge', 'brief', 'briefly', 'bright', 'brilliant', 'bring', 'British', 'broad', 'broken', 'brother', 'brown', 'brush', 'buck', 'budget', 'build', 'building', 'bullet', 'bunch', 'burden', 'burn', 'bury', 'bus', 'business', 'busy', 'but', 'butter', 'button', 'buy', 'buyer', 'by', 'cabin', 'cabinet', 'cable', 'cake', 'calculate', 'call', 'camera', 'camp', 'campaign', 'campus', 'can', 'Canadian', 'cancer', 'candidate', 'cap', 'capability', 'capable', 'capacity', 'capital', 'captain', 'capture', 'car', 'carbon', 'card', 'care', 'career', 'careful', 'carefully', 'carrier', 'carry', 'case', 'cash', 'cast', 'cat', 'catch', 'category', 'Catholic', 'cause', 'ceiling', 'celebrate', 'celebration', 'celebrity', 'cell', 'center', 'central', 'century', 'CEO', 'ceremony', 'certain', 'certainly', 'chain', 'chair', 'chairman', 'challenge', 'chamber', 'champion', 'championship', 'chance', 'change', 'changing', 'channel', 'chapter', 'character', 'characteristic', 'characterize', 'charge', 'charity', 'chart', 'chase', 'cheap', 'check', 'cheek', 'cheese', 'chef', 'chemical', 'chest', 'chicken', 'chief', 'child', 'childhood', 'Chinese', 'chip', 'chocolate', 'choice', 'cholesterol', 'choose', 'Christian', 'Christmas', 'church', 'cigarette', 'circle', 'circumstance', 'cite', 'citizen', 'city', 'civil', 'civilian', 'claim', 'class', 'classic', 'classroom', 'clean', 'clear', 'clearly', 'client', 'climate', 'climb', 'clinic', 'clinical', 'clock', 'close', 'closely', 'closer', 'clothes', 'clothing', 'cloud', 'club', 'clue', 'cluster', 'coach', 'coal', 'coalition', 'coast', 'coat', 'code', 'coffee', 'cognitive', 'cold', 'collapse', 'colleague', 'collect', 'collection', 'collective', 'college', 'colonial', 'color', 'column', 'combination', 'combine', 'come', 'comedy', 'comfort', 'comfortable', 'command', 'commander', 'comment', 'commercial', 'commission', 'commit', 'commitment', 'committee', 'common', 'communicate', 'communication', 'community', 'company', 'compare', 'comparison', 'compete', 'competition', 'competitive', 'competitor', 'complain', 'complaint', 'complete', 'completely', 'complex', 'complicated', 'component', 'compose', 'composition', 'comprehensive', 'computer', 'concentrate', 'concentration', 'concept', 'concern', 'concerned', 'concert', 'conclude', 'conclusion', 'concrete', 'condition', 'conduct', 'conference', 'confidence', 'confident', 'confirm', 'conflict', 'confront', 'confusion', 'Congress', 'congressional', 'connect', 'connection', 'consciousness', 'consensus', 'consequence', 'conservative', 'consider', 'considerable', 'consideration', 'consist', 'consistent', 'constant', 'constantly', 'constitute', 'constitutional', 'construct', 'construction', 'consultant', 'consume', 'consumer', 'consumption', 'contact', 'contain', 'container', 'contemporary', 'content', 'contest', 'context', 'continue', 'continued', 'contract', 'contrast', 'contribute', 'contribution', 'control', 'controversial', 'controversy', 'convention', 'conventional', 'conversation', 'convert', 'conviction', 'convince', 'cook', 'cookie', 'cooking', 'cool', 'cooperation', 'cop', 'cope', 'copy', 'core', 'corn', 'corner', 'corporate', 'corporation', 'correct', 'correspondent', 'cost', 'cotton', 'couch', 'could', 'council', 'counselor', 'count', 'counter', 'country', 'county', 'couple', 'courage', 'course', 'court', 'cousin', 'cover', 'coverage', 'cow', 'crack', 'craft', 'crash', 'crazy', 'cream', 'create', 'creation', 'creative', 'creature', 'credit', 'crew', 'crime', 'criminal', 'crisis', 'criteria', 'critic', 'critical', 'criticism', 'criticize', 'crop', 'cross', 'crowd', 'crucial', 'cry', 'cultural', 'culture', 'cup', 'curious', 'current', 'currently', 'curriculum', 'custom', 'customer', 'cut', 'cycle', 'dad', 'daily', 'damage', 'dance', 'danger', 'dangerous', 'dare', 'dark', 'darkness', 'data', 'date', 'daughter', 'day', 'dead', 'deal', 'dealer', 'dear', 'death', 'debate', 'debt', 'decade', 'decide', 'decision', 'deck', 'declare', 'decline', 'decrease', 'deep', 'deeply', 'deer', 'defeat', 'defend', 'defendant', 'defense', 'defensive', 'deficit', 'define', 'definitely', 'definition', 'degree', 'delay', 'deliver', 'delivery', 'demand', 'democracy', 'Democrat', 'democratic', 'demonstrate', 'demonstration', 'deny', 'department', 'depend', 'dependent', 'depending', 'depict', 'depression', 'depth', 'deputy', 'derive', 'describe', 'description', 'desert', 'deserve', 'design', 'designer', 'desire', 'desk', 'desperate', 'despite', 'destroy', 'destruction', 'detail', 'detailed', 'detect', 'determine', 'develop', 'developing', 'development', 'device', 'devote', 'dialogue', 'die', 'diet', 'differ', 'difference', 'different', 'differently', 'difficult', 'difficulty', 'dig', 'digital', 'dimension', 'dining', 'dinner', 'direct', 'direction', 'directly', 'director', 'dirt', 'dirty', 'disability', 'disagree', 'disappear', 'disaster', 'discipline', 'discourse', 'discover', 'discovery', 'discrimination', 'discuss', 'discussion', 'disease', 'dish', 'dismiss', 'disorder', 'display', 'dispute', 'distance', 'distant', 'distinct', 'distinction', 'distinguish', 'distribute', 'distribution', 'district', 'diverse', 'diversity', 'divide', 'division', 'divorce', 'DNA', 'do', 'doctor', 'document', 'dog', 'domestic', 'dominant', 'dominate', 'door', 'double', 'doubt', 'down', 'downtown', 'dozen', 'draft', 'drag', 'drama', 'dramatic', 'dramatically', 'draw', 'drawing', 'dream', 'dress', 'drink', 'drive', 'driver', 'drop', 'drug', 'dry', 'due', 'during', 'dust', 'duty', 'each', 'eager', 'ear', 'early', 'earn', 'earnings', 'earth', 'ease', 'easily', 'east', 'eastern', 'easy', 'eat', 'economic', 'economics', 'economist', 'economy', 'edge', 'edition', 'editor', 'educate', 'education', 'educational', 'educator', 'effect', 'effective', 'effectively', 'efficiency', 'efficient', 'effort', 'egg', 'eight', 'either', 'elderly', 'elect', 'election', 'electric', 'electricity', 'electronic', 'element', 'elementary', 'eliminate', 'elite', 'else', 'elsewhere', 'e-mail', 'embrace', 'emerge', 'emergency', 'emission', 'emotion', 'emotional', 'emphasis', 'emphasize', 'employ', 'employee', 'employer', 'employment', 'empty', 'enable', 'encounter', 'encourage', 'end', 'enemy', 'energy', 'enforcement', 'engage', 'engine', 'engineer', 'engineering', 'English', 'enhance', 'enjoy', 'enormous', 'enough', 'ensure', 'enter', 'enterprise', 'entertainment', 'entire', 'entirely', 'entrance', 'entry', 'environment', 'environmental', 'episode', 'equal', 'equally', 'equipment', 'era', 'error', 'escape', 'especially', 'essay', 'essential', 'essentially', 'establish', 'establishment', 'estate', 'estimate', 'etc', 'ethics', 'ethnic', 'European', 'evaluate', 'evaluation', 'even', 'evening', 'event', 'eventually', 'ever', 'every', 'everybody', 'everyday', 'everyone', 'everything', 'everywhere', 'evidence', 'evolution', 'evolve', 'exact', 'exactly', 'examination', 'examine', 'example', 'exceed', 'excellent', 'except', 'exception', 'exchange', 'exciting', 'executive', 'exercise', 'exhibit', 'exhibition', 'exist', 'existence', 'existing', 'expand', 'expansion', 'expect', 'expectation', 'expense', 'expensive', 'experience', 'experiment', 'expert', 'explain', 'explanation', 'explode', 'explore', 'explosion', 'expose', 'exposure', 'express', 'expression', 'extend', 'extension', 'extensive', 'extent', 'external', 'extra', 'extraordinary', 'extreme', 'extremely', 'eye', 'fabric', 'face', 'facility', 'fact', 'factor', 'factory', 'faculty', 'fade', 'fail', 'failure', 'fair', 'fairly', 'faith', 'fall', 'false', 'familiar', 'family', 'famous', 'fan', 'fantasy', 'far', 'farm', 'farmer', 'fashion', 'fast', 'fat', 'fate', 'father', 'fault', 'favor', 'favorite', 'fear', 'feature', 'federal', 'fee', 'feed', 'feel', 'feeling', 'fellow', 'female', 'fence', 'few', 'fewer', 'fiber', 'fiction', 'field', 'fifteen', 'fifth', 'fifty', 'fight', 'fighter', 'fighting', 'figure', 'file', 'fill', 'film', 'final', 'finally', 'finance', 'financial', 'find', 'finding', 'fine', 'finger', 'finish', 'fire', 'firm', 'first', 'fish', 'fishing', 'fit', 'fitness', 'five', 'fix', 'flag', 'flame', 'flat', 'flavor', 'flee', 'flesh', 'flight', 'float', 'floor', 'flow', 'flower', 'fly', 'focus', 'folk', 'follow', 'following', 'food', 'foot', 'football', 'for', 'force', 'foreign', 'forest', 'forever', 'forget', 'form', 'formal', 'formation', 'former', 'formula', 'forth', 'fortune', 'forward', 'found', 'foundation', 'founder', 'four', 'fourth', 'frame', 'framework', 'free', 'freedom', 'freeze', 'French', 'frequency', 'frequent', 'frequently', 'fresh', 'friend', 'friendly', 'friendship', 'from', 'front', 'fruit', 'frustration', 'fuel', 'full', 'fully', 'fun', 'function', 'fund', 'fundamental', 'funding', 'funeral', 'funny', 'furniture', 'furthermore', 'future', 'gain', 'galaxy', 'gallery', 'game', 'gang', 'gap', 'garage', 'garden', 'garlic', 'gas', 'gate', 'gather', 'gay', 'gaze', 'gear', 'gender', 'gene', 'general', 'generally', 'generate', 'generation', 'genetic', 'gentleman', 'gently', 'German', 'gesture', 'get', 'ghost', 'giant', 'gift', 'gifted', 'girl', 'girlfriend', 'give', 'given', 'glad', 'glance', 'glass', 'global', 'glove', 'go', 'goal', 'God', 'gold', 'golden', 'golf', 'good', 'government', 'governor', 'grab', 'grade', 'gradually', 'graduate', 'grain', 'grand', 'grandfather', 'grandmother', 'grant', 'grass', 'grave', 'gray', 'great', 'greatest', 'green', 'grocery', 'ground', 'group', 'grow', 'growing', 'growth', 'guarantee', 'guard', 'guess', 'guest', 'guide', 'guideline', 'guilty', 'gun', 'guy', 'habit', 'habitat', 'hair', 'half', 'hall', 'hand', 'handful', 'handle', 'hang', 'happen', 'happy', 'hard', 'hardly', 'hat', 'hate', 'have', 'he', 'head', 'headline', 'headquarters', 'health', 'healthy', 'hear', 'hearing', 'heart', 'heat', 'heaven', 'heavily', 'heavy', 'heel', 'height', 'helicopter', 'hell', 'hello', 'help', 'helpful', 'her', 'here', 'heritage', 'hero', 'herself', 'hey', 'hi', 'hide', 'high', 'highlight', 'highly', 'highway', 'hill', 'him', 'himself', 'hip', 'hire', 'his', 'historian', 'historic', 'historical', 'history', 'hit', 'hold', 'hole', 'holiday', 'holy', 'home', 'homeless', 'honest', 'honey', 'honor', 'hope', 'horizon', 'horror', 'horse', 'hospital', 'host', 'hot', 'hotel', 'hour', 'house', 'household', 'housing', 'how', 'however', 'huge', 'human', 'humor', 'hundred', 'hungry', 'hunter', 'hunting', 'hurt', 'husband', 'hypothesis', 'I', 'ice', 'idea', 'ideal', 'identification', 'identify', 'identity', 'ie', 'if', 'ignore', 'ill', 'illegal', 'illness', 'illustrate', 'image', 'imagination', 'imagine', 'immediate', 'immediately', 'immigrant', 'immigration', 'impact', 'implement', 'implication', 'imply', 'importance', 'important', 'impose', 'impossible', 'impress', 'impression', 'impressive', 'improve', 'improvement', 'in', 'incentive', 'incident', 'include', 'including', 'income', 'incorporate', 'increase', 'increased', 'increasing', 'increasingly', 'incredible', 'indeed', 'independence', 'independent', 'index', 'Indian', 'indicate', 'indication', 'individual', 'industrial', 'industry', 'infant', 'infection', 'inflation', 'influence', 'inform', 'information', 'ingredient', 'initial', 'initially', 'initiative', 'injury', 'inner', 'innocent', 'inquiry', 'inside', 'insight', 'insist', 'inspire', 'install', 'instance', 'instead', 'institution', 'institutional', 'instruction', 'instructor', 'instrument', 'insurance', 'intellectual', 'intelligence', 'intend', 'intense', 'intensity', 'intention', 'interaction', 'interest', 'interested', 'interesting', 'internal', 'international', 'Internet', 'interpret', 'interpretation', 'intervention', 'interview', 'into', 'introduce', 'introduction', 'invasion', 'invest', 'investigate', 'investigation', 'investigator', 'investment', 'investor', 'invite', 'involve', 'involved', 'involvement', 'Iraqi', 'Irish', 'iron', 'Islamic', 'island', 'Israeli', 'issue', 'it', 'Italian', 'item', 'its', 'itself', 'jacket', 'jail', 'Japanese', 'jet', 'Jew', 'Jewish', 'job', 'join', 'joint', 'joke', 'journal', 'journalist', 'journey', 'joy', 'judge', 'judgment', 'juice', 'jump', 'junior', 'jury', 'just', 'justice', 'justify', 'keep', 'key', 'kick', 'kid', 'kill', 'killer', 'killing', 'kind', 'king', 'kiss', 'kitchen', 'knee', 'knife', 'knock', 'know', 'knowledge', 'lab', 'label', 'labor', 'laboratory', 'lack', 'lady', 'lake', 'land', 'landscape', 'language', 'lap', 'large', 'largely', 'last', 'late', 'later', 'Latin', 'latter', 'laugh', 'launch', 'law', 'lawn', 'lawsuit', 'lawyer', 'lay', 'layer', 'lead', 'leader', 'leadership', 'leading', 'leaf', 'league', 'lean', 'learn', 'learning', 'least', 'leather', 'leave', 'left', 'leg', 'legacy', 'legal', 'legend', 'legislation', 'legitimate', 'lemon', 'length', 'less', 'lesson', 'let', 'letter', 'level', 'liberal', 'library', 'license', 'lie', 'life', 'lifestyle', 'lifetime', 'lift', 'light', 'like', 'likely', 'limit', 'limitation', 'limited', 'line', 'link', 'lip', 'list', 'listen', 'literally', 'literary', 'literature', 'little', 'live', 'living', 'load', 'loan', 'local', 'locate', 'location', 'lock', 'long', 'long-term', 'look', 'loose', 'lose', 'loss', 'lost', 'lot', 'lots', 'loud', 'love', 'lovely', 'lover', 'low', 'lower', 'luck', 'lucky', 'lunch', 'lung', 'machine', 'mad', 'magazine', 'mail', 'main', 'mainly', 'maintain', 'maintenance', 'major', 'majority', 'make', 'maker', 'makeup', 'male', 'mall', 'man', 'manage', 'management', 'manager', 'manner', 'manufacturer', 'manufacturing', 'many', 'map', 'margin', 'mark', 'market', 'marketing', 'marriage', 'married', 'marry', 'mask', 'mass', 'massive', 'master', 'match', 'material', 'math', 'matter', 'may', 'maybe', 'mayor', 'me', 'meal', 'mean', 'meaning', 'meanwhile', 'measure', 'measurement', 'meat', 'mechanism', 'media', 'medical', 'medication', 'medicine', 'medium', 'meet', 'meeting', 'member', 'membership', 'memory', 'mental', 'mention', 'menu', 'mere', 'merely', 'mess', 'message', 'metal', 'meter', 'method', 'Mexican', 'middle', 'might', 'military', 'milk', 'million', 'mind', 'mine', 'minister', 'minor', 'minority', 'minute', 'miracle', 'mirror', 'miss', 'missile', 'mission', 'mistake', 'mix', 'mixture', 'mm-hmm', 'mode', 'model', 'moderate', 'modern', 'modest', 'mom', 'moment', 'money', 'monitor', 'month', 'mood', 'moon', 'moral', 'more', 'moreover', 'morning', 'mortgage', 'most', 'mostly', 'mother', 'motion', 'motivation', 'motor', 'mount', 'mountain', 'mouse', 'mouth', 'move', 'movement', 'movie', 'Mr', 'Mrs', 'Ms', 'much', 'multiple', 'murder', 'muscle', 'museum', 'music', 'musical', 'musician', 'Muslim', 'must', 'mutual', 'my', 'myself', 'mystery', 'myth', 'naked', 'name', 'narrative', 'narrow', 'nation', 'national', 'native', 'natural', 'naturally', 'nature', 'near', 'nearby', 'nearly', 'necessarily', 'necessary', 'neck', 'need', 'negative', 'negotiate', 'negotiation', 'neighbor', 'neighborhood', 'neither', 'nerve', 'nervous', 'net', 'network', 'never', 'nevertheless', 'new', 'newly', 'news', 'newspaper', 'next', 'nice', 'night', 'nine', 'no', 'nobody', 'nod', 'noise', 'nomination', 'none', 'nonetheless', 'nor', 'normal', 'normally', 'north', 'northern', 'nose', 'not', 'note', 'nothing', 'notice', 'notion', 'novel', 'now', 'nowhere', \"n't\", 'nuclear', 'number', 'numerous', 'nurse', 'nut', 'object', 'objective', 'obligation', 'observation', 'observe', 'observer', 'obtain', 'obvious', 'obviously', 'occasion', 'occasionally', 'occupation', 'occupy', 'occur', 'ocean', 'odd', 'odds', 'of', 'off', 'offense', 'offensive', 'offer', 'office', 'officer', 'official', 'often', 'oh', 'oil', 'ok', 'okay', 'old', 'Olympic', 'on', 'once', 'one', 'ongoing', 'onion', 'online', 'only', 'onto', 'open', 'opening', 'operate', 'operating', 'operation', 'operator', 'opinion', 'opponent', 'opportunity', 'oppose', 'opposite', 'opposition', 'option', 'or', 'orange', 'order', 'ordinary', 'organic', 'organization', 'organize', 'orientation', 'origin', 'original', 'originally', 'other', 'others', 'otherwise', 'ought', 'our', 'ourselves', 'out', 'outcome', 'outside', 'oven', 'over', 'overall', 'overcome', 'overlook', 'owe', 'own', 'owner', 'pace', 'pack', 'package', 'page', 'pain', 'painful', 'paint', 'painter', 'painting', 'pair', 'pale', 'Palestinian', 'palm', 'pan', 'panel', 'pant', 'paper', 'parent', 'park', 'parking', 'part', 'participant', 'participate', 'participation', 'particular', 'particularly', 'partly', 'partner', 'partnership', 'party', 'pass', 'passage', 'passenger', 'passion', 'past', 'patch', 'path', 'patient', 'pattern', 'pause', 'pay', 'payment', 'PC', 'peace', 'peak', 'peer', 'penalty', 'people', 'pepper', 'per', 'perceive', 'percentage', 'perception', 'perfect', 'perfectly', 'perform', 'performance', 'perhaps', 'period', 'permanent', 'permission', 'permit', 'person', 'personal', 'personality', 'personally', 'personnel', 'perspective', 'persuade', 'pet', 'phase', 'phenomenon', 'philosophy', 'phone', 'photo', 'photograph', 'photographer', 'phrase', 'physical', 'physically', 'physician', 'piano', 'pick', 'picture', 'pie', 'piece', 'pile', 'pilot', 'pine', 'pink', 'pipe', 'pitch', 'place', 'plan', 'plane', 'planet', 'planning', 'plant', 'plastic', 'plate', 'platform', 'play', 'player', 'please', 'pleasure', 'plenty', 'plot', 'plus', 'PM', 'pocket', 'poem', 'poet', 'poetry', 'point', 'pole', 'police', 'policy', 'political', 'politically', 'politician', 'politics', 'poll', 'pollution', 'pool', 'poor', 'pop', 'popular', 'population', 'porch', 'port', 'portion', 'portrait', 'portray', 'pose', 'position', 'positive', 'possess', 'possibility', 'possible', 'possibly', 'post', 'pot', 'potato', 'potential', 'potentially', 'pound', 'pour', 'poverty', 'powder', 'power', 'powerful', 'practical', 'practice', 'pray', 'prayer', 'precisely', 'predict', 'prefer', 'preference', 'pregnancy', 'pregnant', 'preparation', 'prepare', 'prescription', 'presence', 'present', 'presentation', 'preserve', 'president', 'presidential', 'press', 'pressure', 'pretend', 'pretty', 'prevent', 'previous', 'previously', 'price', 'pride', 'priest', 'primarily', 'primary', 'prime', 'principal', 'principle', 'print', 'prior', 'priority', 'prison', 'prisoner', 'privacy', 'private', 'probably', 'problem', 'procedure', 'proceed', 'process', 'produce', 'producer', 'product', 'production', 'profession', 'professional', 'professor', 'profile', 'profit', 'program', 'progress', 'project', 'prominent', 'promise', 'promote', 'prompt', 'proof', 'proper', 'properly', 'property', 'proportion', 'proposal', 'propose', 'proposed', 'prosecutor', 'prospect', 'protect', 'protection', 'protein', 'protest', 'proud', 'prove', 'provide', 'provider', 'province', 'provision', 'psychological', 'psychologist', 'psychology', 'public', 'publication', 'publicly', 'publish', 'publisher', 'pull', 'punishment', 'purchase', 'pure', 'purpose', 'pursue', 'push', 'put', 'qualify', 'quality', 'quarter', 'quarterback', 'question', 'quick', 'quickly', 'quiet', 'quietly', 'quit', 'quite', 'quote', 'race', 'racial', 'radical', 'radio', 'rail', 'rain', 'raise', 'range', 'rank', 'rapid', 'rapidly', 'rare', 'rarely', 'rate', 'rather', 'rating', 'ratio', 'raw', 'reach', 'react', 'reaction', 'read', 'reader', 'reading', 'ready', 'real', 'reality', 'realize', 'really', 'reason', 'reasonable', 'recall', 'receive', 'recent', 'recently', 'recipe', 'recognition', 'recognize', 'recommend', 'recommendation', 'record', 'recording', 'recover', 'recovery', 'recruit', 'red', 'reduce', 'reduction', 'refer', 'reference', 'reflect', 'reflection', 'reform', 'refugee', 'refuse', 'regard', 'regarding', 'regardless', 'regime', 'region', 'regional', 'register', 'regular', 'regularly', 'regulate', 'regulation', 'reinforce', 'reject', 'relate', 'relation', 'relationship', 'relative', 'relatively', 'relax', 'release', 'relevant', 'relief', 'religion', 'religious', 'rely', 'remain', 'remaining', 'remarkable', 'remember', 'remind', 'remote', 'remove', 'repeat', 'repeatedly', 'replace', 'reply', 'report', 'reporter', 'represent', 'representation', 'representative', 'Republican', 'reputation', 'request', 'require', 'requirement', 'research', 'researcher', 'resemble', 'reservation', 'resident', 'resist', 'resistance', 'resolution', 'resolve', 'resort', 'resource', 'respect', 'respond', 'respondent', 'response', 'responsibility', 'responsible', 'rest', 'restaurant', 'restore', 'restriction', 'result', 'retain', 'retire', 'retirement', 'return', 'reveal', 'revenue', 'review', 'revolution', 'rhythm', 'rice', 'rich', 'rid', 'ride', 'rifle', 'right', 'ring', 'rise', 'risk', 'river', 'road', 'rock', 'role', 'roll', 'romantic', 'roof', 'room', 'root', 'rope', 'rose', 'rough', 'roughly', 'round', 'route', 'routine', 'row', 'rub', 'rule', 'run', 'running', 'rural', 'rush', 'Russian', 'sacred', 'sad', 'safe', 'safety', 'sake', 'salad', 'salary', 'sale', 'sales', 'salt', 'same', 'sample', 'sanction', 'sand', 'satellite', 'satisfaction', 'satisfy', 'sauce', 'save', 'saving', 'say', 'scale', 'scandal', 'scared', 'scenario', 'scene', 'schedule', 'scheme', 'scholar', 'scholarship', 'school', 'science', 'scientific', 'scientist', 'scope', 'score', 'scream', 'screen', 'script', 'sea', 'search', 'season', 'seat', 'second', 'secret', 'secretary', 'section', 'sector', 'secure', 'security', 'see', 'seed', 'seek', 'seem', 'segment', 'seize', 'select', 'selection', 'self', 'sell', 'Senate', 'senator', 'send', 'senior', 'sense', 'sensitive', 'sentence', 'separate', 'sequence', 'series', 'serious', 'seriously', 'serve', 'service', 'session', 'set', 'setting', 'settle', 'settlement', 'seven', 'several', 'severe', 'sex', 'sexual', 'shade', 'shadow', 'shake', 'shall', 'shape', 'share', 'sharp', 'she', 'sheet', 'shelf', 'shell', 'shelter', 'shift', 'shine', 'ship', 'shirt', 'shit', 'shock', 'shoe', 'shoot', 'shooting', 'shop', 'shopping', 'shore', 'short', 'shortly', 'shot', 'should', 'shoulder', 'shout', 'show', 'shower', 'shrug', 'shut', 'sick', 'side', 'sigh', 'sight', 'sign', 'signal', 'significance', 'significant', 'significantly', 'silence', 'silent', 'silver', 'similar', 'similarly', 'simple', 'simply', 'sin', 'since', 'sing', 'singer', 'single', 'sink', 'sir', 'sister', 'sit', 'site', 'situation', 'six', 'size', 'ski', 'skill', 'skin', 'sky', 'slave', 'sleep', 'slice', 'slide', 'slight', 'slightly', 'slip', 'slow', 'slowly', 'small', 'smart', 'smell', 'smile', 'smoke', 'smooth', 'snap', 'snow', 'so', 'so-called', 'soccer', 'social', 'society', 'soft', 'software', 'soil', 'solar', 'soldier', 'solid', 'solution', 'solve', 'some', 'somebody', 'somehow', 'someone', 'something', 'sometimes', 'somewhat', 'somewhere', 'son', 'song', 'soon', 'sophisticated', 'sorry', 'sort', 'soul', 'sound', 'soup', 'source', 'south', 'southern', 'Soviet', 'space', 'Spanish', 'speak', 'speaker', 'special', 'specialist', 'species', 'specific', 'specifically', 'speech', 'speed', 'spend', 'spending', 'spin', 'spirit', 'spiritual', 'split', 'spokesman', 'sport', 'spot', 'spread', 'spring', 'square', 'squeeze', 'stability', 'stable', 'staff', 'stage', 'stair', 'stake', 'stand', 'standard', 'standing', 'star', 'stare', 'start', 'state', 'statement', 'station', 'statistics', 'status', 'stay', 'steady', 'steal', 'steel', 'step', 'stick', 'still', 'stir', 'stock', 'stomach', 'stone', 'stop', 'storage', 'store', 'storm', 'story', 'straight', 'strange', 'stranger', 'strategic', 'strategy', 'stream', 'street', 'strength', 'strengthen', 'stress', 'stretch', 'strike', 'string', 'strip', 'stroke', 'strong', 'strongly', 'structure', 'struggle', 'student', 'studio', 'study', 'stuff', 'stupid', 'style', 'subject', 'submit', 'subsequent', 'substance', 'substantial', 'succeed', 'success', 'successful', 'successfully', 'such', 'sudden', 'suddenly', 'sue', 'suffer', 'sufficient', 'sugar', 'suggest', 'suggestion', 'suicide', 'suit', 'summer', 'summit', 'sun', 'super', 'supply', 'support', 'supporter', 'suppose', 'supposed', 'Supreme', 'sure', 'surely', 'surface', 'surgery', 'surprise', 'surprised', 'surprising', 'surprisingly', 'surround', 'survey', 'survival', 'survive', 'survivor', 'suspect', 'sustain', 'swear', 'sweep', 'sweet', 'swim', 'swing', 'switch', 'symbol', 'symptom', 'system', 'table', 'tablespoon', 'tactic', 'tail', 'take', 'tale', 'talent', 'talk', 'tall', 'tank', 'tap', 'tape', 'target', 'task', 'taste', 'tax', 'taxpayer', 'tea', 'teach', 'teacher', 'teaching', 'team', 'tear', 'teaspoon', 'technical', 'technique', 'technology', 'teen', 'teenager', 'telephone', 'telescope', 'television', 'tell', 'temperature', 'temporary', 'ten', 'tend', 'tendency', 'tennis', 'tension', 'tent', 'term', 'terms', 'terrible', 'territory', 'terror', 'terrorism', 'terrorist', 'test', 'testify', 'testimony', 'testing', 'text', 'than', 'thank', 'thanks', 'that', 'the', 'theater', 'their', 'them', 'theme', 'themselves', 'then', 'theory', 'therapy', 'there', 'therefore', 'these', 'they', 'thick', 'thin', 'thing', 'think', 'thinking', 'third', 'thirty', 'this', 'those', 'though', 'thought', 'thousand', 'threat', 'threaten', 'three', 'throat', 'through', 'throughout', 'throw', 'thus', 'ticket', 'tie', 'tight', 'time', 'tiny', 'tip', 'tire', 'tired', 'tissue', 'title', 'to', 'tobacco', 'today', 'toe', 'together', 'tomato', 'tomorrow', 'tone', 'tongue', 'tonight', 'too', 'tool', 'tooth', 'top', 'topic', 'toss', 'total', 'totally', 'touch', 'tough', 'tour', 'tourist', 'tournament', 'toward', 'towards', 'tower', 'town', 'toy', 'trace', 'track', 'trade', 'tradition', 'traditional', 'traffic', 'tragedy', 'trail', 'train', 'training', 'transfer', 'transform', 'transformation', 'transition', 'translate', 'transportation', 'travel', 'treat', 'treatment', 'treaty', 'tree', 'tremendous', 'trend', 'trial', 'tribe', 'trick', 'trip', 'troop', 'trouble', 'truck', 'true', 'truly', 'trust', 'truth', 'try', 'tube', 'tunnel', 'turn', 'TV', 'twelve', 'twenty', 'twice', 'twin', 'two', 'type', 'typical', 'typically', 'ugly', 'ultimate', 'ultimately', 'unable', 'uncle', 'under', 'undergo', 'understand', 'understanding', 'unfortunately', 'uniform', 'union', 'unique', 'unit', 'United', 'universal', 'universe', 'university', 'unknown', 'unless', 'unlike', 'unlikely', 'until', 'unusual', 'up', 'upon', 'upper', 'urban', 'urge', 'us', 'use', 'used', 'useful', 'user', 'usual', 'usually', 'utility', 'vacation', 'valley', 'valuable', 'value', 'variable', 'variation', 'variety', 'various', 'vary', 'vast', 'vegetable', 'vehicle', 'venture', 'version', 'versus', 'very', 'vessel', 'veteran', 'via', 'victim', 'victory', 'video', 'view', 'viewer', 'village', 'violate', 'violation', 'violence', 'violent', 'virtually', 'virtue', 'virus', 'visible', 'vision', 'visit', 'visitor', 'visual', 'vital', 'voice', 'volume', 'volunteer', 'vote', 'voter', 'vs', 'vulnerable', 'wage', 'wait', 'wake', 'walk', 'wall', 'wander', 'want', 'war', 'warm', 'warn', 'warning', 'wash', 'waste', 'watch', 'water', 'wave', 'way', 'we', 'weak', 'wealth', 'wealthy', 'weapon', 'wear', 'weather', 'wedding', 'week', 'weekend', 'weekly', 'weigh', 'weight', 'welcome', 'welfare', 'well', 'west', 'western', 'wet', 'what', 'whatever', 'wheel', 'when', 'whenever', 'where', 'whereas', 'whether', 'which', 'while', 'whisper', 'white', 'who', 'whole', 'whom', 'whose', 'why', 'wide', 'widely', 'widespread', 'wife', 'wild', 'will', 'willing', 'win', 'wind', 'window', 'wine', 'wing', 'winner', 'winter', 'wipe', 'wire', 'wisdom', 'wise', 'wish', 'with', 'withdraw', 'within', 'without', 'witness', 'woman', 'wonder', 'wonderful', 'wood', 'wooden', 'word', 'work', 'worker', 'working', 'works', 'workshop', 'world', 'worried', 'worry', 'worth', 'would', 'wound', 'wrap', 'write', 'writer', 'writing', 'wrong', 'yard', 'yeah', 'year', 'yell', 'yellow', 'yes', 'yesterday', 'yet', 'yield', 'you', 'young', 'your', 'yours', 'yourself', 'youth', 'zone', 'bop', 'bom', 'em', 'de', 'nada', 'mano', 'da', 'Dame', 'bald', 'Start', 'Ja', 'dil', 'ben', 'tek', 'ay']"
   ]
  },
  {
   "cell_type": "code",
   "execution_count": null,
   "metadata": {},
   "outputs": [],
   "source": []
  }
 ],
 "metadata": {
  "kernelspec": {
   "display_name": "Python 3",
   "language": "python",
   "name": "python3"
  },
  "language_info": {
   "codemirror_mode": {
    "name": "ipython",
    "version": 3
   },
   "file_extension": ".py",
   "mimetype": "text/x-python",
   "name": "python",
   "nbconvert_exporter": "python",
   "pygments_lexer": "ipython3",
   "version": "3.7.1"
  }
 },
 "nbformat": 4,
 "nbformat_minor": 2
}
