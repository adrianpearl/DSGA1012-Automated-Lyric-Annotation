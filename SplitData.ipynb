{
 "cells": [
  {
   "cell_type": "markdown",
   "metadata": {},
   "source": [
    "### Language filtering and other cleanup - run cells at the bottom first"
   ]
  },
  {
   "cell_type": "code",
   "execution_count": 31,
   "metadata": {},
   "outputs": [],
   "source": [
    "import pandas as pd\n",
    "import csv\n",
    "from sklearn.model_selection import train_test_split\n",
    "import re\n",
    "pd.set_option('display.max_colwidth', 0)"
   ]
  },
  {
   "cell_type": "code",
   "execution_count": 44,
   "metadata": {},
   "outputs": [
    {
     "name": "stderr",
     "output_type": "stream",
     "text": [
      "b'Skipping line 78558: expected 3 fields, saw 4\\nSkipping line 115464: expected 3 fields, saw 4\\n'\n"
     ]
    }
   ],
   "source": [
    "a1 = pd.read_csv('./Data_Collection/annotations_1.tsv', sep='\\t', error_bad_lines=False)\n",
    "a2 = pd.read_csv('./Data_Collection/annotations_2.tsv', sep='\\t', error_bad_lines=False)\n",
    "annotations = pd.concat([a1, a2])\n",
    "annotations.lyric = annotations.lyric.apply(lambda x: str(x).replace('\\n', ' '))"
   ]
  },
  {
   "cell_type": "code",
   "execution_count": 45,
   "metadata": {},
   "outputs": [
    {
     "data": {
      "text/plain": [
       "(228444, 3)"
      ]
     },
     "execution_count": 45,
     "metadata": {},
     "output_type": "execute_result"
    }
   ],
   "source": [
    "annotations.shape"
   ]
  },
  {
   "cell_type": "markdown",
   "metadata": {},
   "source": [
    "**Japanese**"
   ]
  },
  {
   "cell_type": "code",
   "execution_count": 46,
   "metadata": {},
   "outputs": [
    {
     "data": {
      "text/html": [
       "<div>\n",
       "<style scoped>\n",
       "    .dataframe tbody tr th:only-of-type {\n",
       "        vertical-align: middle;\n",
       "    }\n",
       "\n",
       "    .dataframe tbody tr th {\n",
       "        vertical-align: top;\n",
       "    }\n",
       "\n",
       "    .dataframe thead th {\n",
       "        text-align: right;\n",
       "    }\n",
       "</style>\n",
       "<table border=\"1\" class=\"dataframe\">\n",
       "  <thead>\n",
       "    <tr style=\"text-align: right;\">\n",
       "      <th></th>\n",
       "      <th>song_id</th>\n",
       "      <th>lyric</th>\n",
       "      <th>annotation</th>\n",
       "    </tr>\n",
       "  </thead>\n",
       "  <tbody>\n",
       "    <tr>\n",
       "      <th>19032</th>\n",
       "      <td>3272431</td>\n",
       "      <td>お互いの目と目をしっかり合わせましょう  相手が少し緊張気味でしたら、リラックスできるBGMをかけるのも良いですね  あと、部屋は少し暗めの方がムードが出ますよね</td>\n",
       "      <td>The translation here is provided by Google Translate.  [BLOCKQUOTE] A less literal translation by Japanese Genius user  akaredlipsberry  would be:  [BLOCKQUOTE] The lyrics act like instructions on how to make a partner comfortable before sex, a sudden shift in mood for the listener after being told “power corrupts”.</td>\n",
       "    </tr>\n",
       "    <tr>\n",
       "      <th>49717</th>\n",
       "      <td>2999435</td>\n",
       "      <td>High Klassified な音楽</td>\n",
       "      <td>High Klassified previously produced a leaked Weeknd track entitled  “Out Here,”  and the demo track that became  “Tell Your Friends”  on The Weeknd’s second studio album,   Here he teams up with The Weeknd again and gets a proper release.  “Na Ongaku” or “な音楽” directly translates to “music” in Japanese, making the tag read “High Klassified Music.”</td>\n",
       "    </tr>\n",
       "    <tr>\n",
       "      <th>63389</th>\n",
       "      <td>3997969</td>\n",
       "      <td>ま、今夜は本気でやってもらいますね</td>\n",
       "      <td>Romanização:  [BLOCKQUOTE] Tradução.  [BLOCKQUOTE]</td>\n",
       "    </tr>\n",
       "    <tr>\n",
       "      <th>57838</th>\n",
       "      <td>1191101</td>\n",
       "      <td>何を恐がっているの?</td>\n",
       "      <td>Japanese: Nani o kowagatte iru no? English: What are you afraid of?</td>\n",
       "    </tr>\n",
       "    <tr>\n",
       "      <th>63388</th>\n",
       "      <td>3997969</td>\n",
       "      <td>おねがいします</td>\n",
       "      <td>Romanização:  [BLOCKQUOTE] Tradução:  [BLOCKQUOTE]</td>\n",
       "    </tr>\n",
       "  </tbody>\n",
       "</table>\n",
       "</div>"
      ],
      "text/plain": [
       "       song_id  \\\n",
       "19032  3272431   \n",
       "49717  2999435   \n",
       "63389  3997969   \n",
       "57838  1191101   \n",
       "63388  3997969   \n",
       "\n",
       "                                                                                   lyric  \\\n",
       "19032  お互いの目と目をしっかり合わせましょう  相手が少し緊張気味でしたら、リラックスできるBGMをかけるのも良いですね  あと、部屋は少し暗めの方がムードが出ますよね   \n",
       "49717  High Klassified な音楽                                                                 \n",
       "63389  ま、今夜は本気でやってもらいますね                                                                   \n",
       "57838  何を恐がっているの?                                                                          \n",
       "63388  おねがいします                                                                             \n",
       "\n",
       "                                                                                                                                                                                                                                                                                                                                                           annotation  \n",
       "19032  The translation here is provided by Google Translate.  [BLOCKQUOTE] A less literal translation by Japanese Genius user  akaredlipsberry  would be:  [BLOCKQUOTE] The lyrics act like instructions on how to make a partner comfortable before sex, a sudden shift in mood for the listener after being told “power corrupts”.                                   \n",
       "49717  High Klassified previously produced a leaked Weeknd track entitled  “Out Here,”  and the demo track that became  “Tell Your Friends”  on The Weeknd’s second studio album,   Here he teams up with The Weeknd again and gets a proper release.  “Na Ongaku” or “な音楽” directly translates to “music” in Japanese, making the tag read “High Klassified Music.”   \n",
       "63389  Romanização:  [BLOCKQUOTE] Tradução.  [BLOCKQUOTE]                                                                                                                                                                                                                                                                                                              \n",
       "57838  Japanese: Nani o kowagatte iru no? English: What are you afraid of?                                                                                                                                                                                                                                                                                             \n",
       "63388  Romanização:  [BLOCKQUOTE] Tradução:  [BLOCKQUOTE]                                                                                                                                                                                                                                                                                                              "
      ]
     },
     "execution_count": 46,
     "metadata": {},
     "output_type": "execute_result"
    }
   ],
   "source": [
    "jap = annotations.lyric.str.contains('/[一-龠]+|[ぁ-ゔ]+|[ァ-ヴー]+|[々〆〤]+/u', regex=True)\n",
    "annotations[jap].sample(5)"
   ]
  },
  {
   "cell_type": "markdown",
   "metadata": {},
   "source": [
    "**Chinese**"
   ]
  },
  {
   "cell_type": "code",
   "execution_count": 47,
   "metadata": {},
   "outputs": [
    {
     "data": {
      "text/html": [
       "<div>\n",
       "<style scoped>\n",
       "    .dataframe tbody tr th:only-of-type {\n",
       "        vertical-align: middle;\n",
       "    }\n",
       "\n",
       "    .dataframe tbody tr th {\n",
       "        vertical-align: top;\n",
       "    }\n",
       "\n",
       "    .dataframe thead th {\n",
       "        text-align: right;\n",
       "    }\n",
       "</style>\n",
       "<table border=\"1\" class=\"dataframe\">\n",
       "  <thead>\n",
       "    <tr style=\"text-align: right;\">\n",
       "      <th></th>\n",
       "      <th>song_id</th>\n",
       "      <th>lyric</th>\n",
       "      <th>annotation</th>\n",
       "    </tr>\n",
       "  </thead>\n",
       "  <tbody>\n",
       "    <tr>\n",
       "      <th>57838</th>\n",
       "      <td>1191101</td>\n",
       "      <td>何を恐がっているの?</td>\n",
       "      <td>Japanese: Nani o kowagatte iru no? English: What are you afraid of?</td>\n",
       "    </tr>\n",
       "    <tr>\n",
       "      <th>29262</th>\n",
       "      <td>181082</td>\n",
       "      <td>億万長者少年倶楽部</td>\n",
       "      <td>Pronounced   this is Japanese for BBC (Billionaire Boy’s Club)  億万長者 = Okumanchōja = Billionaire 少年倶楽部 = Shōnen Kurabu = Boy’s Club</td>\n",
       "    </tr>\n",
       "    <tr>\n",
       "      <th>19033</th>\n",
       "      <td>3272431</td>\n",
       "      <td>政権の腐敗, 政権の腐敗  政権の腐敗, 政権の腐敗  政権の腐敗, 政権の腐敗</td>\n",
       "      <td>Translation:  [BLOCKQUOTE]</td>\n",
       "    </tr>\n",
       "    <tr>\n",
       "      <th>49717</th>\n",
       "      <td>2999435</td>\n",
       "      <td>High Klassified な音楽</td>\n",
       "      <td>High Klassified previously produced a leaked Weeknd track entitled  “Out Here,”  and the demo track that became  “Tell Your Friends”  on The Weeknd’s second studio album,   Here he teams up with The Weeknd again and gets a proper release.  “Na Ongaku” or “な音楽” directly translates to “music” in Japanese, making the tag read “High Klassified Music.”</td>\n",
       "    </tr>\n",
       "    <tr>\n",
       "      <th>19032</th>\n",
       "      <td>3272431</td>\n",
       "      <td>お互いの目と目をしっかり合わせましょう  相手が少し緊張気味でしたら、リラックスできるBGMをかけるのも良いですね  あと、部屋は少し暗めの方がムードが出ますよね</td>\n",
       "      <td>The translation here is provided by Google Translate.  [BLOCKQUOTE] A less literal translation by Japanese Genius user  akaredlipsberry  would be:  [BLOCKQUOTE] The lyrics act like instructions on how to make a partner comfortable before sex, a sudden shift in mood for the listener after being told “power corrupts”.</td>\n",
       "    </tr>\n",
       "  </tbody>\n",
       "</table>\n",
       "</div>"
      ],
      "text/plain": [
       "       song_id  \\\n",
       "57838  1191101   \n",
       "29262  181082    \n",
       "19033  3272431   \n",
       "49717  2999435   \n",
       "19032  3272431   \n",
       "\n",
       "                                                                                   lyric  \\\n",
       "57838  何を恐がっているの?                                                                          \n",
       "29262  億万長者少年倶楽部                                                                           \n",
       "19033  政権の腐敗, 政権の腐敗  政権の腐敗, 政権の腐敗  政権の腐敗, 政権の腐敗                                            \n",
       "49717  High Klassified な音楽                                                                 \n",
       "19032  お互いの目と目をしっかり合わせましょう  相手が少し緊張気味でしたら、リラックスできるBGMをかけるのも良いですね  あと、部屋は少し暗めの方がムードが出ますよね   \n",
       "\n",
       "                                                                                                                                                                                                                                                                                                                                                           annotation  \n",
       "57838  Japanese: Nani o kowagatte iru no? English: What are you afraid of?                                                                                                                                                                                                                                                                                             \n",
       "29262  Pronounced   this is Japanese for BBC (Billionaire Boy’s Club)  億万長者 = Okumanchōja = Billionaire 少年倶楽部 = Shōnen Kurabu = Boy’s Club                                                                                                                                                                                                                             \n",
       "19033  Translation:  [BLOCKQUOTE]                                                                                                                                                                                                                                                                                                                                      \n",
       "49717  High Klassified previously produced a leaked Weeknd track entitled  “Out Here,”  and the demo track that became  “Tell Your Friends”  on The Weeknd’s second studio album,   Here he teams up with The Weeknd again and gets a proper release.  “Na Ongaku” or “な音楽” directly translates to “music” in Japanese, making the tag read “High Klassified Music.”   \n",
       "19032  The translation here is provided by Google Translate.  [BLOCKQUOTE] A less literal translation by Japanese Genius user  akaredlipsberry  would be:  [BLOCKQUOTE] The lyrics act like instructions on how to make a partner comfortable before sex, a sudden shift in mood for the listener after being told “power corrupts”.                                   "
      ]
     },
     "execution_count": 47,
     "metadata": {},
     "output_type": "execute_result"
    }
   ],
   "source": [
    "chi = annotations.lyric.str.contains(re.compile(u'[⺀-⺙⺛-⻳⼀-⿕々〇〡-〩〸-〺〻㐀-䶵一-鿃豈-鶴侮-頻並-龎]', re.UNICODE), regex=True)\n",
    "annotations[chi].sample(5)"
   ]
  },
  {
   "cell_type": "markdown",
   "metadata": {},
   "source": [
    "**Portuguese (Spanish too?)**"
   ]
  },
  {
   "cell_type": "code",
   "execution_count": 48,
   "metadata": {},
   "outputs": [],
   "source": [
    "import enchant\n",
    "d = enchant.Dict(\"en_US\")\n",
    "for e in eng:\n",
    "    try:\n",
    "        por.remove(e)\n",
    "    except:\n",
    "        pass\n",
    "\n",
    "for p in por:\n",
    "    if d.check(p):\n",
    "        try:\n",
    "            por.remove(p)\n",
    "        except:\n",
    "            pass\n",
    "        \n",
    "por = [' ' + p + ' ' for p in por]"
   ]
  },
  {
   "cell_type": "code",
   "execution_count": 49,
   "metadata": {},
   "outputs": [
    {
     "data": {
      "text/html": [
       "<div>\n",
       "<style scoped>\n",
       "    .dataframe tbody tr th:only-of-type {\n",
       "        vertical-align: middle;\n",
       "    }\n",
       "\n",
       "    .dataframe tbody tr th {\n",
       "        vertical-align: top;\n",
       "    }\n",
       "\n",
       "    .dataframe thead th {\n",
       "        text-align: right;\n",
       "    }\n",
       "</style>\n",
       "<table border=\"1\" class=\"dataframe\">\n",
       "  <thead>\n",
       "    <tr style=\"text-align: right;\">\n",
       "      <th></th>\n",
       "      <th>song_id</th>\n",
       "      <th>lyric</th>\n",
       "      <th>annotation</th>\n",
       "    </tr>\n",
       "  </thead>\n",
       "  <tbody>\n",
       "    <tr>\n",
       "      <th>69353</th>\n",
       "      <td>740522</td>\n",
       "      <td>Sì come quando i primi raggi vibra  là dove il suo fattor lo sangue sparse,  cadendo Ibero sotto l'alta Libra,    e l'onde in Gange da nona rïarse,  sì stava il sole; onde 'l giorno sen giva,  come l'angel di Dio lieto ci apparse</td>\n",
       "      <td>Translation:  [BLOCKQUOTE] Dante’s idea of the geographical extent of the world seems to overlap the combined empires of Alexander the Great and the height of Imperial Rome. In Dante’s time, to say “from the Ebro to the Ganges” would be saying “to the ends of the earth”. This was a belief based on an understanding of the world from the thirteenth- and fourteenth-century  planispheres –an early form of mapping that emphasized a representation of a spherical Earth and star map. Dante was likely familiar with the Vesconte planisphere at the time of his writing the  .  This idea of the world’s extremities is present in literature from antiquity to the Renaissance–only the Age of Exploration (1400-1900) would change that.  From Juvenal,   X.1-2:  [BLOCKQUOTE] And from Dante,   II, 1-6:  [BLOCKQUOTE] According to this concept, the known and unknown worlds were the opposing hemispheres of the planet. One half of the world was known lands, the other half was a dark ocean. Of the known world, the western edge of the world was Gibraltar and the Iberian peninsula–near Spain’s Ebro River–the extreme eastern end is the Ganges in India where Alexander’s imperial ambitions ended.  This places the Holy City of Jerusalem in the centre of the world.  When the sun was over the ganges, it had already set over the Ebro and the west. Thus, Dante is using this geography to hint that the day is ending in the west.</td>\n",
       "    </tr>\n",
       "    <tr>\n",
       "      <th>64749</th>\n",
       "      <td>245120</td>\n",
       "      <td>Pero se topan, con cabrones que no les importa Pasear en su alazán de poca monta</td>\n",
       "      <td>Hay rappers a los que no les da pena ‘'pavonearse’‘ con shows mediocres</td>\n",
       "    </tr>\n",
       "    <tr>\n",
       "      <th>70355</th>\n",
       "      <td>21572</td>\n",
       "      <td>Shigoto no ato ni  Me ga same-ru  Nani ka shin-akucha  Shigoto no a-to ni</td>\n",
       "      <td>These lyrics are sung in Japanese by fictional band member Noodle, performed by  Miho Hatori.  They translate as follows:  “After work My eyes awaken I have to do something After work”  Similarly to Faust, the German scholar whom this song is named after, the speaker is dissatisfied with their daily life. Something has to change because the speaker can’t handle it any more.</td>\n",
       "    </tr>\n",
       "    <tr>\n",
       "      <th>28762</th>\n",
       "      <td>183666</td>\n",
       "      <td>T'es ridicule, comme Dragon Ball avec du recul  Le ghetto voit que t'es un mytho comme Hercule</td>\n",
       "      <td>Dragon Ball est un manga très célèbre, il met en scène plusieurs personnages fantastiques.   ou (Mr. Satan) est un personnage qui se vante d'être l'homme le plus fort sur Terre alors qu'il ne vaut pas un clou contre les guerriers de DBZ. Il simule des maux de ventres pour éviter le combat.</td>\n",
       "    </tr>\n",
       "    <tr>\n",
       "      <th>65026</th>\n",
       "      <td>3658103</td>\n",
       "      <td>Para todas vocês, garotas americanas nos filmes  Ninguém pode dizer onde está o coração de vocês</td>\n",
       "      <td>Como dito na anotação anterior, estas linhas demonstram que existe muita falsidade na indústria cinematográfica. Cirurgias plásticas e a dificuldade que as estrelas do cinema têm são exemplos desta falsidade, proporcionando inclusive a impressão de que agem como robôs.  Esta música é usada na abertura do jogo  , no qual as letras desta canção indicam a confusão de sentimentos que a protagonista, Max Cauldfield, transpira por conta dos eventos que ocorrem ao longo do desenrolar da história.</td>\n",
       "    </tr>\n",
       "  </tbody>\n",
       "</table>\n",
       "</div>"
      ],
      "text/plain": [
       "       song_id  \\\n",
       "69353  740522    \n",
       "64749  245120    \n",
       "70355  21572     \n",
       "28762  183666    \n",
       "65026  3658103   \n",
       "\n",
       "                                                                                                                                                                                                                                       lyric  \\\n",
       "69353  Sì come quando i primi raggi vibra  là dove il suo fattor lo sangue sparse,  cadendo Ibero sotto l'alta Libra,    e l'onde in Gange da nona rïarse,  sì stava il sole; onde 'l giorno sen giva,  come l'angel di Dio lieto ci apparse   \n",
       "64749  Pero se topan, con cabrones que no les importa Pasear en su alazán de poca monta                                                                                                                                                        \n",
       "70355  Shigoto no ato ni  Me ga same-ru  Nani ka shin-akucha  Shigoto no a-to ni                                                                                                                                                               \n",
       "28762  T'es ridicule, comme Dragon Ball avec du recul  Le ghetto voit que t'es un mytho comme Hercule                                                                                                                                          \n",
       "65026  Para todas vocês, garotas americanas nos filmes  Ninguém pode dizer onde está o coração de vocês                                                                                                                                        \n",
       "\n",
       "                                                                                                                                                                                                                                                                                                                                                                                                                                                                                                                                                                                                                                                                                                                                                                                                                                                                                                                                                                                                                                                                                                                                                                                                                                                                                                                                                                                                                                                                   annotation  \n",
       "69353  Translation:  [BLOCKQUOTE] Dante’s idea of the geographical extent of the world seems to overlap the combined empires of Alexander the Great and the height of Imperial Rome. In Dante’s time, to say “from the Ebro to the Ganges” would be saying “to the ends of the earth”. This was a belief based on an understanding of the world from the thirteenth- and fourteenth-century  planispheres –an early form of mapping that emphasized a representation of a spherical Earth and star map. Dante was likely familiar with the Vesconte planisphere at the time of his writing the  .  This idea of the world’s extremities is present in literature from antiquity to the Renaissance–only the Age of Exploration (1400-1900) would change that.  From Juvenal,   X.1-2:  [BLOCKQUOTE] And from Dante,   II, 1-6:  [BLOCKQUOTE] According to this concept, the known and unknown worlds were the opposing hemispheres of the planet. One half of the world was known lands, the other half was a dark ocean. Of the known world, the western edge of the world was Gibraltar and the Iberian peninsula–near Spain’s Ebro River–the extreme eastern end is the Ganges in India where Alexander’s imperial ambitions ended.  This places the Holy City of Jerusalem in the centre of the world.  When the sun was over the ganges, it had already set over the Ebro and the west. Thus, Dante is using this geography to hint that the day is ending in the west.   \n",
       "64749  Hay rappers a los que no les da pena ‘'pavonearse’‘ con shows mediocres                                                                                                                                                                                                                                                                                                                                                                                                                                                                                                                                                                                                                                                                                                                                                                                                                                                                                                                                                                                                                                                                                                                                                                                                                                                                                                                                                                                                 \n",
       "70355  These lyrics are sung in Japanese by fictional band member Noodle, performed by  Miho Hatori.  They translate as follows:  “After work My eyes awaken I have to do something After work”  Similarly to Faust, the German scholar whom this song is named after, the speaker is dissatisfied with their daily life. Something has to change because the speaker can’t handle it any more.                                                                                                                                                                                                                                                                                                                                                                                                                                                                                                                                                                                                                                                                                                                                                                                                                                                                                                                                                                                                                                                                                \n",
       "28762  Dragon Ball est un manga très célèbre, il met en scène plusieurs personnages fantastiques.   ou (Mr. Satan) est un personnage qui se vante d'être l'homme le plus fort sur Terre alors qu'il ne vaut pas un clou contre les guerriers de DBZ. Il simule des maux de ventres pour éviter le combat.                                                                                                                                                                                                                                                                                                                                                                                                                                                                                                                                                                                                                                                                                                                                                                                                                                                                                                                                                                                                                                                                                                                                                                      \n",
       "65026  Como dito na anotação anterior, estas linhas demonstram que existe muita falsidade na indústria cinematográfica. Cirurgias plásticas e a dificuldade que as estrelas do cinema têm são exemplos desta falsidade, proporcionando inclusive a impressão de que agem como robôs.  Esta música é usada na abertura do jogo  , no qual as letras desta canção indicam a confusão de sentimentos que a protagonista, Max Cauldfield, transpira por conta dos eventos que ocorrem ao longo do desenrolar da história.                                                                                                                                                                                                                                                                                                                                                                                                                                                                                                                                                                                                                                                                                                                                                                                                                                                                                                                                                          "
      ]
     },
     "execution_count": 49,
     "metadata": {},
     "output_type": "execute_result"
    }
   ],
   "source": [
    "port = annotations.lyric.apply(lambda x: any(p in x for p in por))\n",
    "annotations[port].sample(5)"
   ]
  },
  {
   "cell_type": "markdown",
   "metadata": {},
   "source": [
    "**German**"
   ]
  },
  {
   "cell_type": "code",
   "execution_count": 50,
   "metadata": {},
   "outputs": [],
   "source": [
    "for e in eng:\n",
    "    try:\n",
    "        ger.remove(e)\n",
    "    except:\n",
    "        pass\n",
    "\n",
    "for g in ger:\n",
    "    if d.check(g):\n",
    "        try:\n",
    "            ger.remove(g)\n",
    "        except:\n",
    "            pass\n",
    "        \n",
    "ger = [' ' + g + ' ' for g in ger]"
   ]
  },
  {
   "cell_type": "code",
   "execution_count": 51,
   "metadata": {
    "scrolled": true
   },
   "outputs": [
    {
     "data": {
      "text/html": [
       "<div>\n",
       "<style scoped>\n",
       "    .dataframe tbody tr th:only-of-type {\n",
       "        vertical-align: middle;\n",
       "    }\n",
       "\n",
       "    .dataframe tbody tr th {\n",
       "        vertical-align: top;\n",
       "    }\n",
       "\n",
       "    .dataframe thead th {\n",
       "        text-align: right;\n",
       "    }\n",
       "</style>\n",
       "<table border=\"1\" class=\"dataframe\">\n",
       "  <thead>\n",
       "    <tr style=\"text-align: right;\">\n",
       "      <th></th>\n",
       "      <th>song_id</th>\n",
       "      <th>lyric</th>\n",
       "      <th>annotation</th>\n",
       "    </tr>\n",
       "  </thead>\n",
       "  <tbody>\n",
       "    <tr>\n",
       "      <th>124716</th>\n",
       "      <td>434345</td>\n",
       "      <td>Wir spielen Tekken, ich guck nicht hin und box in trotzdem weg</td>\n",
       "      <td>Tekken ist eine Beat-‘em-up-Spielereihe des Herstellers Namco bzw. Namco Bandai Games.</td>\n",
       "    </tr>\n",
       "    <tr>\n",
       "      <th>34183</th>\n",
       "      <td>3173827</td>\n",
       "      <td>Stary nie wyniósł talerzy</td>\n",
       "      <td>Follow-up do kawałka Beodesa – A ty?  https://genius.com/9190624</td>\n",
       "    </tr>\n",
       "    <tr>\n",
       "      <th>125793</th>\n",
       "      <td>3115213</td>\n",
       "      <td>Up in Smoke auf jedem Tourstop, Tourstop  Baby, nenn mich Snoop Dogg, Snoop Dogg!</td>\n",
       "      <td>Die  Up in Smoke Tour  war eine Hip-Hop-Tour die im Jahr 2000 stattfand. Auf der Tour, die durch Nordamerika ging, promoteten  Dr. Dre ,  Snoop Dogg ,  Ice Cube  und  Eminem  jeweils ihre neuen Alben.  https://www.youtube.com/watch?v=oGFkGhm2CqE  Neben den vier Hauptrappern nahmen einige aus deren Umfeld stammende Rapper wie u.a.  Xzibit ,  Nate Dogg  oder  MC Ren  an der Tour teil.  Darüber hinaus wurde nach dem Ende der Tour eine DVD veröffentlicht, die die Auftritte und einige Backstage-Momente der Tour enthält.  Diese DVD hat auch Shindy ins einer Jugend häufig gesehen, wie er in Interviews angab. Außerdem rappt er davon auch auf dem Song  Dreams . Die   war also sehr prägend für Shindy als Künstler und scheinbar sieht er sie auch noch heute während er auf Tour ist.</td>\n",
       "    </tr>\n",
       "    <tr>\n",
       "      <th>61028</th>\n",
       "      <td>69539</td>\n",
       "      <td>Lässt sich fallen weich wie Schnee  Erst wird es heiß dann kalt am Ende tut es weh</td>\n",
       "      <td>Duality: hot/cold.  Every relationship is bound to end in tears, either by</td>\n",
       "    </tr>\n",
       "    <tr>\n",
       "      <th>27225</th>\n",
       "      <td>3185013</td>\n",
       "      <td>Pour elle j'prends la prochaine exit, grâce à elle je fuckin' existe</td>\n",
       "      <td>Laissant entendre qu'une femme en particulier n'est pas un simple “passe temps” pour B2O, il nous indique ici que cette dernière a une influence effective sur sa vie   et que le regard qu'elle porte sur lui participe à le faire se sentir exister et validé dans son égo  . L'air de rien, on a ici une vraie phase d'introspection.  Il pourrait par exemple s'agir de la mère du rappeur, sujet récurrent dans ses textes :  https://genius.com/2229814</td>\n",
       "    </tr>\n",
       "  </tbody>\n",
       "</table>\n",
       "</div>"
      ],
      "text/plain": [
       "        song_id  \\\n",
       "124716  434345    \n",
       "34183   3173827   \n",
       "125793  3115213   \n",
       "61028   69539     \n",
       "27225   3185013   \n",
       "\n",
       "                                                                                     lyric  \\\n",
       "124716  Wir spielen Tekken, ich guck nicht hin und box in trotzdem weg                       \n",
       "34183   Stary nie wyniósł talerzy                                                            \n",
       "125793  Up in Smoke auf jedem Tourstop, Tourstop  Baby, nenn mich Snoop Dogg, Snoop Dogg!    \n",
       "61028   Lässt sich fallen weich wie Schnee  Erst wird es heiß dann kalt am Ende tut es weh   \n",
       "27225   Pour elle j'prends la prochaine exit, grâce à elle je fuckin' existe                 \n",
       "\n",
       "                                                                                                                                                                                                                                                                                                                                                                                                                                                                                                                                                                                                                                                                                                                                                                                                            annotation  \n",
       "124716  Tekken ist eine Beat-‘em-up-Spielereihe des Herstellers Namco bzw. Namco Bandai Games.                                                                                                                                                                                                                                                                                                                                                                                                                                                                                                                                                                                                                                                                                                                          \n",
       "34183   Follow-up do kawałka Beodesa – A ty?  https://genius.com/9190624                                                                                                                                                                                                                                                                                                                                                                                                                                                                                                                                                                                                                                                                                                                                                \n",
       "125793   Die  Up in Smoke Tour  war eine Hip-Hop-Tour die im Jahr 2000 stattfand. Auf der Tour, die durch Nordamerika ging, promoteten  Dr. Dre ,  Snoop Dogg ,  Ice Cube  und  Eminem  jeweils ihre neuen Alben.  https://www.youtube.com/watch?v=oGFkGhm2CqE  Neben den vier Hauptrappern nahmen einige aus deren Umfeld stammende Rapper wie u.a.  Xzibit ,  Nate Dogg  oder  MC Ren  an der Tour teil.  Darüber hinaus wurde nach dem Ende der Tour eine DVD veröffentlicht, die die Auftritte und einige Backstage-Momente der Tour enthält.  Diese DVD hat auch Shindy ins einer Jugend häufig gesehen, wie er in Interviews angab. Außerdem rappt er davon auch auf dem Song  Dreams . Die   war also sehr prägend für Shindy als Künstler und scheinbar sieht er sie auch noch heute während er auf Tour ist.   \n",
       "61028    Duality: hot/cold.  Every relationship is bound to end in tears, either by                                                                                                                                                                                                                                                                                                                                                                                                                                                                                                                                                                                                                                                                                                                                     \n",
       "27225   Laissant entendre qu'une femme en particulier n'est pas un simple “passe temps” pour B2O, il nous indique ici que cette dernière a une influence effective sur sa vie   et que le regard qu'elle porte sur lui participe à le faire se sentir exister et validé dans son égo  . L'air de rien, on a ici une vraie phase d'introspection.  Il pourrait par exemple s'agir de la mère du rappeur, sujet récurrent dans ses textes :  https://genius.com/2229814                                                                                                                                                                                                                                                                                                                                                   "
      ]
     },
     "execution_count": 51,
     "metadata": {},
     "output_type": "execute_result"
    }
   ],
   "source": [
    "germ = annotations.lyric.apply(lambda x: any(g in x.lower() for g in ger))\n",
    "annotations[germ].sample(5)"
   ]
  },
  {
   "cell_type": "markdown",
   "metadata": {},
   "source": [
    "**Turkish**"
   ]
  },
  {
   "cell_type": "code",
   "execution_count": 52,
   "metadata": {},
   "outputs": [],
   "source": [
    "for e in eng:\n",
    "    try:\n",
    "        tur.remove(e)\n",
    "    except:\n",
    "        pass\n",
    "\n",
    "for t in tur:\n",
    "    if d.check(t):\n",
    "        try:\n",
    "            tur.remove(t)\n",
    "        except:\n",
    "            pass\n",
    "        \n",
    "tur = [' ' + t + ' ' for t in tur]"
   ]
  },
  {
   "cell_type": "code",
   "execution_count": 53,
   "metadata": {},
   "outputs": [
    {
     "data": {
      "text/html": [
       "<div>\n",
       "<style scoped>\n",
       "    .dataframe tbody tr th:only-of-type {\n",
       "        vertical-align: middle;\n",
       "    }\n",
       "\n",
       "    .dataframe tbody tr th {\n",
       "        vertical-align: top;\n",
       "    }\n",
       "\n",
       "    .dataframe thead th {\n",
       "        text-align: right;\n",
       "    }\n",
       "</style>\n",
       "<table border=\"1\" class=\"dataframe\">\n",
       "  <thead>\n",
       "    <tr style=\"text-align: right;\">\n",
       "      <th></th>\n",
       "      <th>song_id</th>\n",
       "      <th>lyric</th>\n",
       "      <th>annotation</th>\n",
       "    </tr>\n",
       "  </thead>\n",
       "  <tbody>\n",
       "    <tr>\n",
       "      <th>1441</th>\n",
       "      <td>2460916</td>\n",
       "      <td>Hvor min' tøser henne, der kan købe deres egen Stoli  Lækre, uafhængige bitches med deres egen money</td>\n",
       "      <td>Johnson efterlyser piger, der har råd til at købe deres egne drinks og dermed ikke er afhængige af en mands pengepung.</td>\n",
       "    </tr>\n",
       "    <tr>\n",
       "      <th>112994</th>\n",
       "      <td>133576</td>\n",
       "      <td>Viens faire un tour dans ce qu'on appelle le ghetto  D'la pisse dans l'ascenseur, si tu daignes quitter ta Merco</td>\n",
       "      <td>MC Solaar  s'exprime en ce début de chanson aux riches qui ne connaissent rien de la vie en banlieue.</td>\n",
       "    </tr>\n",
       "    <tr>\n",
       "      <th>31351</th>\n",
       "      <td>2428257</td>\n",
       "      <td>Ton talent n'se voit pas, tu rappes dans le vent  C'est comme pisser dans l'eau</td>\n",
       "      <td>Son talent est tellement invisible qu'il est semblable a du vent ont ne peut pas le voir , pisser dans l'eau sa ne se voit pas aussi .</td>\n",
       "    </tr>\n",
       "    <tr>\n",
       "      <th>124627</th>\n",
       "      <td>313570</td>\n",
       "      <td>Wieso bin ich für die BILD und BZ ne Attraktion</td>\n",
       "      <td>Bild ist eine deutsche, überregionale Boulevardzeitung, die werktäglich erscheint (Tageszeitung).   B.Z. ist eine Boulevardzeitung aus Berlin, die in der B.Z. Ullstein GmbH, einem 100%igen Tochterunternehmen der Axel Springer AG, erscheint.   Bushido ist immer in diesen Zeitungen.</td>\n",
       "    </tr>\n",
       "    <tr>\n",
       "      <th>67672</th>\n",
       "      <td>243244</td>\n",
       "      <td>Pour tous ceux qui se font chier dans leur boulot de merde  Bip bip  Travaille  Personne n'est obligé de travailler  N'oublie pas qu'on est que des morceaux de bidoche  La vie est courte  Personne t'oblige à subir quoi que ce soit  À toi de choisir</td>\n",
       "      <td>Référence à leur chanson “ A bas la hiérarchie ”.  http://www.youtube.com/watch?v=7bq8Yu_E9qw&amp;hd=1   Ju reprend la phrase “N'oublie pas qu'on n'est que des morceaux de bidoche” au cours d'une longue interview où il répondait aux questions posées en live sur un tchat.  Comme il en avait marre des questions bateau, il a décidé d'orienter ses fans vers l'idéologie profonde du CROU : “droit à la naïveté, droit à la faiblesse”, à l'inverse de l'idéologie qui veut qu'on soit fort et qu'on se batte pour gagner sa vie.  Ce sujet a l'air de lui tenir beaucoup à coeur.  Début du passage à 35min30 environ.  https://www.youtube.com/watch?v=5ob5vPWcxfw</td>\n",
       "    </tr>\n",
       "  </tbody>\n",
       "</table>\n",
       "</div>"
      ],
      "text/plain": [
       "        song_id  \\\n",
       "1441    2460916   \n",
       "112994  133576    \n",
       "31351   2428257   \n",
       "124627  313570    \n",
       "67672   243244    \n",
       "\n",
       "                                                                                                                                                                                                                                                           lyric  \\\n",
       "1441    Hvor min' tøser henne, der kan købe deres egen Stoli  Lækre, uafhængige bitches med deres egen money                                                                                                                                                       \n",
       "112994  Viens faire un tour dans ce qu'on appelle le ghetto  D'la pisse dans l'ascenseur, si tu daignes quitter ta Merco                                                                                                                                           \n",
       "31351   Ton talent n'se voit pas, tu rappes dans le vent  C'est comme pisser dans l'eau                                                                                                                                                                            \n",
       "124627  Wieso bin ich für die BILD und BZ ne Attraktion                                                                                                                                                                                                            \n",
       "67672   Pour tous ceux qui se font chier dans leur boulot de merde  Bip bip  Travaille  Personne n'est obligé de travailler  N'oublie pas qu'on est que des morceaux de bidoche  La vie est courte  Personne t'oblige à subir quoi que ce soit  À toi de choisir   \n",
       "\n",
       "                                                                                                                                                                                                                                                                                                                                                                                                                                                                                                                                                                                                                                                                      annotation  \n",
       "1441    Johnson efterlyser piger, der har råd til at købe deres egne drinks og dermed ikke er afhængige af en mands pengepung.                                                                                                                                                                                                                                                                                                                                                                                                                                                                                                                                                    \n",
       "112994  MC Solaar  s'exprime en ce début de chanson aux riches qui ne connaissent rien de la vie en banlieue.                                                                                                                                                                                                                                                                                                                                                                                                                                                                                                                                                                     \n",
       "31351   Son talent est tellement invisible qu'il est semblable a du vent ont ne peut pas le voir , pisser dans l'eau sa ne se voit pas aussi .                                                                                                                                                                                                                                                                                                                                                                                                                                                                                                                                    \n",
       "124627  Bild ist eine deutsche, überregionale Boulevardzeitung, die werktäglich erscheint (Tageszeitung).   B.Z. ist eine Boulevardzeitung aus Berlin, die in der B.Z. Ullstein GmbH, einem 100%igen Tochterunternehmen der Axel Springer AG, erscheint.   Bushido ist immer in diesen Zeitungen.                                                                                                                                                                                                                                                                                                                                                                                 \n",
       "67672   Référence à leur chanson “ A bas la hiérarchie ”.  http://www.youtube.com/watch?v=7bq8Yu_E9qw&hd=1   Ju reprend la phrase “N'oublie pas qu'on n'est que des morceaux de bidoche” au cours d'une longue interview où il répondait aux questions posées en live sur un tchat.  Comme il en avait marre des questions bateau, il a décidé d'orienter ses fans vers l'idéologie profonde du CROU : “droit à la naïveté, droit à la faiblesse”, à l'inverse de l'idéologie qui veut qu'on soit fort et qu'on se batte pour gagner sa vie.  Ce sujet a l'air de lui tenir beaucoup à coeur.  Début du passage à 35min30 environ.  https://www.youtube.com/watch?v=5ob5vPWcxfw   "
      ]
     },
     "execution_count": 53,
     "metadata": {},
     "output_type": "execute_result"
    }
   ],
   "source": [
    "turk = annotations.lyric.apply(lambda x: any(t in x for t in tur))\n",
    "annotations[turk].sample(5)"
   ]
  },
  {
   "cell_type": "markdown",
   "metadata": {},
   "source": [
    "### Filter by length"
   ]
  },
  {
   "cell_type": "code",
   "execution_count": 54,
   "metadata": {},
   "outputs": [],
   "source": [
    "toolong = annotations.lyric.str.len() > 1000"
   ]
  },
  {
   "cell_type": "markdown",
   "metadata": {},
   "source": [
    "### Get rid of bracketed text"
   ]
  },
  {
   "cell_type": "code",
   "execution_count": 55,
   "metadata": {},
   "outputs": [],
   "source": [
    "pattern = \"\\[.*\\]\"\n",
    "annotations['lyric_edit'] = annotations.lyric.str.replace(pattern, '', regex=True)"
   ]
  },
  {
   "cell_type": "code",
   "execution_count": 56,
   "metadata": {},
   "outputs": [
    {
     "data": {
      "text/html": [
       "<div>\n",
       "<style scoped>\n",
       "    .dataframe tbody tr th:only-of-type {\n",
       "        vertical-align: middle;\n",
       "    }\n",
       "\n",
       "    .dataframe tbody tr th {\n",
       "        vertical-align: top;\n",
       "    }\n",
       "\n",
       "    .dataframe thead th {\n",
       "        text-align: right;\n",
       "    }\n",
       "</style>\n",
       "<table border=\"1\" class=\"dataframe\">\n",
       "  <thead>\n",
       "    <tr style=\"text-align: right;\">\n",
       "      <th></th>\n",
       "      <th>song_id</th>\n",
       "      <th>lyric</th>\n",
       "      <th>annotation</th>\n",
       "      <th>lyric_edit</th>\n",
       "    </tr>\n",
       "  </thead>\n",
       "  <tbody>\n",
       "    <tr>\n",
       "      <th>51416</th>\n",
       "      <td>7477</td>\n",
       "      <td>Will be [?]</td>\n",
       "      <td>Should be “Moody tints of blue”</td>\n",
       "      <td>Will be</td>\n",
       "    </tr>\n",
       "    <tr>\n",
       "      <th>75384</th>\n",
       "      <td>129530</td>\n",
       "      <td>[Produced by Play-N-Skillz]</td>\n",
       "      <td>All beats on this tape were used on Wayne’s project  . This one was produced by Play-N-Skillz and for the song “ Got Money ”:  https://www.youtube.com/watch?v=8bkVOyNKf-Q</td>\n",
       "      <td></td>\n",
       "    </tr>\n",
       "    <tr>\n",
       "      <th>13141</th>\n",
       "      <td>68585</td>\n",
       "      <td>[Intro: Mario Savio]</td>\n",
       "      <td>Mario Savio  was a political activist who lived from 1942 – 96 and was most famous for the speech that follows.</td>\n",
       "      <td></td>\n",
       "    </tr>\n",
       "    <tr>\n",
       "      <th>20441</th>\n",
       "      <td>162517</td>\n",
       "      <td>[Pre-Hook] Be who you are Be who you are Know that life holds more than what you see Rise up little man rise up little man</td>\n",
       "      <td>She preaches the motto “be yourself” here. Even when you are down you need to remember you are important in this world and that you have more potential then you have realized and you will do great things later in life. No matter what, she will be there for support when you rise up against their enemies and doubters.</td>\n",
       "      <td>Be who you are Be who you are Know that life holds more than what you see Rise up little man rise up little man</td>\n",
       "    </tr>\n",
       "    <tr>\n",
       "      <th>30836</th>\n",
       "      <td>52591</td>\n",
       "      <td>[Pre-Chorus: JAY-Z]</td>\n",
       "      <td>This pre-hook is the same as the  hook  for the original  “Girls, Girls, Girls”.</td>\n",
       "      <td></td>\n",
       "    </tr>\n",
       "  </tbody>\n",
       "</table>\n",
       "</div>"
      ],
      "text/plain": [
       "       song_id  \\\n",
       "51416  7477      \n",
       "75384  129530    \n",
       "13141  68585     \n",
       "20441  162517    \n",
       "30836  52591     \n",
       "\n",
       "                                                                                                                            lyric  \\\n",
       "51416  Will be [?]                                                                                                                  \n",
       "75384  [Produced by Play-N-Skillz]                                                                                                  \n",
       "13141  [Intro: Mario Savio]                                                                                                         \n",
       "20441  [Pre-Hook] Be who you are Be who you are Know that life holds more than what you see Rise up little man rise up little man   \n",
       "30836  [Pre-Chorus: JAY-Z]                                                                                                          \n",
       "\n",
       "                                                                                                                                                                                                                                                                                                                           annotation  \\\n",
       "51416  Should be “Moody tints of blue”                                                                                                                                                                                                                                                                                                  \n",
       "75384  All beats on this tape were used on Wayne’s project  . This one was produced by Play-N-Skillz and for the song “ Got Money ”:  https://www.youtube.com/watch?v=8bkVOyNKf-Q                                                                                                                                                       \n",
       "13141  Mario Savio  was a political activist who lived from 1942 – 96 and was most famous for the speech that follows.                                                                                                                                                                                                                  \n",
       "20441  She preaches the motto “be yourself” here. Even when you are down you need to remember you are important in this world and that you have more potential then you have realized and you will do great things later in life. No matter what, she will be there for support when you rise up against their enemies and doubters.    \n",
       "30836  This pre-hook is the same as the  hook  for the original  “Girls, Girls, Girls”.                                                                                                                                                                                                                                                 \n",
       "\n",
       "                                                                                                             lyric_edit  \n",
       "51416  Will be                                                                                                           \n",
       "75384                                                                                                                    \n",
       "13141                                                                                                                    \n",
       "20441   Be who you are Be who you are Know that life holds more than what you see Rise up little man rise up little man  \n",
       "30836                                                                                                                    "
      ]
     },
     "execution_count": 56,
     "metadata": {},
     "output_type": "execute_result"
    }
   ],
   "source": [
    "annotations[annotations.lyric.str.contains(pattern)].sample(5)"
   ]
  },
  {
   "cell_type": "code",
   "execution_count": 57,
   "metadata": {},
   "outputs": [],
   "source": [
    "empty = annotations.lyric_edit.str.strip().str.len() == 0"
   ]
  },
  {
   "cell_type": "markdown",
   "metadata": {},
   "source": [
    "### Filter them out"
   ]
  },
  {
   "cell_type": "code",
   "execution_count": 58,
   "metadata": {},
   "outputs": [
    {
     "data": {
      "text/plain": [
       "False    208584\n",
       "True     19860 \n",
       "dtype: int64"
      ]
     },
     "execution_count": 58,
     "metadata": {},
     "output_type": "execute_result"
    }
   ],
   "source": [
    "fil = germ | port | chi | jap | turk | toolong | empty\n",
    "fil.value_counts()"
   ]
  },
  {
   "cell_type": "code",
   "execution_count": 59,
   "metadata": {},
   "outputs": [],
   "source": [
    "annotations = annotations[fil == False]"
   ]
  },
  {
   "cell_type": "markdown",
   "metadata": {},
   "source": [
    "### Split and save"
   ]
  },
  {
   "cell_type": "code",
   "execution_count": 60,
   "metadata": {},
   "outputs": [],
   "source": [
    "# Add spaces to separate quotations\n",
    "annotations.lyric_edit = ' ' + annotations.lyric_edit.astype(str) + ' '\n",
    "annotations.annotation = ' ' + annotations.annotation.astype(str) + ' '"
   ]
  },
  {
   "cell_type": "code",
   "execution_count": 61,
   "metadata": {},
   "outputs": [
    {
     "data": {
      "text/html": [
       "<div>\n",
       "<style scoped>\n",
       "    .dataframe tbody tr th:only-of-type {\n",
       "        vertical-align: middle;\n",
       "    }\n",
       "\n",
       "    .dataframe tbody tr th {\n",
       "        vertical-align: top;\n",
       "    }\n",
       "\n",
       "    .dataframe thead th {\n",
       "        text-align: right;\n",
       "    }\n",
       "</style>\n",
       "<table border=\"1\" class=\"dataframe\">\n",
       "  <thead>\n",
       "    <tr style=\"text-align: right;\">\n",
       "      <th></th>\n",
       "      <th>song_id</th>\n",
       "      <th>lyric</th>\n",
       "      <th>annotation</th>\n",
       "      <th>lyric_edit</th>\n",
       "    </tr>\n",
       "  </thead>\n",
       "  <tbody>\n",
       "    <tr>\n",
       "      <th>0</th>\n",
       "      <td>3477888</td>\n",
       "      <td>[Verse 3: Kendrick Lamar]  Yeah  Say got work for Kung Fu Kenny  Know you got work, got work for plenty  Him got, her got, more got, Benji  Damn  Top off, getting topped off in the city  Big Top Dawg and I dance on 'em like Diddy  Pop off and I pop back like Fifty  Yeah</td>\n",
       "      <td>This part was in the first place believed to be a verse  tailored for the performance.  12 days after the performance, on February 9th, it turned out that the verse was in fact a sneek peak previewing a song from the  Black Panther album :  “Big Shot”  [BLOCKQUOTE]</td>\n",
       "      <td>Yeah  Say got work for Kung Fu Kenny  Know you got work, got work for plenty  Him got, her got, more got, Benji  Damn  Top off, getting topped off in the city  Big Top Dawg and I dance on 'em like Diddy  Pop off and I pop back like Fifty  Yeah</td>\n",
       "    </tr>\n",
       "    <tr>\n",
       "      <th>1</th>\n",
       "      <td>3477888</td>\n",
       "      <td>[Verse 6: Kendrick Lamar]  Never had friends, never had ends  Never had hope, they was like \"nope\"  I was like \"boo yaow\"  (Yeah, God)  Tee off the day  Know we off the, be off the, eat off your plate  Throw me off, I be, \"Off ya head\"  Well ate, on C4, I'm way off the edge  Burn integrity, burn your pedigree, burn your feelings  Burn your culture, burn your moral, burn your family  Burn your job, burn your land, burn your children, burn your wives  Who am I? Not your father, not your brother  Not your reason, not your future  Not your comfort, not your reverence, not your glory  Not your heaven, not your angel, not your spirit  Not your message, not your freedom  Not your people, not your neighbor  Not your baby, not your equal  Not the title y'all want me under  All hail King Killmonger</td>\n",
       "      <td>Kendrick continues his verse from  “King’s Dead”  with his dancers surrounding him in red attire.  With every successive topic, a red spark fires off in the air and an audible gunshot sounds, as one-by-one every dancer in red falls to the ground. This can be seen as symbolizing the death of these abstract titles given by society.</td>\n",
       "      <td>Never had friends, never had ends  Never had hope, they was like \"nope\"  I was like \"boo yaow\"  (Yeah, God)  Tee off the day  Know we off the, be off the, eat off your plate  Throw me off, I be, \"Off ya head\"  Well ate, on C4, I'm way off the edge  Burn integrity, burn your pedigree, burn your feelings  Burn your culture, burn your moral, burn your family  Burn your job, burn your land, burn your children, burn your wives  Who am I? Not your father, not your brother  Not your reason, not your future  Not your comfort, not your reverence, not your glory  Not your heaven, not your angel, not your spirit  Not your message, not your freedom  Not your people, not your neighbor  Not your baby, not your equal  Not the title y'all want me under  All hail King Killmonger</td>\n",
       "    </tr>\n",
       "    <tr>\n",
       "      <th>2</th>\n",
       "      <td>3477888</td>\n",
       "      <td>[Verse 5: Kendrick Lamar]  Red light, green light, red light, green light  Red light, green light, they like, we like  Fast cars, fast money, fast life, fast broads  Egotistic, goin' ballistic, why God?  Born warrior, lookin' for euphoria, but I don't see it  I don't feel it, I'm paraplegic, tapped in when I'm maxed in  Comp-Town with the MAC 10s and the pumps in the background  Absent, never OG, standout  Lackin' everything else but doubt  Magnum, holding Magnums with a Magnum  Homie, ad-lib and I sing out loud  Never had friends, never had ends, never had hope  They was like, \"Nope,\" I was like, \"Boo yaow, boo yaow\"</td>\n",
       "      <td>Kendrick switches up the flow once again with red smoke streaming from the top of the stage while dancer/choreographer  Charm La'Donna  accompanies him.  This verse comes from the freshly minted  Jay Rock  track,  “King’s Dead,”  which is featured in the upcoming Marvel soundtrack for  .</td>\n",
       "      <td>Red light, green light, red light, green light  Red light, green light, they like, we like  Fast cars, fast money, fast life, fast broads  Egotistic, goin' ballistic, why God?  Born warrior, lookin' for euphoria, but I don't see it  I don't feel it, I'm paraplegic, tapped in when I'm maxed in  Comp-Town with the MAC 10s and the pumps in the background  Absent, never OG, standout  Lackin' everything else but doubt  Magnum, holding Magnums with a Magnum  Homie, ad-lib and I sing out loud  Never had friends, never had ends, never had hope  They was like, \"Nope,\" I was like, \"Boo yaow, boo yaow\"</td>\n",
       "    </tr>\n",
       "    <tr>\n",
       "      <th>3</th>\n",
       "      <td>3477888</td>\n",
       "      <td>[Verse 4: Kendrick Lamar]  I gotta dance  I Milly Rock when I get that advance  How can I shop with like 64 M's?  Talkin' to Top about business again  He want some lot with new Bentleys again  I want some top from like two sets of twins  Twenty twin twins, yeah, yeah</td>\n",
       "      <td>This part of Kendrick’s performance comes from his feature on  Rich The Kid ’s  “New Freezer” .  The full verse is as followed:  [BLOCKQUOTE]</td>\n",
       "      <td>I gotta dance  I Milly Rock when I get that advance  How can I shop with like 64 M's?  Talkin' to Top about business again  He want some lot with new Bentleys again  I want some top from like two sets of twins  Twenty twin twins, yeah, yeah</td>\n",
       "    </tr>\n",
       "    <tr>\n",
       "      <th>4</th>\n",
       "      <td>3477888</td>\n",
       "      <td>Part III: Freestyle</td>\n",
       "      <td>During this freestyle segment, Charm La'Donna, a dancer who has been working with Kendrick since 2015, beats on a taiko drum (to a pre-recorded sound clip). After the freestyle, Charm begins to dance while Kendrick spits part of his verse from  “New Freezer” .  The freestyle would later be part of Kendrick’s verse on  “Big Shot” , a track on  the Black Panther soundtrack  that features  Travis Scott .</td>\n",
       "      <td>Part III: Freestyle</td>\n",
       "    </tr>\n",
       "  </tbody>\n",
       "</table>\n",
       "</div>"
      ],
      "text/plain": [
       "   song_id  \\\n",
       "0  3477888   \n",
       "1  3477888   \n",
       "2  3477888   \n",
       "3  3477888   \n",
       "4  3477888   \n",
       "\n",
       "                                                                                                                                                                                                                                                                                                                                                                                                                                                                                                                                                                                                                                                                                                                                                                                                                             lyric  \\\n",
       "0  [Verse 3: Kendrick Lamar]  Yeah  Say got work for Kung Fu Kenny  Know you got work, got work for plenty  Him got, her got, more got, Benji  Damn  Top off, getting topped off in the city  Big Top Dawg and I dance on 'em like Diddy  Pop off and I pop back like Fifty  Yeah                                                                                                                                                                                                                                                                                                                                                                                                                                                                                                                                                    \n",
       "1  [Verse 6: Kendrick Lamar]  Never had friends, never had ends  Never had hope, they was like \"nope\"  I was like \"boo yaow\"  (Yeah, God)  Tee off the day  Know we off the, be off the, eat off your plate  Throw me off, I be, \"Off ya head\"  Well ate, on C4, I'm way off the edge  Burn integrity, burn your pedigree, burn your feelings  Burn your culture, burn your moral, burn your family  Burn your job, burn your land, burn your children, burn your wives  Who am I? Not your father, not your brother  Not your reason, not your future  Not your comfort, not your reverence, not your glory  Not your heaven, not your angel, not your spirit  Not your message, not your freedom  Not your people, not your neighbor  Not your baby, not your equal  Not the title y'all want me under  All hail King Killmonger   \n",
       "2  [Verse 5: Kendrick Lamar]  Red light, green light, red light, green light  Red light, green light, they like, we like  Fast cars, fast money, fast life, fast broads  Egotistic, goin' ballistic, why God?  Born warrior, lookin' for euphoria, but I don't see it  I don't feel it, I'm paraplegic, tapped in when I'm maxed in  Comp-Town with the MAC 10s and the pumps in the background  Absent, never OG, standout  Lackin' everything else but doubt  Magnum, holding Magnums with a Magnum  Homie, ad-lib and I sing out loud  Never had friends, never had ends, never had hope  They was like, \"Nope,\" I was like, \"Boo yaow, boo yaow\"                                                                                                                                                                                 \n",
       "3  [Verse 4: Kendrick Lamar]  I gotta dance  I Milly Rock when I get that advance  How can I shop with like 64 M's?  Talkin' to Top about business again  He want some lot with new Bentleys again  I want some top from like two sets of twins  Twenty twin twins, yeah, yeah                                                                                                                                                                                                                                                                                                                                                                                                                                                                                                                                                       \n",
       "4  Part III: Freestyle                                                                                                                                                                                                                                                                                                                                                                                                                                                                                                                                                                                                                                                                                                                                                                                                               \n",
       "\n",
       "                                                                                                                                                                                                                                                                                                                                                                                                                annotation  \\\n",
       "0   This part was in the first place believed to be a verse  tailored for the performance.  12 days after the performance, on February 9th, it turned out that the verse was in fact a sneek peak previewing a song from the  Black Panther album :  “Big Shot”  [BLOCKQUOTE]                                                                                                                                                \n",
       "1   Kendrick continues his verse from  “King’s Dead”  with his dancers surrounding him in red attire.  With every successive topic, a red spark fires off in the air and an audible gunshot sounds, as one-by-one every dancer in red falls to the ground. This can be seen as symbolizing the death of these abstract titles given by society.                                                                              \n",
       "2   Kendrick switches up the flow once again with red smoke streaming from the top of the stage while dancer/choreographer  Charm La'Donna  accompanies him.  This verse comes from the freshly minted  Jay Rock  track,  “King’s Dead,”  which is featured in the upcoming Marvel soundtrack for  .                                                                                                                         \n",
       "3   This part of Kendrick’s performance comes from his feature on  Rich The Kid ’s  “New Freezer” .  The full verse is as followed:  [BLOCKQUOTE]                                                                                                                                                                                                                                                                            \n",
       "4   During this freestyle segment, Charm La'Donna, a dancer who has been working with Kendrick since 2015, beats on a taiko drum (to a pre-recorded sound clip). After the freestyle, Charm begins to dance while Kendrick spits part of his verse from  “New Freezer” .  The freestyle would later be part of Kendrick’s verse on  “Big Shot” , a track on  the Black Panther soundtrack  that features  Travis Scott .     \n",
       "\n",
       "                                                                                                                                                                                                                                                                                                                                                                                                                                                                                                                                                                                                                                                                                                                                                                                                 lyric_edit  \n",
       "0     Yeah  Say got work for Kung Fu Kenny  Know you got work, got work for plenty  Him got, her got, more got, Benji  Damn  Top off, getting topped off in the city  Big Top Dawg and I dance on 'em like Diddy  Pop off and I pop back like Fifty  Yeah                                                                                                                                                                                                                                                                                                                                                                                                                                                                                                                                                    \n",
       "1     Never had friends, never had ends  Never had hope, they was like \"nope\"  I was like \"boo yaow\"  (Yeah, God)  Tee off the day  Know we off the, be off the, eat off your plate  Throw me off, I be, \"Off ya head\"  Well ate, on C4, I'm way off the edge  Burn integrity, burn your pedigree, burn your feelings  Burn your culture, burn your moral, burn your family  Burn your job, burn your land, burn your children, burn your wives  Who am I? Not your father, not your brother  Not your reason, not your future  Not your comfort, not your reverence, not your glory  Not your heaven, not your angel, not your spirit  Not your message, not your freedom  Not your people, not your neighbor  Not your baby, not your equal  Not the title y'all want me under  All hail King Killmonger   \n",
       "2     Red light, green light, red light, green light  Red light, green light, they like, we like  Fast cars, fast money, fast life, fast broads  Egotistic, goin' ballistic, why God?  Born warrior, lookin' for euphoria, but I don't see it  I don't feel it, I'm paraplegic, tapped in when I'm maxed in  Comp-Town with the MAC 10s and the pumps in the background  Absent, never OG, standout  Lackin' everything else but doubt  Magnum, holding Magnums with a Magnum  Homie, ad-lib and I sing out loud  Never had friends, never had ends, never had hope  They was like, \"Nope,\" I was like, \"Boo yaow, boo yaow\"                                                                                                                                                                                 \n",
       "3     I gotta dance  I Milly Rock when I get that advance  How can I shop with like 64 M's?  Talkin' to Top about business again  He want some lot with new Bentleys again  I want some top from like two sets of twins  Twenty twin twins, yeah, yeah                                                                                                                                                                                                                                                                                                                                                                                                                                                                                                                                                       \n",
       "4   Part III: Freestyle                                                                                                                                                                                                                                                                                                                                                                                                                                                                                                                                                                                                                                                                                                                                                                                      "
      ]
     },
     "execution_count": 61,
     "metadata": {},
     "output_type": "execute_result"
    }
   ],
   "source": [
    "annotations.head()"
   ]
  },
  {
   "cell_type": "code",
   "execution_count": 62,
   "metadata": {},
   "outputs": [],
   "source": [
    "lyric_train, lyric_val, y_train, y_val = train_test_split(annotations.lyric_edit, annotations.annotation, test_size=0.1)"
   ]
  },
  {
   "cell_type": "code",
   "execution_count": 63,
   "metadata": {},
   "outputs": [],
   "source": [
    "lyric_train.to_csv('./Data_Collection/data_200/src-train.txt', header=None, index=None, sep=' ')\n",
    "lyric_val.to_csv('./Data_Collection/data_200/src-val.txt', header=None, index=None, sep=' ')\n",
    "y_train.to_csv('./Data_Collection/data_200/tgt-train.txt', header=None, index=None, sep=' ')\n",
    "y_val.to_csv('./Data_Collection/data_200/tgt-val.txt', header=None, index=None, sep=' ')"
   ]
  },
  {
   "cell_type": "code",
   "execution_count": 65,
   "metadata": {},
   "outputs": [
    {
     "data": {
      "text/plain": [
       "(187725,)"
      ]
     },
     "execution_count": 65,
     "metadata": {},
     "output_type": "execute_result"
    }
   ],
   "source": [
    "y_train.shape"
   ]
  },
  {
   "cell_type": "markdown",
   "metadata": {},
   "source": [
    "### Run these cells first"
   ]
  },
  {
   "cell_type": "code",
   "execution_count": 37,
   "metadata": {},
   "outputs": [],
   "source": [
    "por = ['como', 'I', 'seu', 'que', 'ele', 'foi', 'para', 'em', 'são', 'com', 'eles', 'ser', 'em', 'uma', 'tem', 'este', 'a partir de', 'por', 'quente', 'palavra', 'mas', 'o que', 'alguns', 'é', 'ele', 'você', 'ou', 'teve', 'o', 'de', 'a', 'e', 'uma', 'em', 'nós', 'lata', 'fora', 'outro', 'foram', 'que', 'fazer', 'seu', 'tempo', 'se', 'vontade', 'como', 'disse', 'uma', 'cada', 'dizer', 'faz', 'conjunto', 'três', 'quer', 'ar', 'bem', 'também', 'jogar', 'pequeno', 'fim', 'colocar', 'casa', 'ler', 'mão', 'port', 'grande', 'soletrar', 'adicionar', 'mesmo', 'terra', 'aqui', 'necessário', 'grande', 'alto', 'tais', 'siga', 'ato', 'por que', 'perguntar', 'homens', 'mudança', 'fui', 'luz', 'tipo', 'off', 'precisa', 'casa', 'imagem', 'tentar', 'nós', 'novamente', 'animais', 'ponto', 'mãe', 'mundo', 'perto', 'construir', 'auto', 'terra', 'pai', 'qualquer', 'novo', 'trabalho', 'parte', 'tomar', 'obter', 'lugar', 'feito', 'viver', 'onde', 'depois', 'de volta', 'pouco', 'apenas', 'rodada', 'homem', 'ano', 'veio', 'exposição', 'cada', 'bom', 'me', 'dar', 'nossa', 'sob', 'nome', 'muito', 'através', 'justo', 'forma', 'sentença', 'grande', 'acho que', 'dizer', 'ajudar', 'baixo', 'linha', 'diferir', 'vez', 'causa', 'muito', 'significar', 'antes', 'mudança', 'direito', 'menino', 'velho', 'também', 'mesmo', 'ela', 'tudo', 'lá', 'quando', 'up', 'usar', 'seu', 'maneira', 'sobre', 'muitos', 'depois', 'eles', 'escrever', 'faria', 'como', 'assim', 'estes', 'seu', 'longo', 'fazer', 'coisa', 'veja', 'ele', 'dois', 'tem', 'olhar', 'mais', 'dia', 'poderia', 'ir', 'vir', 'fez', 'número', 'som', 'não', 'mais', 'pessoas', 'meu', 'sobre', 'sei', 'água', 'que', 'chamada', 'primeiro', 'que', 'pode', 'para baixo', 'lado', 'sido', 'agora', 'encontrar', 'cabeça', 'ficar', 'próprio', 'página', 'deveria', 'país', 'encontrado', 'resposta', 'escola', 'crescer', 'estudo', 'ainda', 'aprender', 'planta', 'cobertura', 'alimentos', 'sol', 'quatro', 'entre', 'estado', 'manter', 'olho', 'nunca', 'último', 'deixar', 'pensava', 'cidade', 'árvore', 'atravessar', 'fazenda', 'difícil', 'começo', 'poder', 'história', 'serra', 'longe', 'mar', 'desenhar', 'esquerda', 'tarde', 'run', 'não', 'enquanto', 'imprensa', 'perto', 'noite', 'reais', 'vida', 'poucos', 'norte', 'livro', 'carregam', 'tomou', 'ciência', 'comer', 'quarto', 'amigo', 'começou', 'idéia', 'peixe', 'montanha', 'Pare', 'uma vez', 'base', 'ouvir', 'cavalo', 'corte', 'certo', 'assista', 'cor', 'rosto', 'madeira', 'principal', 'aberto', 'parecem', 'juntos', 'próximo', 'branco', 'crianças', 'início', 'tem', 'andar', 'exemplo', 'facilidade', 'papel', 'grupo', 'sempre', 'música', 'aqueles', 'tanto', 'marca', 'muitas vezes', 'carta', 'até', 'milha', 'rio', 'carro', 'pés', 'cuidados', 'segunda', 'suficiente', 'plain', 'menina', 'habitual', 'jovem', 'pronto', 'acima', 'sempre', 'vermelho', 'lista', 'embora', 'sentir', 'Discussão', 'pássaro', 'em breve', 'corpo', 'cão', 'família', 'direto', 'representar', 'deixar', 'canção', 'medir', 'porta', 'produto', 'preto', 'curta', 'numeral', 'classe', 'vento', 'pergunta', 'acontecer', 'completo', 'navio', 'área', 'metade', 'rocha', 'ordem', 'fogo', 'sul', 'problema', 'peça', 'disse', 'sabia', 'passar', 'desde', 'topo', 'inteiro', 'rei', 'rua', 'polegada', 'multiplicar', 'nada', 'curso', 'ficar', 'roda', 'completo', 'força', 'azul', 'objeto', 'decidir', 'superfície', 'profunda', 'lua', 'ilha', 'pé', 'sistema', 'ocupado', 'teste', 'registro', 'barco', 'comum', 'ouro', 'possível', 'avião', 'lugar', 'seca', 'pergunto', 'risada', 'mil', 'atrás', 'ran', 'verifique', 'jogo', 'forma', 'equiparar', 'quente', 'senhorita', 'trouxe', 'calor', 'neve', 'pneu', 'trazer', 'sim', 'distante', 'preencher', 'leste', 'pintar', 'linguagem', 'entre', 'unidade', 'poder', 'cidade', 'multa', 'certo', 'voar', 'cair', 'conduzir', 'grito', 'escuro', 'máquina', 'nota', 'esperar', 'plano', 'figura', 'estrela', 'caixa', 'substantivo', 'campo', 'resto', 'correto', 'capaz', 'libra', 'done', 'beleza', 'unidade', 'se', 'contêm', 'frente', 'ensinar', 'semana', 'finais', 'deu', 'verde', 'ó', 'rápida', 'desenvolver', 'oceano', 'quente', 'livre', 'minuto', 'forte', 'especial', 'mente', 'atrás', 'claro', 'cauda', 'produzir', 'fato', 'espaço', 'ouvido', 'melhor', 'horas', 'melhor', 'verdade', 'durante', 'cem', 'cinco', 'lembre-se', 'passo', 'cedo', 'segurar', 'oeste', 'solo', 'juros', 'alcançar', 'rápido', 'verbo', 'cantar', 'ouça', 'seis', 'mesa', 'viagens', 'menos', 'manhã', 'dez', 'simples', 'vários', 'vogal', 'direção', 'guerra', 'lay', 'contra', 'padrão', 'lento', 'centro', 'amo', 'pessoa', 'dinheiro', 'servir', 'aparecer', 'estrada', 'mapa', 'chuva', 'regra', 'governar', 'puxe', 'frio', 'aviso', 'voz', 'energia', 'caça', 'provável', 'cama', 'irmão', 'ovo', 'passeio', 'celular', 'acreditar', 'talvez', 'escolher', 'súbita', 'contar', 'quadrado', 'razão', 'comprimento', 'representar', 'arte', 'assunto', 'região', 'tamanho', 'variar', 'resolver', 'falar', 'peso', 'geral', 'gelo', 'assunto', 'círculo', 'par', 'incluir', 'dividir', 'sílaba', 'sentido', 'grande', 'bola', 'ainda', 'onda', 'cair', 'coração', 'am', 'presente', 'pesado', 'dança', 'motor', 'posição', 'braço', 'ampla', 'vela', 'material de', 'fração', 'floresta', 'sentar-se', 'corrida', 'janela', 'loja', 'verão', 'trem', 'sono', 'provar', 'solitário', 'perna', 'exercício', 'parede', 'captura', 'mount', 'desejo', 'céu', 'conselho', 'alegria', 'inverno', 'sat', 'escrito', 'selvagem', 'instrumento', 'guardado', 'vidro', 'grama', 'vaca', 'trabalho', 'borda', 'sinal', 'visita', 'passado', 'suave', 'diversão', 'brilhante', 'gás', 'tempo', 'mês', 'milhão', 'suportar', 'acabamento', 'feliz', 'Esperamos', 'flor', 'vestir', 'estranho', 'gone', 'comércio', 'melodia', 'viagem', 'escritório', 'receber', 'linha', 'boca', 'exata', 'símbolo', 'morrer', 'menos', 'dificuldade', 'grito', 'exceto', 'escreveu', 'semente', 'tom', 'juntar-se', 'sugerir', 'limpo', 'pausa', 'senhora', 'quintal', 'subir', 'ruim', 'golpe', 'óleo', 'sangue', 'tocar', 'cresceu', 'cento', 'misturar', 'equipe', 'fio', 'custo', 'perdido', 'marrom', 'desgaste', 'jardim', 'igual', 'enviado', 'escolher', 'caiu', 'caber', 'fluir', 'feira', 'banco', 'recolher', 'salvar', 'controle', 'decimal', 'ouvido', 'mais', 'bastante', 'quebrado', 'caso', 'meio', 'matar', 'filho', 'lago', 'momento', 'escala', 'alto', 'primavera', 'observar', 'criança', 'reta', 'consoante', 'nação', 'dicionário', 'leite', 'velocidade', 'método', 'órgão', 'pagar', 'idade', 'seção', 'vestido', 'nuvem', 'surpresa', 'calma', 'pedra', 'minúsculo', 'subida', 'legal', 'projeto', 'pobre', 'muito', 'experiência', 'inferior', 'chave', 'ferro', 'único', 'vara', 'plana', 'vinte', 'pele', 'sorriso', 'vinco', 'buraco', 'saltar', 'bebê', 'oito', 'aldeia', 'meet', 'raiz', 'comprar', 'levantar', 'resolver', 'de metal', 'se', 'empurre', 'sete', 'parágrafo', 'terceiro', 'deve', 'held', 'cabelo', 'descrever', 'cozinheiro', 'piso', 'ou', 'resultado', 'queimar', 'hill', 'seguro', 'cat', 'século', 'considerar', 'tipo', 'direito', 'bit', 'costa', 'cópia', 'frase', 'silenciosa', 'alto', 'areia', 'solo', 'rolo', 'temperatura', 'dedo', 'indústria', 'valor', 'luta', 'mentira', 'bater', 'excitar', 'naturais', 'vista', 'sentido', 'Capital', 'não vai', 'cadeira', 'perigo', 'frutas', 'rico', 'grossa', 'soldado', 'processo', 'operar', 'prática', 'separado', 'difícil', 'médico', 'por favor', 'proteger', 'meio-dia', 'colheita', 'moderno', 'elemento', 'acertar', 'estudante', 'canto', 'festa', 'fornecimento', 'cuja', 'localizar', 'anel', 'caráter', 'inseto', 'capturados', 'período', 'indicam', 'rádio', 'falou', 'átomo', 'humano', 'história', 'efeito', 'elétrica', 'esperar', 'osso', 'trilho', 'imaginar', 'fornecer', 'concordar', 'assim', 'suave', 'mulher', 'capitão', 'acho que', 'necessário', 'sharp', 'asa', 'criar', 'vizinho', 'lavagem', 'bat', 'vez', 'multidão', 'milho', 'comparar', 'poema', 'corda', 'sino', 'dependem', 'carne', 'esfregar', 'tubo', 'famoso', 'dólar', 'córrego', 'medo', 'vista', 'fina', 'triângulo', 'planeta', 'apressar', 'chefe', 'colônia', 'relógio', 'mina', 'amarrar', 'introduzir', 'maior', 'fresco', 'pesquisa', 'enviar', 'amarelo', 'pistola', 'permitir', 'impressão', 'morto', 'local', 'deserto', 'terno', 'atual', 'elevador', 'aumentou', 'chegar', 'mestre', 'trilha', 'pai', 'costa', 'divisão', 'folha', 'substância', 'favorecer', 'conectar', 'pós', 'passar', 'acorde', 'gordura', 'feliz', 'original', 'share', 'estação', 'pai', 'pão', 'cobrar', 'adequada', 'bar', 'oferta', 'segmento', 'escravo', 'pato', 'instant', 'mercado', 'grau', 'preencher', 'pinto', 'caro', 'inimigo', 'responder', 'bebida', 'ocorrer', 'apoio', 'discurso', 'natureza', 'gama', 'vapor', 'movimento', 'caminho', 'líquido', 'log', 'significava', 'quociente', 'dentes', 'casca', 'pescoço', 'oxigênio', 'açúcar', 'morte', 'bastante', 'habilidade', 'mulheres', 'temporada', 'solução', 'ímã', 'prata', 'obrigado', 'ramo', 'jogo', 'sufixo', 'especialmente', 'figo', 'medo', 'enorme', 'irmã', 'aço', 'discutir', 'para a frente', 'similar', 'orientar', 'experiência', 'contagem', 'maçã', 'comprou', 'conduziu', 'campo', 'casaco', 'massa', 'cartão', 'banda', 'corda', 'deslizamento', 'vitória', 'sonhar', 'noite', 'condição', 'alimentação', 'ferramenta', 'total de', 'básico', 'cheiro', 'vale', 'nem', 'duplo', 'assento', 'continuar', 'bloco', 'gráfico', 'chapéu', 'vender', 'sucesso', 'companhia', 'subtrair', 'evento', 'especial', 'negócio', 'mergulho', 'prazo', 'oposto', 'esposa', 'sapato', 'ombro', 'propagação', 'organizar', 'acampamento', 'inventar', 'algodão', 'Nascido', 'determinar', 'quarto', 'nove', 'caminhão', 'ruído', 'nível', 'oportunidade', 'recolher', 'loja', 'trecho', 'jogar', 'brilho', 'propriedade', 'coluna', 'molécula', 'selecione', 'errado', 'cinza', 'repetição', 'exigir', 'amplo', 'preparar', 'sal', 'nariz', 'plural', 'raiva', 'reivindicação', 'continente']"
   ]
  },
  {
   "cell_type": "code",
   "execution_count": 38,
   "metadata": {},
   "outputs": [],
   "source": [
    "ger = ['wie', 'ich', 'seine', 'dass', 'er', 'war', 'für', 'auf', 'sind', 'mit', 'sie', 'sein', 'bei', 'ein', 'haben', 'dies', 'aus', 'durch', 'heiß', 'Wort', 'aber', 'was', 'einige', 'ist', 'es', 'Sie', 'oder', 'hatte', 'die', 'von', 'zu', 'und', 'ein', 'bei', 'wir', 'können', 'aus', 'andere', 'waren', 'die', 'tun', 'ihre', 'Zeit', 'wenn', 'werden', 'wie', 'sagte', 'ein', 'jeder', 'sagen', 'tut', 'Satz', 'drei', 'wollen', 'Luft', 'gut', 'auch', 'spielen', 'klein', 'Ende', 'setzen', 'Zuhause', 'lesen', 'seits', 'Hafen', 'groß', 'buchstabieren', 'hinzufügen', 'auch', 'Lande', 'hier', 'muss', 'groß', 'hoch', 'so', 'folgen', 'Akt', 'warum', 'fragen', 'Männer', 'Veränderung', 'ging', 'Licht', 'Art', 'aus', 'müssen', 'Haus', 'Bild', 'versuchen', 'uns', 'wieder', 'Tier', 'Punkt', 'Mutter', 'Welt', 'in der Nähe von', 'bauen', 'selbst', 'Erde', 'Vater', 'jeder', 'neu', 'Arbeit', 'Teil', 'nehmen', 'erhalten', 'Ort', 'gemacht', 'leben', 'wo', 'nach', 'zurück', 'wenig', 'nur', 'Runde', 'Mann', 'Jahr', 'kam', 'zeigen', 'jeder', 'gut', 'mir', 'geben', 'unsere', 'unter', 'Name', 'sehr', 'durch', 'nur', 'Formular', 'Satz', 'groß', 'denken', 'sagen', 'Hilfe', 'niedrig', 'Linie', 'abweichen', 'wiederum', 'Ursache', 'viel', 'bedeuten', 'vor', 'Umzug', 'Recht', 'Junge', 'alt', 'zu', 'gleich', 'sie', 'alle', 'da', 'wenn', 'nach oben', 'Verwendung', 'Ihre', 'Weg', 'über', 'viele', 'dann', 'sie', 'schreiben', 'würde', 'wie', 'so', 'diese', 'sie', 'lange', 'machen', 'Sache', 'sehen', 'ihm', 'zwei', 'hat', 'suchen', 'mehr', 'Tag', 'könnte', 'gehen', 'kommen', 'tat', 'Anzahl', 'klingen', 'nicht', 'am meisten', 'Menschen', 'meine', 'über', 'wissen', 'Wasser', 'als', 'Anruf', 'erste', 'die', 'können', 'nach unten', 'Seite', 'gewesen', 'jetzt', 'finden', 'Kopf', 'stehen', 'besitzen', 'Seite', 'sollte', 'Land', 'gefunden', 'Antwort', 'Schule', 'wachsen', 'Studie', 'noch', 'lernen', 'Anlage', 'Abdeckung', 'Lebensmittel', 'Sonne', 'vier', 'zwischen', 'Zustand', 'halten', 'Auge', 'nie', 'letzte', 'lassen', 'Gedanken', 'Stadt', 'Baum', 'überqueren', 'Bauernhof', 'schwer', 'Beginn', 'Macht', 'Geschichte', 'Säge', 'weit', 'Meer', 'ziehen', 'links', 'spät', 'laufen', 'unterlassen Sie', 'während', 'Presse', 'Schließen', 'Nacht', 'realen', 'Leben', 'wenige', 'Norden', 'Buch', 'tragen', 'nahm', 'Wissenschaft', 'essen', 'Zimmer', 'Freund', 'begann', 'Idee', 'Fisch', 'berg', 'Stopp', 'einmal', 'Basis', 'hören', 'Pferd', 'Schnitt', 'sicher', 'beobachten', 'Farbe', 'Gesicht', 'Holz', 'Haupt-', 'geöffnet', 'scheinen', 'zusammen', 'nächste', 'weiß', 'Kinder', 'Start', 'bekam', 'gehen', 'Beispiel', 'erleichtern', 'Papier', 'Gruppe', 'immer', 'Musik', 'diejenigen', 'beide', 'Marke', 'oft', 'Schreiben', 'bis', 'Meile', 'Fluss', 'Auto', 'Füße', 'Pflege', 'zweite', 'genug', 'Ebene', 'Mädchen', 'üblich', 'jung', 'bereit', 'oben', 'je', 'rot', 'Liste', 'obwohl', 'fühlen', 'Vortrag', 'Vogel', 'bald', 'Körper', 'Hund', 'Familie', 'direkt', 'Pose', 'verlassen', 'Lied', 'messen', 'Tür', 'Produkt', 'schwarz', 'kurz', 'Zahl', 'Klasse', 'Wind', 'Frage', 'passieren', 'vollständig', 'Schiff', 'Bereich', 'Hälfte', 'Stein', 'bestellen', 'Feuer', 'Süden', 'Problem', 'Stück', 'sagte', 'wusste', 'passieren', 'seit', 'obere', 'ganze', 'König', 'Straße', 'Zoll', 'multiplizieren', 'nichts', 'Kurs', 'bleiben', 'Rad', 'voll', 'Kraft', 'blau', 'Objekt', 'entscheiden', 'Oberfläche', 'tief', 'Mond', 'Insel', 'Fuß', 'System', 'beschäftigt', 'Prüfung', 'Rekord', 'Boot', 'gemeinsam', 'goldenen', 'möglich', 'Flugzeug', 'statt', 'trocken', 'Wunder', 'Lachen', 'tausend', 'vor', 'lief', 'überprüfen', 'Spiel', 'Form', 'gleichsetzen', 'heiß', 'Fehl', 'gebracht', 'Wärme', 'Schnee', 'Reifen', 'bringen', 'ja', 'entfernt', 'füllen', 'Osten', 'malen', 'Sprache', 'unter', 'Einheit', 'Macht', 'Stadt', 'fein', 'sicher', 'fliegen', 'fallen', 'führen', 'Schrei', 'dunkel', 'Maschine', 'note', 'warten', 'Plan', 'Abbildung', 'Stern', 'Kasten', 'Nomen', 'Feld', 'Rest', 'richtig', 'fähig', 'Pfund', 'getan', 'Schönheit', 'Antriebs', 'stand', 'enthalten', 'Front', 'lehren', 'Woche', 'Finale', 'gab', 'grün', 'oh', 'schnell', 'entwickeln', 'Ozean', 'warme', 'kostenlos', 'Minute', 'stark', 'besondere', 'Geist', 'hinter', 'klar', 'Schwanz', 'produzieren', 'Tatsache', 'Raum', 'gehört', 'beste', 'Stunde', 'besser', 'wahr', 'während', 'hundert', 'fünf', 'merken', 'Schritt', 'früh', 'halten', 'Westen', 'Boden', 'Interesse', 'erreichen', 'schnell', 'Verbum', 'singen', 'hören', 'sechs', 'Tabelle', 'Reise', 'weniger', 'Morgen', 'zehn', 'einfach', 'mehrere', 'Vokal', 'auf', 'Krieg', 'legen', 'gegen', 'Muster', 'schleppend', 'Zentrum', 'Liebe', 'Person', 'Geld', 'dienen', 'erscheinen', 'Straße', 'Karte', 'regen', 'Regel', 'regieren', 'ziehen', 'Kälte', 'Hinweis', 'Stimme', 'Energie', 'Jagd', 'wahrscheinlich', 'Bett', 'Bruder', 'Ei', 'Fahrt', 'Zelle', 'glauben', 'vielleicht', 'pflücken', 'plötzlich', 'zählen', 'Platz', 'Grund', 'Dauer', 'vertreten', 'Kunst', 'Thema', 'Region', 'Größe', 'variieren', 'regeln', 'sprechen', 'Gewicht', 'allgemein', 'Eis', 'Materie', 'Kreis', 'Paar', 'umfassen', 'Kluft', 'Silbe', 'Filz', 'groß', 'Kugel', 'noch', 'Welle', 'fallen', 'Herz', 'Uhr', 'vorhanden', 'schwer', 'Tanz', 'Motor', 'Position', 'Arm', 'breit', 'Segel', 'Material', 'Fraktion', 'Wald', 'sitzen', 'Rennen', 'Fenster', 'Speicher', 'Sommer', 'Zug', 'Schlaf', 'beweisen', 'einsam', 'Bein', 'Übung', 'Wand', 'Fang', 'Berg', 'wünschen', 'Himmel', 'Board', 'Freude', 'Winter', 'sa', 'geschrieben', 'wilden', 'Instrument', 'gehalten', 'Glas', 'Gras', 'Kuh', 'Arbeit', 'Rand', 'Zeichen', 'Besuch', 'Vergangenheit', 'weich', 'Spaß', 'hell', 'Gases', 'Wetter', 'Monat', 'Million', 'tragen', 'Finish', 'glücklich', 'hoffen', 'blume', 'kleiden', 'seltsam', 'Vorbei', 'Handel', 'Melodie', 'Reise', 'Büro', 'empfangen', 'Reihe', 'Mund', 'genau', 'Zeichen', 'sterben', 'am wenigsten', 'Ärger', 'Schrei', 'außer', 'schrieb', 'Samen', 'Ton', 'beitreten', 'vorschlagen', 'sauber', 'Pause', 'Dame', 'Hof', 'steigen', 'schlecht', 'Schlag', 'Öl', 'Blut', 'berühren', 'wuchs', 'Cent', 'mischen', 'Mannschaft', 'Draht', 'Kosten', 'verloren', 'braun', 'tragen', 'Garten', 'gleich', 'gesendet', 'wählen', 'fiel', 'passen', 'fließen', 'Messe', 'Bank', 'sammeln', 'sparen', 'Kontrolle', 'dezimal', 'Ohr', 'sonst', 'ganz', 'pleite', 'Fall', 'Mitte', 'töten', 'Sohn', 'See', 'Moment', 'Maßstab', 'laut', 'Frühling', 'beobachten', 'Kind', 'gerade', 'Konsonant', 'Nation', 'Wörterbuch', 'milch', 'Geschwindigkeit', 'Verfahren', 'Orgel', 'zahlen', 'Alter', 'Abschnitt', 'Kleid', 'Wolke', 'Überraschung', 'ruhig', 'Stein', 'winzig', 'Aufstieg', 'kühlen', 'Entwurf', 'arm', 'Menge', 'Versuch', 'Boden', 'Schlüssel', 'Eisen', 'Einzel', 'Stick', 'Wohnung', 'zwanzig', 'Haut', 'Lächeln', 'Falte', 'Loch', 'springen', 'Kind', 'acht', 'Dorf', 'treffen', 'Wurzel', 'kaufen', 'erhöhen', 'lösen', 'Metall', 'ob', 'drücken', 'sieben', 'Absatz', 'dritte', 'wird', 'Hand', 'Haar', 'beschreiben', 'Koch', 'Boden', 'entweder', 'Ergebnis', 'brennen', 'Hügel', 'sicher', 'Katze', 'Jahrhundert', 'betrachten', 'Typ', 'Gesetz', 'Bit', 'Küste', 'Kopie', 'Ausdruck', 'still', 'hoch', 'Sand', 'Boden', 'Rolle', 'Temperatur', 'Finger', 'Industrie', 'Wert', 'Kampf', 'Lüge', 'schlagen', 'begeistern', 'natürlich', 'Blick', 'Sinn', 'Hauptstadt', 'wird nicht', 'Stuhl', 'Achtung', 'Obst', 'reich', 'dick', 'Soldat', 'Prozess', 'betreiben', 'Praxis', 'trennen', 'schwierig', 'Arzt', 'Bitte', 'schützen', 'Mittag', 'Ernte', 'modernen', 'Elementes', 'treffen', 'Schüler', 'Ecke', 'Partei', 'Versorgung', 'deren', 'lokalisieren', 'Rings', 'Charakter', 'insekt', 'gefangen', 'Zeit', 'zeigen', 'Funk', 'Speiche', 'Atom', 'Mensch', 'Geschichte', 'Wirkung', 'elektrisch', 'erwarten', 'Knochen', 'Schiene', 'vorstellen', 'bieten', 'zustimmen', 'so', 'sanft', 'Frau', 'Kapitän', 'erraten', 'erforderlich', 'scharf', 'Flügel', 'schaffen', 'Nachbar', 'Wasch', 'Fledermaus', 'eher', 'Menge', 'mais', 'vergleichen', 'Gedicht', 'Schnur', 'Glocke', 'abhängen', 'Fleisch', 'einreiben', 'Rohr', 'berühmt', 'Dollar', 'Strom', 'Angst', 'Blick', 'dünn', 'Dreieck', 'Erde', 'Eile', 'Chef', 'Kolonie', 'Uhr', 'Mine', 'Krawatte', 'eingeben', 'Dur', 'frisch', 'Suche', 'senden', 'gelb', 'Pistole', 'erlauben', 'Druck', 'tot', 'Stelle', 'Wüste', 'Anzug', 'Strom', 'Aufzug', 'stiegen', 'ankommen', 'Stamm', 'Spur', 'Elternteil', 'Ufer', 'Teilung', 'Blatt', 'Substanz', 'begünstigen', 'verbinden', 'nach', 'verbringen', 'Akkord', 'Fett', 'froh', 'Original', 'Aktie', 'Station', 'Papa', 'Brot', 'aufladen', 'richtig', 'Leiste', 'Angebot', 'Segment', 'Sklave', 'ente', 'Augenblick', 'Markt', 'Grad', 'besiedeln', 'küken', 'liebe', 'Feind', 'antworten', 'Getränk', 'auftreten', 'Unterstützung', 'Rede', 'Natur', 'Angebot', 'Dampf', 'Bewegung', 'Weg', 'Flüssigkeit', 'protokollieren', 'gemeint', 'Quotient', 'Gebiss', 'Schale', 'Hals', 'Sauerstoff', 'Zucker', 'Tod', 'ziemlich', 'Geschicklichkeit', 'Frauen', 'Saison', 'Lösung', 'Magnet', 'Silber', 'danken', 'Zweig', 'Spiel', 'Suffix', 'insbesondere', 'Feige', 'ängstlich', 'riesig', 'Schwester', 'Stahl', 'diskutieren', 'vorwärts', 'ähnlich', 'führen', 'Erfahrung', 'Partitur', 'apfel', 'gekauft', 'geführt', 'Tonhöhe', 'Mantel', 'Masse', 'Karte', 'Band', 'Seil', 'Rutsch', 'gewinnen', 'träumen', 'Abend', 'Zustand', 'Futtermittel', 'Werkzeug', 'gesamt', 'Basis', 'Geruch', 'Tal', 'noch', 'doppelt', 'Sitz', 'fortsetzen', 'Block', 'Tabelle', 'Hut', 'verkaufen', 'Erfolg', 'Firma', 'subtrahieren', 'Veranstaltung', 'besondere', 'viel', 'schwimmen', 'Begriff', 'Gegenteil', 'Frau', 'Schuh', 'Schulter', 'Verbreitung', 'arrangieren', 'Lager', 'erfinden', 'Baumwolle', 'geboren', 'bestimmen', 'Quart', 'neun', 'Lastwagen', 'Lärm', 'Ebene', 'Chance', 'sammeln', 'Geschäft', 'Stretch', 'werfen', 'Glanz', 'Immobilien', 'Spalte', 'Molekül', 'wählen', 'falsch', 'grau', 'Wiederholung', 'erfordern', 'breit', 'vorbereiten', 'Salz', 'Nase', 'mehreren', 'Zorn', 'Anspruch', 'Kontinent']"
   ]
  },
  {
   "cell_type": "code",
   "execution_count": 39,
   "metadata": {},
   "outputs": [],
   "source": [
    "tur = ['olarak', 'ben', 'onun', 'diye', 'oldu', 'için', 'üzerinde', 'vardır', 'ile', 'onlar', 'olmak', 'bir', 'Bu', 'dan', 'tarafından', 'sıcak', 'kelime', 'ancak', 'ne', 'bazı', 'olduğunu', 'sen', 'veya', 'vardı', 'arasında', 'karşı', 've', 'bir', 'içinde', 'biz', 'üzerinden', 'diğer', 'vardı', 'hangi', 'onların', 'zaman', 'eğer', 'olacak', 'nasıl', 'dedi', 'bir', 'söyle', 'yok', 'üç', 'istiyorum', 'hava', 'iyi', 'ayrıca', 'oynamak', 'küçük', 'koymak', 'ev', 'okumak', 'el', 'liman', 'büyük', 'büyü', 'ekleyin', 'hatta', 'arazi', 'burada', 'gerekir', 'büyük', 'yüksek', 'böyle', 'izleyin', 'hareket', 'neden', 'sormak', 'erkekler', 'değişim', 'gitti', 'ışık', 'tür', 'kapalı', 'gerek', 'ev', 'resim', 'denemek', 'bizi', 'tekrar', 'hayvan', 'nokta', 'anne', 'dünya', 'yakın', 'inşa etmek', 'öz', 'toprak', 'baba', 'herhangi bir', 'yeni', 'iş', 'bölüm', 'almak', 'olsun', 'yer', 'yapılan', 'canlı', 'nerede', 'sonra', 'geri', 'küçük', 'sadece', 'yuvarlak', 'adam', 'yıl', 'geldi', 'gösterisi', 'her', 'iyi', 'bana', 'vermek', 'bizim', 'altında', 'adı', 'çok', 'ile', 'sadece', 'formu', 'cümle', 'büyük', 'düşünmek', 'demek', 'yardım', 'düşük', 'farklı', 'dönüş', 'neden', 'çok', 'Yani', 'önce', 'hareket', 'sağ', 'çocuk', 'eski', 'çok', 'aynı', 'diye', 'tüm', 'orada', 'zaman', 'yukarı', 'Kullanım', 'senin', 'yol', 'hakkında', 'birçok', 'o zaman', 'onları', 'yazmak', 'gibi', 'bu yüzden', 'bu', 'onu', 'uzun', 'yapmak', 'şey', 'görmek', 'onu', 'iki', 'var', 'bak', 'daha fazla', 'gün', 'olabilir', 'gitmek', 'gel', 'yaptım', 'numarası', 'ses', 'hayır', 'en', 'insanlar', 'benim', 'üzerinde', 'bilmek', 'su', 'daha', 'çağrı', 'ilk', 'kim', 'aşağı', 'yan', 'oldu', 'Şimdi', 'bulmak', 'kafa', 'standı', 'kendi', 'sayfa', 'gerekir', 'ülke', 'bulundu', 'cevap', 'okul', 'büyümek', 'çalışma', 'hala', 'öğrenmek', 'bitki', 'kapak', 'gıda', 'güneş', 'dört', 'arasında', 'devlet', 'tutmak', 'göz', 'asla', 'son', 'düşünce', 'Şehir', 'ağaç', 'çapraz', 'çiftlik', 'sert', 'başlangıç', 'olabilir', 'hikaye', 'testere', 'kadar', 'deniz', 'çizmek', 'sol', 'geç', 'yapamaz', 'süre', 'basın', 'yakın', 'gece', 'gerçek', 'hayat', 'az', 'kuzey', 'kitap', 'taşımak', 'aldı', 'bilim', 'yemek', 'oda', 'arkadaşı', 'başladı', 'fikir', 'balık', 'dağ', 'dur', 'bir kez', 'baz', 'duymak', 'at', 'kesim', 'emin', 'izle', 'renk', 'yüz', 'ahşap', 'ana', 'açık', 'görünmek', 'birlikte', 'sonraki', 'beyaz', 'çocuk', 'başla', 'var', 'yürümek', 'örnek', 'kolaylığı', 'kâğıt', 'grup', 'her zaman', 'müzik', 'bu', 'her ikisi de', 'işareti', 'sık sık', 'mektup', 'kadar', 'kilometre', 'nehir', 'araba', 'ayaklar', 'bakım', 'ikinci', 'yeterli', 'düz', 'kız', 'olağan', 'genç', 'hazır', 'yukarıdaki', 'hiç', 'kırmızı', 'listesi', 'olsa', 'hissetmek', 'tartışma', 'kuş', 'yakında', 'vücut', 'köpek', 'aile', 'doğrudan', 'poz', 'bırakın', 'şarkı', 'ölçmek', 'kapı', 'ürün', 'siyah', 'kısa', 'rakam', 'sınıf', 'rüzgar', 'soru', 'olur', 'komple', 'gemi', 'alan', 'yarım', 'kaya', 'sipariş', 'yangın', 'güney', 'sorun', 'parça', 'söyledi', 'biliyordu', 'geçmek', 'beri', 'üst', 'bütün', 'kral', 'sokak', 'inch', 'çarpmak', 'hiçbir şey', 'ders', 'kalmak', 'tekerlek', 'tam', 'kuvvet', 'mavi', 'nesne', 'karar vermek', 'yüzey', 'derin', 'ada', 'ayak', 'sistem', 'meşgul', 'Test', 'kayıt', 'tekne', 'ortak', 'altın', 'mümkün', 'düzlem', 'başkasının yeri', 'kuru', 'acaba', 'gülmek', 'bin', 'önce', 'koştu', 'kontrol', 'oyunu', 'şekil', 'eşit', 'sıcak', 'özledim', 'getirdi', 'ısı', 'kar', 'lastik', 'getirmek', 'evet', 'uzak', 'doldurun', 'doğu', 'boya', 'dil', 'arasında', 'ünitesi', 'güç', 'kasaba', 'ince', 'belirli', 'uçmak', 'düşmek', 'kurşun', 'ağlamak', 'karanlık', 'makine', 'notu', 'bekleyin', 'planı', 'rakam', 'yıldız', 'kutu', 'i', 'alan', 'gerisi', 'doğru', 'yetenekli', 'kiloluk', 'bitti', 'güzellik', 'sürücü', 'durdu', 'içeren', 'ön', 'öğretmek', 'hafta', 'nihai', 'verdi', 'yeşil', 'hızlı', 'geliştirmek', 'okyanus', 'sıcak', 'ücretsiz', 'dakika', 'güçlü', 'özel', 'zihin', 'arkasında', 'açık', 'kuyruk', 'üretmek', 'gerçek', 'uzay', 'duydum', 'en iyi', 'saat', 'daha iyi', 'gerçek', 'sırasında', 'yüz', 'beş', 'hatırlıyorum', 'adım', 'erken', 'tutun', 'batı', 'zemin', 'faiz', 'ulaşmak', 'hızlı', 'fiil', 'şarkı söylemek', 'dinle', 'altı', 'tablo', 'seyahat', 'daha az', 'sabah', 'basit', 'birkaç', 'ünlü', 'doğru', 'savaş', 'koymak', 'karşı', 'desen', 'yavaş', 'merkezi', 'aşk', 'kişi', 'para', 'hizmet', 'görünür', 'yol', 'harita', 'yağmur', 'kural', 'idare', 'Çek', 'soğuk', 'haber', 'ses', 'enerji', 'avı', 'muhtemel', 'yatak', 'kardeş', 'yumurta', 'binmek', 'hücre', 'inanıyorum', 'belki', 'seçmek', 'ani', 'saymak', 'kare', 'neden', 'uzunluk', 'temsil', 'sanat', 'konu', 'bölge', 'boyut', 'değiştirmek', 'yerleşmek', 'konuşmak', 'ağırlık', 'genel', 'buz', 'madde', 'daire', 'çifti', 'dahil', 'bölmek', 'hece', 'keçe', 'büyük', 'henüz', 'dalga', 'bırakın', 'kalp', 'duyuyorum', 'mevcut', 'ağır', 'dans', 'pozisyon', 'kol', 'geniş', 'yelken', 'materyal', 'kesir', 'orman', 'oturmak', 'yarış', 'penceresi', 'mağaza', 'yaz', 'tren', 'uyku', 'kanıtlamak', 'yalnız', 'bacak', 'egzersiz', 'duvar', 'dağ', 'dilek', 'gökyüzü', 'kurulu', 'sevinç', 'kış', 'Cts', 'yazılı', 'vahşi', 'enstrüman', 'tuttu', 'cam', 'çim', 'inek', 'iş', 'kenar', 'işareti', 'ziyareti', 'geçmiş', 'yumuşak', 'eğlenceli', 'parlak', 'gaz', 'hava', 'ay', 'milyon', 'ayı', 'bitirmek', 'mutlu', 'umut', 'çiçek', 'giydirmek', 'garip', 'gitti', 'ticaret', 'melodi', 'gezi', 'ofis', 'almak', 'satır', 'ağız', 'tam', 'sembol', 'ölmek', 'en az', 'sorun', 'bağırmak', 'hariç', 'yazdı', 'tohum', 'sesi', 'katılmak', 'önermek', 'temiz', 'molası', 'bayan', 'yarda', 'yükselecek', 'kötü', 'darbe', 'yağ', 'kan', 'dokunma', 'büyüdü', 'yüzde', 'karıştırmak', 'takım', 'tel', 'maliyet', 'kaybetti', 'kahverengi', 'giymek', 'bahçe', 'eşit', 'gönderildi', 'seçim', 'düştü', 'uygun', 'akış', 'adil', 'banka', 'toplamak', 'kaydetmek', 'kontrolü', 'ondalık', 'kulak', 'başka', 'oldukça', 'kırdı', 'dava', 'orta', 'öldürmek', 'oğlu', 'göl', 'an', 'ölçek', 'yüksek sesle', 'bahar', 'gözlemlemek', 'çocuk', 'düz', 'ünsüz', 'ulus', 'Sözlük', 'süt', 'hız', 'yöntem', 'Organ', 'ödeme', 'yaş', 'bölüm', 'elbise', 'bulut', 'sürpriz', 'sessiz', 'taş', 'küçücük', 'tırmanış', 'serin', 'dizayn', 'kötü', 'çok', 'deneme', 'alt', 'anahtar', 'demir', 'tek', 'sopa', 'düz', 'yirmi', 'cilt', 'gülümseme', 'kırışık', 'delik', 'atlama', 'bebek', 'sekiz', 'köy', 'karşılamak', 'kök', 'satın', 'yükseltmek', 'çözmek', 'olsun', 'yedi', 'paragraf', 'üçüncü', 'Shall', 'tutulan', 'saç', 'tanımlamak', 'aşçı', 'zemin', 'ya da', 'sonuç', 'yanmak', 'tepe', 'güvenli', 'kedi', 'yüzyıl', 'düşünmek', 'tipi', 'hukuk', 'sahil', 'kopya', 'ifade', 'sessiz', 'uzun boylu', 'kum', 'toprak', 'rulo', 'sıcaklık', 'parmak', 'sanayi', 'değeri', 'kavga', 'yalan', 'yendi', 'heyecanlandırmak', 'doğal', 'görünüm', 'sermaye', 'olmaz', 'sandalye', 'tehlike', 'meyve', 'zengin', 'kalın', 'asker', 'süreç', 'işletmek', 'uygulama', 'ayrı', 'zor', 'doktor', 'lütfen', 'korumak', 'öğlen', 'kırpma', 'çağdaş', 'eleman', 'vurmak', 'öğrenci', 'köşe', 'parti', 'besleme', 'kimin', 'yerleştirmek', 'halka', 'karakter', 'böcek', 'yakalandı', 'dönemi', 'göstermektedir', 'radyo', 'konuştu', 'atomudur', 'insan', 'geçmişi', 'etkisi', 'elektrik', 'bekliyoruz', 'kemik', 'demiryolu', 'hayal', 'sağlamak', 'katılıyorum', 'böylece', 'nazik', 'kadın', 'kaptan', 'sanırım', 'gerekli', 'keskin', 'kanat', 'oluşturmak', 'komşu', 'yıkama', 'yarasa', 'yerine', 'kalabalık', 'mısır', 'karşılaştırma', 'şiir', 'dize', 'çan', 'bağlı', 'et', 'ovmak', 'tüp', 'ünlü', 'dolar', 'akışı', 'korku', 'görüş', 'ince', 'üçgen', 'gezegen', 'acele', 'baş', 'koloni', 'saat', 'mayın', 'kravat', 'girin', 'büyük', 'taze', 'arama', 'göndermek', 'sarı', 'izin', 'baskı', 'ölü', 'nokta', 'çöl', 'takım elbise', 'akım', 'asansör', 'gül', 'varmak', 'usta', 'iz', 'ebeveyn', 'kıyı', 'bölünme', 'levha', 'madde', 'iyilik', 'bağlamak', 'sonrası', 'harcamak', 'akor', 'şişman', 'memnun', 'orijinal', 'payı', 'istasyon', 'baba', 'ekmek', 'şarj', 'uygun', 'teklif', 'segmenti', 'köle', 'ördek', 'anlık', 'pazar', 'derecesi', 'doldurmak', 'civciv', 'sevgili', 'düşman', 'cevap', 'içki', 'meydana', 'destek', 'konuşma', 'doğa', 'aralığı', 'buhar', 'hareket', 'yol', 'sıvı', 'log', 'demek', 'bölüm', 'dişler', 'kabuk', 'boyun', 'oksijen', 'şeker', 'ölüm', 'güzel', 'beceri', 'kadın', 'sezon', 'çözüm', 'mıknatıs', 'gümüş', 'teşekkür ederim', 'şube', 'maç', 'sonek', 'özellikle', 'incir', 'korkuyor', 'büyük', 'kardeş', 'çelik', 'tartışmak', 'ileri', 'benzer', 'kılavuz', 'deneyim', 'puan', 'elma', 'satın aldı', 'açtı', 'zift', 'ceket', 'kitle', 'kart', 'bant', 'halat', 'kayma', 'rüya', 'akşam', 'durumu', 'beslemek', 'aracı', 'toplam', 'temel', 'koku', 'vadi', 'ne', 'çift', 'koltuk', 'devam etmek', 'bloğu', 'grafiği', 'şapka', 'satmak', 'başarı', 'şirket', 'çıkarmak', 'olay', 'özellikle', 'anlaşma', 'yüzmek', 'vadeli', 'karşısında', 'karısı', 'ayakkabı', 'omuz', 'yaymak', 'düzenlemek', 'kamp', 'icat', 'pamuk', 'doğmuş', 'belirlemek', 'kuart', 'dokuz', 'kamyon', 'gürültü', 'seviyesi', 'şans', 'toplamak', 'dükkan', 'streç', 'atmak', 'parlaklık', 'mülkiyet', 'sütun', 'molekülü', 'seçin', 'yanlış', 'gri', 'tekrar', 'gerektirir', 'geniş', 'hazırlamak', 'tuz', 'burun', 'çoğul', 'öfke', 'iddia', 'kıta']"
   ]
  },
  {
   "cell_type": "code",
   "execution_count": 40,
   "metadata": {},
   "outputs": [],
   "source": [
    "eng = ['a', 'abandon', 'ability', 'able', 'abortion', 'about', 'above', 'abroad', 'absence', 'absolute', 'absolutely', 'absorb', 'abuse', 'academic', 'accept', 'access', 'accident', 'accompany', 'accomplish', 'according', 'account', 'accurate', 'accuse', 'achieve', 'achievement', 'acid', 'acknowledge', 'acquire', 'across', 'act', 'action', 'active', 'activist', 'activity', 'actor', 'actress', 'actual', 'actually', 'ad', 'adapt', 'add', 'addition', 'additional', 'address', 'adequate', 'adjust', 'adjustment', 'administration', 'administrator', 'admire', 'admission', 'admit', 'adolescent', 'adopt', 'adult', 'advance', 'advanced', 'advantage', 'adventure', 'advertising', 'advice', 'advise', 'adviser', 'advocate', 'affair', 'affect', 'afford', 'afraid', 'African', 'African-American', 'after', 'afternoon', 'again', 'against', 'age', 'agency', 'agenda', 'agent', 'aggressive', 'ago', 'agree', 'agreement', 'agricultural', 'ah', 'ahead', 'aid', 'aide', 'AIDS', 'aim', 'air', 'aircraft', 'airline', 'airport', 'album', 'alcohol', 'alive', 'all', 'alliance', 'allow', 'ally', 'almost', 'alone', 'along', 'already', 'also', 'alter', 'alternative', 'although', 'always', 'AM', 'amazing', 'American', 'among', 'amount', 'analysis', 'analyst', 'analyze', 'ancient', 'and', 'anger', 'angle', 'angry', 'animal', 'anniversary', 'announce', 'annual', 'another', 'answer', 'anticipate', 'anxiety', 'any', 'anybody', 'anymore', 'anyone', 'anything', 'anyway', 'anywhere', 'apart', 'apartment', 'apparent', 'apparently', 'appeal', 'appear', 'appearance', 'apple', 'application', 'apply', 'appoint', 'appointment', 'appreciate', 'approach', 'appropriate', 'approval', 'approve', 'approximately', 'Arab', 'architect', 'area', 'argue', 'argument', 'arise', 'arm', 'armed', 'army', 'around', 'arrange', 'arrangement', 'arrest', 'arrival', 'arrive', 'art', 'article', 'artist', 'artistic', 'as', 'Asian', 'aside', 'ask', 'asleep', 'aspect', 'assault', 'assert', 'assess', 'assessment', 'asset', 'assign', 'assignment', 'assist', 'assistance', 'assistant', 'associate', 'association', 'assume', 'assumption', 'assure', 'at', 'athlete', 'athletic', 'atmosphere', 'attach', 'attack', 'attempt', 'attend', 'attention', 'attitude', 'attorney', 'attract', 'attractive', 'attribute', 'audience', 'author', 'authority', 'auto', 'available', 'average', 'avoid', 'award', 'aware', 'awareness', 'away', 'awful', 'baby', 'back', 'background', 'bad', 'badly', 'bag', 'bake', 'balance', 'ball', 'ban', 'band', 'bank', 'bar', 'barely', 'barrel', 'barrier', 'base', 'baseball', 'basic', 'basically', 'basis', 'basket', 'basketball', 'bathroom', 'battery', 'battle', 'be', 'beach', 'bean', 'bear', 'beat', 'beautiful', 'beauty', 'because', 'become', 'bed', 'bedroom', 'beer', 'before', 'begin', 'beginning', 'behavior', 'behind', 'being', 'belief', 'believe', 'bell', 'belong', 'below', 'belt', 'bench', 'bend', 'beneath', 'benefit', 'beside', 'besides', 'best', 'bet', 'better', 'between', 'beyond', 'Bible', 'big', 'bike', 'bill', 'billion', 'bind', 'biological', 'bird', 'birth', 'birthday', 'bit', 'bite', 'black', 'blade', 'blame', 'blanket', 'blind', 'block', 'blood', 'blow', 'blue', 'board', 'boat', 'body', 'bomb', 'bombing', 'bond', 'bone', 'book', 'boom', 'boot', 'border', 'born', 'borrow', 'boss', 'both', 'bother', 'bottle', 'bottom', 'boundary', 'bowl', 'box', 'boy', 'boyfriend', 'brain', 'branch', 'brand', 'bread', 'break', 'breakfast', 'breast', 'breath', 'breathe', 'brick', 'bridge', 'brief', 'briefly', 'bright', 'brilliant', 'bring', 'British', 'broad', 'broken', 'brother', 'brown', 'brush', 'buck', 'budget', 'build', 'building', 'bullet', 'bunch', 'burden', 'burn', 'bury', 'bus', 'business', 'busy', 'but', 'butter', 'button', 'buy', 'buyer', 'by', 'cabin', 'cabinet', 'cable', 'cake', 'calculate', 'call', 'camera', 'camp', 'campaign', 'campus', 'can', 'Canadian', 'cancer', 'candidate', 'cap', 'capability', 'capable', 'capacity', 'capital', 'captain', 'capture', 'car', 'carbon', 'card', 'care', 'career', 'careful', 'carefully', 'carrier', 'carry', 'case', 'cash', 'cast', 'cat', 'catch', 'category', 'Catholic', 'cause', 'ceiling', 'celebrate', 'celebration', 'celebrity', 'cell', 'center', 'central', 'century', 'CEO', 'ceremony', 'certain', 'certainly', 'chain', 'chair', 'chairman', 'challenge', 'chamber', 'champion', 'championship', 'chance', 'change', 'changing', 'channel', 'chapter', 'character', 'characteristic', 'characterize', 'charge', 'charity', 'chart', 'chase', 'cheap', 'check', 'cheek', 'cheese', 'chef', 'chemical', 'chest', 'chicken', 'chief', 'child', 'childhood', 'Chinese', 'chip', 'chocolate', 'choice', 'cholesterol', 'choose', 'Christian', 'Christmas', 'church', 'cigarette', 'circle', 'circumstance', 'cite', 'citizen', 'city', 'civil', 'civilian', 'claim', 'class', 'classic', 'classroom', 'clean', 'clear', 'clearly', 'client', 'climate', 'climb', 'clinic', 'clinical', 'clock', 'close', 'closely', 'closer', 'clothes', 'clothing', 'cloud', 'club', 'clue', 'cluster', 'coach', 'coal', 'coalition', 'coast', 'coat', 'code', 'coffee', 'cognitive', 'cold', 'collapse', 'colleague', 'collect', 'collection', 'collective', 'college', 'colonial', 'color', 'column', 'combination', 'combine', 'come', 'comedy', 'comfort', 'comfortable', 'command', 'commander', 'comment', 'commercial', 'commission', 'commit', 'commitment', 'committee', 'common', 'communicate', 'communication', 'community', 'company', 'compare', 'comparison', 'compete', 'competition', 'competitive', 'competitor', 'complain', 'complaint', 'complete', 'completely', 'complex', 'complicated', 'component', 'compose', 'composition', 'comprehensive', 'computer', 'concentrate', 'concentration', 'concept', 'concern', 'concerned', 'concert', 'conclude', 'conclusion', 'concrete', 'condition', 'conduct', 'conference', 'confidence', 'confident', 'confirm', 'conflict', 'confront', 'confusion', 'Congress', 'congressional', 'connect', 'connection', 'consciousness', 'consensus', 'consequence', 'conservative', 'consider', 'considerable', 'consideration', 'consist', 'consistent', 'constant', 'constantly', 'constitute', 'constitutional', 'construct', 'construction', 'consultant', 'consume', 'consumer', 'consumption', 'contact', 'contain', 'container', 'contemporary', 'content', 'contest', 'context', 'continue', 'continued', 'contract', 'contrast', 'contribute', 'contribution', 'control', 'controversial', 'controversy', 'convention', 'conventional', 'conversation', 'convert', 'conviction', 'convince', 'cook', 'cookie', 'cooking', 'cool', 'cooperation', 'cop', 'cope', 'copy', 'core', 'corn', 'corner', 'corporate', 'corporation', 'correct', 'correspondent', 'cost', 'cotton', 'couch', 'could', 'council', 'counselor', 'count', 'counter', 'country', 'county', 'couple', 'courage', 'course', 'court', 'cousin', 'cover', 'coverage', 'cow', 'crack', 'craft', 'crash', 'crazy', 'cream', 'create', 'creation', 'creative', 'creature', 'credit', 'crew', 'crime', 'criminal', 'crisis', 'criteria', 'critic', 'critical', 'criticism', 'criticize', 'crop', 'cross', 'crowd', 'crucial', 'cry', 'cultural', 'culture', 'cup', 'curious', 'current', 'currently', 'curriculum', 'custom', 'customer', 'cut', 'cycle', 'dad', 'daily', 'damage', 'dance', 'danger', 'dangerous', 'dare', 'dark', 'darkness', 'data', 'date', 'daughter', 'day', 'dead', 'deal', 'dealer', 'dear', 'death', 'debate', 'debt', 'decade', 'decide', 'decision', 'deck', 'declare', 'decline', 'decrease', 'deep', 'deeply', 'deer', 'defeat', 'defend', 'defendant', 'defense', 'defensive', 'deficit', 'define', 'definitely', 'definition', 'degree', 'delay', 'deliver', 'delivery', 'demand', 'democracy', 'Democrat', 'democratic', 'demonstrate', 'demonstration', 'deny', 'department', 'depend', 'dependent', 'depending', 'depict', 'depression', 'depth', 'deputy', 'derive', 'describe', 'description', 'desert', 'deserve', 'design', 'designer', 'desire', 'desk', 'desperate', 'despite', 'destroy', 'destruction', 'detail', 'detailed', 'detect', 'determine', 'develop', 'developing', 'development', 'device', 'devote', 'dialogue', 'die', 'diet', 'differ', 'difference', 'different', 'differently', 'difficult', 'difficulty', 'dig', 'digital', 'dimension', 'dining', 'dinner', 'direct', 'direction', 'directly', 'director', 'dirt', 'dirty', 'disability', 'disagree', 'disappear', 'disaster', 'discipline', 'discourse', 'discover', 'discovery', 'discrimination', 'discuss', 'discussion', 'disease', 'dish', 'dismiss', 'disorder', 'display', 'dispute', 'distance', 'distant', 'distinct', 'distinction', 'distinguish', 'distribute', 'distribution', 'district', 'diverse', 'diversity', 'divide', 'division', 'divorce', 'DNA', 'do', 'doctor', 'document', 'dog', 'domestic', 'dominant', 'dominate', 'door', 'double', 'doubt', 'down', 'downtown', 'dozen', 'draft', 'drag', 'drama', 'dramatic', 'dramatically', 'draw', 'drawing', 'dream', 'dress', 'drink', 'drive', 'driver', 'drop', 'drug', 'dry', 'due', 'during', 'dust', 'duty', 'each', 'eager', 'ear', 'early', 'earn', 'earnings', 'earth', 'ease', 'easily', 'east', 'eastern', 'easy', 'eat', 'economic', 'economics', 'economist', 'economy', 'edge', 'edition', 'editor', 'educate', 'education', 'educational', 'educator', 'effect', 'effective', 'effectively', 'efficiency', 'efficient', 'effort', 'egg', 'eight', 'either', 'elderly', 'elect', 'election', 'electric', 'electricity', 'electronic', 'element', 'elementary', 'eliminate', 'elite', 'else', 'elsewhere', 'e-mail', 'embrace', 'emerge', 'emergency', 'emission', 'emotion', 'emotional', 'emphasis', 'emphasize', 'employ', 'employee', 'employer', 'employment', 'empty', 'enable', 'encounter', 'encourage', 'end', 'enemy', 'energy', 'enforcement', 'engage', 'engine', 'engineer', 'engineering', 'English', 'enhance', 'enjoy', 'enormous', 'enough', 'ensure', 'enter', 'enterprise', 'entertainment', 'entire', 'entirely', 'entrance', 'entry', 'environment', 'environmental', 'episode', 'equal', 'equally', 'equipment', 'era', 'error', 'escape', 'especially', 'essay', 'essential', 'essentially', 'establish', 'establishment', 'estate', 'estimate', 'etc', 'ethics', 'ethnic', 'European', 'evaluate', 'evaluation', 'even', 'evening', 'event', 'eventually', 'ever', 'every', 'everybody', 'everyday', 'everyone', 'everything', 'everywhere', 'evidence', 'evolution', 'evolve', 'exact', 'exactly', 'examination', 'examine', 'example', 'exceed', 'excellent', 'except', 'exception', 'exchange', 'exciting', 'executive', 'exercise', 'exhibit', 'exhibition', 'exist', 'existence', 'existing', 'expand', 'expansion', 'expect', 'expectation', 'expense', 'expensive', 'experience', 'experiment', 'expert', 'explain', 'explanation', 'explode', 'explore', 'explosion', 'expose', 'exposure', 'express', 'expression', 'extend', 'extension', 'extensive', 'extent', 'external', 'extra', 'extraordinary', 'extreme', 'extremely', 'eye', 'fabric', 'face', 'facility', 'fact', 'factor', 'factory', 'faculty', 'fade', 'fail', 'failure', 'fair', 'fairly', 'faith', 'fall', 'false', 'familiar', 'family', 'famous', 'fan', 'fantasy', 'far', 'farm', 'farmer', 'fashion', 'fast', 'fat', 'fate', 'father', 'fault', 'favor', 'favorite', 'fear', 'feature', 'federal', 'fee', 'feed', 'feel', 'feeling', 'fellow', 'female', 'fence', 'few', 'fewer', 'fiber', 'fiction', 'field', 'fifteen', 'fifth', 'fifty', 'fight', 'fighter', 'fighting', 'figure', 'file', 'fill', 'film', 'final', 'finally', 'finance', 'financial', 'find', 'finding', 'fine', 'finger', 'finish', 'fire', 'firm', 'first', 'fish', 'fishing', 'fit', 'fitness', 'five', 'fix', 'flag', 'flame', 'flat', 'flavor', 'flee', 'flesh', 'flight', 'float', 'floor', 'flow', 'flower', 'fly', 'focus', 'folk', 'follow', 'following', 'food', 'foot', 'football', 'for', 'force', 'foreign', 'forest', 'forever', 'forget', 'form', 'formal', 'formation', 'former', 'formula', 'forth', 'fortune', 'forward', 'found', 'foundation', 'founder', 'four', 'fourth', 'frame', 'framework', 'free', 'freedom', 'freeze', 'French', 'frequency', 'frequent', 'frequently', 'fresh', 'friend', 'friendly', 'friendship', 'from', 'front', 'fruit', 'frustration', 'fuel', 'full', 'fully', 'fun', 'function', 'fund', 'fundamental', 'funding', 'funeral', 'funny', 'furniture', 'furthermore', 'future', 'gain', 'galaxy', 'gallery', 'game', 'gang', 'gap', 'garage', 'garden', 'garlic', 'gas', 'gate', 'gather', 'gay', 'gaze', 'gear', 'gender', 'gene', 'general', 'generally', 'generate', 'generation', 'genetic', 'gentleman', 'gently', 'German', 'gesture', 'get', 'ghost', 'giant', 'gift', 'gifted', 'girl', 'girlfriend', 'give', 'given', 'glad', 'glance', 'glass', 'global', 'glove', 'go', 'goal', 'God', 'gold', 'golden', 'golf', 'good', 'government', 'governor', 'grab', 'grade', 'gradually', 'graduate', 'grain', 'grand', 'grandfather', 'grandmother', 'grant', 'grass', 'grave', 'gray', 'great', 'greatest', 'green', 'grocery', 'ground', 'group', 'grow', 'growing', 'growth', 'guarantee', 'guard', 'guess', 'guest', 'guide', 'guideline', 'guilty', 'gun', 'guy', 'habit', 'habitat', 'hair', 'half', 'hall', 'hand', 'handful', 'handle', 'hang', 'happen', 'happy', 'hard', 'hardly', 'hat', 'hate', 'have', 'he', 'head', 'headline', 'headquarters', 'health', 'healthy', 'hear', 'hearing', 'heart', 'heat', 'heaven', 'heavily', 'heavy', 'heel', 'height', 'helicopter', 'hell', 'hello', 'help', 'helpful', 'her', 'here', 'heritage', 'hero', 'herself', 'hey', 'hi', 'hide', 'high', 'highlight', 'highly', 'highway', 'hill', 'him', 'himself', 'hip', 'hire', 'his', 'historian', 'historic', 'historical', 'history', 'hit', 'hold', 'hole', 'holiday', 'holy', 'home', 'homeless', 'honest', 'honey', 'honor', 'hope', 'horizon', 'horror', 'horse', 'hospital', 'host', 'hot', 'hotel', 'hour', 'house', 'household', 'housing', 'how', 'however', 'huge', 'human', 'humor', 'hundred', 'hungry', 'hunter', 'hunting', 'hurt', 'husband', 'hypothesis', 'I', 'ice', 'idea', 'ideal', 'identification', 'identify', 'identity', 'ie', 'if', 'ignore', 'ill', 'illegal', 'illness', 'illustrate', 'image', 'imagination', 'imagine', 'immediate', 'immediately', 'immigrant', 'immigration', 'impact', 'implement', 'implication', 'imply', 'importance', 'important', 'impose', 'impossible', 'impress', 'impression', 'impressive', 'improve', 'improvement', 'in', 'incentive', 'incident', 'include', 'including', 'income', 'incorporate', 'increase', 'increased', 'increasing', 'increasingly', 'incredible', 'indeed', 'independence', 'independent', 'index', 'Indian', 'indicate', 'indication', 'individual', 'industrial', 'industry', 'infant', 'infection', 'inflation', 'influence', 'inform', 'information', 'ingredient', 'initial', 'initially', 'initiative', 'injury', 'inner', 'innocent', 'inquiry', 'inside', 'insight', 'insist', 'inspire', 'install', 'instance', 'instead', 'institution', 'institutional', 'instruction', 'instructor', 'instrument', 'insurance', 'intellectual', 'intelligence', 'intend', 'intense', 'intensity', 'intention', 'interaction', 'interest', 'interested', 'interesting', 'internal', 'international', 'Internet', 'interpret', 'interpretation', 'intervention', 'interview', 'into', 'introduce', 'introduction', 'invasion', 'invest', 'investigate', 'investigation', 'investigator', 'investment', 'investor', 'invite', 'involve', 'involved', 'involvement', 'Iraqi', 'Irish', 'iron', 'Islamic', 'island', 'Israeli', 'issue', 'it', 'Italian', 'item', 'its', 'itself', 'jacket', 'jail', 'Japanese', 'jet', 'Jew', 'Jewish', 'job', 'join', 'joint', 'joke', 'journal', 'journalist', 'journey', 'joy', 'judge', 'judgment', 'juice', 'jump', 'junior', 'jury', 'just', 'justice', 'justify', 'keep', 'key', 'kick', 'kid', 'kill', 'killer', 'killing', 'kind', 'king', 'kiss', 'kitchen', 'knee', 'knife', 'knock', 'know', 'knowledge', 'lab', 'label', 'labor', 'laboratory', 'lack', 'lady', 'lake', 'land', 'landscape', 'language', 'lap', 'large', 'largely', 'last', 'late', 'later', 'Latin', 'latter', 'laugh', 'launch', 'law', 'lawn', 'lawsuit', 'lawyer', 'lay', 'layer', 'lead', 'leader', 'leadership', 'leading', 'leaf', 'league', 'lean', 'learn', 'learning', 'least', 'leather', 'leave', 'left', 'leg', 'legacy', 'legal', 'legend', 'legislation', 'legitimate', 'lemon', 'length', 'less', 'lesson', 'let', 'letter', 'level', 'liberal', 'library', 'license', 'lie', 'life', 'lifestyle', 'lifetime', 'lift', 'light', 'like', 'likely', 'limit', 'limitation', 'limited', 'line', 'link', 'lip', 'list', 'listen', 'literally', 'literary', 'literature', 'little', 'live', 'living', 'load', 'loan', 'local', 'locate', 'location', 'lock', 'long', 'long-term', 'look', 'loose', 'lose', 'loss', 'lost', 'lot', 'lots', 'loud', 'love', 'lovely', 'lover', 'low', 'lower', 'luck', 'lucky', 'lunch', 'lung', 'machine', 'mad', 'magazine', 'mail', 'main', 'mainly', 'maintain', 'maintenance', 'major', 'majority', 'make', 'maker', 'makeup', 'male', 'mall', 'man', 'manage', 'management', 'manager', 'manner', 'manufacturer', 'manufacturing', 'many', 'map', 'margin', 'mark', 'market', 'marketing', 'marriage', 'married', 'marry', 'mask', 'mass', 'massive', 'master', 'match', 'material', 'math', 'matter', 'may', 'maybe', 'mayor', 'me', 'meal', 'mean', 'meaning', 'meanwhile', 'measure', 'measurement', 'meat', 'mechanism', 'media', 'medical', 'medication', 'medicine', 'medium', 'meet', 'meeting', 'member', 'membership', 'memory', 'mental', 'mention', 'menu', 'mere', 'merely', 'mess', 'message', 'metal', 'meter', 'method', 'Mexican', 'middle', 'might', 'military', 'milk', 'million', 'mind', 'mine', 'minister', 'minor', 'minority', 'minute', 'miracle', 'mirror', 'miss', 'missile', 'mission', 'mistake', 'mix', 'mixture', 'mm-hmm', 'mode', 'model', 'moderate', 'modern', 'modest', 'mom', 'moment', 'money', 'monitor', 'month', 'mood', 'moon', 'moral', 'more', 'moreover', 'morning', 'mortgage', 'most', 'mostly', 'mother', 'motion', 'motivation', 'motor', 'mount', 'mountain', 'mouse', 'mouth', 'move', 'movement', 'movie', 'Mr', 'Mrs', 'Ms', 'much', 'multiple', 'murder', 'muscle', 'museum', 'music', 'musical', 'musician', 'Muslim', 'must', 'mutual', 'my', 'myself', 'mystery', 'myth', 'naked', 'name', 'narrative', 'narrow', 'nation', 'national', 'native', 'natural', 'naturally', 'nature', 'near', 'nearby', 'nearly', 'necessarily', 'necessary', 'neck', 'need', 'negative', 'negotiate', 'negotiation', 'neighbor', 'neighborhood', 'neither', 'nerve', 'nervous', 'net', 'network', 'never', 'nevertheless', 'new', 'newly', 'news', 'newspaper', 'next', 'nice', 'night', 'nine', 'no', 'nobody', 'nod', 'noise', 'nomination', 'none', 'nonetheless', 'nor', 'normal', 'normally', 'north', 'northern', 'nose', 'not', 'note', 'nothing', 'notice', 'notion', 'novel', 'now', 'nowhere', \"n't\", 'nuclear', 'number', 'numerous', 'nurse', 'nut', 'object', 'objective', 'obligation', 'observation', 'observe', 'observer', 'obtain', 'obvious', 'obviously', 'occasion', 'occasionally', 'occupation', 'occupy', 'occur', 'ocean', 'odd', 'odds', 'of', 'off', 'offense', 'offensive', 'offer', 'office', 'officer', 'official', 'often', 'oh', 'oil', 'ok', 'okay', 'old', 'Olympic', 'on', 'once', 'one', 'ongoing', 'onion', 'online', 'only', 'onto', 'open', 'opening', 'operate', 'operating', 'operation', 'operator', 'opinion', 'opponent', 'opportunity', 'oppose', 'opposite', 'opposition', 'option', 'or', 'orange', 'order', 'ordinary', 'organic', 'organization', 'organize', 'orientation', 'origin', 'original', 'originally', 'other', 'others', 'otherwise', 'ought', 'our', 'ourselves', 'out', 'outcome', 'outside', 'oven', 'over', 'overall', 'overcome', 'overlook', 'owe', 'own', 'owner', 'pace', 'pack', 'package', 'page', 'pain', 'painful', 'paint', 'painter', 'painting', 'pair', 'pale', 'Palestinian', 'palm', 'pan', 'panel', 'pant', 'paper', 'parent', 'park', 'parking', 'part', 'participant', 'participate', 'participation', 'particular', 'particularly', 'partly', 'partner', 'partnership', 'party', 'pass', 'passage', 'passenger', 'passion', 'past', 'patch', 'path', 'patient', 'pattern', 'pause', 'pay', 'payment', 'PC', 'peace', 'peak', 'peer', 'penalty', 'people', 'pepper', 'per', 'perceive', 'percentage', 'perception', 'perfect', 'perfectly', 'perform', 'performance', 'perhaps', 'period', 'permanent', 'permission', 'permit', 'person', 'personal', 'personality', 'personally', 'personnel', 'perspective', 'persuade', 'pet', 'phase', 'phenomenon', 'philosophy', 'phone', 'photo', 'photograph', 'photographer', 'phrase', 'physical', 'physically', 'physician', 'piano', 'pick', 'picture', 'pie', 'piece', 'pile', 'pilot', 'pine', 'pink', 'pipe', 'pitch', 'place', 'plan', 'plane', 'planet', 'planning', 'plant', 'plastic', 'plate', 'platform', 'play', 'player', 'please', 'pleasure', 'plenty', 'plot', 'plus', 'PM', 'pocket', 'poem', 'poet', 'poetry', 'point', 'pole', 'police', 'policy', 'political', 'politically', 'politician', 'politics', 'poll', 'pollution', 'pool', 'poor', 'pop', 'popular', 'population', 'porch', 'port', 'portion', 'portrait', 'portray', 'pose', 'position', 'positive', 'possess', 'possibility', 'possible', 'possibly', 'post', 'pot', 'potato', 'potential', 'potentially', 'pound', 'pour', 'poverty', 'powder', 'power', 'powerful', 'practical', 'practice', 'pray', 'prayer', 'precisely', 'predict', 'prefer', 'preference', 'pregnancy', 'pregnant', 'preparation', 'prepare', 'prescription', 'presence', 'present', 'presentation', 'preserve', 'president', 'presidential', 'press', 'pressure', 'pretend', 'pretty', 'prevent', 'previous', 'previously', 'price', 'pride', 'priest', 'primarily', 'primary', 'prime', 'principal', 'principle', 'print', 'prior', 'priority', 'prison', 'prisoner', 'privacy', 'private', 'probably', 'problem', 'procedure', 'proceed', 'process', 'produce', 'producer', 'product', 'production', 'profession', 'professional', 'professor', 'profile', 'profit', 'program', 'progress', 'project', 'prominent', 'promise', 'promote', 'prompt', 'proof', 'proper', 'properly', 'property', 'proportion', 'proposal', 'propose', 'proposed', 'prosecutor', 'prospect', 'protect', 'protection', 'protein', 'protest', 'proud', 'prove', 'provide', 'provider', 'province', 'provision', 'psychological', 'psychologist', 'psychology', 'public', 'publication', 'publicly', 'publish', 'publisher', 'pull', 'punishment', 'purchase', 'pure', 'purpose', 'pursue', 'push', 'put', 'qualify', 'quality', 'quarter', 'quarterback', 'question', 'quick', 'quickly', 'quiet', 'quietly', 'quit', 'quite', 'quote', 'race', 'racial', 'radical', 'radio', 'rail', 'rain', 'raise', 'range', 'rank', 'rapid', 'rapidly', 'rare', 'rarely', 'rate', 'rather', 'rating', 'ratio', 'raw', 'reach', 'react', 'reaction', 'read', 'reader', 'reading', 'ready', 'real', 'reality', 'realize', 'really', 'reason', 'reasonable', 'recall', 'receive', 'recent', 'recently', 'recipe', 'recognition', 'recognize', 'recommend', 'recommendation', 'record', 'recording', 'recover', 'recovery', 'recruit', 'red', 'reduce', 'reduction', 'refer', 'reference', 'reflect', 'reflection', 'reform', 'refugee', 'refuse', 'regard', 'regarding', 'regardless', 'regime', 'region', 'regional', 'register', 'regular', 'regularly', 'regulate', 'regulation', 'reinforce', 'reject', 'relate', 'relation', 'relationship', 'relative', 'relatively', 'relax', 'release', 'relevant', 'relief', 'religion', 'religious', 'rely', 'remain', 'remaining', 'remarkable', 'remember', 'remind', 'remote', 'remove', 'repeat', 'repeatedly', 'replace', 'reply', 'report', 'reporter', 'represent', 'representation', 'representative', 'Republican', 'reputation', 'request', 'require', 'requirement', 'research', 'researcher', 'resemble', 'reservation', 'resident', 'resist', 'resistance', 'resolution', 'resolve', 'resort', 'resource', 'respect', 'respond', 'respondent', 'response', 'responsibility', 'responsible', 'rest', 'restaurant', 'restore', 'restriction', 'result', 'retain', 'retire', 'retirement', 'return', 'reveal', 'revenue', 'review', 'revolution', 'rhythm', 'rice', 'rich', 'rid', 'ride', 'rifle', 'right', 'ring', 'rise', 'risk', 'river', 'road', 'rock', 'role', 'roll', 'romantic', 'roof', 'room', 'root', 'rope', 'rose', 'rough', 'roughly', 'round', 'route', 'routine', 'row', 'rub', 'rule', 'run', 'running', 'rural', 'rush', 'Russian', 'sacred', 'sad', 'safe', 'safety', 'sake', 'salad', 'salary', 'sale', 'sales', 'salt', 'same', 'sample', 'sanction', 'sand', 'satellite', 'satisfaction', 'satisfy', 'sauce', 'save', 'saving', 'say', 'scale', 'scandal', 'scared', 'scenario', 'scene', 'schedule', 'scheme', 'scholar', 'scholarship', 'school', 'science', 'scientific', 'scientist', 'scope', 'score', 'scream', 'screen', 'script', 'sea', 'search', 'season', 'seat', 'second', 'secret', 'secretary', 'section', 'sector', 'secure', 'security', 'see', 'seed', 'seek', 'seem', 'segment', 'seize', 'select', 'selection', 'self', 'sell', 'Senate', 'senator', 'send', 'senior', 'sense', 'sensitive', 'sentence', 'separate', 'sequence', 'series', 'serious', 'seriously', 'serve', 'service', 'session', 'set', 'setting', 'settle', 'settlement', 'seven', 'several', 'severe', 'sex', 'sexual', 'shade', 'shadow', 'shake', 'shall', 'shape', 'share', 'sharp', 'she', 'sheet', 'shelf', 'shell', 'shelter', 'shift', 'shine', 'ship', 'shirt', 'shit', 'shock', 'shoe', 'shoot', 'shooting', 'shop', 'shopping', 'shore', 'short', 'shortly', 'shot', 'should', 'shoulder', 'shout', 'show', 'shower', 'shrug', 'shut', 'sick', 'side', 'sigh', 'sight', 'sign', 'signal', 'significance', 'significant', 'significantly', 'silence', 'silent', 'silver', 'similar', 'similarly', 'simple', 'simply', 'sin', 'since', 'sing', 'singer', 'single', 'sink', 'sir', 'sister', 'sit', 'site', 'situation', 'six', 'size', 'ski', 'skill', 'skin', 'sky', 'slave', 'sleep', 'slice', 'slide', 'slight', 'slightly', 'slip', 'slow', 'slowly', 'small', 'smart', 'smell', 'smile', 'smoke', 'smooth', 'snap', 'snow', 'so', 'so-called', 'soccer', 'social', 'society', 'soft', 'software', 'soil', 'solar', 'soldier', 'solid', 'solution', 'solve', 'some', 'somebody', 'somehow', 'someone', 'something', 'sometimes', 'somewhat', 'somewhere', 'son', 'song', 'soon', 'sophisticated', 'sorry', 'sort', 'soul', 'sound', 'soup', 'source', 'south', 'southern', 'Soviet', 'space', 'Spanish', 'speak', 'speaker', 'special', 'specialist', 'species', 'specific', 'specifically', 'speech', 'speed', 'spend', 'spending', 'spin', 'spirit', 'spiritual', 'split', 'spokesman', 'sport', 'spot', 'spread', 'spring', 'square', 'squeeze', 'stability', 'stable', 'staff', 'stage', 'stair', 'stake', 'stand', 'standard', 'standing', 'star', 'stare', 'start', 'state', 'statement', 'station', 'statistics', 'status', 'stay', 'steady', 'steal', 'steel', 'step', 'stick', 'still', 'stir', 'stock', 'stomach', 'stone', 'stop', 'storage', 'store', 'storm', 'story', 'straight', 'strange', 'stranger', 'strategic', 'strategy', 'stream', 'street', 'strength', 'strengthen', 'stress', 'stretch', 'strike', 'string', 'strip', 'stroke', 'strong', 'strongly', 'structure', 'struggle', 'student', 'studio', 'study', 'stuff', 'stupid', 'style', 'subject', 'submit', 'subsequent', 'substance', 'substantial', 'succeed', 'success', 'successful', 'successfully', 'such', 'sudden', 'suddenly', 'sue', 'suffer', 'sufficient', 'sugar', 'suggest', 'suggestion', 'suicide', 'suit', 'summer', 'summit', 'sun', 'super', 'supply', 'support', 'supporter', 'suppose', 'supposed', 'Supreme', 'sure', 'surely', 'surface', 'surgery', 'surprise', 'surprised', 'surprising', 'surprisingly', 'surround', 'survey', 'survival', 'survive', 'survivor', 'suspect', 'sustain', 'swear', 'sweep', 'sweet', 'swim', 'swing', 'switch', 'symbol', 'symptom', 'system', 'table', 'tablespoon', 'tactic', 'tail', 'take', 'tale', 'talent', 'talk', 'tall', 'tank', 'tap', 'tape', 'target', 'task', 'taste', 'tax', 'taxpayer', 'tea', 'teach', 'teacher', 'teaching', 'team', 'tear', 'teaspoon', 'technical', 'technique', 'technology', 'teen', 'teenager', 'telephone', 'telescope', 'television', 'tell', 'temperature', 'temporary', 'ten', 'tend', 'tendency', 'tennis', 'tension', 'tent', 'term', 'terms', 'terrible', 'territory', 'terror', 'terrorism', 'terrorist', 'test', 'testify', 'testimony', 'testing', 'text', 'than', 'thank', 'thanks', 'that', 'the', 'theater', 'their', 'them', 'theme', 'themselves', 'then', 'theory', 'therapy', 'there', 'therefore', 'these', 'they', 'thick', 'thin', 'thing', 'think', 'thinking', 'third', 'thirty', 'this', 'those', 'though', 'thought', 'thousand', 'threat', 'threaten', 'three', 'throat', 'through', 'throughout', 'throw', 'thus', 'ticket', 'tie', 'tight', 'time', 'tiny', 'tip', 'tire', 'tired', 'tissue', 'title', 'to', 'tobacco', 'today', 'toe', 'together', 'tomato', 'tomorrow', 'tone', 'tongue', 'tonight', 'too', 'tool', 'tooth', 'top', 'topic', 'toss', 'total', 'totally', 'touch', 'tough', 'tour', 'tourist', 'tournament', 'toward', 'towards', 'tower', 'town', 'toy', 'trace', 'track', 'trade', 'tradition', 'traditional', 'traffic', 'tragedy', 'trail', 'train', 'training', 'transfer', 'transform', 'transformation', 'transition', 'translate', 'transportation', 'travel', 'treat', 'treatment', 'treaty', 'tree', 'tremendous', 'trend', 'trial', 'tribe', 'trick', 'trip', 'troop', 'trouble', 'truck', 'true', 'truly', 'trust', 'truth', 'try', 'tube', 'tunnel', 'turn', 'TV', 'twelve', 'twenty', 'twice', 'twin', 'two', 'type', 'typical', 'typically', 'ugly', 'ultimate', 'ultimately', 'unable', 'uncle', 'under', 'undergo', 'understand', 'understanding', 'unfortunately', 'uniform', 'union', 'unique', 'unit', 'United', 'universal', 'universe', 'university', 'unknown', 'unless', 'unlike', 'unlikely', 'until', 'unusual', 'up', 'upon', 'upper', 'urban', 'urge', 'us', 'use', 'used', 'useful', 'user', 'usual', 'usually', 'utility', 'vacation', 'valley', 'valuable', 'value', 'variable', 'variation', 'variety', 'various', 'vary', 'vast', 'vegetable', 'vehicle', 'venture', 'version', 'versus', 'very', 'vessel', 'veteran', 'via', 'victim', 'victory', 'video', 'view', 'viewer', 'village', 'violate', 'violation', 'violence', 'violent', 'virtually', 'virtue', 'virus', 'visible', 'vision', 'visit', 'visitor', 'visual', 'vital', 'voice', 'volume', 'volunteer', 'vote', 'voter', 'vs', 'vulnerable', 'wage', 'wait', 'wake', 'walk', 'wall', 'wander', 'want', 'war', 'warm', 'warn', 'warning', 'wash', 'waste', 'watch', 'water', 'wave', 'way', 'we', 'weak', 'wealth', 'wealthy', 'weapon', 'wear', 'weather', 'wedding', 'week', 'weekend', 'weekly', 'weigh', 'weight', 'welcome', 'welfare', 'well', 'west', 'western', 'wet', 'what', 'whatever', 'wheel', 'when', 'whenever', 'where', 'whereas', 'whether', 'which', 'while', 'whisper', 'white', 'who', 'whole', 'whom', 'whose', 'why', 'wide', 'widely', 'widespread', 'wife', 'wild', 'will', 'willing', 'win', 'wind', 'window', 'wine', 'wing', 'winner', 'winter', 'wipe', 'wire', 'wisdom', 'wise', 'wish', 'with', 'withdraw', 'within', 'without', 'witness', 'woman', 'wonder', 'wonderful', 'wood', 'wooden', 'word', 'work', 'worker', 'working', 'works', 'workshop', 'world', 'worried', 'worry', 'worth', 'would', 'wound', 'wrap', 'write', 'writer', 'writing', 'wrong', 'yard', 'yeah', 'year', 'yell', 'yellow', 'yes', 'yesterday', 'yet', 'yield', 'you', 'young', 'your', 'yours', 'yourself', 'youth', 'zone', 'bop', 'bom', 'em', 'de', 'nada', 'mano', 'da', 'Dame', 'bald', 'Start', 'Ja', 'dil', 'ben', 'tek', 'ay']"
   ]
  }
 ],
 "metadata": {
  "kernelspec": {
   "display_name": "Python 3",
   "language": "python",
   "name": "python3"
  },
  "language_info": {
   "codemirror_mode": {
    "name": "ipython",
    "version": 3
   },
   "file_extension": ".py",
   "mimetype": "text/x-python",
   "name": "python",
   "nbconvert_exporter": "python",
   "pygments_lexer": "ipython3",
   "version": "3.7.1"
  }
 },
 "nbformat": 4,
 "nbformat_minor": 2
}
