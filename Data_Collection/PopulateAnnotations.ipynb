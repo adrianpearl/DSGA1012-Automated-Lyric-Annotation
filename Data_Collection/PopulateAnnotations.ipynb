{
 "cells": [
  {
   "cell_type": "code",
   "execution_count": 1,
   "metadata": {},
   "outputs": [],
   "source": [
    "import urllib\n",
    "import json\n",
    "import pandas as pd\n",
    "import time\n",
    "import sys"
   ]
  },
  {
   "cell_type": "code",
   "execution_count": 2,
   "metadata": {},
   "outputs": [],
   "source": [
    "# Secret token\n",
    "token = open(\"../ACCESS_TOKEN.txt\", \"r\").read()"
   ]
  },
  {
   "cell_type": "code",
   "execution_count": 3,
   "metadata": {},
   "outputs": [],
   "source": [
    "# Format a request URI for the Genius API\n",
    "search_term = 'Ayla Celik'\n",
    "_URL_API = \"https://api.genius.com/\"\n",
    "_URL_SEARCH = \"search?q=\"\n",
    "querystring = _URL_API + _URL_SEARCH + urllib.parse.quote(search_term)\n",
    "request = urllib.request.Request(querystring)\n",
    "request.add_header(\"Authorization\", \"Bearer \" + token)\n",
    "request.add_header(\"User-Agent\", \"\")"
   ]
  },
  {
   "cell_type": "code",
   "execution_count": 4,
   "metadata": {},
   "outputs": [],
   "source": [
    "def get_songs():\n",
    "    annotation_header=['song_id','lyric','annotation']\n",
    "    songs_header = ['artist','song']\n",
    "    try:\n",
    "        annotations = pd.read_csv('annotations.tsv', names=annotation_header, sep='\\t')\n",
    "    except:\n",
    "        return pd.read_csv('song_ids_1.csv', sep=',')\n",
    "    songs = pd.read_csv('song_ids_1.csv', sep=',')\n",
    "    last_id = str(annotations.song_id.values[-1])\n",
    "    i = songs[songs.song == last_id].index[0]\n",
    "    return songs[i+1:]"
   ]
  },
  {
   "cell_type": "code",
   "execution_count": 5,
   "metadata": {},
   "outputs": [],
   "source": [
    "# Function to recursively search the annotation dict\n",
    "# and get the text, skipping blockquotes, formatting, images, etc.\n",
    "\n",
    "def recurse(children):\n",
    "    st = ''\n",
    "    for child in children:\n",
    "        #print(child)\n",
    "        if type(child) == dict and 'tag' in child:\n",
    "            if child['tag'] == 'p' or child['tag'] == 'a':\n",
    "                st += recurse(child['children'])\n",
    "            elif child['tag'] == 'blockquote':\n",
    "                st += '[BLOCKQUOTE]'\n",
    "        elif type(child) == list:\n",
    "            st += recurse(child)\n",
    "        elif type(child) == str:\n",
    "            st += child + ' '\n",
    "    return st"
   ]
  },
  {
   "cell_type": "code",
   "execution_count": 6,
   "metadata": {
    "scrolled": true
   },
   "outputs": [],
   "source": [
    "def append_annotations(songdf, batchsize):\n",
    "    # Get a chunk of song ids\n",
    "    song_ids = songdf.head(batchsize)\n",
    "    song_ids = song_ids[song_ids.song != 'None'].song.astype(int)\n",
    "\n",
    "    with open('annotations.tsv', 'a') as f:\n",
    "\n",
    "        for i, song_id in enumerate(song_ids):\n",
    "            sys.stdout.write('\\r'+str(i))\n",
    "\n",
    "            # Format the search query using the 'referents' api\n",
    "            # Given a song id, returns all of its referents (lines that have been annotated)\n",
    "            # and the corresponding annotations.\n",
    "            querystring = \"https://api.genius.com/referents?song_id=\" + str(song_id) + \"&per_page=50\"\n",
    "            request = urllib.request.Request(querystring)\n",
    "            request.add_header(\"Authorization\", \"Bearer \" + token)\n",
    "            request.add_header(\"User-Agent\", \"\")\n",
    "\n",
    "            # Do internet stuff\n",
    "            # Send the request to Genius, and parse the response\n",
    "            try:\n",
    "                response = urllib.request.urlopen(request, timeout=10)\n",
    "                string = response.read().decode('utf-8')\n",
    "                json_obj = json.loads(string)\n",
    "            except:\n",
    "                print('***Failed on song id: ' + str(song_id))\n",
    "                continue\n",
    "\n",
    "            # The data we want can be found here\n",
    "            # For this song there are 9 lyric/annotation pairs\n",
    "            referents = json_obj['response']['referents']\n",
    "\n",
    "            # Many songs return zero annotations. If we get annotations, parse through them\n",
    "            if len(referents) > 0:\n",
    "                for ref in referents:\n",
    "                    lyric = ref['fragment'].replace('\\n', ' ')\n",
    "                    try:\n",
    "                        annotation = recurse(ref['annotations'][0]['body']['dom']['children']).replace('\\n', ' ')\n",
    "                    except:\n",
    "                        print('***Empty annotation on song id: ' + str(song_id))\n",
    "                        continue\n",
    "                    \n",
    "                    sys.stdout.write('\\r'+str(i)+\" \"+lyric)\n",
    "                    f.write(str(song_id) + '\\t' + lyric + '\\t' + annotation + '\\n')\n",
    "                    \n",
    "            time.sleep(0.5)"
   ]
  },
  {
   "cell_type": "code",
   "execution_count": 7,
   "metadata": {},
   "outputs": [
    {
     "name": "stdout",
     "output_type": "stream",
     "text": [
      "205 White high school's wasn't laughing at the black jokes***Empty annotation on song id: 371866 your only son that walk and talkr breaking up your happy homey as the day my mama had me, see shitse hoes won't hold me back  These hoes won't hold me back  These hoes won't hold me backanna bang, wanna slang?  Get with the programmy all in  If I'm gonna fall in, I'm gonna fall my all in get knocked back  Just gonna get knocked back  Just gonna get knocked back  Back, back, back, back  Back, back, back, back...up in your touch Feel so enamored, hold me tight within your clutch How do you do it? You got me losing every breath What did you give me to make my heart bleed out my chest?\n",
      "239 They let the monkey out the cage, he got a gun  He got a book, he got a brain, you better run  Was the one that they shun  Baptized in the tears of the slaves as a young***Empty annotation on song id: 371863ith the sharks since the kiddy poolt  Is it real? need to get your shit together  Because a mí no me vas a tratar como a ninguna otra pendeja, estúpidona shoot at somebody. Cause all we got is these dreams man and y'all ain't never had to not have nothing, and that's the last thing you want for anybody. Is to not really have nothing. At all\n",
      "633 Tell me all about the things that you and I will never do What'd God give me a plan for  If he won’t help me do it?er seenback in that Tallahassee  I love youl, I know that you will  Will you still love me when I'm no longer beautiful?w that I like, like you a lot  Don’t let it stopo poverty and tatters and hollow-eyed and high sat up smoking in the supernatural darkness of cold-water flats floating across the tops of cities contemplating jazz  Who bared their brains to Heaven under the El and saw Mohammedan angels staggering on tenement roofs illuminated  Who passed through universities with radiant cool eyes hallucinating Arkansas and Blake-light tragedy among the scholars of war  Who were expelled from the academies for crazy & publishing obscene odes on the windows of the skull  Who cowered in unshaven rooms in underwear, burning their money in wastebaskets and listening to the Terror through the wall  Who got busted in their pubic beards returning through Laredo with a belt of marijuana for New York  Who ate fire in paint hotels or drank turpentine in Paradise Alley, death, or purgatoried their torsos night after night  With dreams, with drugs, with waking nightmares***Empty annotation on song id: 408108\n",
      "999 We seed, we feel, we need, we fight  We seal, we cut, we seek, we love  We grow, we take, we eat, we break  We hunt, we hurt, we seize, we kneel  We heal, we fuck, we pray, we hate  We reach, we touch, we lose, we taste  We learn, we lie, we wound, we waste  We hold, we kill, we love, we veil  We crawl, we seek, we fail, we rage  We fuck, we come, we love, we work  We search, we share, we wound, we keep  We blind, we take, we hide, we hold  We breathe, we steal, we bind, we build  We seed, we fuck, we rage, we weep  We betray, we serve, we regret, we learn  With tooth and claw, we touch, we teach  We fuck, we love, we forget, we regretll it  But uh, today, uh  I am what they call legally  Because of this retinal problem and er glaucoma, er  I-I'm what they call... erm...  Legally blindat you call that  (Does it hurt when you breathe?)  [Cough, cough]  It hurts a little bit when I breathe in a little deeply  (D'you sleep at all?)  Well if you're asleep you can't tell whether you're asleep"
     ]
    }
   ],
   "source": [
    "songdf = get_songs()\n",
    "append_annotations(songdf, 1000)"
   ]
  },
  {
   "cell_type": "code",
   "execution_count": null,
   "metadata": {},
   "outputs": [],
   "source": []
  }
 ],
 "metadata": {
  "kernelspec": {
   "display_name": "Python 3",
   "language": "python",
   "name": "python3"
  },
  "language_info": {
   "codemirror_mode": {
    "name": "ipython",
    "version": 3
   },
   "file_extension": ".py",
   "mimetype": "text/x-python",
   "name": "python",
   "nbconvert_exporter": "python",
   "pygments_lexer": "ipython3",
   "version": "3.7.1"
  }
 },
 "nbformat": 4,
 "nbformat_minor": 2
}
