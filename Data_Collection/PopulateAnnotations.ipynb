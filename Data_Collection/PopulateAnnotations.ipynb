{
 "cells": [
  {
   "cell_type": "code",
   "execution_count": 3,
   "metadata": {},
   "outputs": [],
   "source": [
    "import urllib\n",
    "import json\n",
    "import pandas as pd\n",
    "import time\n",
    "import sys\n",
    "import os"
   ]
  },
  {
   "cell_type": "code",
   "execution_count": 6,
   "metadata": {},
   "outputs": [],
   "source": [
    "# Secret token\n",
    "token = open(\"../ACCESS_TOKEN.txt\", \"r\").read()"
   ]
  },
  {
   "cell_type": "code",
   "execution_count": 7,
   "metadata": {},
   "outputs": [],
   "source": [
    "# Format a request URI for the Genius API\n",
    "search_term = 'Ayla Celik'\n",
    "_URL_API = \"https://api.genius.com/\"\n",
    "_URL_SEARCH = \"search?q=\"\n",
    "querystring = _URL_API + _URL_SEARCH + urllib.parse.quote(search_term)\n",
    "request = urllib.request.Request(querystring)\n",
    "request.add_header(\"Authorization\", \"Bearer \" + token)\n",
    "request.add_header(\"User-Agent\", \"\")"
   ]
  },
  {
   "cell_type": "code",
   "execution_count": 42,
   "metadata": {},
   "outputs": [],
   "source": [
    "def get_songs(annotations_file, song_ids_file):\n",
    "    annotation_header=['song_id','lyric','annotation']\n",
    "    song_header = ['artist','song']\n",
    "    try:\n",
    "        annotations = pd.read_csv(annotations_file, names=annotation_header, sep='\\t')\n",
    "    except:\n",
    "        return pd.read_csv(song_ids_file, names=song_header, sep=',')\n",
    "    songs = pd.read_csv(song_ids_file, names=song_header, sep=',')\n",
    "    last_id = str(annotations.song_id.values[-1])\n",
    "    i = songs[songs.song.astype(str) == last_id].index[0]\n",
    "    return songs[i+1:]"
   ]
  },
  {
   "cell_type": "code",
   "execution_count": 43,
   "metadata": {},
   "outputs": [],
   "source": [
    "# Function to recursively search the annotation dict\n",
    "# and get the text, skipping blockquotes, formatting, images, etc.\n",
    "\n",
    "def recurse(children):\n",
    "    st = ''\n",
    "    for child in children:\n",
    "        #print(child)\n",
    "        if type(child) == dict and 'tag' in child:\n",
    "            if child['tag'] == 'p' or child['tag'] == 'a':\n",
    "                st += recurse(child['children'])\n",
    "            elif child['tag'] == 'blockquote':\n",
    "                st += '[BLOCKQUOTE]'\n",
    "        elif type(child) == list:\n",
    "            st += recurse(child)\n",
    "        elif type(child) == str:\n",
    "            st += child + ' '\n",
    "    return st"
   ]
  },
  {
   "cell_type": "code",
   "execution_count": 44,
   "metadata": {
    "scrolled": true
   },
   "outputs": [],
   "source": [
    "def append_annotations(songdf, annotations_file, batchsize):\n",
    "    # Get a chunk of song ids\n",
    "    song_ids = songdf.head(batchsize)\n",
    "    song_ids = song_ids[song_ids.song.astype(str) != 'None'].song.astype(int)\n",
    "\n",
    "    with open(annotations_file, 'a') as f:\n",
    "\n",
    "        for i, song_id in enumerate(song_ids):\n",
    "            sys.stdout.write('\\r'+str(i))\n",
    "\n",
    "            # Format the search query using the 'referents' api\n",
    "            # Given a song id, returns all of its referents (lines that have been annotated)\n",
    "            # and the corresponding annotations.\n",
    "            querystring = \"https://api.genius.com/referents?song_id=\" + str(song_id) + \"&per_page=50\"\n",
    "            request = urllib.request.Request(querystring)\n",
    "            request.add_header(\"Authorization\", \"Bearer \" + token)\n",
    "            request.add_header(\"User-Agent\", \"\")\n",
    "\n",
    "            # Do internet stuff\n",
    "            # Send the request to Genius, and parse the response\n",
    "            try:\n",
    "                response = urllib.request.urlopen(request, timeout=10)\n",
    "                string = response.read().decode('utf-8')\n",
    "                json_obj = json.loads(string)\n",
    "            except:\n",
    "                print('***Failed on song id: ' + str(song_id))\n",
    "                continue\n",
    "\n",
    "            # The data we want can be found here\n",
    "            # For this song there are 9 lyric/annotation pairs\n",
    "            referents = json_obj['response']['referents']\n",
    "\n",
    "            # Many songs return zero annotations. If we get annotations, parse through them\n",
    "            if len(referents) > 0:\n",
    "                for ref in referents:\n",
    "                    lyric = ref['fragment'].replace('\\n', ' ')\n",
    "                    try:\n",
    "                        annotation = recurse(ref['annotations'][0]['body']['dom']['children']).replace('\\n', ' ')\n",
    "                    except:\n",
    "                        print('***Empty annotation on song id: ' + str(song_id))\n",
    "                        continue\n",
    "                    \n",
    "                    #print(song_id)\n",
    "                    sys.stdout.write('\\r'+str(i)+\" \"+lyric)\n",
    "                    f.write(str(song_id) + '\\t' + lyric + '\\t' + annotation + '\\n')\n",
    "                    \n",
    "            time.sleep(0.5)"
   ]
  },
  {
   "cell_type": "code",
   "execution_count": 45,
   "metadata": {},
   "outputs": [],
   "source": [
    "def main(song_ids_file, annotations_file, batch_size=1000):\n",
    "    songdf = get_songs(annotations_file, song_ids_file)\n",
    "    try:\n",
    "        append_annotations(songdf, annotations_file, batch_size)\n",
    "    except:\n",
    "        os.system('say \"failure\"')\n",
    "\n",
    "    os.system('say \"batch done\"')"
   ]
  },
  {
   "cell_type": "code",
   "execution_count": 46,
   "metadata": {},
   "outputs": [
    {
     "name": "stdout",
     "output_type": "stream",
     "text": [
      "4 Here come da sunsh like Kool & The Gang Sikh ke adava sharmile nain ho gaye  Tera ki kasoor je nashili nain ho gaye  Sikh ke adava sharmile nain ho gaye"
     ]
    }
   ],
   "source": [
    "main('song_ids_2.csv','annotations2.tsv',5)"
   ]
  },
  {
   "cell_type": "code",
   "execution_count": null,
   "metadata": {},
   "outputs": [],
   "source": []
  }
 ],
 "metadata": {
  "kernelspec": {
   "display_name": "Python 3",
   "language": "python",
   "name": "python3"
  },
  "language_info": {
   "codemirror_mode": {
    "name": "ipython",
    "version": 3
   },
   "file_extension": ".py",
   "mimetype": "text/x-python",
   "name": "python",
   "nbconvert_exporter": "python",
   "pygments_lexer": "ipython3",
   "version": "3.6.5"
  }
 },
 "nbformat": 4,
 "nbformat_minor": 2
}
