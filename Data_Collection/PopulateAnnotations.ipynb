{
 "cells": [
  {
   "cell_type": "code",
   "execution_count": 1,
   "metadata": {},
   "outputs": [],
   "source": [
    "import urllib\n",
    "import json\n",
    "import pandas as pd\n",
    "import time\n",
    "import sys"
   ]
  },
  {
   "cell_type": "code",
   "execution_count": 2,
   "metadata": {},
   "outputs": [],
   "source": [
    "# Secret token\n",
    "token = open(\"ACCESS_TOKEN.txt\", \"r\").read()"
   ]
  },
  {
   "cell_type": "code",
   "execution_count": 3,
   "metadata": {},
   "outputs": [],
   "source": [
    "# Format a request URI for the Genius API\n",
    "search_term = 'Ayla Celik'\n",
    "_URL_API = \"https://api.genius.com/\"\n",
    "_URL_SEARCH = \"search?q=\"\n",
    "querystring = _URL_API + _URL_SEARCH + urllib.parse.quote(search_term)\n",
    "request = urllib.request.Request(querystring)\n",
    "request.add_header(\"Authorization\", \"Bearer \" + token)\n",
    "request.add_header(\"User-Agent\", \"\")"
   ]
  },
  {
   "cell_type": "code",
   "execution_count": 4,
   "metadata": {},
   "outputs": [],
   "source": [
    "def get_songs():\n",
    "    annotation_header=['song_id','lyric','annotation']\n",
    "    songs_header = ['artist','song']\n",
    "    try:\n",
    "        annotations = pd.read_csv('annotations.tsv', names=annotation_header, sep='\\t')\n",
    "    except:\n",
    "        return pd.read_csv('song_ids_1.csv', sep=',')\n",
    "    songs = pd.read_csv('song_ids_1.csv', sep=',')\n",
    "    last_id = str(annotations.song_id.values[-1])\n",
    "    i = songs[songs.song == last_id].index[0]\n",
    "    return songs[i+1:]"
   ]
  },
  {
   "cell_type": "code",
   "execution_count": 5,
   "metadata": {},
   "outputs": [],
   "source": [
    "# Function to recursively search the annotation dict\n",
    "# and get the text, skipping blockquotes, formatting, images, etc.\n",
    "\n",
    "def recurse(children):\n",
    "    st = ''\n",
    "    for child in children:\n",
    "        #print(child)\n",
    "        if type(child) == dict and 'tag' in child:\n",
    "            if child['tag'] == 'p' or child['tag'] == 'a':\n",
    "                st += recurse(child['children'])\n",
    "            elif child['tag'] == 'blockquote':\n",
    "                st += '[BLOCKQUOTE]'\n",
    "        elif type(child) == list:\n",
    "            st += recurse(child)\n",
    "        elif type(child) == str:\n",
    "            st += child + ' '\n",
    "    return st"
   ]
  },
  {
   "cell_type": "code",
   "execution_count": 15,
   "metadata": {
    "scrolled": true
   },
   "outputs": [],
   "source": [
    "def append_annotations(songdf, batchsize):\n",
    "    # Get a chunk of song ids\n",
    "    song_ids = songdf.head(batchsize)\n",
    "    song_ids = song_ids[song_ids.song != 'None'].song.astype(int)\n",
    "\n",
    "    with open('annotations.tsv', 'a') as f:\n",
    "\n",
    "        for i, song_id in enumerate(song_ids):\n",
    "            sys.stdout.write('\\r'+str(i))\n",
    "\n",
    "            # Format the search query using the 'referents' api\n",
    "            # Given a song id, returns all of its referents (lines that have been annotated)\n",
    "            # and the corresponding annotations.\n",
    "            querystring = \"https://api.genius.com/referents?song_id=\" + str(song_id) + \"&per_page=50\"\n",
    "            request = urllib.request.Request(querystring)\n",
    "            request.add_header(\"Authorization\", \"Bearer \" + token)\n",
    "            request.add_header(\"User-Agent\", \"\")\n",
    "\n",
    "            # Do internet stuff\n",
    "            # Send the request to Genius, and parse the response\n",
    "            try:\n",
    "                response = urllib.request.urlopen(request, timeout=10)\n",
    "                string = response.read().decode('utf-8')\n",
    "                json_obj = json.loads(string)\n",
    "            except:\n",
    "                print('***Failed on song id: ' + str(song_id))\n",
    "                continue\n",
    "\n",
    "            # The data we want can be found here\n",
    "            # For this song there are 9 lyric/annotation pairs\n",
    "            referents = json_obj['response']['referents']\n",
    "\n",
    "            # Many songs return zero annotations. If we get annotations, parse through them\n",
    "            if len(referents) > 0:\n",
    "                for ref in referents:\n",
    "                    lyric = ref['fragment'].replace('\\n', ' ')\n",
    "                    try:\n",
    "                        annotation = recurse(ref['annotations'][0]['body']['dom']['children']).replace('\\n', ' ')\n",
    "                    except:\n",
    "                        print('***Empty annotation on song id: ' + str(song_id))\n",
    "                        continue\n",
    "                    \n",
    "                    sys.stdout.write('\\r'+str(i)+\" \"+lyric)\n",
    "                    f.write(str(song_id) + '\\t' + lyric + '\\t' + annotation + '\\n')\n",
    "                    \n",
    "            time.sleep(0.5)"
   ]
  },
  {
   "cell_type": "code",
   "execution_count": 19,
   "metadata": {},
   "outputs": [
    {
     "name": "stdout",
     "output_type": "stream",
     "text": [
      "143 I stare at the lawn, it's Wednesday morning  It needs a cut but I leave it growing  All different sizes and all shades of green  Slashing it down just seems kind of meanhy can't we just talk nice?nna see    So take what you want from me  Don't ask me what I really mean  I am just a reflection  Of what you really wanna see rebuildin'  If you've got a spare half a million  You could knock it down and start rebuildin'  If you've got a spare half a million  You could knock it down and start rebuildin'***Failed on song id: 693803\n",
      "538 Everybody in here just bounce  Just bounce  Just bounce  Just bounce  Uh uh uh uh  I like, ok let's go  Uh Uh  Yeah yeah yeah yeah  Uh Uh Uh  Yeah yeah yeah yeah  Uh Uh Uh  Big pimpin'  Spendin' cheese we doin'  Big pimpin' on BLADES  We doin'  Big Pimpin' up in NYC  It's just that Jigga man Roots band on MTVtop was shorter than leprechauns Y'all can't fuck with Hov', what type of X y'all on? I got great lawyers for cops so dress warm Charges don't stick to dude he's teflon I'm too sexy for jail like I'm Right Said Fred I'm not guilty, now GIVE ME back my bread Mr. District Attorney I'm not sure if they told you I'm on TV every day, where the fuck could I go to Plus - Hov' don't run, Hov' stand and fight Hov's a soldier, Hov' been fightin all his life so What could you do to me? It's not new to me Sue me; fuck you - what's a couple dollars to me? But you will respect me, simple as that Or I got no problem going back I'm representing for the seat where Rosa Parks sat Where Malcolm X was shot, where Martin Luther was popped So off we go, let the trumpets blow And hold on, because the driver of the mission is a pro The ruler's backmade me off track In fact, this right here very well could be the last rap I ever do spit, I'll never do shit, that's that Fuck it I quit, suck on a dick, jackass I'm done with this wack ass rap, kiss my black ass need it, it's good for you (We gon' move!)  You know you need it (Hey!), I need it too (Well alright!)  You know you need it, it's good for you (We gon' move!)  You know you need it (Hey!), I need it too (Well alright!)  You know you need it, it's good for you (We gon' move!)  You know you need it (Hey!), I need it too (Well alright!)  You know you need it, it's good for you (We gon' move!)  You know you need it (Hey!), I need it too (Well alright!)  You know you need it, it's good for you (We gon' move!)  You know you need it (Hey!), I need it too (Well alright!)  You know you need it, it's good for you (We gon' move!)  You know you need it (Hey!), I need it too (Well alright!)  You know you need it, it's good for you (We gon' move!)  You know you need it (Hey!), I need it too (Well alright!)  You know you need it, it's good for you (We gon' move!)  You know you need it (Hey!), I need it too (Well alright!)  You know you need it, it's good for you (We gon' move!)  You know you need it (Hey!), I need it too (Well alright!)  You know you need it, it's good for you (We gon' move!)  You know you need it (Hey!), I need it too (Well alright!)  You know you need it, it's good for you (We gon' move!)  You know you need it (Hey!), I need it too (Well alright!)  You know you need it, it's good for you (We gon' move!)  You know you need it (Hey!), I need it too (Well alright!)  You know you need it, it's good for you (We gon' move!)  You know you need it (Hey!), I need it too (Well alright!)  You know you need it, it's good for you (We gon' move!)  You know you need it (Hey!), I need it too (Well alright!)  You know you need it, it's good for you (We gon' move!)  You know you need it (Hey!), I need it too (Well alright!)  You know you need it, it's good for you (We gon' move!)  You know you need it (Hey!), I need it too (Well alright!)  You know you need it, it's good for you (We gon' move!)  You know you need it (Hey!), I need it too (Well alright!)  You know you need it, it's good for you (We gon' move!)  You know you need it (Hey!), I need it too (Well alright!)  You know you need it, it's good for you (We gon' move!)  You know you need it...***Failed on song id: 24504\n",
      "600 'Cause I know what a kid in apartment 5C see'd nope that's a star into the real thing press 1 now\", only as objects  And the object for us to explore our prospects  And sidestep cops on the way to the top - yes!ly gets betteright?  Uh-huh... tried to told you, ride with mees  Word to my momma, we livin'!hrow?  Won't you throw in the towel? I'm better with vowels  My vocabulary murders the dictionary  Flow switches every 16, shits mean, man the hustle for real  (Let's go all the way up town, let's take em to Yonkers) get the buy money then  Oh and chico, if anything happens to the buy money  Eh, pobrecito  JAY-Z's gonna stick your heads up your asses faster than a rabbit gets fucked***Failed on song id: 1796155\n",
      "632 Everybody wanna hear me talk that money like Phil Rizzuto***Empty annotation on song id: 1204' get him?  He's having heaven on earth, will his wings still fit him?  Billionaire boys and some dudes you never heard ofafter you get a homeis diamonds and stuff—they don't understand, it's because we really from Africa. And that's where all this stuff come from. And we originated from kings, you know what I'm saying? So don't look down on the youngsters because they wanna have shiny things. It's in our genes, know what I'm saying? We just don't all know our history, so…\"show you how to do this son  Young don't mess with chicks in Burberry paddings  Fake Manolo boots straight from Steve Madden (u-uh)  He padded hisself the rap J.F.K., you wanna pass for my Jaqueline Onassis  Then, hop ya ass out that S-class  Lay back in that Maybach, roll the best grass, I ask  Have you in your long-legged life  Ever seen a watch surrounded by this much pink ice?  Look but don't touch, motherfucker think twice  Cause the gat that I clutch got a little red light  Need a light?    [Hook]  To smoke that la-la-la  Beanie Sigel always smoking that la-la-la  Memph' Bleek always smoking that la-la-la  It's the R.O.C. mami, sing our lullaby  C'mon!    [Hook]  Excuse me miss, I'm the shit  You should come, hang with me, basically  Hold up, skip all the singin' let's get right tonight mami    [Jay-Z]  We got brothers full of Arm'i, mami's in Manolo  Bags by Chanel, all Louis Vuitton logos  All attracted to Hov' because they know dough  When they see him, whips be European  If you're a ten, chances you're with him  If you're a five, you know you ridin' with them  Sick with the pen nigga, no physician in the world could fix him  No prescription, you could prescribe to subside, his affliction  He's not a sane man, he's more like reign man - twitchin'  You can't rain dance on his picnic  No Haitian voodoo, no headless chickens can dead his sickness  No Ouija board, you can't see me dog, nigga you CB-4  This ain't Chris Rock bitch, it's the R.O.C. bitch  And I'm the franchise like a Houston Rocket, Yao Ming!    [Hook]  Still smokin that la-la-la  Memph' Bleek still smokin that la-la-la  Beanie Sigel, Desert Eagle, the four-ty five  It's the R.O.C. baby, sing our lullaby  C'mon!    [Hook]  Excuse me miss, I'm the shit  You should come, hang with me, basically  Hold up, skip all the singin' let's get right tonight mami\n",
      "736 NBA FINALS GAME FIVE VOLUME.ct he's half-whiteiten Luther walked so Barack Obama could run  Barack Obama ran so all the children could flyhe GAME  This one's with the stu', with the stage, with the fortune  Maybe not the fortune, but certainly the FAMEn you was an intern  Like, that's how you try to treat things like, just stay hungryo, fuck you pay me  No one's coming to your shows huh, fuck you pay me  And then what do you do when you can't borrow another dollar from the label?  You can't sell any singles in the stores?  You light a match....you blow the joint *explosion*ft and a curseverything you love, DAMN!  (Baby you love ....HOV'!)-Z]  It's only entertainment!isc  Homie I'm home on these charts, you niggas visitin'  This Hov tradition, Jeff Gordon of rap  I'm about to claim pole position  Holla at ya boy!***Failed on song id: 747\n"
     ]
    },
    {
     "name": "stdout",
     "output_type": "stream",
     "text": [
      "805 Retro act, I'm just bringing it back like Jordan Packs***Empty annotation on song id: 182949urn down the homieally the same storiesy,that or y'all gon' make me  Put the double Desert Eagles in your life, nigga  (Some people hate) I think...  (I think they've lost their minds) Think y'all lost your mind  Y'all got me on my shit you live with the fear of just being me  Living in the shadow feels like the safe place to be  No harm for them, no harm for me  But life is short, and it's time to be free  Love who you love, because life isn't guaranteed  SmileKeef Out of spite, I just might flood these streets Hear the freedom in my speech Got an onion from Universal, read it and weep Would've brought the Nets to Brooklyn for free Except I made millions off it, you fuckin' dweeb I still own the building, I'm still keeping my seat Y'all buy that bullshit, you'd better keep y'all receipt Obama said \"chill, you gonna get me impeached\" But you don't need this shit anyway Chill with me on the beach  [Hook: Swizz Beatz] Y'all gon' learn today\n",
      "852 Not a demon but a rose in the cement, mo' sicker now right's how I make you bounce like that Low and behold, it's the new and improved Jay-Z  Let me explain this to you, babyug you, look what you make the clubs do  (Bounce, bounce)  It's the things that you do  That make me feel so  (Exhale breathe on it for me)  And I don't know the way I feel  I can't explain (Yeah)  I love you  (Uh come on)  You thug you, look what you make the clubs dostest growing economies. Got it?***Failed on song id: 920\n",
      "948 Then I pummel punch a pumpkin head punk in his pimple face  'Til he's punch drunk 'cause he's sweet as a pound cake***Empty annotation on song id: 179650 won the war, you were born rich ever tryin' to run that bum shitld rather be in the jungle with the savages give me love  Ultraviolet  You give me love  You know you give me love  With your ultraviolet rays  You know you give me love  You know you give me love  Ultraviolet  You know you give me love  You know you give me love  With your ultraviolet rays  You know you give me love  You know you give me love  Ultravioletut, y'all put y'all weaves in  Clap for a nigga with his rapping ass  Blow a stack for your niggas with your trapping ass  Spent all my euros on tuxes and weird clothes  I party with weirdoes, yeah Hov, yeah Hov    [Hook: Jay Z]  I don't pop molly, I rock Tom Ford  International, bring back the Concorde  Numbers don't lie, check the scoreboard  Tom Ford, Tom Ford, Tom Ford    [Verse 2: Jay Z]  Hands down got the best flow, sound I'm so special  Sound boy burial, this my Wayne Perry flow  Y'all know nothing 'bout Wayne Perry though  District of Columbia, guns on y'all Tumblrs  Fuck hashtags and retweets, nigga  140 characters in these streets, nigga  Pardon my laughing, y'all only flagging on beats, nigga  Pardon my laughing, I happen to think you sweet    [Hook: Jay Z]  I don't pop molly, I rock Tom Ford  International, bring back the Concorde  Numbers don't lie, check the scoreboard  Tom Ford, Tom Ford, Tom Ford    [Interlude: Beyonce]  Oh, man, so throwed    [Bridge: Jay Z]  Coming up, coming down  Riding clean fix your hair in my Crown  Bad bitch, H town  Keep it trill, y'all know y'all can't fuck around  Hold up (I don't pop molly, I rock Tom Ford)\n",
      "956 You tryna step like gooses***Empty annotation on song id: 552833 your mother love to watch you come up out ya fuckin' sockseen in loveI'm just taking vacations  And tell him fuck him, I never loved him and salutationsur masters!)  Kill your, kill- kill your kill your, kill-  Kill your, kill- kill- kill your, kill-  Kill your masters  Kill your, kill- kill your kill your, kill-  Kill your, kill- kill- kill your, kill-  Kill your masters (kill your masters!)\n",
      "967 I, I rumble don't stumble young fellow  Got a stinger in the '69 bumblebee yellow***Empty annotation on song id: 2922154pper begged him not to hurt his momma  'cause he had her face down on the ground  And I’d be much too weak to ever speak what I seen  But my life changed with that soundis and you ruin my life  And I apologize if it seems like I got out of line, sir  'cause I respect the badge and the gun  And I pray today ain't the day that you drag me away  Right in front of my beautiful son”avy and told her to tell me lay my burdens down\n",
      "999 Went to war with the Devil and Shaytan  He wore a bad toupee and a spray tanck  I move in a world of conspiraciesesh and blood but this is a fight against principalities and evil doers and unclean spiritse guys loved her pumpkin pie tooth through the flesh  Of the palm that you jack witho boo  I’m Shaka Zulu, Mansa Musa, my money buku  My beats is bangin’, fuck what you rappin’, who produced you?  I slapped the snot, take what ya got and Run The Jewels you    [Verse 2 - El-P]  You itsy bitsy furry fright and frickin' sickly  A little prickly, dick on display for Winter swimming  Look at these kitties, Mike, I'mma rat-a-tat 'em for living  I deal in dirty work, do the deed and then dash, ditch 'em  I'd lend a hand but they stuck in a fist and gun position  We run our brand where destruction's the number one commitment  It’s all a joke between mom contractions and coffin fittings  So we disappear in the smoke like we're fuckin' magicians    [Verse 3 - Killer Mike (El-P)]  No hocus pocus, you simple suckers been served a notice  Top of the morning, my fist to your face is fucking Folgers  (We might be giants, standing on little dandy shoulders)  You punks is pussy proverbial pansy panty holders  I Jake the Snake ‘em, DDT ‘em in mausoleums  Macabre massacres killing cunts in my colosseum  (They all actors, giving top in back of a BM  I’d fall back if the casting calls are ending in semen)    [Verse 4 - El-P]  I'm the foulest, no need for any evaluations  I'm a phallus for Johnson and Jimmy spraying faces  Any cow that is sacred will get deface'd  Like any tyrant murderer gets replaced, face it  The fellows at the top are likely rapists  But you like \"Mellow out man, just relax, it's really not that complicated\"  Well pardon me, I guess I'm just as sane as you explain'ed  Or maybe sanctifying the sadistic is derange'd    [Verse 5 - Killer Mike]  This Run The Jewels is, murder, mayhem, melodic music  Psychotics use it then lose it, junkies simply abuse it  That's word to Phillip Seymour Hoffman, I'm pushin coffin  I probably smell like a pound when they put me in a coffin  The gates of hell are pugnaciously pacin', waitin'  I give a fuck if I'm late, tell Satan be patient  But I ain't here for durations, I'm just taking vacations  And tell 'em fuck 'em, I never loved 'em and salutationsk the whole Earth felt dirty  Street Lamps stare when you walk watch the birdie  They’ll watch you walk to the store they’re recording  But didn’t record cop when he shot, no warning  Heard it go pop, might have been two blocks  Heard a kid plus pops watched cop make girl bleed  Go to home, go to sleep, up again early    [Hook: Puss in Boots]  Get out, get out, get out, get out  Feeling this, feeling this too early  Get out, get out, get out, get out  Feeling this way, feeling this way  Feeling this, feeling this too early  Feeling this, feeling this early  Early  Early  Early  Early"
     ]
    }
   ],
   "source": [
    "songdf = get_songs()\n",
    "append_annotations(songdf, 1000)"
   ]
  },
  {
   "cell_type": "code",
   "execution_count": null,
   "metadata": {},
   "outputs": [],
   "source": []
  }
 ],
 "metadata": {
  "kernelspec": {
   "display_name": "Python 3",
   "language": "python",
   "name": "python3"
  },
  "language_info": {
   "codemirror_mode": {
    "name": "ipython",
    "version": 3
   },
   "file_extension": ".py",
   "mimetype": "text/x-python",
   "name": "python",
   "nbconvert_exporter": "python",
   "pygments_lexer": "ipython3",
   "version": "3.7.1"
  }
 },
 "nbformat": 4,
 "nbformat_minor": 2
}
