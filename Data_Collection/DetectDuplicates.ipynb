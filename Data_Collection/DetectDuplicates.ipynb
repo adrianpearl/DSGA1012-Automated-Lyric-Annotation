{
 "cells": [
  {
   "cell_type": "code",
   "execution_count": 2,
   "metadata": {},
   "outputs": [],
   "source": [
    "previously_seen_song_ids = set()\n",
    "current_song_id = None\n",
    "with open(\"annotations.tsv\",\"r\") as f:\n",
    "    for line in f:\n",
    "        song_id = line.split('\\t')[0]\n",
    "        #print(\"CURRENTLY VIEWING: \" + song_id)\n",
    "        if song_id != current_song_id:\n",
    "            if song_id in previously_seen_song_ids:\n",
    "                print(\"DUPLICATE SONG ID: \",song_id)\n",
    "            else:\n",
    "                previously_seen_song_ids.add(song_id)\n",
    "            current_song_id = song_id"
   ]
  },
  {
   "cell_type": "code",
   "execution_count": null,
   "metadata": {},
   "outputs": [],
   "source": []
  }
 ],
 "metadata": {
  "kernelspec": {
   "display_name": "Python 3",
   "language": "python",
   "name": "python3"
  },
  "language_info": {
   "codemirror_mode": {
    "name": "ipython",
    "version": 3
   },
   "file_extension": ".py",
   "mimetype": "text/x-python",
   "name": "python",
   "nbconvert_exporter": "python",
   "pygments_lexer": "ipython3",
   "version": "3.6.5"
  }
 },
 "nbformat": 4,
 "nbformat_minor": 2
}
