{
 "cells": [
  {
   "cell_type": "markdown",
   "metadata": {},
   "source": [
    "Using the artists schema, this script iterates over artistID's and gets the corresponding list of songID's, then appends each resulting (artistID,songID) pair to the song_ids.txt file."
   ]
  },
  {
   "cell_type": "code",
   "execution_count": 1,
   "metadata": {},
   "outputs": [],
   "source": [
    "# functions _get and get_artist_songs() in this code \n",
    "# are courtesy of GitHub user imdkm:\n",
    "# https://gist.github.com/imdkm/a60247b59ff1881fa4bb8846a9b44c96"
   ]
  },
  {
   "cell_type": "code",
   "execution_count": 2,
   "metadata": {},
   "outputs": [],
   "source": [
    "import requests, json\n",
    "from time import sleep\n",
    "import sys\n",
    "import pandas as pd\n",
    "import subprocess"
   ]
  },
  {
   "cell_type": "code",
   "execution_count": 3,
   "metadata": {},
   "outputs": [],
   "source": [
    "# Secret token\n",
    "token = open(\"ACCESS_TOKEN.txt\", \"r\").read()"
   ]
  },
  {
   "cell_type": "code",
   "execution_count": 4,
   "metadata": {},
   "outputs": [],
   "source": [
    "# constant values.\n",
    "BASE_URL = \"https://api.genius.com\"\n",
    "CLIENT_ACCESS_TOKEN = token\n",
    "QUERY_SIZE = 100"
   ]
  },
  {
   "cell_type": "code",
   "execution_count": 5,
   "metadata": {},
   "outputs": [],
   "source": [
    "# send request and get response in json format.\n",
    "def _get(path, params=None, headers=None):\n",
    "\n",
    "    # generate request URL\n",
    "    requrl = '/'.join([BASE_URL, path])\n",
    "    token = \"Bearer {}\".format(CLIENT_ACCESS_TOKEN)\n",
    "    if headers:\n",
    "        headers['Authorization'] = token\n",
    "    else:\n",
    "        headers = {\"Authorization\": token}\n",
    "\n",
    "    response = requests.get(url=requrl, params=params, headers=headers)\n",
    "    response.raise_for_status()\n",
    "\n",
    "    return response.json()\n",
    "\n",
    "def get_artist_songs(artist_id):\n",
    "    # initialize variables & a list.\n",
    "    current_page = 1\n",
    "    next_page = True\n",
    "    songs = []\n",
    "\n",
    "    # main loop\n",
    "    while next_page:\n",
    "\n",
    "        path = \"artists/{}/songs/\".format(artist_id)\n",
    "        params = {'page': current_page}\n",
    "        data = _get(path=path, params=params)\n",
    "\n",
    "        page_songs = data['response']['songs']\n",
    "\n",
    "        if page_songs:\n",
    "            # add all the songs of current page,\n",
    "            # and increment current_page value for next loop.\n",
    "            songs += page_songs\n",
    "            current_page += 1\n",
    "        else:\n",
    "            # if page_songs is empty, quit.\n",
    "            next_page = False\n",
    "\n",
    "    # get all the song ids, excluding not-primary-artist songs.\n",
    "    songs = [song[\"id\"] for song in songs\n",
    "             if song[\"primary_artist\"][\"id\"] == artist_id]\n",
    "\n",
    "    return songs"
   ]
  },
  {
   "cell_type": "code",
   "execution_count": 7,
   "metadata": {},
   "outputs": [],
   "source": [
    "def get_from(artist_id):\n",
    "    with open(\"artists.txt\",\"r\") as f:\n",
    "        lines = f.readlines()\n",
    "        i=0\n",
    "        while i < len(lines):\n",
    "            if lines[i].split(',')[0] == str(artist_id):\n",
    "                break\n",
    "            i+=1\n",
    "    return lines[i+1:]"
   ]
  },
  {
   "cell_type": "code",
   "execution_count": 21,
   "metadata": {},
   "outputs": [
    {
     "name": "stdout",
     "output_type": "stream",
     "text": [
      "2874 artists total\n"
     ]
    }
   ],
   "source": [
    "# read in list of artist names\n",
    "import os\n",
    "\n",
    "with open(\"artists.txt\", \"r\") as f:\n",
    "    artists = f.readlines()\n",
    "    \n",
    "import os.path\n",
    "if os.path.isfile('song_ids.txt'):\n",
    "    l = !wc -l song_ids.txt\n",
    "    if int(l[0].split()[0]) > 0:\n",
    "        s = !tail -1 song_ids.txt\n",
    "        last_artist = s[0].split(',')[0]\n",
    "        artists = get_from(last_artist)\n",
    "    \n",
    "artist_ids = [line.strip().split(',')[0] for line in artists if line.strip().split(',')[0] != 'None']\n",
    "print(str(len(artists))+\" artists total\")"
   ]
  },
  {
   "cell_type": "code",
   "execution_count": 1,
   "metadata": {},
   "outputs": [
    {
     "name": "stdout",
     "output_type": "stream",
     "text": [
      "done reading\n"
     ]
    }
   ],
   "source": [
    "artist_set = set()\n",
    "with open(\"song_ids.txt\", \"r\") as f:\n",
    "    for line in f:\n",
    "        line = line.strip()\n",
    "        artist_id,_ = line.split(',')\n",
    "        artist_set.add(artist_id)\n",
    "\n",
    "print(\"done reading\")"
   ]
  },
  {
   "cell_type": "code",
   "execution_count": 2,
   "metadata": {},
   "outputs": [
    {
     "data": {
      "text/plain": [
       "317"
      ]
     },
     "execution_count": 2,
     "metadata": {},
     "output_type": "execute_result"
    }
   ],
   "source": [
    "len(artist_set)"
   ]
  },
  {
   "cell_type": "code",
   "execution_count": 4,
   "metadata": {},
   "outputs": [
    {
     "ename": "NameError",
     "evalue": "name 'artist_ids' is not defined",
     "output_type": "error",
     "traceback": [
      "\u001b[0;31m---------------------------------------------------------------------------\u001b[0m",
      "\u001b[0;31mNameError\u001b[0m                                 Traceback (most recent call last)",
      "\u001b[0;32m<ipython-input-4-dd9d60deeccc>\u001b[0m in \u001b[0;36m<module>\u001b[0;34m()\u001b[0m\n\u001b[1;32m      2\u001b[0m \u001b[0;31m# increment chunk_num on each run\u001b[0m\u001b[0;34m\u001b[0m\u001b[0;34m\u001b[0m\u001b[0m\n\u001b[1;32m      3\u001b[0m \u001b[0;34m\u001b[0m\u001b[0m\n\u001b[0;32m----> 4\u001b[0;31m \u001b[0martists_chunk\u001b[0m \u001b[0;34m=\u001b[0m \u001b[0martist_ids\u001b[0m\u001b[0;34m[\u001b[0m\u001b[0;36m0\u001b[0m\u001b[0;34m:\u001b[0m\u001b[0mQUERY_SIZE\u001b[0m\u001b[0;34m]\u001b[0m\u001b[0;34m\u001b[0m\u001b[0m\n\u001b[0m\u001b[1;32m      5\u001b[0m \u001b[0;34m\u001b[0m\u001b[0m\n\u001b[1;32m      6\u001b[0m \u001b[0;31m# populate song ids using artist names\u001b[0m\u001b[0;34m\u001b[0m\u001b[0;34m\u001b[0m\u001b[0m\n",
      "\u001b[0;31mNameError\u001b[0m: name 'artist_ids' is not defined"
     ]
    }
   ],
   "source": [
    "# query only a subset of artists at a time to not overwork server\n",
    "# increment chunk_num on each run\n",
    "    \n",
    "artists_chunk = artist_ids[0:QUERY_SIZE]\n",
    "\n",
    "# populate song ids using artist names\n",
    "for i, artist_id in enumerate(artists_chunk):\n",
    "    #sys.stdout.write('\\r'+str(i).zfill(5))\n",
    "    print(artist_id)\n",
    "    \n",
    "    # check if we've already queried this artist:\n",
    "    if artist_id in artist_set:\n",
    "        print(artist_id + \" already queried, skipping\")\n",
    "        continue\n",
    "\n",
    "    # get all song ids and make a list.\n",
    "    song_ids = get_artist_songs(int(artist_id))\n",
    "\n",
    "    print(\"-> \" + str(len(song_ids))+\" results\")\n",
    "\n",
    "    with open(\"song_ids.txt\", \"a\") as f:\n",
    "        for song_id in song_ids:\n",
    "            f.write(str(artist_id)+\",\"+str(song_id)+\"\\n\")\n",
    "            \n",
    "    sleep(.5)"
   ]
  },
  {
   "cell_type": "code",
   "execution_count": null,
   "metadata": {},
   "outputs": [],
   "source": []
  }
 ],
 "metadata": {
  "kernelspec": {
   "display_name": "Python 3",
   "language": "python",
   "name": "python3"
  },
  "language_info": {
   "codemirror_mode": {
    "name": "ipython",
    "version": 3
   },
   "file_extension": ".py",
   "mimetype": "text/x-python",
   "name": "python",
   "nbconvert_exporter": "python",
   "pygments_lexer": "ipython3",
   "version": "3.6.5"
  }
 },
 "nbformat": 4,
 "nbformat_minor": 2
}
