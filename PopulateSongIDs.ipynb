{
 "cells": [
  {
   "cell_type": "code",
   "execution_count": 1,
   "metadata": {},
   "outputs": [],
   "source": [
    "# this code is courtesy of GitHub user imdkm\n",
    "# https://gist.github.com/imdkm/a60247b59ff1881fa4bb8846a9b44c96"
   ]
  },
  {
   "cell_type": "code",
   "execution_count": 2,
   "metadata": {},
   "outputs": [],
   "source": [
    "import requests, json\n",
    "from time import sleep"
   ]
  },
  {
   "cell_type": "code",
   "execution_count": 11,
   "metadata": {},
   "outputs": [],
   "source": [
    "# Secret token\n",
    "token = open(\"ACCESS_TOKEN.txt\", \"r\").read()"
   ]
  },
  {
   "cell_type": "code",
   "execution_count": 4,
   "metadata": {},
   "outputs": [],
   "source": [
    "# constant values.\n",
    "BASE_URL = \"https://api.genius.com\"\n",
    "CLIENT_ACCESS_TOKEN = token\n",
    "ARTIST_NAME = \"beyonce-knowles\""
   ]
  },
  {
   "cell_type": "code",
   "execution_count": 19,
   "metadata": {},
   "outputs": [],
   "source": [
    "# send request and get response in json format.\n",
    "def _get(path, params=None, headers=None):\n",
    "\n",
    "    # generate request URL\n",
    "    requrl = '/'.join([BASE_URL, path])\n",
    "    token = \"Bearer {}\".format(CLIENT_ACCESS_TOKEN)\n",
    "    if headers:\n",
    "        headers['Authorization'] = token\n",
    "    else:\n",
    "        headers = {\"Authorization\": token}\n",
    "\n",
    "    response = requests.get(url=requrl, params=params, headers=headers)\n",
    "    response.raise_for_status()\n",
    "\n",
    "    return response.json()\n",
    "\n",
    "def get_artist_songs(artist_id):\n",
    "    # initialize variables & a list.\n",
    "    current_page = 1\n",
    "    next_page = True\n",
    "    songs = []\n",
    "\n",
    "    # main loop\n",
    "    while next_page:\n",
    "\n",
    "        path = \"artists/{}/songs/\".format(artist_id)\n",
    "        params = {'page': current_page}\n",
    "        data = _get(path=path, params=params)\n",
    "\n",
    "        page_songs = data['response']['songs']\n",
    "\n",
    "        if page_songs:\n",
    "            # add all the songs of current page,\n",
    "            # and increment current_page value for next loop.\n",
    "            songs += page_songs\n",
    "            current_page += 1\n",
    "        else:\n",
    "            # if page_songs is empty, quit.\n",
    "            next_page = False\n",
    "\n",
    "    # get all the song ids, excluding not-primary-artist songs.\n",
    "    songs = [song[\"id\"] for song in songs\n",
    "             if song[\"primary_artist\"][\"id\"] == artist_id]\n",
    "\n",
    "    return songs\n",
    "\n",
    "def get_song_information(song_ids):\n",
    "    # initialize a dictionary.\n",
    "    song_list = {}\n",
    "\n",
    "    # main loop\n",
    "    for i, song_id in enumerate(song_ids):\n",
    "        print(\"id:\" + str(song_id) + \" start. ->\")\n",
    "\n",
    "        path = \"songs/{}\".format(song_id)\n",
    "        data = _get(path=path)[\"response\"][\"song\"]\n",
    "\n",
    "        song_list.update({\n",
    "        i: {\n",
    "            \"title\": data[\"title\"],\n",
    "            \"album\": data[\"album\"][\"name\"] if data[\"album\"] else \"<single>\",\n",
    "            \"release_date\": data[\"release_date\"] if data[\"release_date\"] else \"unidentified\",\n",
    "            \"featured_artists\":\n",
    "                [feat[\"name\"] if data[\"featured_artists\"] else \"\" for feat in data[\"featured_artists\"]],\n",
    "            \"producer_artists\":\n",
    "                [feat[\"name\"] if data[\"producer_artists\"] else \"\" for feat in data[\"producer_artists\"]],\n",
    "            \"writer_artists\":\n",
    "                [feat[\"name\"] if data[\"writer_artists\"] else \"\" for feat in data[\"writer_artists\"]],\n",
    "            \"genius_track_id\": song_id,\n",
    "            \"genius_album_id\": data[\"album\"][\"id\"] if data[\"album\"] else \"none\"}\n",
    "        })\n",
    "\n",
    "        print(\"-> id:\" + str(song_id) + \" is finished. \\n\")\n",
    "    return song_list"
   ]
  },
  {
   "cell_type": "code",
   "execution_count": 18,
   "metadata": {},
   "outputs": [
    {
     "name": "stdout",
     "output_type": "stream",
     "text": [
      "searching beyonce-knowles's artist id. \n",
      "\n",
      "-> beyonce-knowles's id is 498\n",
      "\n",
      "getting song ids. \n",
      "\n",
      "306 results\n"
     ]
    }
   ],
   "source": [
    "# # # \n",
    "print(\"searching \" + ARTIST_NAME + \"'s artist id. \\n\")\n",
    "\n",
    "# find artist id from given data.\n",
    "find_id = _get(\"search\", {'q': ARTIST_NAME})\n",
    "#print(json.dumps(find_id, indent=4, sort_keys=True))\n",
    "\n",
    "for hit in find_id[\"response\"][\"hits\"]:\n",
    "   if hit[\"result\"][\"primary_artist\"]:\n",
    "       artist_id = hit[\"result\"][\"primary_artist\"][\"id\"]\n",
    "       break\n",
    "\n",
    "print(\"-> \" + ARTIST_NAME + \"'s id is \" + str(artist_id) + \"\\n\")\n",
    "\n",
    "print(\"getting song ids. \\n\")\n",
    "\n",
    "# get all song ids and make a list.\n",
    "song_ids = get_artist_songs(artist_id)\n",
    "\n",
    "print(str(len(song_ids))+\" results\")\n",
    "\n",
    "with open(\"song_ids.txt\", \"a\") as f:\n",
    "    for song_id in song_ids:\n",
    "        f.write(str(artist_id)+\",\"+str(song_id)+\"\\n\")"
   ]
  },
  {
   "cell_type": "code",
   "execution_count": null,
   "metadata": {},
   "outputs": [],
   "source": []
  }
 ],
 "metadata": {
  "kernelspec": {
   "display_name": "Python 3",
   "language": "python",
   "name": "python3"
  },
  "language_info": {
   "codemirror_mode": {
    "name": "ipython",
    "version": 3
   },
   "file_extension": ".py",
   "mimetype": "text/x-python",
   "name": "python",
   "nbconvert_exporter": "python",
   "pygments_lexer": "ipython3",
   "version": "3.6.5"
  }
 },
 "nbformat": 4,
 "nbformat_minor": 2
}
