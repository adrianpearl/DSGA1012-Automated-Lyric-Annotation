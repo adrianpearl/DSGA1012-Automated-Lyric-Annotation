{
 "cells": [
  {
   "cell_type": "code",
   "execution_count": 14,
   "metadata": {},
   "outputs": [],
   "source": [
    "import urllib\n",
    "import json\n",
    "import pandas as pd"
   ]
  },
  {
   "cell_type": "code",
   "execution_count": 15,
   "metadata": {},
   "outputs": [],
   "source": [
    "# Secret token\n",
    "token = open(\"ACCESS_TOKEN.txt\", \"r\").read()"
   ]
  },
  {
   "cell_type": "code",
   "execution_count": 9,
   "metadata": {},
   "outputs": [],
   "source": [
    "# Format a request URI for the Genius API\n",
    "search_term = 'Ayla Celik'\n",
    "_URL_API = \"https://api.genius.com/\"\n",
    "_URL_SEARCH = \"search?q=\"\n",
    "querystring = _URL_API + _URL_SEARCH + urllib.parse.quote(search_term)\n",
    "request = urllib.request.Request(querystring)\n",
    "request.add_header(\"Authorization\", \"Bearer \" + token)\n",
    "request.add_header(\"User-Agent\", \"\")"
   ]
  },
  {
   "cell_type": "code",
   "execution_count": 16,
   "metadata": {},
   "outputs": [
    {
     "data": {
      "text/html": [
       "<div>\n",
       "<style scoped>\n",
       "    .dataframe tbody tr th:only-of-type {\n",
       "        vertical-align: middle;\n",
       "    }\n",
       "\n",
       "    .dataframe tbody tr th {\n",
       "        vertical-align: top;\n",
       "    }\n",
       "\n",
       "    .dataframe thead th {\n",
       "        text-align: right;\n",
       "    }\n",
       "</style>\n",
       "<table border=\"1\" class=\"dataframe\">\n",
       "  <thead>\n",
       "    <tr style=\"text-align: right;\">\n",
       "      <th></th>\n",
       "      <th>artist_id</th>\n",
       "      <th>song_id</th>\n",
       "    </tr>\n",
       "  </thead>\n",
       "  <tbody>\n",
       "    <tr>\n",
       "      <th>0</th>\n",
       "      <td>498</td>\n",
       "      <td>1806643</td>\n",
       "    </tr>\n",
       "    <tr>\n",
       "      <th>1</th>\n",
       "      <td>498</td>\n",
       "      <td>2985000</td>\n",
       "    </tr>\n",
       "    <tr>\n",
       "      <th>2</th>\n",
       "      <td>498</td>\n",
       "      <td>965955</td>\n",
       "    </tr>\n",
       "    <tr>\n",
       "      <th>3</th>\n",
       "      <td>498</td>\n",
       "      <td>2461261</td>\n",
       "    </tr>\n",
       "    <tr>\n",
       "      <th>4</th>\n",
       "      <td>498</td>\n",
       "      <td>2220711</td>\n",
       "    </tr>\n",
       "  </tbody>\n",
       "</table>\n",
       "</div>"
      ],
      "text/plain": [
       "   artist_id  song_id\n",
       "0        498  1806643\n",
       "1        498  2985000\n",
       "2        498   965955\n",
       "3        498  2461261\n",
       "4        498  2220711"
      ]
     },
     "execution_count": 16,
     "metadata": {},
     "output_type": "execute_result"
    }
   ],
   "source": [
    "df = pd.read_csv('song_ids.txt', sep=',', names=['artist_id', 'song_id'])\n",
    "df.head()"
   ]
  },
  {
   "cell_type": "code",
   "execution_count": 8,
   "metadata": {},
   "outputs": [],
   "source": [
    "# Format the search query using the 'referents' api\n",
    "# Given a song id, returns all of its referents (lines that have been annotated)\n",
    "# and the corresponding annotations.\n",
    "song_id = 2985000\n",
    "querystring = \"https://api.genius.com/referents?song_id=\" + str(song_id)\n",
    "request = urllib.request.Request(querystring)\n",
    "request.add_header(\"Authorization\", \"Bearer \" + token)\n",
    "request.add_header(\"User-Agent\", \"\")"
   ]
  },
  {
   "cell_type": "code",
   "execution_count": 9,
   "metadata": {},
   "outputs": [],
   "source": [
    "# This cell does internet stuff\n",
    "# Send the request to Genius, and parse the response\n",
    "response = urllib.request.urlopen(request, timeout=3)\n",
    "string = response.read().decode('utf-8')\n",
    "json_obj = json.loads(string)"
   ]
  },
  {
   "cell_type": "code",
   "execution_count": 10,
   "metadata": {},
   "outputs": [
    {
     "data": {
      "text/plain": [
       "dict_keys(['meta', 'response'])"
      ]
     },
     "execution_count": 10,
     "metadata": {},
     "output_type": "execute_result"
    }
   ],
   "source": [
    "# The response object is a dict with two keys\n",
    "json_obj.keys()"
   ]
  },
  {
   "cell_type": "code",
   "execution_count": 11,
   "metadata": {},
   "outputs": [
    {
     "data": {
      "text/plain": [
       "{'meta': {'status': 200}, 'response': {'referents': []}}"
      ]
     },
     "execution_count": 11,
     "metadata": {},
     "output_type": "execute_result"
    }
   ],
   "source": [
    "json_obj"
   ]
  },
  {
   "cell_type": "code",
   "execution_count": 12,
   "metadata": {},
   "outputs": [
    {
     "data": {
      "text/plain": [
       "0"
      ]
     },
     "execution_count": 12,
     "metadata": {},
     "output_type": "execute_result"
    }
   ],
   "source": [
    "# The data we want can be found here\n",
    "# For this song there are 9 lyric/annotation pairs\n",
    "referents = json_obj['response']['referents']\n",
    "len(referents)"
   ]
  },
  {
   "cell_type": "code",
   "execution_count": 65,
   "metadata": {},
   "outputs": [],
   "source": [
    "# Function to recursively search the annotation dict\n",
    "# and get the text, skipping blockquotes, formatting, images, etc.\n",
    "\n",
    "def recurse(children):\n",
    "    st = ''\n",
    "    for child in children:\n",
    "        #print(child)\n",
    "        if type(child) == dict and 'tag' in child:\n",
    "            if child['tag'] == 'p' or child['tag'] == 'a':\n",
    "                st += recurse(child['children'])\n",
    "            elif child['tag'] == 'blockquote':\n",
    "                st += '[BLOCKQUOTE]'\n",
    "        elif type(child) == list:\n",
    "            st += recurse(child)\n",
    "        elif type(child) == str:\n",
    "            st += child + ' '\n",
    "    return st"
   ]
  },
  {
   "cell_type": "code",
   "execution_count": 66,
   "metadata": {},
   "outputs": [
    {
     "name": "stdout",
     "output_type": "stream",
     "text": [
      "Oh, the jealousy, the greed is the unraveling\n",
      " It's the unraveling\n",
      " And it undoes all the joy that could be\n",
      "************\n",
      "When she’s in a relationship or in love there’s always a jealousy that comes from the person she loves. This person is also very possessive of her thus implying the “greed”. These things make her fall out of love for this person or people. The jealousy and greed ruin the relationship where as if it weren’t there, there would more happiness in the relationship or maybe they could move farther maybe marriage or something settling down like. \n",
      "\n",
      "I am on a lonely road and I am traveling\n",
      " Looking for the key to set me free\n",
      "************\n",
      "Few songs by women at this time provided such a rich and independent narrative. In Sheila Whiteley’s  “Women and Popular Music: Sexuality, Identity and Subjectivity”  this song is seen as portraying a new type of female singer/songwriter:  [BLOCKQUOTE]\n",
      "\n",
      "Do you want, do you want, do you want to dance with me, baby\n",
      " Do you want to take a chance\n",
      " On maybe finding some sweet romance with me, baby\n",
      "************\n",
      "Life is a dance.  And all any of us really needs is someone to dance with.  This is said in a million looking-for-love songs, including  Do You Wanna Dance?  with a  great version by Bette Midler , also The Beach Boys  [BLOCKQUOTE] Dance With Me  by Orleans  [BLOCKQUOTE] and  Dance with Me  and  Save the Last Dance For Me  by Ben E. King and the Drifters  [BLOCKQUOTE] and so many, many more \n",
      "\n",
      "I want to be strong, I want to laugh along\n",
      " I want to belong to the living\n",
      " Alive, alive, I want to get up and jive\n",
      "************\n",
      "Yes, it’s about happiness, and yes it’s about   love, but it’s about striving for both of those things in an unhappy, imperfect relationship.   It sounds like the relationship she is in is not how it used to be. They hurt each other, and she wants it to get back to how it used to be. \n",
      "\n",
      "I want to have fun, I want to shine like the sun\n",
      " Want to be the one that you want to see\n",
      " I want to knit you a sweater\n",
      " Want to write you a love letter\n",
      "************\n",
      "She’s striving for an ideal relationship and wants to give as much of her love as she can, but it just isn’t working because of how her and the other person interact. \n",
      "\n",
      "All I really really want our love to do\n",
      " Is to bring out the best in me and in you too\n",
      " All I really really want our love to do\n",
      " Is to bring out the best in me and in you\n",
      " I want to talk to you, I want to shampoo you\n",
      " I want to renew you again and again\n",
      " Applause, applause , life is our cause\n",
      "************\n",
      "She feels really happy because she’s in love, and she likes to make the other person happy and would do anything for them even if they didn’t ask for it because it makes her feel good.   At the same time, they don’t seem to feel better or feel the freedom of being in love, and they do things that hurt her. \n",
      "\n",
      "I am on a lonely road and I am traveling\n",
      " Traveling, traveling, traveling\n",
      " Looking for something, what can it be\n",
      " Oh, I hate you some, I hate you some, I love you some\n",
      " Oh, I love you when I forget about me\n",
      "************\n",
      "Joni is always struggling with freedom vs. love. She knows that she is and must be her own person – That’s what makes for a lonely road and makes her yearning for love so poignant – she knows she can’t ever give into it completely.   There is always an aloofness to her – she is always looking in – it’s what makes her so special, wise and sad.  And she admits her own selfishness, because she can only love fully when she forgets herself, which she can never really do. \n",
      "\n",
      "When I think of your kisses, my mind see-saws\n",
      " Do you see, do you see, do you see how you hurt me, baby\n",
      " So I hurt you too\n",
      " Then we both get so blue\n",
      "************\n",
      "She loves him so much that her   but it’s to the point that she feels that   She can only love him if she forgets how awful he makes her feel sometimes and vice versa. She just wants it to be a happy, healthy relationship again. \n",
      "\n",
      "I want to make you feel better\n",
      " I want to make you feel free\n",
      " Want to make you feel free\n",
      " I want to make you feel free\n",
      "************\n",
      "If he has Joni’s love, he will be free from all fears and insecurities, he’ll feel like nothing is insurmountable or restrictive and he can just soar. With such a one at your side, all else seems trivial.  \n",
      "\n"
     ]
    }
   ],
   "source": [
    "# Print each lyric along with its annotation\n",
    "for ref in referents:\n",
    "    print(ref['fragment'])\n",
    "    print('************')\n",
    "    print(recurse(ref['annotations'][0]['body']['dom']['children']))\n",
    "    print()"
   ]
  },
  {
   "cell_type": "code",
   "execution_count": 4,
   "metadata": {},
   "outputs": [
    {
     "name": "stdout",
     "output_type": "stream",
     "text": [
      "128:30800,breakbot\r\n"
     ]
    }
   ],
   "source": [
    "!grep -n '30800' artists.txt"
   ]
  },
  {
   "cell_type": "code",
   "execution_count": null,
   "metadata": {},
   "outputs": [],
   "source": []
  }
 ],
 "metadata": {
  "kernelspec": {
   "display_name": "Python 3",
   "language": "python",
   "name": "python3"
  },
  "language_info": {
   "codemirror_mode": {
    "name": "ipython",
    "version": 3
   },
   "file_extension": ".py",
   "mimetype": "text/x-python",
   "name": "python",
   "nbconvert_exporter": "python",
   "pygments_lexer": "ipython3",
   "version": "3.7.1"
  }
 },
 "nbformat": 4,
 "nbformat_minor": 2
}
