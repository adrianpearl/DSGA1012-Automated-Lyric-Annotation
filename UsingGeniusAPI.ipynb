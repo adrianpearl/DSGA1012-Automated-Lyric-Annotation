{
 "cells": [
  {
   "cell_type": "code",
   "execution_count": 17,
   "metadata": {},
   "outputs": [],
   "source": [
    "import urllib\n",
    "import json\n",
    "import pandas as pd"
   ]
  },
  {
   "cell_type": "code",
   "execution_count": 18,
   "metadata": {},
   "outputs": [],
   "source": [
    "# Secret token\n",
    "token = open(\"ACCESS_TOKEN.txt\", \"r\").read()"
   ]
  },
  {
   "cell_type": "code",
   "execution_count": 91,
   "metadata": {},
   "outputs": [],
   "source": [
    "# Format a request URI for the Genius API\n",
    "search_term = 'Ayla Celik'\n",
    "_URL_API = \"https://api.genius.com/\"\n",
    "_URL_SEARCH = \"search?q=\"\n",
    "querystring = _URL_API + _URL_SEARCH + urllib.parse.quote(search_term)\n",
    "request = urllib.request.Request(querystring)\n",
    "request.add_header(\"Authorization\", \"Bearer \" + token)\n",
    "request.add_header(\"User-Agent\", \"\")"
   ]
  },
  {
   "cell_type": "code",
   "execution_count": 92,
   "metadata": {},
   "outputs": [
    {
     "data": {
      "text/html": [
       "<div>\n",
       "<style scoped>\n",
       "    .dataframe tbody tr th:only-of-type {\n",
       "        vertical-align: middle;\n",
       "    }\n",
       "\n",
       "    .dataframe tbody tr th {\n",
       "        vertical-align: top;\n",
       "    }\n",
       "\n",
       "    .dataframe thead th {\n",
       "        text-align: right;\n",
       "    }\n",
       "</style>\n",
       "<table border=\"1\" class=\"dataframe\">\n",
       "  <thead>\n",
       "    <tr style=\"text-align: right;\">\n",
       "      <th></th>\n",
       "      <th>artist_id</th>\n",
       "      <th>song_id</th>\n",
       "    </tr>\n",
       "  </thead>\n",
       "  <tbody>\n",
       "    <tr>\n",
       "      <th>0</th>\n",
       "      <td>1421</td>\n",
       "      <td>3477888</td>\n",
       "    </tr>\n",
       "    <tr>\n",
       "      <th>1</th>\n",
       "      <td>1421</td>\n",
       "      <td>330374</td>\n",
       "    </tr>\n",
       "    <tr>\n",
       "      <th>2</th>\n",
       "      <td>1421</td>\n",
       "      <td>196277</td>\n",
       "    </tr>\n",
       "    <tr>\n",
       "      <th>3</th>\n",
       "      <td>1421</td>\n",
       "      <td>54903</td>\n",
       "    </tr>\n",
       "    <tr>\n",
       "      <th>4</th>\n",
       "      <td>1421</td>\n",
       "      <td>1933500</td>\n",
       "    </tr>\n",
       "  </tbody>\n",
       "</table>\n",
       "</div>"
      ],
      "text/plain": [
       "   artist_id  song_id\n",
       "0       1421  3477888\n",
       "1       1421   330374\n",
       "2       1421   196277\n",
       "3       1421    54903\n",
       "4       1421  1933500"
      ]
     },
     "execution_count": 92,
     "metadata": {},
     "output_type": "execute_result"
    }
   ],
   "source": [
    "df = pd.read_csv('song_ids.txt', sep=',', names=['artist_id', 'song_id'])\n",
    "df.head()"
   ]
  },
  {
   "cell_type": "code",
   "execution_count": 310,
   "metadata": {
    "scrolled": true
   },
   "outputs": [
    {
     "name": "stdout",
     "output_type": "stream",
     "text": [
      "74701\n"
     ]
    }
   ],
   "source": [
    "# Format the search query using the 'referents' api\n",
    "# Given a song id, returns all of its referents (lines that have been annotated)\n",
    "# and the corresponding annotations.\n",
    "song_id = int(df.sample().song_id.values[0])\n",
    "print(song_id)\n",
    "querystring = \"https://api.genius.com/referents?song_id=\" + str(song_id) + \"&per_page=50\"\n",
    "request = urllib.request.Request(querystring)\n",
    "request.add_header(\"Authorization\", \"Bearer \" + token)\n",
    "request.add_header(\"User-Agent\", \"\")"
   ]
  },
  {
   "cell_type": "code",
   "execution_count": 311,
   "metadata": {},
   "outputs": [],
   "source": [
    "# This cell does internet stuff\n",
    "# Send the request to Genius, and parse the response\n",
    "response = urllib.request.urlopen(request, timeout=3)\n",
    "string = response.read().decode('utf-8')\n",
    "json_obj = json.loads(string)"
   ]
  },
  {
   "cell_type": "code",
   "execution_count": 312,
   "metadata": {},
   "outputs": [
    {
     "data": {
      "text/plain": [
       "5"
      ]
     },
     "execution_count": 312,
     "metadata": {},
     "output_type": "execute_result"
    }
   ],
   "source": [
    "# The data we want can be found here\n",
    "# For this song there are 9 lyric/annotation pairs\n",
    "referents = json_obj['response']['referents']\n",
    "len(referents)"
   ]
  },
  {
   "cell_type": "code",
   "execution_count": 313,
   "metadata": {
    "scrolled": true
   },
   "outputs": [
    {
     "name": "stdout",
     "output_type": "stream",
     "text": [
      "Without past I can't disappoint\n",
      " My ancestry\n",
      "************\n",
      "She cannot disappoint anyone who she does not let know her, if you have no past then you are pure, if you have a past you definantly have something to feel ashamed in one form or another. \n",
      "\n",
      "[Verse]\n",
      "************\n",
      "The sample on this song seems to be the same as the one on  Baptism , but slightly altered. \n",
      "\n",
      "Catch a moth, hold it in my hand\n",
      " Crush it casually\n",
      "************\n",
      "The thoughts of someone so dissociated and desensitized to death that it doesn’t phase them \n",
      "\n",
      "We drown in pneumonia not\n",
      " Rivers and streams\n",
      "************\n",
      "Pneumonia is a human affliction. The illness is a symbol for any human suffering, forcing them from their true potential; eventually, we drown in that “illness”.   When people drown from pneumonia, their lungs fill with fluid and they cannot breathe, just like they would if they were drowning in water. \n",
      "\n",
      "Forever can I sleep inside\n",
      " Your menagerie\n",
      "************\n",
      "A menagerie being a place where a variety of animals/people/things are kept, someone who makes no use of their potential is asking if they can be an inactive part of this diverse community. They’d rather sleep in the menagerie than participate in it.  Sounds sort of like a reference to not contributing to society as a whole, but I think it’s more about separate, smaller communities within society. \n",
      "\n"
     ]
    }
   ],
   "source": [
    "# Print each lyric along with its annotation\n",
    "for ref in referents:\n",
    "    print(ref['fragment'])\n",
    "    print('************')\n",
    "    print(recurse(ref['annotations'][0]['body']['dom']['children']))\n",
    "    print()"
   ]
  },
  {
   "cell_type": "code",
   "execution_count": 243,
   "metadata": {},
   "outputs": [],
   "source": [
    "# Function to recursively search the annotation dict\n",
    "# and get the text, skipping blockquotes, formatting, images, etc.\n",
    "\n",
    "def recurse(children):\n",
    "    st = ''\n",
    "    for child in children:\n",
    "        #print(child)\n",
    "        if type(child) == dict and 'tag' in child:\n",
    "            if child['tag'] == 'p' or child['tag'] == 'a':\n",
    "                st += recurse(child['children'])\n",
    "            elif child['tag'] == 'blockquote':\n",
    "                st += '[BLOCKQUOTE]'\n",
    "        elif type(child) == list:\n",
    "            st += recurse(child)\n",
    "        elif type(child) == str:\n",
    "            st += child + ' '\n",
    "    return st"
   ]
  },
  {
   "cell_type": "code",
   "execution_count": 4,
   "metadata": {},
   "outputs": [
    {
     "name": "stdout",
     "output_type": "stream",
     "text": [
      "128:30800,breakbot\r\n"
     ]
    }
   ],
   "source": [
    "!grep -n '30800' artists.txt"
   ]
  },
  {
   "cell_type": "code",
   "execution_count": null,
   "metadata": {},
   "outputs": [],
   "source": []
  }
 ],
 "metadata": {
  "kernelspec": {
   "display_name": "Python 3",
   "language": "python",
   "name": "python3"
  },
  "language_info": {
   "codemirror_mode": {
    "name": "ipython",
    "version": 3
   },
   "file_extension": ".py",
   "mimetype": "text/x-python",
   "name": "python",
   "nbconvert_exporter": "python",
   "pygments_lexer": "ipython3",
   "version": "3.7.1"
  }
 },
 "nbformat": 4,
 "nbformat_minor": 2
}
