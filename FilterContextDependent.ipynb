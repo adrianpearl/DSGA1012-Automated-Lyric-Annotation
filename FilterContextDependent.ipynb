{
 "cells": [
  {
   "cell_type": "code",
   "execution_count": 6,
   "metadata": {},
   "outputs": [],
   "source": [
    "import pandas as pd\n",
    "import numpy as np"
   ]
  },
  {
   "cell_type": "code",
   "execution_count": 8,
   "metadata": {},
   "outputs": [
    {
     "name": "stderr",
     "output_type": "stream",
     "text": [
      "b'Skipping line 78558: expected 3 fields, saw 4\\nSkipping line 115464: expected 3 fields, saw 4\\n'\n"
     ]
    }
   ],
   "source": [
    "annotation_header=['song_id','lyric','annotation']\n",
    "annotations = pd.read_csv('Data_Collection/annotations_2.tsv', sep='\\t', error_bad_lines=False)"
   ]
  },
  {
   "cell_type": "code",
   "execution_count": 9,
   "metadata": {},
   "outputs": [
    {
     "name": "stdout",
     "output_type": "stream",
     "text": [
      "146262\n"
     ]
    },
    {
     "data": {
      "text/html": [
       "<div>\n",
       "<style scoped>\n",
       "    .dataframe tbody tr th:only-of-type {\n",
       "        vertical-align: middle;\n",
       "    }\n",
       "\n",
       "    .dataframe tbody tr th {\n",
       "        vertical-align: top;\n",
       "    }\n",
       "\n",
       "    .dataframe thead th {\n",
       "        text-align: right;\n",
       "    }\n",
       "</style>\n",
       "<table border=\"1\" class=\"dataframe\">\n",
       "  <thead>\n",
       "    <tr style=\"text-align: right;\">\n",
       "      <th></th>\n",
       "      <th>song_id</th>\n",
       "      <th>lyric</th>\n",
       "      <th>annotation</th>\n",
       "    </tr>\n",
       "  </thead>\n",
       "  <tbody>\n",
       "    <tr>\n",
       "      <th>0</th>\n",
       "      <td>1556203</td>\n",
       "      <td>Here come da sun</td>\n",
       "      <td>Possibly a reference to The Beatles' “Here Com...</td>\n",
       "    </tr>\n",
       "    <tr>\n",
       "      <th>1</th>\n",
       "      <td>10782</td>\n",
       "      <td>Sayin, what did I do to be so black and blue</td>\n",
       "      <td>Reference to a  Louis Armstrong  recording of ...</td>\n",
       "    </tr>\n",
       "    <tr>\n",
       "      <th>2</th>\n",
       "      <td>10782</td>\n",
       "      <td>Makin profits like Spacely Sprockets, you can'...</td>\n",
       "      <td>“Spacely Sprockets (in some episodes referred ...</td>\n",
       "    </tr>\n",
       "    <tr>\n",
       "      <th>3</th>\n",
       "      <td>10782</td>\n",
       "      <td>My shit is classical, We get buck like Umfufu,...</td>\n",
       "      <td>Get wild like Umfufu! A reference to a comedy ...</td>\n",
       "    </tr>\n",
       "    <tr>\n",
       "      <th>4</th>\n",
       "      <td>10782</td>\n",
       "      <td>Where cats rock the Wallabe and Kangol</td>\n",
       "      <td>Reference to Wallabe Clark Shoes and Kangol ha...</td>\n",
       "    </tr>\n",
       "  </tbody>\n",
       "</table>\n",
       "</div>"
      ],
      "text/plain": [
       "   song_id                                              lyric  \\\n",
       "0  1556203                                   Here come da sun   \n",
       "1    10782       Sayin, what did I do to be so black and blue   \n",
       "2    10782  Makin profits like Spacely Sprockets, you can'...   \n",
       "3    10782  My shit is classical, We get buck like Umfufu,...   \n",
       "4    10782             Where cats rock the Wallabe and Kangol   \n",
       "\n",
       "                                          annotation  \n",
       "0  Possibly a reference to The Beatles' “Here Com...  \n",
       "1  Reference to a  Louis Armstrong  recording of ...  \n",
       "2  “Spacely Sprockets (in some episodes referred ...  \n",
       "3  Get wild like Umfufu! A reference to a comedy ...  \n",
       "4  Reference to Wallabe Clark Shoes and Kangol ha...  "
      ]
     },
     "execution_count": 9,
     "metadata": {},
     "output_type": "execute_result"
    }
   ],
   "source": [
    "print(annotations.shape[0])\n",
    "annotations.head()"
   ]
  },
  {
   "cell_type": "code",
   "execution_count": 10,
   "metadata": {},
   "outputs": [],
   "source": [
    "def get_mask(words):\n",
    "    mask = pd.Series([False]*len(annotations))\n",
    "    for word in words:\n",
    "        mask2 = annotations['annotation'].str.contains(word)\n",
    "        mask = mask | mask2\n",
    "    return mask"
   ]
  },
  {
   "cell_type": "code",
   "execution_count": 11,
   "metadata": {},
   "outputs": [
    {
     "data": {
      "text/html": [
       "<div>\n",
       "<style scoped>\n",
       "    .dataframe tbody tr th:only-of-type {\n",
       "        vertical-align: middle;\n",
       "    }\n",
       "\n",
       "    .dataframe tbody tr th {\n",
       "        vertical-align: top;\n",
       "    }\n",
       "\n",
       "    .dataframe thead th {\n",
       "        text-align: right;\n",
       "    }\n",
       "</style>\n",
       "<table border=\"1\" class=\"dataframe\">\n",
       "  <thead>\n",
       "    <tr style=\"text-align: right;\">\n",
       "      <th></th>\n",
       "      <th>song_id</th>\n",
       "      <th>lyric</th>\n",
       "      <th>annotation</th>\n",
       "    </tr>\n",
       "  </thead>\n",
       "  <tbody>\n",
       "    <tr>\n",
       "      <th>0</th>\n",
       "      <td>1556203</td>\n",
       "      <td>Here come da sun</td>\n",
       "      <td>Possibly a reference to The Beatles' “Here Com...</td>\n",
       "    </tr>\n",
       "    <tr>\n",
       "      <th>1</th>\n",
       "      <td>10782</td>\n",
       "      <td>Sayin, what did I do to be so black and blue</td>\n",
       "      <td>Reference to a  Louis Armstrong  recording of ...</td>\n",
       "    </tr>\n",
       "    <tr>\n",
       "      <th>2</th>\n",
       "      <td>10782</td>\n",
       "      <td>Makin profits like Spacely Sprockets, you can'...</td>\n",
       "      <td>“Spacely Sprockets (in some episodes referred ...</td>\n",
       "    </tr>\n",
       "    <tr>\n",
       "      <th>3</th>\n",
       "      <td>10782</td>\n",
       "      <td>My shit is classical, We get buck like Umfufu,...</td>\n",
       "      <td>Get wild like Umfufu! A reference to a comedy ...</td>\n",
       "    </tr>\n",
       "    <tr>\n",
       "      <th>4</th>\n",
       "      <td>10782</td>\n",
       "      <td>Where cats rock the Wallabe and Kangol</td>\n",
       "      <td>Reference to Wallabe Clark Shoes and Kangol ha...</td>\n",
       "    </tr>\n",
       "    <tr>\n",
       "      <th>9</th>\n",
       "      <td>2458</td>\n",
       "      <td>Black, my family thick,</td>\n",
       "      <td>In the previous verses, Mos Def asks for a def...</td>\n",
       "    </tr>\n",
       "    <tr>\n",
       "      <th>10</th>\n",
       "      <td>2458</td>\n",
       "      <td>Black like my baby girl's stare</td>\n",
       "      <td>The song uses the color black in a positive r...</td>\n",
       "    </tr>\n",
       "    <tr>\n",
       "      <th>14</th>\n",
       "      <td>2458</td>\n",
       "      <td>Some man wan' ask \"Who am I?\"</td>\n",
       "      <td>A most probable reference to the 1998 Jackie C...</td>\n",
       "    </tr>\n",
       "    <tr>\n",
       "      <th>21</th>\n",
       "      <td>2458</td>\n",
       "      <td>I've been there before  To bring the light and...</td>\n",
       "      <td>He went to the bottom of the well in order to ...</td>\n",
       "    </tr>\n",
       "    <tr>\n",
       "      <th>24</th>\n",
       "      <td>2458</td>\n",
       "      <td>Black like faces at the bottom of the well</td>\n",
       "      <td>A reference to  Derrick Bell ’s second book,  ...</td>\n",
       "    </tr>\n",
       "  </tbody>\n",
       "</table>\n",
       "</div>"
      ],
      "text/plain": [
       "    song_id                                              lyric  \\\n",
       "0   1556203                                   Here come da sun   \n",
       "1     10782       Sayin, what did I do to be so black and blue   \n",
       "2     10782  Makin profits like Spacely Sprockets, you can'...   \n",
       "3     10782  My shit is classical, We get buck like Umfufu,...   \n",
       "4     10782             Where cats rock the Wallabe and Kangol   \n",
       "9      2458                            Black, my family thick,   \n",
       "10     2458                    Black like my baby girl's stare   \n",
       "14     2458                      Some man wan' ask \"Who am I?\"   \n",
       "21     2458  I've been there before  To bring the light and...   \n",
       "24     2458         Black like faces at the bottom of the well   \n",
       "\n",
       "                                           annotation  \n",
       "0   Possibly a reference to The Beatles' “Here Com...  \n",
       "1   Reference to a  Louis Armstrong  recording of ...  \n",
       "2   “Spacely Sprockets (in some episodes referred ...  \n",
       "3   Get wild like Umfufu! A reference to a comedy ...  \n",
       "4   Reference to Wallabe Clark Shoes and Kangol ha...  \n",
       "9   In the previous verses, Mos Def asks for a def...  \n",
       "10   The song uses the color black in a positive r...  \n",
       "14  A most probable reference to the 1998 Jackie C...  \n",
       "21  He went to the bottom of the well in order to ...  \n",
       "24  A reference to  Derrick Bell ’s second book,  ...  "
      ]
     },
     "execution_count": 11,
     "metadata": {},
     "output_type": "execute_result"
    }
   ],
   "source": [
    "mask=get_mask(['reference','Reference','previous','Previous'])\n",
    "context_dependent = annotations[mask==True]\n",
    "context_dependent[:10]"
   ]
  },
  {
   "cell_type": "code",
   "execution_count": 12,
   "metadata": {},
   "outputs": [
    {
     "data": {
      "text/html": [
       "<div>\n",
       "<style scoped>\n",
       "    .dataframe tbody tr th:only-of-type {\n",
       "        vertical-align: middle;\n",
       "    }\n",
       "\n",
       "    .dataframe tbody tr th {\n",
       "        vertical-align: top;\n",
       "    }\n",
       "\n",
       "    .dataframe thead th {\n",
       "        text-align: right;\n",
       "    }\n",
       "</style>\n",
       "<table border=\"1\" class=\"dataframe\">\n",
       "  <thead>\n",
       "    <tr style=\"text-align: right;\">\n",
       "      <th></th>\n",
       "      <th>song_id</th>\n",
       "      <th>lyric</th>\n",
       "      <th>annotation</th>\n",
       "    </tr>\n",
       "  </thead>\n",
       "  <tbody>\n",
       "    <tr>\n",
       "      <th>5</th>\n",
       "      <td>10782</td>\n",
       "      <td>These mc's proceed to seize the presidential p...</td>\n",
       "      <td>From Rastafarianism: Babylon represents Wester...</td>\n",
       "    </tr>\n",
       "    <tr>\n",
       "      <th>6</th>\n",
       "      <td>2458</td>\n",
       "      <td>Is it the cat with the black shades, the black...</td>\n",
       "      <td>Here Mos Def is describing a typical baller. A...</td>\n",
       "    </tr>\n",
       "    <tr>\n",
       "      <th>7</th>\n",
       "      <td>2458</td>\n",
       "      <td>Intimate and distant</td>\n",
       "      <td>Mos Def’s listeners know who he is, know much ...</td>\n",
       "    </tr>\n",
       "    <tr>\n",
       "      <th>8</th>\n",
       "      <td>2458</td>\n",
       "      <td>It's the third eye vision, five side dimension</td>\n",
       "      <td>The third eye is frequently mentioned in hip h...</td>\n",
       "    </tr>\n",
       "    <tr>\n",
       "      <th>11</th>\n",
       "      <td>2458</td>\n",
       "      <td>Like the student love the teacher</td>\n",
       "      <td>Mos is referring to the relationship between S...</td>\n",
       "    </tr>\n",
       "    <tr>\n",
       "      <th>12</th>\n",
       "      <td>2458</td>\n",
       "      <td>Against the canvas of the night  Appears a cur...</td>\n",
       "      <td>Mos Def sets the imagery for the track by refe...</td>\n",
       "    </tr>\n",
       "    <tr>\n",
       "      <th>13</th>\n",
       "      <td>2458</td>\n",
       "      <td>It don't stop till we complete this, keep this...</td>\n",
       "      <td>This line was used again by Kweli in the song ...</td>\n",
       "    </tr>\n",
       "    <tr>\n",
       "      <th>15</th>\n",
       "      <td>2458</td>\n",
       "      <td>[M] You know who else is a Black Star? (Who?) ...</td>\n",
       "      <td>More than just creating a simple back and fort...</td>\n",
       "    </tr>\n",
       "    <tr>\n",
       "      <th>16</th>\n",
       "      <td>2458</td>\n",
       "      <td>Black people unite and let's all get down  We ...</td>\n",
       "      <td>A flip of Ed O.G.’s  “I Got To Have It” :  [BL...</td>\n",
       "    </tr>\n",
       "    <tr>\n",
       "      <th>17</th>\n",
       "      <td>2458</td>\n",
       "      <td>Why they scared?</td>\n",
       "      <td>They (white people) are scared because any cha...</td>\n",
       "    </tr>\n",
       "  </tbody>\n",
       "</table>\n",
       "</div>"
      ],
      "text/plain": [
       "    song_id                                              lyric  \\\n",
       "5     10782  These mc's proceed to seize the presidential p...   \n",
       "6      2458  Is it the cat with the black shades, the black...   \n",
       "7      2458                               Intimate and distant   \n",
       "8      2458     It's the third eye vision, five side dimension   \n",
       "11     2458                  Like the student love the teacher   \n",
       "12     2458  Against the canvas of the night  Appears a cur...   \n",
       "13     2458  It don't stop till we complete this, keep this...   \n",
       "15     2458  [M] You know who else is a Black Star? (Who?) ...   \n",
       "16     2458  Black people unite and let's all get down  We ...   \n",
       "17     2458                                   Why they scared?   \n",
       "\n",
       "                                           annotation  \n",
       "5   From Rastafarianism: Babylon represents Wester...  \n",
       "6   Here Mos Def is describing a typical baller. A...  \n",
       "7   Mos Def’s listeners know who he is, know much ...  \n",
       "8   The third eye is frequently mentioned in hip h...  \n",
       "11  Mos is referring to the relationship between S...  \n",
       "12  Mos Def sets the imagery for the track by refe...  \n",
       "13  This line was used again by Kweli in the song ...  \n",
       "15  More than just creating a simple back and fort...  \n",
       "16  A flip of Ed O.G.’s  “I Got To Have It” :  [BL...  \n",
       "17  They (white people) are scared because any cha...  "
      ]
     },
     "execution_count": 12,
     "metadata": {},
     "output_type": "execute_result"
    }
   ],
   "source": [
    "context_independent = annotations[mask==False]\n",
    "context_independent[:10]"
   ]
  },
  {
   "cell_type": "code",
   "execution_count": 13,
   "metadata": {},
   "outputs": [
    {
     "name": "stdout",
     "output_type": "stream",
     "text": [
      "12190\n",
      "134072\n"
     ]
    }
   ],
   "source": [
    "print(len(context_dependent))\n",
    "print(len(context_independent))"
   ]
  },
  {
   "cell_type": "code",
   "execution_count": 16,
   "metadata": {},
   "outputs": [],
   "source": [
    "def filter_context_independent(file_name,destination_file):\n",
    "    annotation_header=['song_id','lyric','annotation']\n",
    "    annotations = pd.read_csv(file_name, sep='\\t', error_bad_lines=False)\n",
    "    mask=get_mask(['reference','Reference','previous','Previous'])\n",
    "    context_independent = annotations[mask==False]\n",
    "    context_independent.to_csv(destination_file,sep='\\t')"
   ]
  },
  {
   "cell_type": "code",
   "execution_count": 19,
   "metadata": {},
   "outputs": [
    {
     "name": "stderr",
     "output_type": "stream",
     "text": [
      "/Users/elliotsilva/anaconda3/lib/python3.6/site-packages/ipykernel_launcher.py:5: UserWarning: Boolean Series key will be reindexed to match DataFrame index.\n",
      "  \"\"\"\n"
     ]
    }
   ],
   "source": [
    "from_file = 'Data_Collection/annotations_1.tsv'\n",
    "to_file = 'Data_Collection/annotations_1CI.tsv'\n",
    "filter_context_independent(from_file,to_file)"
   ]
  },
  {
   "cell_type": "code",
   "execution_count": null,
   "metadata": {},
   "outputs": [],
   "source": []
  }
 ],
 "metadata": {
  "kernelspec": {
   "display_name": "Python 3",
   "language": "python",
   "name": "python3"
  },
  "language_info": {
   "codemirror_mode": {
    "name": "ipython",
    "version": 3
   },
   "file_extension": ".py",
   "mimetype": "text/x-python",
   "name": "python",
   "nbconvert_exporter": "python",
   "pygments_lexer": "ipython3",
   "version": "3.6.5"
  }
 },
 "nbformat": 4,
 "nbformat_minor": 2
}
