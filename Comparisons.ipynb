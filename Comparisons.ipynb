{
 "cells": [
  {
   "cell_type": "code",
   "execution_count": 11,
   "metadata": {},
   "outputs": [],
   "source": [
    "import numpy as np\n",
    "import pandas as pd\n",
    "pd.set_option('display.max_colwidth', 0)"
   ]
  },
  {
   "cell_type": "code",
   "execution_count": 2,
   "metadata": {},
   "outputs": [],
   "source": [
    "path = 'data_noquotes/evaluation/'"
   ]
  },
  {
   "cell_type": "code",
   "execution_count": 26,
   "metadata": {},
   "outputs": [],
   "source": [
    "with open(path + 'Seq2Seq_pred.txt') as f:\n",
    "    seq2seq = [l.strip() for l in f.readlines()]\n",
    "f.close()\n",
    "\n",
    "with open(path + 'Retrieval_pred.txt') as f:\n",
    "    retrieval = [l.strip() for l in f.readlines()]\n",
    "f.close()\n",
    "\n",
    "with open(path + 'src-val.txt') as f:\n",
    "    lyric = [l.strip() for l in f.readlines()]\n",
    "f.close()\n",
    "\n",
    "with open(path + 'tgt-val.txt') as f:\n",
    "    annotation = [l.strip() for l in f.readlines()]\n",
    "f.close()"
   ]
  },
  {
   "cell_type": "code",
   "execution_count": 27,
   "metadata": {},
   "outputs": [],
   "source": [
    "df = pd.DataFrame({'Lyric': lyric, 'Annotation': annotation, 'Retrieval': retrieval, 'Seq2Seq': seq2seq})"
   ]
  },
  {
   "cell_type": "code",
   "execution_count": 38,
   "metadata": {},
   "outputs": [
    {
     "data": {
      "text/html": [
       "<div>\n",
       "<style scoped>\n",
       "    .dataframe tbody tr th:only-of-type {\n",
       "        vertical-align: middle;\n",
       "    }\n",
       "\n",
       "    .dataframe tbody tr th {\n",
       "        vertical-align: top;\n",
       "    }\n",
       "\n",
       "    .dataframe thead th {\n",
       "        text-align: right;\n",
       "    }\n",
       "</style>\n",
       "<table border=\"1\" class=\"dataframe\">\n",
       "  <thead>\n",
       "    <tr style=\"text-align: right;\">\n",
       "      <th></th>\n",
       "      <th>Lyric</th>\n",
       "      <th>Annotation</th>\n",
       "      <th>Retrieval</th>\n",
       "      <th>Seq2Seq</th>\n",
       "    </tr>\n",
       "  </thead>\n",
       "  <tbody>\n",
       "    <tr>\n",
       "      <th>1</th>\n",
       "      <td>Wake up to someone with nothing to say  I'd never change, thought I'd never change</td>\n",
       "      <td>He wakes up with many one night stands and never thinks he’ll be able to settle down and actually be in a committed relationship but this new partner has completely changed him for the better.</td>\n",
       "      <td>Justin has been on a whirlwind of bad behavior lately, but hopefully the right girl can change him. JB himself has said this is one of the most personal songs he’s ever released.</td>\n",
       "      <td>The narrator is trying to convince himself that the relationship is not going to end, but he doesn’t want to let it go. He wants to be able to change the relationship and move on.</td>\n",
       "    </tr>\n",
       "    <tr>\n",
       "      <th>29</th>\n",
       "      <td>I'm high as a bitch, I'm talkin' to clouds</td>\n",
       "      <td>Another play-on word situation. Clouds are high in the sky, and high means drugs.</td>\n",
       "      <td>He’s happy with the direction that his life is headed even if she doesn’t approve.</td>\n",
       "      <td>Future is known for being high in the rap game, so he doesn’t have to worry about getting high off of drugs. This is also a play on words as to is slang for to</td>\n",
       "    </tr>\n",
       "    <tr>\n",
       "      <th>46</th>\n",
       "      <td>Call me Jay Dogon, I'm on some serious shit</td>\n",
       "      <td>is from the African country of Mali who customarily worship spirits called the Nommo. These spirits are said to live on planets surrounding the star Sirius, and it is also believed that they descended from their planet in a vessel accompanied by fire and thunder,  .  Jay was already talking about UFO’s earlier; because of that, you might as well call him Jay Dogon, one who believes in the fire-and-thunder spaceships.</td>\n",
       "      <td>Jay-Z doesn’t want to be an  NBA owner anymore , but he’s down to offer the league some new music. All about compromise.</td>\n",
       "      <td>Jay Z is one of the greatest rappers of all time, and is the best rapper in the game. He is also the founder of Cash Money Records, as well as the rap group serious</td>\n",
       "    </tr>\n",
       "    <tr>\n",
       "      <th>78</th>\n",
       "      <td>Don't tell me what I wanna hear</td>\n",
       "      <td>Don’t pacify me, I want the real deal. Honesty and challenging one another are crucial aspects of what makes this relationship so valuable.</td>\n",
       "      <td>She’s wants to tell him that she really truly deeply love him but he doesn’t want to hear it because it’s all a lie.</td>\n",
       "      <td>He’s asking her if she wants to be with him, but she doesn’t want to hear him because he doesn’t want her to know that he is going to be there for her for the first time.</td>\n",
       "    </tr>\n",
       "    <tr>\n",
       "      <th>133</th>\n",
       "      <td>Sip Dom Pérignon and then carry on</td>\n",
       "      <td>Dom Pérignon is a brand of champagne that Nas also  shouts out  in  “The World is Yours” .</td>\n",
       "      <td>Marque de champagne</td>\n",
       "      <td>Goyard is a French luxury fashion house founded in Pérignon by French fashion designer Giuseppe Pérignon They are known for their expensive cars and accessories. Future is saying that he has so much money that he can afford to buy expensive jewelry like carry</td>\n",
       "    </tr>\n",
       "    <tr>\n",
       "      <th>197</th>\n",
       "      <td>Banana clip is guaranteed to knock you down</td>\n",
       "      <td>A banana clip for a gun is an extended magazine with a lot of ammo, so he can make sure his shots land and you don’t come back up.</td>\n",
       "      <td>A banana clip is a very long bullet magazine that contains more bullets than regular the ones. Because of its curve, it looks like a banana. Here Mike uses it as a verb meaning that with his verse he will tear everything up.</td>\n",
       "      <td>A banana clip is a type of assault rifle with a clip of a gun and a clip on a gun will shoot you in the head. A you is a pistol or a knock</td>\n",
       "    </tr>\n",
       "    <tr>\n",
       "      <th>238</th>\n",
       "      <td>Boy, it was sad</td>\n",
       "      <td>The narrator doesn’t approve of his choices. It sounds like he’s on the side of the guy’s family.</td>\n",
       "      <td>He uses a negative phrase like “I’m not sad” rather than “I am happy” or something positive. This puts the word “sad” in the listener’s head, and conveys a more depressed meaning than an uplifting one.  Maybe he’s lying to himself about not being sad, or maybe, being  bipolar , people are so used to him being depressed he has to make it clear that he’s not, now. Or maybe, even, he’s just fine being  on a plain  mood, and can’t really complain</td>\n",
       "      <td>This could be referring to the fact that this song is about a break-up. CN vocalist Dylan Baldi wrote a song about this song titled Boy, Boy, which was produced by was Boy, and Boy,</td>\n",
       "    </tr>\n",
       "  </tbody>\n",
       "</table>\n",
       "</div>"
      ],
      "text/plain": [
       "                                                                                  Lyric  \\\n",
       "1    Wake up to someone with nothing to say  I'd never change, thought I'd never change   \n",
       "29   I'm high as a bitch, I'm talkin' to clouds                                           \n",
       "46   Call me Jay Dogon, I'm on some serious shit                                          \n",
       "78   Don't tell me what I wanna hear                                                      \n",
       "133  Sip Dom Pérignon and then carry on                                                   \n",
       "197  Banana clip is guaranteed to knock you down                                          \n",
       "238  Boy, it was sad                                                                      \n",
       "\n",
       "                                                                                                                                                                                                                                                                                                                                                                                                                               Annotation  \\\n",
       "1    He wakes up with many one night stands and never thinks he’ll be able to settle down and actually be in a committed relationship but this new partner has completely changed him for the better.                                                                                                                                                                                                                                       \n",
       "29   Another play-on word situation. Clouds are high in the sky, and high means drugs.                                                                                                                                                                                                                                                                                                                                                      \n",
       "46   is from the African country of Mali who customarily worship spirits called the Nommo. These spirits are said to live on planets surrounding the star Sirius, and it is also believed that they descended from their planet in a vessel accompanied by fire and thunder,  .  Jay was already talking about UFO’s earlier; because of that, you might as well call him Jay Dogon, one who believes in the fire-and-thunder spaceships.   \n",
       "78   Don’t pacify me, I want the real deal. Honesty and challenging one another are crucial aspects of what makes this relationship so valuable.                                                                                                                                                                                                                                                                                            \n",
       "133  Dom Pérignon is a brand of champagne that Nas also  shouts out  in  “The World is Yours” .                                                                                                                                                                                                                                                                                                                                             \n",
       "197  A banana clip for a gun is an extended magazine with a lot of ammo, so he can make sure his shots land and you don’t come back up.                                                                                                                                                                                                                                                                                                     \n",
       "238  The narrator doesn’t approve of his choices. It sounds like he’s on the side of the guy’s family.                                                                                                                                                                                                                                                                                                                                      \n",
       "\n",
       "                                                                                                                                                                                                                                                                                                                                                                                                                                                          Retrieval  \\\n",
       "1    Justin has been on a whirlwind of bad behavior lately, but hopefully the right girl can change him. JB himself has said this is one of the most personal songs he’s ever released.                                                                                                                                                                                                                                                                               \n",
       "29   He’s happy with the direction that his life is headed even if she doesn’t approve.                                                                                                                                                                                                                                                                                                                                                                               \n",
       "46   Jay-Z doesn’t want to be an  NBA owner anymore , but he’s down to offer the league some new music. All about compromise.                                                                                                                                                                                                                                                                                                                                         \n",
       "78   She’s wants to tell him that she really truly deeply love him but he doesn’t want to hear it because it’s all a lie.                                                                                                                                                                                                                                                                                                                                             \n",
       "133  Marque de champagne                                                                                                                                                                                                                                                                                                                                                                                                                                              \n",
       "197  A banana clip is a very long bullet magazine that contains more bullets than regular the ones. Because of its curve, it looks like a banana. Here Mike uses it as a verb meaning that with his verse he will tear everything up.                                                                                                                                                                                                                                 \n",
       "238  He uses a negative phrase like “I’m not sad” rather than “I am happy” or something positive. This puts the word “sad” in the listener’s head, and conveys a more depressed meaning than an uplifting one.  Maybe he’s lying to himself about not being sad, or maybe, being  bipolar , people are so used to him being depressed he has to make it clear that he’s not, now. Or maybe, even, he’s just fine being  on a plain  mood, and can’t really complain   \n",
       "\n",
       "                                                                                                                                                                                                                                                                 Seq2Seq  \n",
       "1    The narrator is trying to convince himself that the relationship is not going to end, but he doesn’t want to let it go. He wants to be able to change the relationship and move on.                                                                                  \n",
       "29   Future is known for being high in the rap game, so he doesn’t have to worry about getting high off of drugs. This is also a play on words as to is slang for to                                                                                                      \n",
       "46   Jay Z is one of the greatest rappers of all time, and is the best rapper in the game. He is also the founder of Cash Money Records, as well as the rap group serious                                                                                                 \n",
       "78   He’s asking her if she wants to be with him, but she doesn’t want to hear him because he doesn’t want her to know that he is going to be there for her for the first time.                                                                                           \n",
       "133  Goyard is a French luxury fashion house founded in Pérignon by French fashion designer Giuseppe Pérignon They are known for their expensive cars and accessories. Future is saying that he has so much money that he can afford to buy expensive jewelry like carry  \n",
       "197  A banana clip is a type of assault rifle with a clip of a gun and a clip on a gun will shoot you in the head. A you is a pistol or a knock                                                                                                                           \n",
       "238  This could be referring to the fact that this song is about a break-up. CN vocalist Dylan Baldi wrote a song about this song titled Boy, Boy, which was produced by was Boy, and Boy,                                                                                "
      ]
     },
     "execution_count": 38,
     "metadata": {},
     "output_type": "execute_result"
    }
   ],
   "source": [
    "df.iloc[inds]"
   ]
  },
  {
   "cell_type": "code",
   "execution_count": 37,
   "metadata": {},
   "outputs": [],
   "source": [
    "inds = [1, 29, 46, 78, 133, 197, 238]"
   ]
  },
  {
   "cell_type": "code",
   "execution_count": 47,
   "metadata": {},
   "outputs": [
    {
     "data": {
      "text/html": [
       "<div>\n",
       "<style scoped>\n",
       "    .dataframe tbody tr th:only-of-type {\n",
       "        vertical-align: middle;\n",
       "    }\n",
       "\n",
       "    .dataframe tbody tr th {\n",
       "        vertical-align: top;\n",
       "    }\n",
       "\n",
       "    .dataframe thead th {\n",
       "        text-align: right;\n",
       "    }\n",
       "</style>\n",
       "<table border=\"1\" class=\"dataframe\">\n",
       "  <thead>\n",
       "    <tr style=\"text-align: right;\">\n",
       "      <th></th>\n",
       "      <th>Lyric</th>\n",
       "      <th>Annotation</th>\n",
       "      <th>Retrieval</th>\n",
       "      <th>Seq2Seq</th>\n",
       "    </tr>\n",
       "  </thead>\n",
       "  <tbody>\n",
       "    <tr>\n",
       "      <th>623</th>\n",
       "      <td>You a Jackass like Johnny Knoxville So I can just imagine how ya pops feel (damn!)</td>\n",
       "      <td>Johnny Knoxville is a member of the Jackass crew.   Bam Margera, also of Jackass fame, has a history of whooping on his pops.  http://www.youtube.com/watch?v=LyMiNY17AIA</td>\n",
       "      <td>Obama called Kanye a “jackass” on  several  occasions.</td>\n",
       "      <td>David (damn!) is a fictional character from the TV show . He is known for his Johnny pops and pops He is also known for being one of the most influential people of all time.</td>\n",
       "    </tr>\n",
       "    <tr>\n",
       "      <th>624</th>\n",
       "      <td>Their guards mimicked the vintage knuckle drag sagged in the coffin</td>\n",
       "      <td>their guard was down.   The author transposes the definition of the term “guard” from a defensive state to a person in a military position.  Then, in that new context, he uses a militaristic interpretation of the term “down”: injured, or killed (think “Black Hawk Down”).  In the author’s particular interpretation, these “guards” are only playing (“mimicking”) dead. The “vintage knuckle drag” refers to the vivid, cliched image of a corpse’s limp arm, prior to the onset of  rigor mortis .</td>\n",
       "      <td>Girbaud jeans were popular designer jeans on the Hip-Hop scene in the early ‘90s.</td>\n",
       "      <td>This is a play on the word the which is a slang term for a gun, or a the the is slang for a kilo of cocaine, and a the is a type of the</td>\n",
       "    </tr>\n",
       "    <tr>\n",
       "      <th>625</th>\n",
       "      <td>Mutilated lips give a kiss on the wrist</td>\n",
       "      <td>How the later mentioned ugly girl’s lips appear to the singer.</td>\n",
       "      <td>It is best to let Cohen “annotate” it himself ( here ) –  [BLOCKQUOTE]</td>\n",
       "      <td>the is a term used to describe someone who is wrist or the The term originates from the French word wrist meaning wrist and the is slang for vagina, in the context of the song.</td>\n",
       "    </tr>\n",
       "  </tbody>\n",
       "</table>\n",
       "</div>"
      ],
      "text/plain": [
       "                                                                                  Lyric  \\\n",
       "623  You a Jackass like Johnny Knoxville So I can just imagine how ya pops feel (damn!)   \n",
       "624  Their guards mimicked the vintage knuckle drag sagged in the coffin                  \n",
       "625  Mutilated lips give a kiss on the wrist                                              \n",
       "\n",
       "                                                                                                                                                                                                                                                                                                                                                                                                                                                                                                      Annotation  \\\n",
       "623  Johnny Knoxville is a member of the Jackass crew.   Bam Margera, also of Jackass fame, has a history of whooping on his pops.  http://www.youtube.com/watch?v=LyMiNY17AIA                                                                                                                                                                                                                                                                                                                                     \n",
       "624  their guard was down.   The author transposes the definition of the term “guard” from a defensive state to a person in a military position.  Then, in that new context, he uses a militaristic interpretation of the term “down”: injured, or killed (think “Black Hawk Down”).  In the author’s particular interpretation, these “guards” are only playing (“mimicking”) dead. The “vintage knuckle drag” refers to the vivid, cliched image of a corpse’s limp arm, prior to the onset of  rigor mortis .   \n",
       "625  How the later mentioned ugly girl’s lips appear to the singer.                                                                                                                                                                                                                                                                                                                                                                                                                                                \n",
       "\n",
       "                                                                             Retrieval  \\\n",
       "623  Obama called Kanye a “jackass” on  several  occasions.                              \n",
       "624  Girbaud jeans were popular designer jeans on the Hip-Hop scene in the early ‘90s.   \n",
       "625  It is best to let Cohen “annotate” it himself ( here ) –  [BLOCKQUOTE]              \n",
       "\n",
       "                                                                                                                                                                              Seq2Seq  \n",
       "623  David (damn!) is a fictional character from the TV show . He is known for his Johnny pops and pops He is also known for being one of the most influential people of all time.     \n",
       "624  This is a play on the word the which is a slang term for a gun, or a the the is slang for a kilo of cocaine, and a the is a type of the                                           \n",
       "625  the is a term used to describe someone who is wrist or the The term originates from the French word wrist meaning wrist and the is slang for vagina, in the context of the song.  "
      ]
     },
     "execution_count": 47,
     "metadata": {},
     "output_type": "execute_result"
    }
   ],
   "source": [
    "df.iloc[623:626]"
   ]
  },
  {
   "cell_type": "code",
   "execution_count": null,
   "metadata": {},
   "outputs": [],
   "source": []
  }
 ],
 "metadata": {
  "kernelspec": {
   "display_name": "Python 3",
   "language": "python",
   "name": "python3"
  },
  "language_info": {
   "codemirror_mode": {
    "name": "ipython",
    "version": 3
   },
   "file_extension": ".py",
   "mimetype": "text/x-python",
   "name": "python",
   "nbconvert_exporter": "python",
   "pygments_lexer": "ipython3",
   "version": "3.7.1"
  }
 },
 "nbformat": 4,
 "nbformat_minor": 2
}
