{
 "cells": [
  {
   "cell_type": "code",
   "execution_count": 1,
   "metadata": {},
   "outputs": [],
   "source": [
    "import urllib\n",
    "import json\n",
    "import pandas as pd\n",
    "import time"
   ]
  },
  {
   "cell_type": "code",
   "execution_count": 2,
   "metadata": {},
   "outputs": [],
   "source": [
    "# Secret token\n",
    "token = open(\"ACCESS_TOKEN.txt\", \"r\").read()"
   ]
  },
  {
   "cell_type": "code",
   "execution_count": 3,
   "metadata": {},
   "outputs": [],
   "source": [
    "# Format a request URI for the Genius API\n",
    "search_term = 'Ayla Celik'\n",
    "_URL_API = \"https://api.genius.com/\"\n",
    "_URL_SEARCH = \"search?q=\"\n",
    "querystring = _URL_API + _URL_SEARCH + urllib.parse.quote(search_term)\n",
    "request = urllib.request.Request(querystring)\n",
    "request.add_header(\"Authorization\", \"Bearer \" + token)\n",
    "request.add_header(\"User-Agent\", \"\")"
   ]
  },
  {
   "cell_type": "code",
   "execution_count": 26,
   "metadata": {},
   "outputs": [],
   "source": [
    "def get_songs():\n",
    "    try:\n",
    "        annotations = pd.read_csv('annotations.tsv', names=['song_id','lyric','annotation'], sep='\\t')\n",
    "    except:\n",
    "        return pd.read_csv('song_ids_2.csv', names=['artist','song'], sep=',')\n",
    "    songs = pd.read_csv('song_ids_2.csv', names=['artist','song'], sep=',')\n",
    "    \n",
    "    print(\"SONGS:\")\n",
    "    print(songs.dtypes())\n",
    "    print(songs.head())\n",
    "    print(\"ANNOTATIONS:\")\n",
    "    print(annotations.dtypes())\n",
    "    print(annotations.head())\n",
    "    \n",
    "    \n",
    "    last_id = str(annotations.song_id.values[-1])\n",
    "    print(last_id)\n",
    "    print(type(last_id))\n",
    "    i = songs[songs.song == last_id].index[0]\n",
    "    return songs[i+1:]"
   ]
  },
  {
   "cell_type": "code",
   "execution_count": 27,
   "metadata": {},
   "outputs": [],
   "source": [
    "# Function to recursively search the annotation dict\n",
    "# and get the text, skipping blockquotes, formatting, images, etc.\n",
    "\n",
    "def recurse(children):\n",
    "    st = ''\n",
    "    for child in children:\n",
    "        #print(child)\n",
    "        if type(child) == dict and 'tag' in child:\n",
    "            if child['tag'] == 'p' or child['tag'] == 'a':\n",
    "                st += recurse(child['children'])\n",
    "            elif child['tag'] == 'blockquote':\n",
    "                st += '[BLOCKQUOTE]'\n",
    "        elif type(child) == list:\n",
    "            st += recurse(child)\n",
    "        elif type(child) == str:\n",
    "            st += child + ' '\n",
    "    return st"
   ]
  },
  {
   "cell_type": "code",
   "execution_count": 28,
   "metadata": {
    "scrolled": true
   },
   "outputs": [],
   "source": [
    "def append_annotations(songdf, batchsize):\n",
    "    # Get a chunk of song ids\n",
    "    song_ids = songdf.head(batchsize).song.astype(int)\n",
    "\n",
    "    with open('annotations.tsv', 'a') as f:\n",
    "\n",
    "        for song_id in song_ids:\n",
    "\n",
    "            # Format the search query using the 'referents' api\n",
    "            # Given a song id, returns all of its referents (lines that have been annotated)\n",
    "            # and the corresponding annotations.\n",
    "            querystring = \"https://api.genius.com/referents?song_id=\" + str(song_id) + \"&per_page=50\"\n",
    "            request = urllib.request.Request(querystring)\n",
    "            request.add_header(\"Authorization\", \"Bearer \" + token)\n",
    "            request.add_header(\"User-Agent\", \"\")\n",
    "\n",
    "            # Do internet stuff\n",
    "            # Send the request to Genius, and parse the response\n",
    "            try:\n",
    "                response = urllib.request.urlopen(request, timeout=10)\n",
    "                string = response.read().decode('utf-8')\n",
    "                json_obj = json.loads(string)\n",
    "            except:\n",
    "                print('***Failed on song id: ' + str(song_id))\n",
    "                continue\n",
    "\n",
    "            # The data we want can be found here\n",
    "            # For this song there are 9 lyric/annotation pairs\n",
    "            referents = json_obj['response']['referents']\n",
    "\n",
    "            # Many songs return zero annotations. If we get annotations, parse through them\n",
    "            if len(referents) > 0:\n",
    "                for ref in referents:\n",
    "                    lyric = ref['fragment'].replace('\\n', ' ')\n",
    "                    try:\n",
    "                        annotation = recurse(ref['annotations'][0]['body']['dom']['children']).replace('\\n', ' ')\n",
    "                    except:\n",
    "                        print('***Empty annotation on song id: ' + str(song_id))\n",
    "                        continue\n",
    "                    \n",
    "                    print(lyric)\n",
    "                    f.write(str(song_id) + '\\t' + lyric + '\\t' + annotation + '\\n')\n",
    "                    \n",
    "            time.sleep(0.5)"
   ]
  },
  {
   "cell_type": "code",
   "execution_count": 29,
   "metadata": {},
   "outputs": [
    {
     "name": "stdout",
     "output_type": "stream",
     "text": [
      "SONGS:\n"
     ]
    },
    {
     "ename": "TypeError",
     "evalue": "'Series' object is not callable",
     "output_type": "error",
     "traceback": [
      "\u001b[0;31m---------------------------------------------------------------------------\u001b[0m",
      "\u001b[0;31mTypeError\u001b[0m                                 Traceback (most recent call last)",
      "\u001b[0;32m<ipython-input-29-36fe644a28a7>\u001b[0m in \u001b[0;36m<module>\u001b[0;34m()\u001b[0m\n\u001b[0;32m----> 1\u001b[0;31m \u001b[0msongdf\u001b[0m \u001b[0;34m=\u001b[0m \u001b[0mget_songs\u001b[0m\u001b[0;34m(\u001b[0m\u001b[0;34m)\u001b[0m\u001b[0;34m\u001b[0m\u001b[0m\n\u001b[0m\u001b[1;32m      2\u001b[0m \u001b[0mappend_annotations\u001b[0m\u001b[0;34m(\u001b[0m\u001b[0msongdf\u001b[0m\u001b[0;34m,\u001b[0m \u001b[0;36m200\u001b[0m\u001b[0;34m)\u001b[0m\u001b[0;34m\u001b[0m\u001b[0m\n",
      "\u001b[0;32m<ipython-input-26-d8131fcf2bd2>\u001b[0m in \u001b[0;36mget_songs\u001b[0;34m()\u001b[0m\n\u001b[1;32m      7\u001b[0m \u001b[0;34m\u001b[0m\u001b[0m\n\u001b[1;32m      8\u001b[0m     \u001b[0mprint\u001b[0m\u001b[0;34m(\u001b[0m\u001b[0;34m\"SONGS:\"\u001b[0m\u001b[0;34m)\u001b[0m\u001b[0;34m\u001b[0m\u001b[0m\n\u001b[0;32m----> 9\u001b[0;31m     \u001b[0mprint\u001b[0m\u001b[0;34m(\u001b[0m\u001b[0msongs\u001b[0m\u001b[0;34m.\u001b[0m\u001b[0mdtypes\u001b[0m\u001b[0;34m(\u001b[0m\u001b[0;34m)\u001b[0m\u001b[0;34m)\u001b[0m\u001b[0;34m\u001b[0m\u001b[0m\n\u001b[0m\u001b[1;32m     10\u001b[0m     \u001b[0mprint\u001b[0m\u001b[0;34m(\u001b[0m\u001b[0msongs\u001b[0m\u001b[0;34m.\u001b[0m\u001b[0mhead\u001b[0m\u001b[0;34m(\u001b[0m\u001b[0;34m)\u001b[0m\u001b[0;34m)\u001b[0m\u001b[0;34m\u001b[0m\u001b[0m\n\u001b[1;32m     11\u001b[0m     \u001b[0mprint\u001b[0m\u001b[0;34m(\u001b[0m\u001b[0;34m\"ANNOTATIONS:\"\u001b[0m\u001b[0;34m)\u001b[0m\u001b[0;34m\u001b[0m\u001b[0m\n",
      "\u001b[0;31mTypeError\u001b[0m: 'Series' object is not callable"
     ]
    }
   ],
   "source": [
    "songdf = get_songs()\n",
    "append_annotations(songdf, 200)"
   ]
  },
  {
   "cell_type": "code",
   "execution_count": null,
   "metadata": {},
   "outputs": [],
   "source": []
  }
 ],
 "metadata": {
  "kernelspec": {
   "display_name": "Python 3",
   "language": "python",
   "name": "python3"
  },
  "language_info": {
   "codemirror_mode": {
    "name": "ipython",
    "version": 3
   },
   "file_extension": ".py",
   "mimetype": "text/x-python",
   "name": "python",
   "nbconvert_exporter": "python",
   "pygments_lexer": "ipython3",
   "version": "3.6.5"
  }
 },
 "nbformat": 4,
 "nbformat_minor": 2
}
