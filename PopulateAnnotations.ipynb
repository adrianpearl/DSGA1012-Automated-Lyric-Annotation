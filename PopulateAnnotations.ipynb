{
 "cells": [
  {
   "cell_type": "code",
   "execution_count": 56,
   "metadata": {},
   "outputs": [],
   "source": [
    "import urllib\n",
    "import json\n",
    "import pandas as pd\n",
    "import time\n",
    "import sys"
   ]
  },
  {
   "cell_type": "code",
   "execution_count": 2,
   "metadata": {},
   "outputs": [],
   "source": [
    "# Secret token\n",
    "token = open(\"ACCESS_TOKEN.txt\", \"r\").read()"
   ]
  },
  {
   "cell_type": "code",
   "execution_count": 3,
   "metadata": {},
   "outputs": [],
   "source": [
    "# Format a request URI for the Genius API\n",
    "search_term = 'Ayla Celik'\n",
    "_URL_API = \"https://api.genius.com/\"\n",
    "_URL_SEARCH = \"search?q=\"\n",
    "querystring = _URL_API + _URL_SEARCH + urllib.parse.quote(search_term)\n",
    "request = urllib.request.Request(querystring)\n",
    "request.add_header(\"Authorization\", \"Bearer \" + token)\n",
    "request.add_header(\"User-Agent\", \"\")"
   ]
  },
  {
   "cell_type": "code",
   "execution_count": 52,
   "metadata": {},
   "outputs": [],
   "source": [
    "def get_songs():\n",
    "    annotation_header=['song_id','lyric','annotation']\n",
    "    songs_header = ['artist','song']\n",
    "    try:\n",
    "        annotations = pd.read_csv('annotations.tsv', names=annotation_header, sep='\\t')\n",
    "    except:\n",
    "        return pd.read_csv('song_ids_2.csv', names=annotation_header, sep=',')\n",
    "    songs = pd.read_csv('song_ids_2.csv', names=songs_header, sep=',')\n",
    "    last_id = annotations.song_id.values[-1]\n",
    "    i = songs[songs.song == last_id].index[0]\n",
    "    return songs[i+1:]"
   ]
  },
  {
   "cell_type": "code",
   "execution_count": 51,
   "metadata": {},
   "outputs": [],
   "source": [
    "# Function to recursively search the annotation dict\n",
    "# and get the text, skipping blockquotes, formatting, images, etc.\n",
    "\n",
    "def recurse(children):\n",
    "    st = ''\n",
    "    for child in children:\n",
    "        #print(child)\n",
    "        if type(child) == dict and 'tag' in child:\n",
    "            if child['tag'] == 'p' or child['tag'] == 'a':\n",
    "                st += recurse(child['children'])\n",
    "            elif child['tag'] == 'blockquote':\n",
    "                st += '[BLOCKQUOTE]'\n",
    "        elif type(child) == list:\n",
    "            st += recurse(child)\n",
    "        elif type(child) == str:\n",
    "            st += child + ' '\n",
    "    return st"
   ]
  },
  {
   "cell_type": "code",
   "execution_count": 60,
   "metadata": {
    "scrolled": true
   },
   "outputs": [],
   "source": [
    "def append_annotations(songdf, batchsize):\n",
    "    # Get a chunk of song ids\n",
    "    song_ids = songdf.head(batchsize).song.astype(int)\n",
    "\n",
    "    with open('annotations.tsv', 'a') as f:\n",
    "\n",
    "        count=0\n",
    "        for song_id in song_ids:\n",
    "\n",
    "            # Format the search query using the 'referents' api\n",
    "            # Given a song id, returns all of its referents (lines that have been annotated)\n",
    "            # and the corresponding annotations.\n",
    "            querystring = \"https://api.genius.com/referents?song_id=\" + str(song_id) + \"&per_page=50\"\n",
    "            request = urllib.request.Request(querystring)\n",
    "            request.add_header(\"Authorization\", \"Bearer \" + token)\n",
    "            request.add_header(\"User-Agent\", \"\")\n",
    "\n",
    "            # Do internet stuff\n",
    "            # Send the request to Genius, and parse the response\n",
    "            try:\n",
    "                response = urllib.request.urlopen(request, timeout=10)\n",
    "                string = response.read().decode('utf-8')\n",
    "                json_obj = json.loads(string)\n",
    "            except:\n",
    "                print('***Failed on song id: ' + str(song_id))\n",
    "                continue\n",
    "\n",
    "            # The data we want can be found here\n",
    "            # For this song there are 9 lyric/annotation pairs\n",
    "            referents = json_obj['response']['referents']\n",
    "\n",
    "            # Many songs return zero annotations. If we get annotations, parse through them\n",
    "            if len(referents) > 0:\n",
    "                for ref in referents:\n",
    "                    lyric = ref['fragment'].replace('\\n', ' ')\n",
    "                    try:\n",
    "                        annotation = recurse(ref['annotations'][0]['body']['dom']['children']).replace('\\n', ' ')\n",
    "                    except:\n",
    "                        print('***Empty annotation on song id: ' + str(song_id))\n",
    "                        continue\n",
    "                    \n",
    "                    print(str(song_id) + \" \" + lyric)\n",
    "                    #sys.stdout.write('\\r'+str(count).zfill(5)+\" \"+lyric)\n",
    "                    f.write(str(song_id) + '\\t' + lyric + '\\t' + annotation + '\\n')\n",
    "                    \n",
    "            count+=1\n",
    "            time.sleep(0.5)"
   ]
  },
  {
   "cell_type": "code",
   "execution_count": null,
   "metadata": {},
   "outputs": [
    {
     "name": "stdout",
     "output_type": "stream",
     "text": [
      "Using the Guardian as a shield  To cover my thighs against the rain  I do not mind about my hair\n",
      "The unfamiliar is right below our eyes\n",
      "The beauty memories of all the places  We've captured with our camera  We've seen the pyramids  We've seen the Louvre  We've seen the Orion upside down  Total eclipses and moonlight shadows  We've seen dolphins jumping waves  We've skied the mountains and we swam in the rivers  And let the sunlight dry our skins\n",
      "Show a view to someone  Who chose to live his whole life in cave  He'll raise his arms to protect his eyes from learning  And the blindness to which he belongs\n",
      "This time it's me, it's me\n",
      "Don't look for what we know\n",
      "The unfamiliar is right below our eyes\n",
      "Cascades of chances I'll just let them be\n",
      "Of two soft voices blended in perfection From the reels of this record that I've found\n",
      "But I realized that the one you were before  Had changed into somebody for whom  I wouldn't mind to put the kettle on\n",
      "Still I don't know what I can save you from  I don't know what I can save you from\n",
      "And you'll make me smile by really  Getting into the swing\n",
      "So let your hips do the talking\n",
      "I'll make you laugh by acting like the guy who sings\n",
      "The music's too loud and the noise from the crowd  Increases the chance of misinterpretation\n",
      "Even if I could hear what you said  I doubt my reply would be interesting for you to hear\n",
      "Problem lines on your face  You smooth them out so no one can tell\n",
      "And I'm watching you now  I see you building the castle with one hand  While tearing down another with the other    And I'm watching you now  I see you building the castle with one hand  While tearing down another with the other    And I'm watching you now  I see you building the castle with one hand  While tearing down another with the other\n",
      "To pass and look back at goals I've missed  Rainbows of burning bridges  If you squint a little more it looks the same    But ooooooooooooooooooooooooh  There's a little bit of me inside you  Gathering what you've lost  But oooooooooooooooooooooooooh  There's a little bit of you in everyone  Can never keep a secret\n",
      "Crossroads and given the option\n",
      "What do you know?  It happened again\n",
      "The loneliest people  Were the ones who always spoke the truth\n",
      "What do you know?  It happened again  What do you know?\n",
      "The ones who made a difference  By withstanding the indifference\n",
      "A friend is not a means  You utilize to get somewhere  Somehow I didn't notice  Friendship is an end\n",
      "The observation I'm doing could  Easily be understood  As cynical demeanor  But one of us misread\n",
      "Should I take that risk or just smile?\n",
      "Please do not expect me to  Wrap it up and keep it there\n",
      "If you want to be my friend  You want us to get along\n",
      "Hey, baby, what's going on?  You lost control and you lost your tongue  You lost me, deaf in my ear  Nothing you can say is gonna change the way I feel\n",
      "Okay, I get it  Okay, I see  You were frantic because you knew you'd find yourself vulnerable around me  Okay, I get it  Okay, I see  You feel vulnerable around me\n",
      "Would it all be so clear  If the lines were erased  And the silence restored?\n"
     ]
    }
   ],
   "source": [
    "songdf = get_songs()\n",
    "append_annotations(songdf, 200)"
   ]
  },
  {
   "cell_type": "code",
   "execution_count": null,
   "metadata": {},
   "outputs": [],
   "source": []
  },
  {
   "cell_type": "code",
   "execution_count": null,
   "metadata": {},
   "outputs": [],
   "source": []
  }
 ],
 "metadata": {
  "kernelspec": {
   "display_name": "Python 3",
   "language": "python",
   "name": "python3"
  },
  "language_info": {
   "codemirror_mode": {
    "name": "ipython",
    "version": 3
   },
   "file_extension": ".py",
   "mimetype": "text/x-python",
   "name": "python",
   "nbconvert_exporter": "python",
   "pygments_lexer": "ipython3",
   "version": "3.6.5"
  }
 },
 "nbformat": 4,
 "nbformat_minor": 2
}
