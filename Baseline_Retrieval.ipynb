{
 "cells": [
  {
   "cell_type": "code",
   "execution_count": 94,
   "metadata": {},
   "outputs": [],
   "source": [
    "import numpy as np\n",
    "import pandas as pd\n",
    "from sklearn.feature_extraction.text import TfidfVectorizer\n",
    "from sklearn.model_selection import train_test_split\n",
    "from sklearn.metrics import pairwise_distances\n",
    "\n",
    "pd.set_option('display.max_colwidth', 0)"
   ]
  },
  {
   "cell_type": "code",
   "execution_count": 49,
   "metadata": {},
   "outputs": [],
   "source": [
    "annotations = pd.read_csv('annotations10k.tsv', sep='\\t')"
   ]
  },
  {
   "cell_type": "code",
   "execution_count": 50,
   "metadata": {},
   "outputs": [],
   "source": [
    "lyric_train, lyric_val, y_train, y_val = train_test_split(annotations.lyric, annotations.annotation, test_size=0.2)"
   ]
  },
  {
   "cell_type": "code",
   "execution_count": 106,
   "metadata": {},
   "outputs": [
    {
     "data": {
      "text/plain": [
       "<7868x10459 sparse matrix of type '<class 'numpy.float64'>'\n",
       "\twith 54490 stored elements in Compressed Sparse Row format>"
      ]
     },
     "execution_count": 106,
     "metadata": {},
     "output_type": "execute_result"
    }
   ],
   "source": [
    "vectorizer = TfidfVectorizer(stop_words = 'english', strip_accents='unicode')\n",
    "vectorizer.fit_transform(lyric_train)"
   ]
  },
  {
   "cell_type": "code",
   "execution_count": 107,
   "metadata": {},
   "outputs": [],
   "source": [
    "X_train, X_val = vectorizer.transform(lyric_train), vectorizer.transform(lyric_val)"
   ]
  },
  {
   "cell_type": "code",
   "execution_count": 108,
   "metadata": {},
   "outputs": [],
   "source": [
    "d = pairwise_distances(X_val, X_train, metric='cosine')"
   ]
  },
  {
   "cell_type": "code",
   "execution_count": 109,
   "metadata": {},
   "outputs": [],
   "source": [
    "i = np.argmin(d, axis=1)\n",
    "nearest = annotations.loc[i]\n",
    "neighbors, predictions = nearest.lyric, nearest.annotation"
   ]
  },
  {
   "cell_type": "code",
   "execution_count": 110,
   "metadata": {},
   "outputs": [],
   "source": [
    "results = pd.DataFrame({'lyric': lyric_val.values, 'real_annotation': y_val.values, 'nearest_neighbor': neighbors.values, 'predicted_annotation': predictions.values})"
   ]
  },
  {
   "cell_type": "code",
   "execution_count": 112,
   "metadata": {},
   "outputs": [
    {
     "data": {
      "text/html": [
       "<div>\n",
       "<style scoped>\n",
       "    .dataframe tbody tr th:only-of-type {\n",
       "        vertical-align: middle;\n",
       "    }\n",
       "\n",
       "    .dataframe tbody tr th {\n",
       "        vertical-align: top;\n",
       "    }\n",
       "\n",
       "    .dataframe thead th {\n",
       "        text-align: right;\n",
       "    }\n",
       "</style>\n",
       "<table border=\"1\" class=\"dataframe\">\n",
       "  <thead>\n",
       "    <tr style=\"text-align: right;\">\n",
       "      <th></th>\n",
       "      <th>lyric</th>\n",
       "      <th>real_annotation</th>\n",
       "      <th>nearest_neighbor</th>\n",
       "      <th>predicted_annotation</th>\n",
       "    </tr>\n",
       "  </thead>\n",
       "  <tbody>\n",
       "    <tr>\n",
       "      <th>679</th>\n",
       "      <td>About these rappers that I came after when they was boring</td>\n",
       "      <td>Lucy has the ability to upgrade “boring” rappers, taking them from mediocrity to mega status. All that is required is you sell your soul…</td>\n",
       "      <td>But I had them singles though</td>\n",
       "      <td>“ Jesus Walks ”, “ Diamonds ”, “ Through the Wire ”, etc.</td>\n",
       "    </tr>\n",
       "    <tr>\n",
       "      <th>909</th>\n",
       "      <td>Makin' sure my punctuation curve, every letter here's true  Livin' my life in the margin and that metaphor was proof</td>\n",
       "      <td>Kendrick poetically justifies why his writing is vital to hip-hop. To explain this, he sneaks 4 literary mechanisms into the inner-workings of his rhymes (punctuation, letter, margin, metaphor):</td>\n",
       "      <td>I can't call it,</td>\n",
       "      <td>Since in the next line he says ‘I got the swerve like alcoholics’, it could mean that he can’t call what will happen in his life, or predict what happens, meaning his life ‘swerves’, or makes a sudden turn.  After all, it was a shocking turn of events that occurred in a second that changed Kanye’s life, and let us hear this masterpiece…</td>\n",
       "    </tr>\n",
       "    <tr>\n",
       "      <th>62</th>\n",
       "      <td>Had my life threatened by best friends with selfish intents  What I'm supposed to do?  Ride around with a bulletproof car and some tints?</td>\n",
       "      <td>Kanye mentions a stolen laptop in  this song  and in  “Real Friends.”  The contents are potentially life threatening, with personal information, dates, phone numbers and locations all present on the hard drive.  Kanye has  purchased bulletproof and armoured cars  for the safety of his family.</td>\n",
       "      <td>Church is definitely on the move  And we gonna continue to hustle and grow and develop by far</td>\n",
       "      <td>This is a movement about continuing to work hard towards your goal. GLC makes an allusion back to his Gangster Disciple roots and the book that started the whole movement, “The Blueprint: From Gangster Disciple to Growth and Development.”</td>\n",
       "    </tr>\n",
       "    <tr>\n",
       "      <th>1431</th>\n",
       "      <td>I don’t give a butt  about no politics in rap</td>\n",
       "      <td>“Politics” here means rap politics (i.e. gossip, rap beef, etc.),   national and global politics (i.e a song like  “The Blacker The Berry” . He expressed a similar disdain for rap politics on  “The Heart, Pt. 2” :  [BLOCKQUOTE]</td>\n",
       "      <td>I took a nap in the pulpit  I never like how a suit fit</td>\n",
       "      <td>The pulpit is the area in a Church where sermons are given and pastors preach to their congregations. Chainz is an  incredibly religious person,  so sleeping in the pulpit could be his apology for waiting nearly 4 years to do another collaboration with Kanye.  It’s standard to wear a suit to church, although it’s rare to see 2 Chainz wearing one. He stands nearly 2 metres tall, making it difficult to tailor one to his frame.</td>\n",
       "    </tr>\n",
       "    <tr>\n",
       "      <th>841</th>\n",
       "      <td>But, it'll be YOUR money  No more borrowing from mom for my high!</td>\n",
       "      <td>Even though you still waste money on stupidity like getting high at least   the one paying for the high now and you don’t have to trouble your mom with it. It brings a sense of accomplishment with it, even though in the end it is still wrong.</td>\n",
       "      <td>Anthony was the oldest of seven  Well-respected, calm and collected  Laughin' and jokin' made life easier; hard times, Momma on crack</td>\n",
       "      <td>Anthony “Top Dawg” Tiffith is the founder of  , the label Kendrick signed to as a  16-year-old  that he’s stuck with since.</td>\n",
       "    </tr>\n",
       "  </tbody>\n",
       "</table>\n",
       "</div>"
      ],
      "text/plain": [
       "                                                                                                                                          lyric  \\\n",
       "679   About these rappers that I came after when they was boring                                                                                  \n",
       "909   Makin' sure my punctuation curve, every letter here's true  Livin' my life in the margin and that metaphor was proof                        \n",
       "62    Had my life threatened by best friends with selfish intents  What I'm supposed to do?  Ride around with a bulletproof car and some tints?   \n",
       "1431  I don’t give a butt  about no politics in rap                                                                                               \n",
       "841   But, it'll be YOUR money  No more borrowing from mom for my high!                                                                           \n",
       "\n",
       "                                                                                                                                                                                                                                                                                              real_annotation  \\\n",
       "679   Lucy has the ability to upgrade “boring” rappers, taking them from mediocrity to mega status. All that is required is you sell your soul…                                                                                                                                                                 \n",
       "909   Kendrick poetically justifies why his writing is vital to hip-hop. To explain this, he sneaks 4 literary mechanisms into the inner-workings of his rhymes (punctuation, letter, margin, metaphor):                                                                                                        \n",
       "62    Kanye mentions a stolen laptop in  this song  and in  “Real Friends.”  The contents are potentially life threatening, with personal information, dates, phone numbers and locations all present on the hard drive.  Kanye has  purchased bulletproof and armoured cars  for the safety of his family.     \n",
       "1431  “Politics” here means rap politics (i.e. gossip, rap beef, etc.),   national and global politics (i.e a song like  “The Blacker The Berry” . He expressed a similar disdain for rap politics on  “The Heart, Pt. 2” :  [BLOCKQUOTE]                                                                       \n",
       "841   Even though you still waste money on stupidity like getting high at least   the one paying for the high now and you don’t have to trouble your mom with it. It brings a sense of accomplishment with it, even though in the end it is still wrong.                                                        \n",
       "\n",
       "                                                                                                                           nearest_neighbor  \\\n",
       "679   But I had them singles though                                                                                                           \n",
       "909   I can't call it,                                                                                                                        \n",
       "62    Church is definitely on the move  And we gonna continue to hustle and grow and develop by far                                           \n",
       "1431  I took a nap in the pulpit  I never like how a suit fit                                                                                 \n",
       "841   Anthony was the oldest of seven  Well-respected, calm and collected  Laughin' and jokin' made life easier; hard times, Momma on crack   \n",
       "\n",
       "                                                                                                                                                                                                                                                                                                                                                                                                                                predicted_annotation  \n",
       "679   “ Jesus Walks ”, “ Diamonds ”, “ Through the Wire ”, etc.                                                                                                                                                                                                                                                                                                                                                                                       \n",
       "909   Since in the next line he says ‘I got the swerve like alcoholics’, it could mean that he can’t call what will happen in his life, or predict what happens, meaning his life ‘swerves’, or makes a sudden turn.  After all, it was a shocking turn of events that occurred in a second that changed Kanye’s life, and let us hear this masterpiece…                                                                                              \n",
       "62    This is a movement about continuing to work hard towards your goal. GLC makes an allusion back to his Gangster Disciple roots and the book that started the whole movement, “The Blueprint: From Gangster Disciple to Growth and Development.”                                                                                                                                                                                                  \n",
       "1431  The pulpit is the area in a Church where sermons are given and pastors preach to their congregations. Chainz is an  incredibly religious person,  so sleeping in the pulpit could be his apology for waiting nearly 4 years to do another collaboration with Kanye.  It’s standard to wear a suit to church, although it’s rare to see 2 Chainz wearing one. He stands nearly 2 metres tall, making it difficult to tailor one to his frame.    \n",
       "841   Anthony “Top Dawg” Tiffith is the founder of  , the label Kendrick signed to as a  16-year-old  that he’s stuck with since.                                                                                                                                                                                                                                                                                                                     "
      ]
     },
     "execution_count": 112,
     "metadata": {},
     "output_type": "execute_result"
    }
   ],
   "source": [
    "results.sample(5)"
   ]
  },
  {
   "cell_type": "code",
   "execution_count": null,
   "metadata": {},
   "outputs": [],
   "source": []
  }
 ],
 "metadata": {
  "kernelspec": {
   "display_name": "Python 3",
   "language": "python",
   "name": "python3"
  },
  "language_info": {
   "codemirror_mode": {
    "name": "ipython",
    "version": 3
   },
   "file_extension": ".py",
   "mimetype": "text/x-python",
   "name": "python",
   "nbconvert_exporter": "python",
   "pygments_lexer": "ipython3",
   "version": "3.7.1"
  }
 },
 "nbformat": 4,
 "nbformat_minor": 2
}
