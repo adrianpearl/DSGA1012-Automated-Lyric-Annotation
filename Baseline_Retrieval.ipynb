{
 "cells": [
  {
   "cell_type": "code",
   "execution_count": 94,
   "metadata": {},
   "outputs": [],
   "source": [
    "import numpy as np\n",
    "import pandas as pd\n",
    "from sklearn.feature_extraction.text import TfidfVectorizer\n",
    "from sklearn.model_selection import train_test_split\n",
    "from sklearn.metrics import pairwise_distances\n",
    "\n",
    "pd.set_option('display.max_colwidth', 0)"
   ]
  },
  {
   "cell_type": "code",
   "execution_count": 49,
   "metadata": {},
   "outputs": [],
   "source": [
    "annotations = pd.read_csv('annotations10k.tsv', sep='\\t')"
   ]
  },
  {
   "cell_type": "code",
   "execution_count": 50,
   "metadata": {},
   "outputs": [],
   "source": [
    "lyric_train, lyric_val, y_train, y_val = train_test_split(annotations.lyric, annotations.annotation, test_size=0.2)"
   ]
  },
  {
   "cell_type": "code",
   "execution_count": 51,
   "metadata": {},
   "outputs": [
    {
     "data": {
      "text/plain": [
       "<7868x10742 sparse matrix of type '<class 'numpy.float64'>'\n",
       "\twith 98034 stored elements in Compressed Sparse Row format>"
      ]
     },
     "execution_count": 51,
     "metadata": {},
     "output_type": "execute_result"
    }
   ],
   "source": [
    "vectorizer = TfidfVectorizer()\n",
    "vectorizer.fit_transform(lyric_train)"
   ]
  },
  {
   "cell_type": "code",
   "execution_count": 52,
   "metadata": {},
   "outputs": [],
   "source": [
    "X_train, X_val = vectorizer.transform(lyric_train), vectorizer.transform(lyric_val)"
   ]
  },
  {
   "cell_type": "code",
   "execution_count": 60,
   "metadata": {},
   "outputs": [],
   "source": [
    "d = pairwise_distances(X_val, X_train, metric='cosine')"
   ]
  },
  {
   "cell_type": "code",
   "execution_count": 96,
   "metadata": {},
   "outputs": [],
   "source": [
    "i = np.argmin(d, axis=1)\n",
    "nearest = annotations.loc[i]\n",
    "neighbors, predictions = nearest.lyric, nearest.annotation"
   ]
  },
  {
   "cell_type": "code",
   "execution_count": 97,
   "metadata": {},
   "outputs": [],
   "source": [
    "results = pd.DataFrame({'lyric': lyric_val.values, 'real_annotation': y_val.values, 'nearest_neighbor': neighbors.values, 'predicted_annotation': predictions.values})"
   ]
  },
  {
   "cell_type": "code",
   "execution_count": 98,
   "metadata": {},
   "outputs": [
    {
     "data": {
      "text/html": [
       "<div>\n",
       "<style scoped>\n",
       "    .dataframe tbody tr th:only-of-type {\n",
       "        vertical-align: middle;\n",
       "    }\n",
       "\n",
       "    .dataframe tbody tr th {\n",
       "        vertical-align: top;\n",
       "    }\n",
       "\n",
       "    .dataframe thead th {\n",
       "        text-align: right;\n",
       "    }\n",
       "</style>\n",
       "<table border=\"1\" class=\"dataframe\">\n",
       "  <thead>\n",
       "    <tr style=\"text-align: right;\">\n",
       "      <th></th>\n",
       "      <th>lyric</th>\n",
       "      <th>real_annotation</th>\n",
       "      <th>nearest_neighbor</th>\n",
       "      <th>predicted_annotation</th>\n",
       "    </tr>\n",
       "  </thead>\n",
       "  <tbody>\n",
       "    <tr>\n",
       "      <th>0</th>\n",
       "      <td>As a matter of fact I’m just going to tip-toe on this</td>\n",
       "      <td>“This” is referring to the stage. Kanye proceeds to tip toe around like one of those ballet dancers from Runaway, the song he played right before.</td>\n",
       "      <td>You eatin' up the game like Pac-Man</td>\n",
       "      <td>Kanye compares his role in the rap game to that of the titular hero of the popular 80s game, Pac-man. Like Pac-Man, Kanye lives to devour his competitors.   When read instead as “Pac, man,” this line also functions as Kanye’s comparison of his own legacy to that of Tupac.</td>\n",
       "    </tr>\n",
       "    <tr>\n",
       "      <th>1</th>\n",
       "      <td>They don’t wanna see a B-L-A-C-K  Making some scratch like a hall of fame DJ</td>\n",
       "      <td>They don’t wanna see ghetto blacks get payed big.  ACCEPTED COMMENT: Kendrick is suggesting that politician’s are keen to curb the limits African-American’s earnings by referring to money as ‘scratch’, much like a DJ scratches vinyls and earns a living. The comparison is not ironic – DJ'ing is generally a well paid job and closely linked to Kendrick’s own profession, of an MC. An underlying theme is possibly, rappers are under a lot more scrutiny and observation and their activities are watched closely, making it difficult to make money.  Also, Kendrick is referencing pioneer and renowned disc-jockey, DJ Scratch.</td>\n",
       "      <td>As I move I feel way better doing me I can only do me  I hope that you do you I think to myself truthfully I can only feel later  Some people say that I’m rude but I don’t give a damn if she if he if them or they say  I’m uncool nothin' but change how I feel bout' me today</td>\n",
       "      <td>He’s telling everyone to be yourself even if people don’t like it.</td>\n",
       "    </tr>\n",
       "    <tr>\n",
       "      <th>2</th>\n",
       "      <td>Don't say nothin' 'bout what Ye said  Don't move, mothafucka, play dead  Yeah, we cool, mothafucka, yeah, yeah  Yeah, yeah</td>\n",
       "      <td>Kanye reached a point in his career where everything he does is controversial: whatever it’s  releasing an album  or  wearing a confederate flag,  someone will  criticize his actions (warranted or not) simply because they don’t share his vision.  Months (or years) later, when they realize that he was right, they try to go back on their steps and befriend with him, agreeing with everything he said. This has happened time and time again with  Kanye’s influence on fashion:  a new Yeezy line is announced, people hate on it initially, more time passes, more hype grows and more famous trendsetters start to wear and talk about it, people start to appreciate it, it releases, people treat it like the second coming of Jesus.  When this happens, Ye just pretends to forgive them, saying that they’re “cool”, but in reality he’s just “playing dead” to avoid the paparazzi to go after him once again,  which is something he doesn’t appreciate at all.</td>\n",
       "      <td>The parade music we made had us all wearin' shades now</td>\n",
       "      <td>https://soundcloud.com/rapgenius/kendrick-sherane-parade  It is just basically talking about just the vibe and the atmosphere, more the party vibe. When I say ‘parade’ I am talking about the actual party and everybody having a good time, and making this feel like we have grown. We are feeling like we are adults, but really we don’t know shit. We are just faking it and living carefree.</td>\n",
       "    </tr>\n",
       "    <tr>\n",
       "      <th>3</th>\n",
       "      <td>I see jigaboos, I see Styrofoams</td>\n",
       "      <td>Poet, painter, and novelist  Clarence Major  defines   “from the Bantu for ‘slavish,’ as a racist slur aimed at dark-skinned African-Americans” in his book   Kendrick’s played on racist public perceptions of African-Americans before, on tracks like  “The Blacker The Berry”:  [BLOCKQUOTE] However, rather than associating himself with such characteristics in frustration, he’s bemoaning the sight of other rappers who find success by fulfilling negative stereotypes.  “Styrofoams” refers to lean, a codeine-based drink popular among Southern rappers which is commonly taken in a Styrofoam cup.</td>\n",
       "      <td>You even FaceTimed instead of a hospital visit  Guess you thought he would recover well  Third surgery, they couldn't stop the bleeding for real  Then he died, God himself will say, \"You fuckin' failed\"  You ain't try</td>\n",
       "      <td>In 2013, Kendrick’s friend Chad Keaton died from complications about a month after a drive-by shooting.  Kendrick was overseas when Chad died. He didn’t visit him in hospital, but  just spoke to him on Skype . Inevitably, Kendrick feels like a failure for not going to see his dying friend in person. He feels like even God couldn’t forgive him for what he’s done, being too preoccupied with his career to be able to visit Chad before he passed.  Kendrick is later confronted by God on  “How Much A Dollar Cost,”  where he  fails God’s test.  https://twitter.com/kendricklamar/status/375316718823800832</td>\n",
       "    </tr>\n",
       "    <tr>\n",
       "      <th>4</th>\n",
       "      <td>And I say this because I love you niggas man  I love all my niggas bro</td>\n",
       "      <td>’s central themes are about self-love and black empowerment. Kendrick Lamar,  along with other members of TDE, have love for their fellow humans.</td>\n",
       "      <td>A suit and tie is suitable and usual in suicide</td>\n",
       "      <td>Going against Kendrick is a suicide mission, but if you’re gonna do it, at least   Kenny says that wearing a suit and tie is appropriate and is quite the standard anyway when it comes to suicide victims.  “Suit and  ” could be referring to a noose, which is commonly used in suicide by hanging.</td>\n",
       "    </tr>\n",
       "  </tbody>\n",
       "</table>\n",
       "</div>"
      ],
      "text/plain": [
       "                                                                                                                        lyric  \\\n",
       "0  As a matter of fact I’m just going to tip-toe on this                                                                        \n",
       "1  They don’t wanna see a B-L-A-C-K  Making some scratch like a hall of fame DJ                                                 \n",
       "2  Don't say nothin' 'bout what Ye said  Don't move, mothafucka, play dead  Yeah, we cool, mothafucka, yeah, yeah  Yeah, yeah   \n",
       "3  I see jigaboos, I see Styrofoams                                                                                             \n",
       "4  And I say this because I love you niggas man  I love all my niggas bro                                                       \n",
       "\n",
       "                                                                                                                                                                                                                                                                                                                                                                                                                                                                                                                                                                                                                                                                                                                                                                                                                                                                                                                                                                        real_annotation  \\\n",
       "0  “This” is referring to the stage. Kanye proceeds to tip toe around like one of those ballet dancers from Runaway, the song he played right before.                                                                                                                                                                                                                                                                                                                                                                                                                                                                                                                                                                                                                                                                                                                                                                                                                                     \n",
       "1  They don’t wanna see ghetto blacks get payed big.  ACCEPTED COMMENT: Kendrick is suggesting that politician’s are keen to curb the limits African-American’s earnings by referring to money as ‘scratch’, much like a DJ scratches vinyls and earns a living. The comparison is not ironic – DJ'ing is generally a well paid job and closely linked to Kendrick’s own profession, of an MC. An underlying theme is possibly, rappers are under a lot more scrutiny and observation and their activities are watched closely, making it difficult to make money.  Also, Kendrick is referencing pioneer and renowned disc-jockey, DJ Scratch.                                                                                                                                                                                                                                                                                                                                           \n",
       "2  Kanye reached a point in his career where everything he does is controversial: whatever it’s  releasing an album  or  wearing a confederate flag,  someone will  criticize his actions (warranted or not) simply because they don’t share his vision.  Months (or years) later, when they realize that he was right, they try to go back on their steps and befriend with him, agreeing with everything he said. This has happened time and time again with  Kanye’s influence on fashion:  a new Yeezy line is announced, people hate on it initially, more time passes, more hype grows and more famous trendsetters start to wear and talk about it, people start to appreciate it, it releases, people treat it like the second coming of Jesus.  When this happens, Ye just pretends to forgive them, saying that they’re “cool”, but in reality he’s just “playing dead” to avoid the paparazzi to go after him once again,  which is something he doesn’t appreciate at all.    \n",
       "3  Poet, painter, and novelist  Clarence Major  defines   “from the Bantu for ‘slavish,’ as a racist slur aimed at dark-skinned African-Americans” in his book   Kendrick’s played on racist public perceptions of African-Americans before, on tracks like  “The Blacker The Berry”:  [BLOCKQUOTE] However, rather than associating himself with such characteristics in frustration, he’s bemoaning the sight of other rappers who find success by fulfilling negative stereotypes.  “Styrofoams” refers to lean, a codeine-based drink popular among Southern rappers which is commonly taken in a Styrofoam cup.                                                                                                                                                                                                                                                                                                                                                                      \n",
       "4  ’s central themes are about self-love and black empowerment. Kendrick Lamar,  along with other members of TDE, have love for their fellow humans.                                                                                                                                                                                                                                                                                                                                                                                                                                                                                                                                                                                                                                                                                                                                                                                                                                      \n",
       "\n",
       "                                                                                                                                                                                                                                                                    nearest_neighbor  \\\n",
       "0  You eatin' up the game like Pac-Man                                                                                                                                                                                                                                                 \n",
       "1  As I move I feel way better doing me I can only do me  I hope that you do you I think to myself truthfully I can only feel later  Some people say that I’m rude but I don’t give a damn if she if he if them or they say  I’m uncool nothin' but change how I feel bout' me today   \n",
       "2  The parade music we made had us all wearin' shades now                                                                                                                                                                                                                              \n",
       "3  You even FaceTimed instead of a hospital visit  Guess you thought he would recover well  Third surgery, they couldn't stop the bleeding for real  Then he died, God himself will say, \"You fuckin' failed\"  You ain't try                                                           \n",
       "4  A suit and tie is suitable and usual in suicide                                                                                                                                                                                                                                     \n",
       "\n",
       "                                                                                                                                                                                                                                                                                                                                                                                                                                                                                                                                                                                                          predicted_annotation  \n",
       "0  Kanye compares his role in the rap game to that of the titular hero of the popular 80s game, Pac-man. Like Pac-Man, Kanye lives to devour his competitors.   When read instead as “Pac, man,” this line also functions as Kanye’s comparison of his own legacy to that of Tupac.                                                                                                                                                                                                                                                                                                                                             \n",
       "1  He’s telling everyone to be yourself even if people don’t like it.                                                                                                                                                                                                                                                                                                                                                                                                                                                                                                                                                           \n",
       "2  https://soundcloud.com/rapgenius/kendrick-sherane-parade  It is just basically talking about just the vibe and the atmosphere, more the party vibe. When I say ‘parade’ I am talking about the actual party and everybody having a good time, and making this feel like we have grown. We are feeling like we are adults, but really we don’t know shit. We are just faking it and living carefree.                                                                                                                                                                                                                          \n",
       "3  In 2013, Kendrick’s friend Chad Keaton died from complications about a month after a drive-by shooting.  Kendrick was overseas when Chad died. He didn’t visit him in hospital, but  just spoke to him on Skype . Inevitably, Kendrick feels like a failure for not going to see his dying friend in person. He feels like even God couldn’t forgive him for what he’s done, being too preoccupied with his career to be able to visit Chad before he passed.  Kendrick is later confronted by God on  “How Much A Dollar Cost,”  where he  fails God’s test.  https://twitter.com/kendricklamar/status/375316718823800832   \n",
       "4  Going against Kendrick is a suicide mission, but if you’re gonna do it, at least   Kenny says that wearing a suit and tie is appropriate and is quite the standard anyway when it comes to suicide victims.  “Suit and  ” could be referring to a noose, which is commonly used in suicide by hanging.                                                                                                                                                                                                                                                                                                                       "
      ]
     },
     "execution_count": 98,
     "metadata": {},
     "output_type": "execute_result"
    }
   ],
   "source": [
    "results.head()"
   ]
  },
  {
   "cell_type": "code",
   "execution_count": null,
   "metadata": {},
   "outputs": [],
   "source": []
  }
 ],
 "metadata": {
  "kernelspec": {
   "display_name": "Python 3",
   "language": "python",
   "name": "python3"
  },
  "language_info": {
   "codemirror_mode": {
    "name": "ipython",
    "version": 3
   },
   "file_extension": ".py",
   "mimetype": "text/x-python",
   "name": "python",
   "nbconvert_exporter": "python",
   "pygments_lexer": "ipython3",
   "version": "3.6.5"
  }
 },
 "nbformat": 4,
 "nbformat_minor": 2
}
