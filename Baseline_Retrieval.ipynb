{
 "cells": [
  {
   "cell_type": "code",
   "execution_count": 2,
   "metadata": {},
   "outputs": [],
   "source": [
    "import numpy as np\n",
    "import pandas as pd\n",
    "from sklearn.feature_extraction.text import TfidfVectorizer\n",
    "from sklearn.model_selection import train_test_split\n",
    "from sklearn.metrics import pairwise_distances\n",
    "\n",
    "pd.set_option('display.max_colwidth', 0)"
   ]
  },
  {
   "cell_type": "code",
   "execution_count": 127,
   "metadata": {},
   "outputs": [],
   "source": [
    "with open('./data_noquotes/src-train.txt') as f1:\n",
    "    lyric_train = f1.readlines()\n",
    "    f1.close()\n",
    "lyric_train = np.array([ci.strip() for ci in lyric_train])\n",
    "\n",
    "with open('./data_noquotes/src-val.txt') as f2:\n",
    "    lyric_val = f2.readlines()\n",
    "    f2.close()\n",
    "lyric_val = np.array([ci.strip() for ci in lyric_val])\n",
    "\n",
    "with open('./data_noquotes/tgt-train.txt') as f3:\n",
    "    y_train = f3.readlines()\n",
    "    f3.close()\n",
    "y_train = np.array([ci.strip() for ci in y_train])\n",
    "\n",
    "with open('./data_noquotes/tgt-val.txt') as f4:\n",
    "    y_val = f4.readlines()\n",
    "    f4.close()\n",
    "y_val = np.array([ci.strip() for ci in y_val])"
   ]
  },
  {
   "cell_type": "code",
   "execution_count": 128,
   "metadata": {},
   "outputs": [],
   "source": [
    "ind = [i for i, lv in enumerate(lyric_val) if lv not in lyric_train]"
   ]
  },
  {
   "cell_type": "code",
   "execution_count": 130,
   "metadata": {},
   "outputs": [],
   "source": [
    "i = np.random.choice(ind, 1000, replace=False)\n",
    "lyric_val = lyric_val[i]\n",
    "y_val = y_val[i]"
   ]
  },
  {
   "cell_type": "code",
   "execution_count": 131,
   "metadata": {},
   "outputs": [],
   "source": [
    "with open('./data_noquotes/evaluation/src-val.txt', 'w') as f:\n",
    "    for lv in lyric_val:\n",
    "        f.write(lv + '\\n')\n",
    "    f.close()\n",
    "    \n",
    "with open('./data_noquotes/evaluation/tgt-val.txt', 'w') as f:\n",
    "    for lv in y_val:\n",
    "        f.write(lv + '\\n')\n",
    "    f.close()"
   ]
  },
  {
   "cell_type": "code",
   "execution_count": 50,
   "metadata": {},
   "outputs": [],
   "source": [
    "#lyric_train, lyric_val, y_train, y_val = train_test_split(annotations.lyric, annotations.annotation, test_size=0.2)"
   ]
  },
  {
   "cell_type": "code",
   "execution_count": 132,
   "metadata": {},
   "outputs": [
    {
     "data": {
      "text/plain": [
       "<245781x79261 sparse matrix of type '<class 'numpy.float64'>'\n",
       "\twith 1453298 stored elements in Compressed Sparse Row format>"
      ]
     },
     "execution_count": 132,
     "metadata": {},
     "output_type": "execute_result"
    }
   ],
   "source": [
    "vectorizer = TfidfVectorizer(stop_words = 'english', strip_accents='unicode')\n",
    "vectorizer.fit_transform(lyric_train)"
   ]
  },
  {
   "cell_type": "code",
   "execution_count": 133,
   "metadata": {},
   "outputs": [],
   "source": [
    "X_train, X_val = vectorizer.transform(lyric_train), vectorizer.transform(lyric_val)"
   ]
  },
  {
   "cell_type": "code",
   "execution_count": 134,
   "metadata": {},
   "outputs": [],
   "source": [
    "d = pairwise_distances(X_val, X_train, metric='cosine')"
   ]
  },
  {
   "cell_type": "code",
   "execution_count": 135,
   "metadata": {},
   "outputs": [],
   "source": [
    "imax = np.argmin(d, axis=1)\n",
    "neighbors, predictions = lyric_train[imax], y_train[imax]"
   ]
  },
  {
   "cell_type": "code",
   "execution_count": 136,
   "metadata": {},
   "outputs": [],
   "source": [
    "with open('data_noquotes/evaluation/Retrieval_pred.txt', 'w') as f:\n",
    "    for lyric in predictions:\n",
    "        f.write(lyric + '\\n')"
   ]
  },
  {
   "cell_type": "code",
   "execution_count": 137,
   "metadata": {},
   "outputs": [],
   "source": [
    "results = pd.DataFrame({'lyric': lyric_val, 'real_annotation': y_val, 'nearest_neighbor': neighbors, 'predicted_annotation': predictions})"
   ]
  },
  {
   "cell_type": "code",
   "execution_count": 138,
   "metadata": {},
   "outputs": [
    {
     "data": {
      "text/html": [
       "<div>\n",
       "<style scoped>\n",
       "    .dataframe tbody tr th:only-of-type {\n",
       "        vertical-align: middle;\n",
       "    }\n",
       "\n",
       "    .dataframe tbody tr th {\n",
       "        vertical-align: top;\n",
       "    }\n",
       "\n",
       "    .dataframe thead th {\n",
       "        text-align: right;\n",
       "    }\n",
       "</style>\n",
       "<table border=\"1\" class=\"dataframe\">\n",
       "  <thead>\n",
       "    <tr style=\"text-align: right;\">\n",
       "      <th></th>\n",
       "      <th>lyric</th>\n",
       "      <th>real_annotation</th>\n",
       "      <th>nearest_neighbor</th>\n",
       "      <th>predicted_annotation</th>\n",
       "    </tr>\n",
       "  </thead>\n",
       "  <tbody>\n",
       "    <tr>\n",
       "      <th>565</th>\n",
       "      <td>And without no stallin'  Cell I was tossed in to be arraigned at dawn and</td>\n",
       "      <td>The cops throw Bizzy in a cell overnight until he can be arraigned (to make an appearance in front of a judge) in the morning.</td>\n",
       "      <td>And to the dawn</td>\n",
       "      <td>The oppressive darkness of the room beneath the stairs and the black moonlight has given way: these two lovers now belong to the dawn.</td>\n",
       "    </tr>\n",
       "    <tr>\n",
       "      <th>695</th>\n",
       "      <td>Your smile put me at ease</td>\n",
       "      <td>He wants a woman who can calm him down without even saying a word. Clearly this smile didn’t do it for him:</td>\n",
       "      <td>At ease</td>\n",
       "      <td>Stable life… no worries.   People who feel at ease are unlikely to rebel. If people are at ease they will simply go along with what they are told to do since they are content.  When people are discontented and unsatisfied they tend to rebel; in contrast, when people are content and at ease they would have no reason to question what they are being told.</td>\n",
       "    </tr>\n",
       "    <tr>\n",
       "      <th>372</th>\n",
       "      <td>Pigs lick shit</td>\n",
       "      <td>A good reason to stay away from Eggs Benedict, which traditionally features Canadian bacon</td>\n",
       "      <td>The pigs (what), the pigs (what),</td>\n",
       "      <td>Greedy corporate Americans who make their money by screwing (poorer) people over.</td>\n",
       "    </tr>\n",
       "    <tr>\n",
       "      <th>139</th>\n",
       "      <td>À base de popopopop</td>\n",
       "      <td>Réplique devenue culte dans le rap FR Voire le freestyle live du suprême :  https://www.youtube.com/watch?v=zCQOZCwroR0</td>\n",
       "      <td>Base</td>\n",
       "      <td>This should probably be ‘Base’.  Base is Big Narstie’s catchphrase:  http://store.bignarstie.com/product/base-t-shirt-white</td>\n",
       "    </tr>\n",
       "    <tr>\n",
       "      <th>247</th>\n",
       "      <td>I can't help you fix yourself  But at least I can say I tried  I'm sorry but I got to move on with my own life  I can't help you fix yourself</td>\n",
       "      <td>Jacoby has some  issues  of his own that he has to deal with and he cant sit around trying to help change someone else’s life. Also, Jacoby tried to help them get on the right path because they were derailed but that person was being stubborn and didn’t want help from anyone.</td>\n",
       "      <td>Fix me!</td>\n",
       "      <td>So desperate to overcome what controls him and just wants to be put back to normal, or he’s seeking a drug “fix.”  This could also be interpreted as the desperate cry of an abuse who needs help to get overcome his addiction and thus be “fixed”, after finding out that the master (drugs) lied to and deceived him.  James often says “Pancakes!” in newer performances because his departed friend and bassist Cliff Burton  always thought that’s what he was saying .</td>\n",
       "    </tr>\n",
       "    <tr>\n",
       "      <th>165</th>\n",
       "      <td>Don't you know  He's never coming back again  Don't you know  He's never coming back again</td>\n",
       "      <td>Derek has to accept that his father is no longer living, and that he’s never coming back.</td>\n",
       "      <td>You don't know how you're coming across  You don't know what you're coming across  You don't know who you're coming across  You don't know how you're coming across    So you come undone</td>\n",
       "      <td>This song is about a socially anxious person who tries their best not to be awkward, and who hates himself for not being able to be a “normal person”.  He/she is very self-concious, and fears what people may think of him/her.</td>\n",
       "    </tr>\n",
       "    <tr>\n",
       "      <th>157</th>\n",
       "      <td>So if you study Egypt, you'll see the truth written by the masters</td>\n",
       "      <td>While Ancient Egypt has certainly  contributed much to human civilization , Maat -Egyption concept of truth, balance, order, law, morality, and justice.  See book   by Jawanza Kunjufu.   Nas praises Afrocentric education as opposed to Eurocentric education in use in occidental countries.</td>\n",
       "      <td>Written by</td>\n",
       "      <td>Having helped  Christopher Nolan  write the screenplays for Nolan’s   and  Zack Snyder ’s  Superman  film  , David S. Goyer is speculated to be returning to help write the screenplay for the movie’s sequel, which, as-of-now, is titled  .</td>\n",
       "    </tr>\n",
       "    <tr>\n",
       "      <th>442</th>\n",
       "      <td>That fat black motherfucker got a way with the words  I tell you, he can rap, boy</td>\n",
       "      <td>Killer Mike is referring to himself in this line. He is a larger, black man, who is a very talented rapper with raw lyrics.  Mike often refers to himself as a large or fat man. He has come to peace with it, often  taking pride in it .</td>\n",
       "      <td>That's why I fucked your bitch you fat motherfucker</td>\n",
       "      <td>[BLOCKQUOTE] Tupac alega que transou com a esposa de  ,   fato negado inúmeras vezes pela mesma.  Porém em uma entrevista feita para HipHopDX  em 2008,   afirmou ter visto   sentada no colo de   durante sua estadia em Los Angeles para gravar uma música com ele.</td>\n",
       "    </tr>\n",
       "    <tr>\n",
       "      <th>944</th>\n",
       "      <td>Je suis l'ostré…iculteur pro</td>\n",
       "      <td>King Ju cultive des boucles et il se définit comme un ostréiculteur. Or, un ostréiculteur cultive des huîtres. Donc, ici, les boucles sont assimilés à des huîtres. L'interprétation est libre. Voici la mienne. Une huître est un coquillage difficilement accessible et frais comme ses boucles. La coquille de l'huître ne serait-il pas le pourtour du mystère au chocolat ?</td>\n",
       "      <td>Je suis pro-banlieusard</td>\n",
       "      <td>Booba  confirme ici sa distance par rapport au  .  Avant d'être pro-israélien ou pro-palestinien, il défend et parle de la  , un thème qu'il connaît et maitrise beaucoup mieux.</td>\n",
       "    </tr>\n",
       "    <tr>\n",
       "      <th>4</th>\n",
       "      <td>Maglieria sia magica</td>\n",
       "      <td>https://www.youtube.com/watch?v=qNjic5HbOXE</td>\n",
       "      <td>Sia</td>\n",
       "      <td>nan</td>\n",
       "    </tr>\n",
       "  </tbody>\n",
       "</table>\n",
       "</div>"
      ],
      "text/plain": [
       "                                                                                                                                             lyric  \\\n",
       "565  And without no stallin'  Cell I was tossed in to be arraigned at dawn and                                                                       \n",
       "695  Your smile put me at ease                                                                                                                       \n",
       "372  Pigs lick shit                                                                                                                                  \n",
       "139  À base de popopopop                                                                                                                             \n",
       "247  I can't help you fix yourself  But at least I can say I tried  I'm sorry but I got to move on with my own life  I can't help you fix yourself   \n",
       "165  Don't you know  He's never coming back again  Don't you know  He's never coming back again                                                      \n",
       "157  So if you study Egypt, you'll see the truth written by the masters                                                                              \n",
       "442  That fat black motherfucker got a way with the words  I tell you, he can rap, boy                                                               \n",
       "944  Je suis l'ostré…iculteur pro                                                                                                                    \n",
       "4    Maglieria sia magica                                                                                                                            \n",
       "\n",
       "                                                                                                                                                                                                                                                                                                                                                                      real_annotation  \\\n",
       "565  The cops throw Bizzy in a cell overnight until he can be arraigned (to make an appearance in front of a judge) in the morning.                                                                                                                                                                                                                                                     \n",
       "695  He wants a woman who can calm him down without even saying a word. Clearly this smile didn’t do it for him:                                                                                                                                                                                                                                                                        \n",
       "372  A good reason to stay away from Eggs Benedict, which traditionally features Canadian bacon                                                                                                                                                                                                                                                                                         \n",
       "139  Réplique devenue culte dans le rap FR Voire le freestyle live du suprême :  https://www.youtube.com/watch?v=zCQOZCwroR0                                                                                                                                                                                                                                                            \n",
       "247  Jacoby has some  issues  of his own that he has to deal with and he cant sit around trying to help change someone else’s life. Also, Jacoby tried to help them get on the right path because they were derailed but that person was being stubborn and didn’t want help from anyone.                                                                                               \n",
       "165  Derek has to accept that his father is no longer living, and that he’s never coming back.                                                                                                                                                                                                                                                                                          \n",
       "157  While Ancient Egypt has certainly  contributed much to human civilization , Maat -Egyption concept of truth, balance, order, law, morality, and justice.  See book   by Jawanza Kunjufu.   Nas praises Afrocentric education as opposed to Eurocentric education in use in occidental countries.                                                                                   \n",
       "442  Killer Mike is referring to himself in this line. He is a larger, black man, who is a very talented rapper with raw lyrics.  Mike often refers to himself as a large or fat man. He has come to peace with it, often  taking pride in it .                                                                                                                                         \n",
       "944  King Ju cultive des boucles et il se définit comme un ostréiculteur. Or, un ostréiculteur cultive des huîtres. Donc, ici, les boucles sont assimilés à des huîtres. L'interprétation est libre. Voici la mienne. Une huître est un coquillage difficilement accessible et frais comme ses boucles. La coquille de l'huître ne serait-il pas le pourtour du mystère au chocolat ?   \n",
       "4    https://www.youtube.com/watch?v=qNjic5HbOXE                                                                                                                                                                                                                                                                                                                                        \n",
       "\n",
       "                                                                                                                                                                              nearest_neighbor  \\\n",
       "565  And to the dawn                                                                                                                                                                             \n",
       "695  At ease                                                                                                                                                                                     \n",
       "372  The pigs (what), the pigs (what),                                                                                                                                                           \n",
       "139  Base                                                                                                                                                                                        \n",
       "247  Fix me!                                                                                                                                                                                     \n",
       "165  You don't know how you're coming across  You don't know what you're coming across  You don't know who you're coming across  You don't know how you're coming across    So you come undone   \n",
       "157  Written by                                                                                                                                                                                  \n",
       "442  That's why I fucked your bitch you fat motherfucker                                                                                                                                         \n",
       "944  Je suis pro-banlieusard                                                                                                                                                                     \n",
       "4    Sia                                                                                                                                                                                         \n",
       "\n",
       "                                                                                                                                                                                                                                                                                                                                                                                                                                                              predicted_annotation  \n",
       "565  The oppressive darkness of the room beneath the stairs and the black moonlight has given way: these two lovers now belong to the dawn.                                                                                                                                                                                                                                                                                                                                         \n",
       "695  Stable life… no worries.   People who feel at ease are unlikely to rebel. If people are at ease they will simply go along with what they are told to do since they are content.  When people are discontented and unsatisfied they tend to rebel; in contrast, when people are content and at ease they would have no reason to question what they are being told.                                                                                                             \n",
       "372  Greedy corporate Americans who make their money by screwing (poorer) people over.                                                                                                                                                                                                                                                                                                                                                                                              \n",
       "139  This should probably be ‘Base’.  Base is Big Narstie’s catchphrase:  http://store.bignarstie.com/product/base-t-shirt-white                                                                                                                                                                                                                                                                                                                                                    \n",
       "247  So desperate to overcome what controls him and just wants to be put back to normal, or he’s seeking a drug “fix.”  This could also be interpreted as the desperate cry of an abuse who needs help to get overcome his addiction and thus be “fixed”, after finding out that the master (drugs) lied to and deceived him.  James often says “Pancakes!” in newer performances because his departed friend and bassist Cliff Burton  always thought that’s what he was saying .  \n",
       "165  This song is about a socially anxious person who tries their best not to be awkward, and who hates himself for not being able to be a “normal person”.  He/she is very self-concious, and fears what people may think of him/her.                                                                                                                                                                                                                                              \n",
       "157  Having helped  Christopher Nolan  write the screenplays for Nolan’s   and  Zack Snyder ’s  Superman  film  , David S. Goyer is speculated to be returning to help write the screenplay for the movie’s sequel, which, as-of-now, is titled  .                                                                                                                                                                                                                                  \n",
       "442  [BLOCKQUOTE] Tupac alega que transou com a esposa de  ,   fato negado inúmeras vezes pela mesma.  Porém em uma entrevista feita para HipHopDX  em 2008,   afirmou ter visto   sentada no colo de   durante sua estadia em Los Angeles para gravar uma música com ele.                                                                                                                                                                                                          \n",
       "944  Booba  confirme ici sa distance par rapport au  .  Avant d'être pro-israélien ou pro-palestinien, il défend et parle de la  , un thème qu'il connaît et maitrise beaucoup mieux.                                                                                                                                                                                                                                                                                               \n",
       "4    nan                                                                                                                                                                                                                                                                                                                                                                                                                                                                            "
      ]
     },
     "execution_count": 138,
     "metadata": {},
     "output_type": "execute_result"
    }
   ],
   "source": [
    "results.sample(10)"
   ]
  },
  {
   "cell_type": "raw",
   "metadata": {},
   "source": [
    "4\n"
   ]
  }
 ],
 "metadata": {
  "kernelspec": {
   "display_name": "Python 3",
   "language": "python",
   "name": "python3"
  },
  "language_info": {
   "codemirror_mode": {
    "name": "ipython",
    "version": 3
   },
   "file_extension": ".py",
   "mimetype": "text/x-python",
   "name": "python",
   "nbconvert_exporter": "python",
   "pygments_lexer": "ipython3",
   "version": "3.7.1"
  }
 },
 "nbformat": 4,
 "nbformat_minor": 2
}
