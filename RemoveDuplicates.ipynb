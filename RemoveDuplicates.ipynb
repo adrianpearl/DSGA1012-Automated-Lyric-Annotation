{
 "cells": [
  {
   "cell_type": "code",
   "execution_count": 4,
   "metadata": {},
   "outputs": [],
   "source": [
    "from collections import defaultdict"
   ]
  },
  {
   "cell_type": "code",
   "execution_count": 5,
   "metadata": {},
   "outputs": [
    {
     "name": "stdout",
     "output_type": "stream",
     "text": [
      "done reading\n"
     ]
    }
   ],
   "source": [
    "artist_dict = defaultdict(set)\n",
    "with open(\"song_ids.txt\", \"r\") as f:\n",
    "    for line in f:\n",
    "    \tline = line.strip()\n",
    "    \tartist_id,song_id = line.split(',')\n",
    "    \t(artist_dict[artist_id]).add(song_id)\n",
    "\n",
    "print(\"done reading\")"
   ]
  },
  {
   "cell_type": "code",
   "execution_count": 6,
   "metadata": {},
   "outputs": [
    {
     "name": "stdout",
     "output_type": "stream",
     "text": [
      "done writing\n"
     ]
    }
   ],
   "source": [
    "with open(\"song_ids_clean.txt\", \"w\") as f:\n",
    "\tfor artist_id in artist_dict:\n",
    "\t\tfor song_id in artist_dict[artist_id]:\n",
    "\t\t\tf.write(artist_id+\",\"+song_id+'\\n')\n",
    "\n",
    "print(\"done writing\")"
   ]
  },
  {
   "cell_type": "code",
   "execution_count": null,
   "metadata": {},
   "outputs": [],
   "source": []
  }
 ],
 "metadata": {
  "kernelspec": {
   "display_name": "Python 3",
   "language": "python",
   "name": "python3"
  },
  "language_info": {
   "codemirror_mode": {
    "name": "ipython",
    "version": 3
   },
   "file_extension": ".py",
   "mimetype": "text/x-python",
   "name": "python",
   "nbconvert_exporter": "python",
   "pygments_lexer": "ipython3",
   "version": "3.6.5"
  }
 },
 "nbformat": 4,
 "nbformat_minor": 2
}
