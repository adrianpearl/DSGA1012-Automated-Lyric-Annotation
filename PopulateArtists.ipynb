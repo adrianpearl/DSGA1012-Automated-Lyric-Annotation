{
 "cells": [
  {
   "cell_type": "code",
   "execution_count": 21,
   "metadata": {},
   "outputs": [],
   "source": [
    "import requests, json\n",
    "from time import sleep\n",
    "import sys\n",
    "import pandas as pd"
   ]
  },
  {
   "cell_type": "code",
   "execution_count": 2,
   "metadata": {},
   "outputs": [],
   "source": [
    "# Secret token\n",
    "token = open(\"ACCESS_TOKEN.txt\", \"r\").read()"
   ]
  },
  {
   "cell_type": "code",
   "execution_count": 15,
   "metadata": {},
   "outputs": [],
   "source": [
    "# number of artist ids already collected\n",
    "OFFSET = !wc -l artists.txt\n",
    "OFFSET = int(OFFSET[0].split()[0])"
   ]
  },
  {
   "cell_type": "code",
   "execution_count": 16,
   "metadata": {},
   "outputs": [],
   "source": [
    "# constant values.\n",
    "BASE_URL = \"https://api.genius.com\"\n",
    "CLIENT_ACCESS_TOKEN = token\n",
    "QUERY_SIZE=1000"
   ]
  },
  {
   "cell_type": "code",
   "execution_count": 17,
   "metadata": {},
   "outputs": [],
   "source": [
    "# send request and get response in json format.\n",
    "def _get(path, params=None, headers=None):\n",
    "\n",
    "    # generate request URL\n",
    "    requrl = '/'.join([BASE_URL, path])\n",
    "    token = \"Bearer {}\".format(CLIENT_ACCESS_TOKEN)\n",
    "    if headers:\n",
    "        headers['Authorization'] = token\n",
    "    else:\n",
    "        headers = {\"Authorization\": token}\n",
    "\n",
    "    response = requests.get(url=requrl, params=params, headers=headers)\n",
    "    response.raise_for_status()\n",
    "\n",
    "    return response.json()"
   ]
  },
  {
   "cell_type": "code",
   "execution_count": 18,
   "metadata": {},
   "outputs": [
    {
     "name": "stdout",
     "output_type": "stream",
     "text": [
      "12175 artists total\n"
     ]
    }
   ],
   "source": [
    "# read in list of artist names\n",
    "with open(\"artistNames.txt\", \"r\") as f:\n",
    "    artists = f.readlines()\n",
    "    \n",
    "artists = [x.strip() for x in artists]\n",
    "print(str(len(artists))+\" artists total\")"
   ]
  },
  {
   "cell_type": "code",
   "execution_count": 29,
   "metadata": {},
   "outputs": [
    {
     "name": "stdout",
     "output_type": "stream",
     "text": [
      "0999"
     ]
    }
   ],
   "source": [
    "# query only a subset of artists at a time to not overwork server\n",
    "# increment chunk_num on each run\n",
    "artists = artists[OFFSET:]\n",
    "artists_chunk = artists[0 : QUERY_SIZE]\n",
    "\n",
    "# write (artist_name,artist_id) pairs to artists.txt file\n",
    "with open(\"artists.txt\", \"a\") as f:\n",
    "\n",
    "    # iterate over artist names\n",
    "    for i, artist in enumerate(artists_chunk):\n",
    "        sys.stdout.write('\\r' + str(i).zfill(4))\n",
    "\n",
    "        # get artist_id\n",
    "        find_id = _get(\"search\", {'q': artist})\n",
    "        \n",
    "        artist_id = None\n",
    "        for hit in find_id[\"response\"][\"hits\"]:\n",
    "            if hit[\"result\"][\"primary_artist\"]:\n",
    "                artist_id = hit[\"result\"][\"primary_artist\"][\"id\"]\n",
    "                break\n",
    "\n",
    "        # write to file\n",
    "        f.write(str(artist_id)+\",\"+artist+\"\\n\")\n",
    "\n",
    "        sleep(.25)"
   ]
  },
  {
   "cell_type": "code",
   "execution_count": null,
   "metadata": {},
   "outputs": [],
   "source": []
  }
 ],
 "metadata": {
  "kernelspec": {
   "display_name": "Python 3",
   "language": "python",
   "name": "python3"
  },
  "language_info": {
   "codemirror_mode": {
    "name": "ipython",
    "version": 3
   },
   "file_extension": ".py",
   "mimetype": "text/x-python",
   "name": "python",
   "nbconvert_exporter": "python",
   "pygments_lexer": "ipython3",
   "version": "3.7.1"
  }
 },
 "nbformat": 4,
 "nbformat_minor": 2
}
